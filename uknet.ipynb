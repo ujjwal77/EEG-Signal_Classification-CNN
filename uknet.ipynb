{
  "nbformat": 4,
  "nbformat_minor": 0,
  "metadata": {
    "accelerator": "GPU",
    "colab": {
      "name": "uknet.ipynb",
      "provenance": [],
      "collapsed_sections": []
    },
    "kernelspec": {
      "display_name": "Python 3",
      "language": "python",
      "name": "python3"
    },
    "language_info": {
      "codemirror_mode": {
        "name": "ipython",
        "version": 3
      },
      "file_extension": ".py",
      "mimetype": "text/x-python",
      "name": "python",
      "nbconvert_exporter": "python",
      "pygments_lexer": "ipython3",
      "version": "3.7.3"
    }
  },
  "cells": [
    {
      "cell_type": "code",
      "metadata": {
        "colab_type": "code",
        "id": "NicumUdc4KDb",
        "colab": {
          "base_uri": "https://localhost:8080/",
          "height": 34
        },
        "outputId": "c3e68e03-3800-4f8d-9d5e-b9434d5773c2"
      },
      "source": [
        "%tensorflow_version 2.x\n",
        "import tensorflow as tf\n",
        "device_name = tf.test.gpu_device_name()\n",
        "if device_name != '/device:GPU:0':\n",
        "  raise SystemError('GPU device not found')\n",
        "print('Found GPU at: {}'.format(device_name))"
      ],
      "execution_count": null,
      "outputs": [
        {
          "output_type": "stream",
          "text": [
            "Found GPU at: /device:GPU:0\n"
          ],
          "name": "stdout"
        }
      ]
    },
    {
      "cell_type": "code",
      "metadata": {
        "colab_type": "code",
        "id": "8AfidzLR5DBa",
        "colab": {
          "base_uri": "https://localhost:8080/",
          "height": 34
        },
        "outputId": "c5dabf57-e306-4587-cf0c-30d02ffe3aa5"
      },
      "source": [
        "import tensorflow as tf\n",
        "from keras import layers,Model\n",
        "from tensorflow.keras.models import Sequential\n",
        "from tensorflow.keras.layers import Dense, Activation,concatenate, Dropout, BatchNormalization, Input, Reshape, Conv2D, MaxPooling2D, Flatten, Reshape, GlobalAveragePooling2D, SeparableConv2D,AveragePooling2D, add\n",
        "from tensorflow.keras.backend import clear_session\n",
        "from tensorflow.keras.optimizers import Adam"
      ],
      "execution_count": null,
      "outputs": [
        {
          "output_type": "stream",
          "text": [
            "Using TensorFlow backend.\n"
          ],
          "name": "stderr"
        }
      ]
    },
    {
      "cell_type": "code",
      "metadata": {
        "colab_type": "code",
        "id": "-4gnsI-R-EZJ",
        "colab": {
          "base_uri": "https://localhost:8080/",
          "height": 582
        },
        "outputId": "cb0f3215-eb6f-48fe-8cb5-73a79a253ed1"
      },
      "source": [
        "pip install wfdb"
      ],
      "execution_count": null,
      "outputs": [
        {
          "output_type": "stream",
          "text": [
            "Collecting wfdb\n",
            "\u001b[?25l  Downloading https://files.pythonhosted.org/packages/e8/ee/6844bc943a28fea501773c033b0da5f6cfc9509a014d0ba1e29e44b763ee/wfdb-3.0.1-py3-none-any.whl (105kB)\n",
            "\r\u001b[K     |███                             | 10kB 18.9MB/s eta 0:00:01\r\u001b[K     |██████▏                         | 20kB 1.7MB/s eta 0:00:01\r\u001b[K     |█████████▎                      | 30kB 2.3MB/s eta 0:00:01\r\u001b[K     |████████████▍                   | 40kB 2.6MB/s eta 0:00:01\r\u001b[K     |███████████████▌                | 51kB 2.0MB/s eta 0:00:01\r\u001b[K     |██████████████████▋             | 61kB 2.3MB/s eta 0:00:01\r\u001b[K     |█████████████████████▊          | 71kB 2.5MB/s eta 0:00:01\r\u001b[K     |████████████████████████▉       | 81kB 2.8MB/s eta 0:00:01\r\u001b[K     |███████████████████████████▉    | 92kB 3.0MB/s eta 0:00:01\r\u001b[K     |███████████████████████████████ | 102kB 2.8MB/s eta 0:00:01\r\u001b[K     |████████████████████████████████| 112kB 2.8MB/s \n",
            "\u001b[?25hRequirement already satisfied: cycler>=0.10.0 in /usr/local/lib/python3.6/dist-packages (from wfdb) (0.10.0)\n",
            "Requirement already satisfied: joblib>=0.11 in /usr/local/lib/python3.6/dist-packages (from wfdb) (0.16.0)\n",
            "Requirement already satisfied: kiwisolver>=1.1.0 in /usr/local/lib/python3.6/dist-packages (from wfdb) (1.2.0)\n",
            "Requirement already satisfied: requests>=2.8.1 in /usr/local/lib/python3.6/dist-packages (from wfdb) (2.23.0)\n",
            "Requirement already satisfied: chardet>=3.0.0 in /usr/local/lib/python3.6/dist-packages (from wfdb) (3.0.4)\n",
            "Requirement already satisfied: matplotlib>=2.0.0 in /usr/local/lib/python3.6/dist-packages (from wfdb) (3.2.2)\n",
            "Requirement already satisfied: scipy>=0.17.0 in /usr/local/lib/python3.6/dist-packages (from wfdb) (1.4.1)\n",
            "Requirement already satisfied: pandas>=0.17.0 in /usr/local/lib/python3.6/dist-packages (from wfdb) (1.0.5)\n",
            "Requirement already satisfied: idna>=2.2 in /usr/local/lib/python3.6/dist-packages (from wfdb) (2.10)\n",
            "Requirement already satisfied: urllib3>=1.22 in /usr/local/lib/python3.6/dist-packages (from wfdb) (1.24.3)\n",
            "Collecting mne>=0.18.0\n",
            "\u001b[?25l  Downloading https://files.pythonhosted.org/packages/92/ab/9b79f927b599da515335afb4b666a7bb336930a6d8345e7b483a9980a9c1/mne-0.20.7-py3-none-any.whl (6.6MB)\n",
            "\u001b[K     |████████████████████████████████| 6.6MB 665kB/s \n",
            "\u001b[?25hRequirement already satisfied: sklearn>=0.0 in /usr/local/lib/python3.6/dist-packages (from wfdb) (0.0)\n",
            "Requirement already satisfied: python-dateutil>=2.4.2 in /usr/local/lib/python3.6/dist-packages (from wfdb) (2.8.1)\n",
            "Requirement already satisfied: scikit-learn>=0.18 in /usr/local/lib/python3.6/dist-packages (from wfdb) (0.22.2.post1)\n",
            "Collecting nose>=1.3.7\n",
            "\u001b[?25l  Downloading https://files.pythonhosted.org/packages/15/d8/dd071918c040f50fa1cf80da16423af51ff8ce4a0f2399b7bf8de45ac3d9/nose-1.3.7-py3-none-any.whl (154kB)\n",
            "\u001b[K     |████████████████████████████████| 163kB 28.6MB/s \n",
            "\u001b[?25hRequirement already satisfied: six>=0.9.0 in /usr/local/lib/python3.6/dist-packages (from wfdb) (1.12.0)\n",
            "Requirement already satisfied: certifi>=2016.8.2 in /usr/local/lib/python3.6/dist-packages (from wfdb) (2020.6.20)\n",
            "Requirement already satisfied: numpy>=1.10.1 in /usr/local/lib/python3.6/dist-packages (from wfdb) (1.18.5)\n",
            "Requirement already satisfied: pyparsing>=2.0.4 in /usr/local/lib/python3.6/dist-packages (from wfdb) (2.4.7)\n",
            "Requirement already satisfied: pytz>=2018.3 in /usr/local/lib/python3.6/dist-packages (from wfdb) (2018.9)\n",
            "Collecting threadpoolctl>=1.0.0\n",
            "  Downloading https://files.pythonhosted.org/packages/f7/12/ec3f2e203afa394a149911729357aa48affc59c20e2c1c8297a60f33f133/threadpoolctl-2.1.0-py3-none-any.whl\n",
            "Installing collected packages: mne, nose, threadpoolctl, wfdb\n",
            "Successfully installed mne-0.20.7 nose-1.3.7 threadpoolctl-2.1.0 wfdb-3.0.1\n"
          ],
          "name": "stdout"
        }
      ]
    },
    {
      "cell_type": "code",
      "metadata": {
        "colab_type": "code",
        "id": "b3UuMhh7-FJ-",
        "colab": {
          "base_uri": "https://localhost:8080/",
          "height": 283
        },
        "outputId": "fd1b09d8-b816-4555-d132-f350a60f8e7c"
      },
      "source": [
        "!pip install pyedflib"
      ],
      "execution_count": null,
      "outputs": [
        {
          "output_type": "stream",
          "text": [
            "Collecting pyedflib\n",
            "\u001b[?25l  Downloading https://files.pythonhosted.org/packages/ed/00/2ab3e04b03651a82df063beb16f5cf077751d7045432067b04b265ab8760/pyEDFlib-0.1.18.tar.gz (1.1MB)\n",
            "\r\u001b[K     |▎                               | 10kB 22.0MB/s eta 0:00:01\r\u001b[K     |▋                               | 20kB 1.7MB/s eta 0:00:01\r\u001b[K     |▉                               | 30kB 2.3MB/s eta 0:00:01\r\u001b[K     |█▏                              | 40kB 2.5MB/s eta 0:00:01\r\u001b[K     |█▌                              | 51kB 2.0MB/s eta 0:00:01\r\u001b[K     |█▊                              | 61kB 2.3MB/s eta 0:00:01\r\u001b[K     |██                              | 71kB 2.5MB/s eta 0:00:01\r\u001b[K     |██▎                             | 81kB 2.7MB/s eta 0:00:01\r\u001b[K     |██▋                             | 92kB 2.9MB/s eta 0:00:01\r\u001b[K     |███                             | 102kB 2.8MB/s eta 0:00:01\r\u001b[K     |███▏                            | 112kB 2.8MB/s eta 0:00:01\r\u001b[K     |███▌                            | 122kB 2.8MB/s eta 0:00:01\r\u001b[K     |███▊                            | 133kB 2.8MB/s eta 0:00:01\r\u001b[K     |████                            | 143kB 2.8MB/s eta 0:00:01\r\u001b[K     |████▍                           | 153kB 2.8MB/s eta 0:00:01\r\u001b[K     |████▋                           | 163kB 2.8MB/s eta 0:00:01\r\u001b[K     |█████                           | 174kB 2.8MB/s eta 0:00:01\r\u001b[K     |█████▏                          | 184kB 2.8MB/s eta 0:00:01\r\u001b[K     |█████▌                          | 194kB 2.8MB/s eta 0:00:01\r\u001b[K     |█████▉                          | 204kB 2.8MB/s eta 0:00:01\r\u001b[K     |██████                          | 215kB 2.8MB/s eta 0:00:01\r\u001b[K     |██████▍                         | 225kB 2.8MB/s eta 0:00:01\r\u001b[K     |██████▋                         | 235kB 2.8MB/s eta 0:00:01\r\u001b[K     |███████                         | 245kB 2.8MB/s eta 0:00:01\r\u001b[K     |███████▎                        | 256kB 2.8MB/s eta 0:00:01\r\u001b[K     |███████▌                        | 266kB 2.8MB/s eta 0:00:01\r\u001b[K     |███████▉                        | 276kB 2.8MB/s eta 0:00:01\r\u001b[K     |████████▏                       | 286kB 2.8MB/s eta 0:00:01\r\u001b[K     |████████▍                       | 296kB 2.8MB/s eta 0:00:01\r\u001b[K     |████████▊                       | 307kB 2.8MB/s eta 0:00:01\r\u001b[K     |█████████                       | 317kB 2.8MB/s eta 0:00:01\r\u001b[K     |█████████▎                      | 327kB 2.8MB/s eta 0:00:01\r\u001b[K     |█████████▋                      | 337kB 2.8MB/s eta 0:00:01\r\u001b[K     |█████████▉                      | 348kB 2.8MB/s eta 0:00:01\r\u001b[K     |██████████▏                     | 358kB 2.8MB/s eta 0:00:01\r\u001b[K     |██████████▍                     | 368kB 2.8MB/s eta 0:00:01\r\u001b[K     |██████████▊                     | 378kB 2.8MB/s eta 0:00:01\r\u001b[K     |███████████                     | 389kB 2.8MB/s eta 0:00:01\r\u001b[K     |███████████▎                    | 399kB 2.8MB/s eta 0:00:01\r\u001b[K     |███████████▋                    | 409kB 2.8MB/s eta 0:00:01\r\u001b[K     |███████████▉                    | 419kB 2.8MB/s eta 0:00:01\r\u001b[K     |████████████▏                   | 430kB 2.8MB/s eta 0:00:01\r\u001b[K     |████████████▌                   | 440kB 2.8MB/s eta 0:00:01\r\u001b[K     |████████████▊                   | 450kB 2.8MB/s eta 0:00:01\r\u001b[K     |█████████████                   | 460kB 2.8MB/s eta 0:00:01\r\u001b[K     |█████████████▎                  | 471kB 2.8MB/s eta 0:00:01\r\u001b[K     |█████████████▋                  | 481kB 2.8MB/s eta 0:00:01\r\u001b[K     |██████████████                  | 491kB 2.8MB/s eta 0:00:01\r\u001b[K     |██████████████▏                 | 501kB 2.8MB/s eta 0:00:01\r\u001b[K     |██████████████▌                 | 512kB 2.8MB/s eta 0:00:01\r\u001b[K     |██████████████▊                 | 522kB 2.8MB/s eta 0:00:01\r\u001b[K     |███████████████                 | 532kB 2.8MB/s eta 0:00:01\r\u001b[K     |███████████████▍                | 542kB 2.8MB/s eta 0:00:01\r\u001b[K     |███████████████▋                | 552kB 2.8MB/s eta 0:00:01\r\u001b[K     |████████████████                | 563kB 2.8MB/s eta 0:00:01\r\u001b[K     |████████████████▎               | 573kB 2.8MB/s eta 0:00:01\r\u001b[K     |████████████████▌               | 583kB 2.8MB/s eta 0:00:01\r\u001b[K     |████████████████▉               | 593kB 2.8MB/s eta 0:00:01\r\u001b[K     |█████████████████               | 604kB 2.8MB/s eta 0:00:01\r\u001b[K     |█████████████████▍              | 614kB 2.8MB/s eta 0:00:01\r\u001b[K     |█████████████████▊              | 624kB 2.8MB/s eta 0:00:01\r\u001b[K     |██████████████████              | 634kB 2.8MB/s eta 0:00:01\r\u001b[K     |██████████████████▎             | 645kB 2.8MB/s eta 0:00:01\r\u001b[K     |██████████████████▌             | 655kB 2.8MB/s eta 0:00:01\r\u001b[K     |██████████████████▉             | 665kB 2.8MB/s eta 0:00:01\r\u001b[K     |███████████████████▏            | 675kB 2.8MB/s eta 0:00:01\r\u001b[K     |███████████████████▍            | 686kB 2.8MB/s eta 0:00:01\r\u001b[K     |███████████████████▊            | 696kB 2.8MB/s eta 0:00:01\r\u001b[K     |████████████████████            | 706kB 2.8MB/s eta 0:00:01\r\u001b[K     |████████████████████▎           | 716kB 2.8MB/s eta 0:00:01\r\u001b[K     |████████████████████▋           | 727kB 2.8MB/s eta 0:00:01\r\u001b[K     |████████████████████▉           | 737kB 2.8MB/s eta 0:00:01\r\u001b[K     |█████████████████████▏          | 747kB 2.8MB/s eta 0:00:01\r\u001b[K     |█████████████████████▍          | 757kB 2.8MB/s eta 0:00:01\r\u001b[K     |█████████████████████▊          | 768kB 2.8MB/s eta 0:00:01\r\u001b[K     |██████████████████████          | 778kB 2.8MB/s eta 0:00:01\r\u001b[K     |██████████████████████▎         | 788kB 2.8MB/s eta 0:00:01\r\u001b[K     |██████████████████████▋         | 798kB 2.8MB/s eta 0:00:01\r\u001b[K     |██████████████████████▉         | 808kB 2.8MB/s eta 0:00:01\r\u001b[K     |███████████████████████▏        | 819kB 2.8MB/s eta 0:00:01\r\u001b[K     |███████████████████████▌        | 829kB 2.8MB/s eta 0:00:01\r\u001b[K     |███████████████████████▊        | 839kB 2.8MB/s eta 0:00:01\r\u001b[K     |████████████████████████        | 849kB 2.8MB/s eta 0:00:01\r\u001b[K     |████████████████████████▍       | 860kB 2.8MB/s eta 0:00:01\r\u001b[K     |████████████████████████▋       | 870kB 2.8MB/s eta 0:00:01\r\u001b[K     |█████████████████████████       | 880kB 2.8MB/s eta 0:00:01\r\u001b[K     |█████████████████████████▏      | 890kB 2.8MB/s eta 0:00:01\r\u001b[K     |█████████████████████████▌      | 901kB 2.8MB/s eta 0:00:01\r\u001b[K     |█████████████████████████▉      | 911kB 2.8MB/s eta 0:00:01\r\u001b[K     |██████████████████████████      | 921kB 2.8MB/s eta 0:00:01\r\u001b[K     |██████████████████████████▍     | 931kB 2.8MB/s eta 0:00:01\r\u001b[K     |██████████████████████████▋     | 942kB 2.8MB/s eta 0:00:01\r\u001b[K     |███████████████████████████     | 952kB 2.8MB/s eta 0:00:01\r\u001b[K     |███████████████████████████▎    | 962kB 2.8MB/s eta 0:00:01\r\u001b[K     |███████████████████████████▌    | 972kB 2.8MB/s eta 0:00:01\r\u001b[K     |███████████████████████████▉    | 983kB 2.8MB/s eta 0:00:01\r\u001b[K     |████████████████████████████    | 993kB 2.8MB/s eta 0:00:01\r\u001b[K     |████████████████████████████▍   | 1.0MB 2.8MB/s eta 0:00:01\r\u001b[K     |████████████████████████████▊   | 1.0MB 2.8MB/s eta 0:00:01\r\u001b[K     |█████████████████████████████   | 1.0MB 2.8MB/s eta 0:00:01\r\u001b[K     |█████████████████████████████▎  | 1.0MB 2.8MB/s eta 0:00:01\r\u001b[K     |█████████████████████████████▌  | 1.0MB 2.8MB/s eta 0:00:01\r\u001b[K     |█████████████████████████████▉  | 1.1MB 2.8MB/s eta 0:00:01\r\u001b[K     |██████████████████████████████▏ | 1.1MB 2.8MB/s eta 0:00:01\r\u001b[K     |██████████████████████████████▍ | 1.1MB 2.8MB/s eta 0:00:01\r\u001b[K     |██████████████████████████████▊ | 1.1MB 2.8MB/s eta 0:00:01\r\u001b[K     |███████████████████████████████ | 1.1MB 2.8MB/s eta 0:00:01\r\u001b[K     |███████████████████████████████▎| 1.1MB 2.8MB/s eta 0:00:01\r\u001b[K     |███████████████████████████████▋| 1.1MB 2.8MB/s eta 0:00:01\r\u001b[K     |███████████████████████████████▉| 1.1MB 2.8MB/s eta 0:00:01\r\u001b[K     |████████████████████████████████| 1.1MB 2.8MB/s \n",
            "\u001b[?25h  Installing build dependencies ... \u001b[?25l\u001b[?25hdone\n",
            "  Getting requirements to build wheel ... \u001b[?25l\u001b[?25hdone\n",
            "    Preparing wheel metadata ... \u001b[?25l\u001b[?25hdone\n",
            "Requirement already satisfied: numpy>=1.9.1 in /usr/local/lib/python3.6/dist-packages (from pyedflib) (1.18.5)\n",
            "Building wheels for collected packages: pyedflib\n",
            "  Building wheel for pyedflib (PEP 517) ... \u001b[?25l\u001b[?25hdone\n",
            "  Created wheel for pyedflib: filename=pyEDFlib-0.1.18-cp36-cp36m-linux_x86_64.whl size=921164 sha256=2f16f49e080a7d3aac0be29f6c42f15ca933868ba5772eb0b621d7fa6491f56b\n",
            "  Stored in directory: /root/.cache/pip/wheels/4c/16/32/829749d6ab56f64e81e44aed0b4b9a892c975512c15cc3edbb\n",
            "Successfully built pyedflib\n",
            "Installing collected packages: pyedflib\n",
            "Successfully installed pyedflib-0.1.18\n"
          ],
          "name": "stdout"
        }
      ]
    },
    {
      "cell_type": "code",
      "metadata": {
        "colab_type": "code",
        "id": "TMkw8wmW-FaC",
        "colab": {
          "base_uri": "https://localhost:8080/",
          "height": 934
        },
        "outputId": "5385bebb-4533-4a09-b6a2-c05e4155a87d"
      },
      "source": [
        "pip install EMD-signal"
      ],
      "execution_count": null,
      "outputs": [
        {
          "output_type": "stream",
          "text": [
            "Collecting EMD-signal\n",
            "  Downloading https://files.pythonhosted.org/packages/bb/35/46fa4230b3a402dd1e39c070ca4d82289f7497ae1a3c223a462e8bf3206a/EMD_signal-0.2.10-py2.py3-none-any.whl\n",
            "Collecting numpydoc\n",
            "\u001b[?25l  Downloading https://files.pythonhosted.org/packages/60/1d/9e398c53d6ae27d5ab312ddc16a9ffe1bee0dfdf1d6ec88c40b0ca97582e/numpydoc-1.1.0-py3-none-any.whl (47kB)\n",
            "\r\u001b[K     |██████▉                         | 10kB 20.1MB/s eta 0:00:01\r\u001b[K     |█████████████▊                  | 20kB 19.4MB/s eta 0:00:01\r\u001b[K     |████████████████████▋           | 30kB 11.0MB/s eta 0:00:01\r\u001b[K     |███████████████████████████▍    | 40kB 9.3MB/s eta 0:00:01\r\u001b[K     |████████████████████████████████| 51kB 4.2MB/s \n",
            "\u001b[?25hRequirement already satisfied: numpy>=1.12 in /usr/local/lib/python3.6/dist-packages (from EMD-signal) (1.18.5)\n",
            "Requirement already satisfied: scipy>=0.19 in /usr/local/lib/python3.6/dist-packages (from EMD-signal) (1.4.1)\n",
            "Collecting pathos>=0.2.1\n",
            "\u001b[?25l  Downloading https://files.pythonhosted.org/packages/be/ea/b2cf3a6561fc5deb64de8ae0af5e3e4e2db03ca588cb7415efce4a8de26e/pathos-0.2.6.zip (219kB)\n",
            "\r\u001b[K     |█▌                              | 10kB 19.4MB/s eta 0:00:01\r\u001b[K     |███                             | 20kB 26.4MB/s eta 0:00:01\r\u001b[K     |████▌                           | 30kB 30.6MB/s eta 0:00:01\r\u001b[K     |██████                          | 40kB 31.5MB/s eta 0:00:01\r\u001b[K     |███████▌                        | 51kB 21.7MB/s eta 0:00:01\r\u001b[K     |█████████                       | 61kB 23.5MB/s eta 0:00:01\r\u001b[K     |██████████▌                     | 71kB 20.8MB/s eta 0:00:01\r\u001b[K     |████████████                    | 81kB 18.7MB/s eta 0:00:01\r\u001b[K     |█████████████▍                  | 92kB 16.9MB/s eta 0:00:01\r\u001b[K     |███████████████                 | 102kB 8.7MB/s eta 0:00:01\r\u001b[K     |████████████████▍               | 112kB 8.7MB/s eta 0:00:01\r\u001b[K     |██████████████████              | 122kB 8.7MB/s eta 0:00:01\r\u001b[K     |███████████████████▍            | 133kB 8.7MB/s eta 0:00:01\r\u001b[K     |█████████████████████           | 143kB 8.7MB/s eta 0:00:01\r\u001b[K     |██████████████████████▍         | 153kB 8.7MB/s eta 0:00:01\r\u001b[K     |███████████████████████▉        | 163kB 8.7MB/s eta 0:00:01\r\u001b[K     |█████████████████████████▍      | 174kB 8.7MB/s eta 0:00:01\r\u001b[K     |██████████████████████████▉     | 184kB 8.7MB/s eta 0:00:01\r\u001b[K     |████████████████████████████▍   | 194kB 8.7MB/s eta 0:00:01\r\u001b[K     |█████████████████████████████▉  | 204kB 8.7MB/s eta 0:00:01\r\u001b[K     |███████████████████████████████▍| 215kB 8.7MB/s eta 0:00:01\r\u001b[K     |████████████████████████████████| 225kB 8.7MB/s \n",
            "\u001b[?25hRequirement already satisfied: sphinx>=1.6.5 in /usr/local/lib/python3.6/dist-packages (from numpydoc->EMD-signal) (1.8.5)\n",
            "Requirement already satisfied: Jinja2>=2.3 in /usr/local/lib/python3.6/dist-packages (from numpydoc->EMD-signal) (2.11.2)\n",
            "Collecting ppft>=1.6.6.2\n",
            "\u001b[?25l  Downloading https://files.pythonhosted.org/packages/2b/fb/fa21f6e9aedc4823448473ed96e8eab64af1cb248c18165f045a90e1c6b4/ppft-1.6.6.2.zip (106kB)\n",
            "\r\u001b[K     |███                             | 10kB 19.8MB/s eta 0:00:01\r\u001b[K     |██████▏                         | 20kB 26.7MB/s eta 0:00:01\r\u001b[K     |█████████▎                      | 30kB 32.3MB/s eta 0:00:01\r\u001b[K     |████████████▍                   | 40kB 34.0MB/s eta 0:00:01\r\u001b[K     |███████████████▍                | 51kB 35.2MB/s eta 0:00:01\r\u001b[K     |██████████████████▌             | 61kB 37.9MB/s eta 0:00:01\r\u001b[K     |█████████████████████▋          | 71kB 39.2MB/s eta 0:00:01\r\u001b[K     |████████████████████████▊       | 81kB 40.1MB/s eta 0:00:01\r\u001b[K     |███████████████████████████▊    | 92kB 40.7MB/s eta 0:00:01\r\u001b[K     |██████████████████████████████▉ | 102kB 40.9MB/s eta 0:00:01\r\u001b[K     |████████████████████████████████| 112kB 40.9MB/s \n",
            "\u001b[?25hRequirement already satisfied: dill>=0.3.2 in /usr/local/lib/python3.6/dist-packages (from pathos>=0.2.1->EMD-signal) (0.3.2)\n",
            "Collecting pox>=0.2.8\n",
            "\u001b[?25l  Downloading https://files.pythonhosted.org/packages/1a/0c/ec447fb0ed88bc1c09bf0dadf00e40ea05fda17e841d15bb351a52d9e192/pox-0.2.8.zip (128kB)\n",
            "\r\u001b[K     |██▌                             | 10kB 18.2MB/s eta 0:00:01\r\u001b[K     |█████                           | 20kB 22.2MB/s eta 0:00:01\r\u001b[K     |███████▋                        | 30kB 21.5MB/s eta 0:00:01\r\u001b[K     |██████████▏                     | 40kB 23.9MB/s eta 0:00:01\r\u001b[K     |████████████▊                   | 51kB 25.8MB/s eta 0:00:01\r\u001b[K     |███████████████▎                | 61kB 28.6MB/s eta 0:00:01\r\u001b[K     |█████████████████▉              | 71kB 30.6MB/s eta 0:00:01\r\u001b[K     |████████████████████▍           | 81kB 31.4MB/s eta 0:00:01\r\u001b[K     |███████████████████████         | 92kB 32.8MB/s eta 0:00:01\r\u001b[K     |█████████████████████████▌      | 102kB 34.3MB/s eta 0:00:01\r\u001b[K     |████████████████████████████    | 112kB 34.3MB/s eta 0:00:01\r\u001b[K     |██████████████████████████████▋ | 122kB 34.3MB/s eta 0:00:01\r\u001b[K     |████████████████████████████████| 133kB 34.3MB/s \n",
            "\u001b[?25hRequirement already satisfied: multiprocess>=0.70.10 in /usr/local/lib/python3.6/dist-packages (from pathos>=0.2.1->EMD-signal) (0.70.10)\n",
            "Requirement already satisfied: requests>=2.0.0 in /usr/local/lib/python3.6/dist-packages (from sphinx>=1.6.5->numpydoc->EMD-signal) (2.23.0)\n",
            "Requirement already satisfied: babel!=2.0,>=1.3 in /usr/local/lib/python3.6/dist-packages (from sphinx>=1.6.5->numpydoc->EMD-signal) (2.8.0)\n",
            "Requirement already satisfied: Pygments>=2.0 in /usr/local/lib/python3.6/dist-packages (from sphinx>=1.6.5->numpydoc->EMD-signal) (2.1.3)\n",
            "Requirement already satisfied: setuptools in /usr/local/lib/python3.6/dist-packages (from sphinx>=1.6.5->numpydoc->EMD-signal) (49.1.0)\n",
            "Requirement already satisfied: snowballstemmer>=1.1 in /usr/local/lib/python3.6/dist-packages (from sphinx>=1.6.5->numpydoc->EMD-signal) (2.0.0)\n",
            "Requirement already satisfied: imagesize in /usr/local/lib/python3.6/dist-packages (from sphinx>=1.6.5->numpydoc->EMD-signal) (1.2.0)\n",
            "Requirement already satisfied: packaging in /usr/local/lib/python3.6/dist-packages (from sphinx>=1.6.5->numpydoc->EMD-signal) (20.4)\n",
            "Requirement already satisfied: alabaster<0.8,>=0.7 in /usr/local/lib/python3.6/dist-packages (from sphinx>=1.6.5->numpydoc->EMD-signal) (0.7.12)\n",
            "Requirement already satisfied: sphinxcontrib-websupport in /usr/local/lib/python3.6/dist-packages (from sphinx>=1.6.5->numpydoc->EMD-signal) (1.2.3)\n",
            "Requirement already satisfied: six>=1.5 in /usr/local/lib/python3.6/dist-packages (from sphinx>=1.6.5->numpydoc->EMD-signal) (1.12.0)\n",
            "Requirement already satisfied: docutils>=0.11 in /usr/local/lib/python3.6/dist-packages (from sphinx>=1.6.5->numpydoc->EMD-signal) (0.15.2)\n",
            "Requirement already satisfied: MarkupSafe>=0.23 in /usr/local/lib/python3.6/dist-packages (from Jinja2>=2.3->numpydoc->EMD-signal) (1.1.1)\n",
            "Requirement already satisfied: certifi>=2017.4.17 in /usr/local/lib/python3.6/dist-packages (from requests>=2.0.0->sphinx>=1.6.5->numpydoc->EMD-signal) (2020.6.20)\n",
            "Requirement already satisfied: chardet<4,>=3.0.2 in /usr/local/lib/python3.6/dist-packages (from requests>=2.0.0->sphinx>=1.6.5->numpydoc->EMD-signal) (3.0.4)\n",
            "Requirement already satisfied: urllib3!=1.25.0,!=1.25.1,<1.26,>=1.21.1 in /usr/local/lib/python3.6/dist-packages (from requests>=2.0.0->sphinx>=1.6.5->numpydoc->EMD-signal) (1.24.3)\n",
            "Requirement already satisfied: idna<3,>=2.5 in /usr/local/lib/python3.6/dist-packages (from requests>=2.0.0->sphinx>=1.6.5->numpydoc->EMD-signal) (2.10)\n",
            "Requirement already satisfied: pytz>=2015.7 in /usr/local/lib/python3.6/dist-packages (from babel!=2.0,>=1.3->sphinx>=1.6.5->numpydoc->EMD-signal) (2018.9)\n",
            "Requirement already satisfied: pyparsing>=2.0.2 in /usr/local/lib/python3.6/dist-packages (from packaging->sphinx>=1.6.5->numpydoc->EMD-signal) (2.4.7)\n",
            "Building wheels for collected packages: pathos, ppft, pox\n",
            "  Building wheel for pathos (setup.py) ... \u001b[?25l\u001b[?25hdone\n",
            "  Created wheel for pathos: filename=pathos-0.2.6-cp36-none-any.whl size=77673 sha256=44d0cd200a97d06d81860807720f63d8ebab59951a3e11a76f487859fda1f941\n",
            "  Stored in directory: /root/.cache/pip/wheels/3a/e8/c8/04cdd0c4bc6fbce35f642fc004244228916daae74bb0f482da\n",
            "  Building wheel for ppft (setup.py) ... \u001b[?25l\u001b[?25hdone\n",
            "  Created wheel for ppft: filename=ppft-1.6.6.2-cp36-none-any.whl size=64743 sha256=667ce0f2921b78d503f783f2a5c2b66e852c7b3ba97b0f4c4b48410cb8fbfbb0\n",
            "  Stored in directory: /root/.cache/pip/wheels/db/d2/2d/0ee21ede61786bb13247dbc69079373fd500c2bb0481913084\n",
            "  Building wheel for pox (setup.py) ... \u001b[?25l\u001b[?25hdone\n",
            "  Created wheel for pox: filename=pox-0.2.8-cp36-none-any.whl size=28290 sha256=7a5145ad88f36cd17cbae4f079074399980e3dc23f9527816d5d1654f7da1f0e\n",
            "  Stored in directory: /root/.cache/pip/wheels/39/ed/ce/a93103746b327e18bffaeb99ba0d57a88b392f31d719cea700\n",
            "Successfully built pathos ppft pox\n",
            "Installing collected packages: numpydoc, ppft, pox, pathos, EMD-signal\n",
            "Successfully installed EMD-signal-0.2.10 numpydoc-1.1.0 pathos-0.2.6 pox-0.2.8 ppft-1.6.6.2\n"
          ],
          "name": "stdout"
        }
      ]
    },
    {
      "cell_type": "code",
      "metadata": {
        "colab_type": "code",
        "id": "DZDXqX9A-FgA",
        "colab": {
          "base_uri": "https://localhost:8080/",
          "height": 34
        },
        "outputId": "7f26dd04-327a-47c4-dbba-813e26d5db9b"
      },
      "source": [
        "import wfdb\n",
        "dbs = wfdb.get_dbs()\n",
        "\n",
        "records_list = wfdb.io.get_record_list('chbmit',records='all')\n",
        "records_list[:3]"
      ],
      "execution_count": null,
      "outputs": [
        {
          "output_type": "execute_result",
          "data": {
            "text/plain": [
              "['chb01/chb01_01.edf', 'chb01/chb01_02.edf', 'chb01/chb01_03.edf']"
            ]
          },
          "metadata": {
            "tags": []
          },
          "execution_count": 6
        }
      ]
    },
    {
      "cell_type": "code",
      "metadata": {
        "colab_type": "code",
        "id": "SW5eHJ2J-Fm6",
        "colab": {
          "base_uri": "https://localhost:8080/",
          "height": 70
        },
        "outputId": "8537032e-69dd-45f7-dc60-f01af468df5f"
      },
      "source": [
        "for i in range(3):\n",
        "  print(i,records_list[i])"
      ],
      "execution_count": null,
      "outputs": [
        {
          "output_type": "stream",
          "text": [
            "0 chb01/chb01_01.edf\n",
            "1 chb01/chb01_02.edf\n",
            "2 chb01/chb01_03.edf\n"
          ],
          "name": "stdout"
        }
      ]
    },
    {
      "cell_type": "code",
      "metadata": {
        "colab_type": "code",
        "id": "Y2RHqRIV-Fsg",
        "colab": {
          "base_uri": "https://localhost:8080/",
          "height": 1000
        },
        "outputId": "cdf53e62-e678-4536-e264-9de056eab296"
      },
      "source": [
        "import os\n",
        "from urllib.request import urlretrieve\n",
        "\n",
        "def get_content(part_code):\n",
        "  url = \"https://physionet.org/physiobank/database/chbmit/\"+part_code+'/'+part_code+'-summary.txt'\n",
        "  filename = \"./chbmit.txt\"\n",
        "\n",
        "  urlretrieve(url,filename)\n",
        "\n",
        "  # read the file into a list\n",
        "  with open(filename, encoding='UTF-8') as f:\n",
        "      # read all the document into a list of strings (each line a new string)\n",
        "      content = f.readlines()\n",
        "      os.remove(filename)\n",
        "  \n",
        "  return(content)\n",
        "\n",
        "get_content('chb01')"
      ],
      "execution_count": null,
      "outputs": [
        {
          "output_type": "execute_result",
          "data": {
            "text/plain": [
              "['Data Sampling Rate: 256 Hz\\n',\n",
              " '*************************\\n',\n",
              " '\\n',\n",
              " 'Channels in EDF Files:\\n',\n",
              " '**********************\\n',\n",
              " 'Channel 1: FP1-F7\\n',\n",
              " 'Channel 2: F7-T7\\n',\n",
              " 'Channel 3: T7-P7\\n',\n",
              " 'Channel 4: P7-O1\\n',\n",
              " 'Channel 5: FP1-F3\\n',\n",
              " 'Channel 6: F3-C3\\n',\n",
              " 'Channel 7: C3-P3\\n',\n",
              " 'Channel 8: P3-O1\\n',\n",
              " 'Channel 9: FP2-F4\\n',\n",
              " 'Channel 10: F4-C4\\n',\n",
              " 'Channel 11: C4-P4\\n',\n",
              " 'Channel 12: P4-O2\\n',\n",
              " 'Channel 13: FP2-F8\\n',\n",
              " 'Channel 14: F8-T8\\n',\n",
              " 'Channel 15: T8-P8\\n',\n",
              " 'Channel 16: P8-O2\\n',\n",
              " 'Channel 17: FZ-CZ\\n',\n",
              " 'Channel 18: CZ-PZ\\n',\n",
              " 'Channel 19: P7-T7\\n',\n",
              " 'Channel 20: T7-FT9\\n',\n",
              " 'Channel 21: FT9-FT10\\n',\n",
              " 'Channel 22: FT10-T8\\n',\n",
              " 'Channel 23: T8-P8\\n',\n",
              " '\\n',\n",
              " 'File Name: chb01_01.edf\\n',\n",
              " 'File Start Time: 11:42:54\\n',\n",
              " 'File End Time: 12:42:54\\n',\n",
              " 'Number of Seizures in File: 0\\n',\n",
              " '\\n',\n",
              " 'File Name: chb01_02.edf\\n',\n",
              " 'File Start Time: 12:42:57\\n',\n",
              " 'File End Time: 13:42:57\\n',\n",
              " 'Number of Seizures in File: 0\\n',\n",
              " '\\n',\n",
              " 'File Name: chb01_03.edf\\n',\n",
              " 'File Start Time: 13:43:04\\n',\n",
              " 'File End Time: 14:43:04\\n',\n",
              " 'Number of Seizures in File: 1\\n',\n",
              " 'Seizure Start Time: 2996 seconds\\n',\n",
              " 'Seizure End Time: 3036 seconds\\n',\n",
              " '\\n',\n",
              " 'File Name: chb01_04.edf\\n',\n",
              " 'File Start Time: 14:43:12\\n',\n",
              " 'File End Time: 15:43:12\\n',\n",
              " 'Number of Seizures in File: 1\\n',\n",
              " 'Seizure Start Time: 1467 seconds\\n',\n",
              " 'Seizure End Time: 1494 seconds\\n',\n",
              " '\\n',\n",
              " 'File Name: chb01_05.edf\\n',\n",
              " 'File Start Time: 15:43:19\\n',\n",
              " 'File End Time: 16:43:19\\n',\n",
              " 'Number of Seizures in File: 0\\n',\n",
              " '\\n',\n",
              " 'File Name: chb01_06.edf\\n',\n",
              " 'File Start Time: 16:43:26\\n',\n",
              " 'File End Time: 17:43:26\\n',\n",
              " 'Number of Seizures in File: 0\\n',\n",
              " '\\n',\n",
              " 'File Name: chb01_07.edf\\n',\n",
              " 'File Start Time: 17:43:33\\n',\n",
              " 'File End Time: 18:43:33\\n',\n",
              " 'Number of Seizures in File: 0\\n',\n",
              " '\\n',\n",
              " 'File Name: chb01_08.edf\\n',\n",
              " 'File Start Time: 18:43:40\\n',\n",
              " 'File End Time: 19:43:40\\n',\n",
              " 'Number of Seizures in File: 0\\n',\n",
              " '\\n',\n",
              " 'File Name: chb01_09.edf\\n',\n",
              " 'File Start Time: 19:43:56\\n',\n",
              " 'File End Time: 20:43:56\\n',\n",
              " 'Number of Seizures in File: 0\\n',\n",
              " '\\n',\n",
              " 'File Name: chb01_10.edf\\n',\n",
              " 'File Start Time: 20:44:07\\n',\n",
              " 'File End Time: 21:44:07\\n',\n",
              " 'Number of Seizures in File: 0\\n',\n",
              " '\\n',\n",
              " 'File Name: chb01_11.edf\\n',\n",
              " 'File Start Time: 21:44:14\\n',\n",
              " 'File End Time: 22:44:14\\n',\n",
              " 'Number of Seizures in File: 0\\n',\n",
              " '\\n',\n",
              " 'File Name: chb01_12.edf\\n',\n",
              " 'File Start Time: 22:44:22\\n',\n",
              " 'File End Time: 23:44:22\\n',\n",
              " 'Number of Seizures in File: 0\\n',\n",
              " '\\n',\n",
              " 'File Name: chb01_13.edf\\n',\n",
              " 'File Start Time: 23:44:29\\n',\n",
              " 'File End Time: 24:44:29\\n',\n",
              " 'Number of Seizures in File: 0\\n',\n",
              " '\\n',\n",
              " 'File Name: chb01_14.edf\\n',\n",
              " 'File Start Time: 00:44:37\\n',\n",
              " 'File End Time: 1:44:37\\n',\n",
              " 'Number of Seizures in File: 0\\n',\n",
              " '\\n',\n",
              " 'File Name: chb01_15.edf\\n',\n",
              " 'File Start Time: 01:44:44\\n',\n",
              " 'File End Time: 2:44:44\\n',\n",
              " 'Number of Seizures in File: 1\\n',\n",
              " 'Seizure Start Time: 1732 seconds\\n',\n",
              " 'Seizure End Time: 1772 seconds\\n',\n",
              " '\\n',\n",
              " 'File Name: chb01_16.edf\\n',\n",
              " 'File Start Time: 02:44:51\\n',\n",
              " 'File End Time: 3:44:51\\n',\n",
              " 'Number of Seizures in File: 1\\n',\n",
              " 'Seizure Start Time: 1015 seconds\\n',\n",
              " 'Seizure End Time: 1066 seconds\\n',\n",
              " '\\n',\n",
              " 'File Name: chb01_17.edf\\n',\n",
              " 'File Start Time: 03:44:59\\n',\n",
              " 'File End Time: 4:44:59\\n',\n",
              " 'Number of Seizures in File: 0\\n',\n",
              " '\\n',\n",
              " 'File Name: chb01_18.edf\\n',\n",
              " 'File Start Time: 04:45:06\\n',\n",
              " 'File End Time: 5:45:06\\n',\n",
              " 'Number of Seizures in File: 1\\n',\n",
              " 'Seizure Start Time: 1720 seconds\\n',\n",
              " 'Seizure End Time: 1810 seconds\\n',\n",
              " '\\n',\n",
              " 'File Name: chb01_19.edf\\n',\n",
              " 'File Start Time: 05:45:13\\n',\n",
              " 'File End Time: 6:45:13\\n',\n",
              " 'Number of Seizures in File: 0\\n',\n",
              " '\\n',\n",
              " 'File Name: chb01_20.edf\\n',\n",
              " 'File Start Time: 06:45:20\\n',\n",
              " 'File End Time: 7:29:43\\n',\n",
              " 'Number of Seizures in File: 0\\n',\n",
              " '\\n',\n",
              " 'File Name: chb01_21.edf\\n',\n",
              " 'File Start Time: 07:33:46\\n',\n",
              " 'File End Time: 8:33:46\\n',\n",
              " 'Number of Seizures in File: 1\\n',\n",
              " 'Seizure Start Time: 327 seconds\\n',\n",
              " 'Seizure End Time: 420 seconds\\n',\n",
              " '\\n',\n",
              " 'File Name: chb01_22.edf\\n',\n",
              " 'File Start Time: 08:33:49\\n',\n",
              " 'File End Time: 9:33:49\\n',\n",
              " 'Number of Seizures in File: 0\\n',\n",
              " '\\n',\n",
              " 'File Name: chb01_23.edf\\n',\n",
              " 'File Start Time: 09:33:58\\n',\n",
              " 'File End Time: 10:33:58\\n',\n",
              " 'Number of Seizures in File: 0\\n',\n",
              " '\\n',\n",
              " 'File Name: chb01_24.edf\\n',\n",
              " 'File Start Time: 10:34:06\\n',\n",
              " 'File End Time: 11:34:06\\n',\n",
              " 'Number of Seizures in File: 0\\n',\n",
              " '\\n',\n",
              " 'File Name: chb01_25.edf\\n',\n",
              " 'File Start Time: 11:34:14\\n',\n",
              " 'File End Time: 12:34:14\\n',\n",
              " 'Number of Seizures in File: 0\\n',\n",
              " '\\n',\n",
              " 'File Name: chb01_26.edf\\n',\n",
              " 'File Start Time: 12:34:22\\n',\n",
              " 'File End Time: 13:13:07\\n',\n",
              " 'Number of Seizures in File: 1\\n',\n",
              " 'Seizure Start Time: 1862 seconds\\n',\n",
              " 'Seizure End Time: 1963 seconds\\n',\n",
              " '\\n',\n",
              " 'File Name: chb01_27.edf\\n',\n",
              " 'File Start Time: 13:13:21\\n',\n",
              " 'File End Time: 13:23:21\\n',\n",
              " 'Number of Seizures in File: 0\\n',\n",
              " '\\n',\n",
              " 'File Name: chb01_29.edf\\n',\n",
              " 'File Start Time: 13:24:08\\n',\n",
              " 'File End Time: 14:24:08\\n',\n",
              " 'Number of Seizures in File: 0\\n',\n",
              " '\\n',\n",
              " 'File Name: chb01_30.edf\\n',\n",
              " 'File Start Time: 14:24:15\\n',\n",
              " 'File End Time: 15:24:15\\n',\n",
              " 'Number of Seizures in File: 0\\n',\n",
              " '\\n',\n",
              " 'File Name: chb01_31.edf\\n',\n",
              " 'File Start Time: 15:24:24\\n',\n",
              " 'File End Time: 16:24:24\\n',\n",
              " 'Number of Seizures in File: 0\\n',\n",
              " '\\n',\n",
              " 'File Name: chb01_32.edf\\n',\n",
              " 'File Start Time: 16:24:32\\n',\n",
              " 'File End Time: 17:24:32\\n',\n",
              " 'Number of Seizures in File: 0\\n',\n",
              " '\\n',\n",
              " 'File Name: chb01_33.edf\\n',\n",
              " 'File Start Time: 17:24:39\\n',\n",
              " 'File End Time: 18:24:39\\n',\n",
              " 'Number of Seizures in File: 0\\n',\n",
              " '\\n',\n",
              " 'File Name: chb01_34.edf\\n',\n",
              " 'File Start Time: 18:24:46\\n',\n",
              " 'File End Time: 19:24:46\\n',\n",
              " 'Number of Seizures in File: 0\\n',\n",
              " '\\n',\n",
              " 'File Name: chb01_36.edf\\n',\n",
              " 'File Start Time: 22:14:43\\n',\n",
              " 'File End Time: 23:14:43\\n',\n",
              " 'Number of Seizures in File: 0\\n',\n",
              " '\\n',\n",
              " 'File Name: chb01_37.edf\\n',\n",
              " 'File Start Time: 23:14:46\\n',\n",
              " 'File End Time: 24:14:46\\n',\n",
              " 'Number of Seizures in File: 0\\n',\n",
              " '\\n',\n",
              " 'File Name: chb01_38.edf\\n',\n",
              " 'File Start Time: 00:14:53\\n',\n",
              " 'File End Time: 1:14:53\\n',\n",
              " 'Number of Seizures in File: 0\\n',\n",
              " '\\n',\n",
              " 'File Name: chb01_39.edf\\n',\n",
              " 'File Start Time: 01:15:01\\n',\n",
              " 'File End Time: 2:15:01\\n',\n",
              " 'Number of Seizures in File: 0\\n',\n",
              " '\\n',\n",
              " 'File Name: chb01_40.edf\\n',\n",
              " 'File Start Time: 02:15:08\\n',\n",
              " 'File End Time: 3:15:08\\n',\n",
              " 'Number of Seizures in File: 0\\n',\n",
              " '\\n',\n",
              " 'File Name: chb01_41.edf\\n',\n",
              " 'File Start Time: 03:15:15\\n',\n",
              " 'File End Time: 4:15:15\\n',\n",
              " 'Number of Seizures in File: 0\\n',\n",
              " '\\n',\n",
              " 'File Name: chb01_42.edf\\n',\n",
              " 'File Start Time: 04:15:22\\n',\n",
              " 'File End Time: 5:15:22\\n',\n",
              " 'Number of Seizures in File: 0\\n',\n",
              " '\\n',\n",
              " 'File Name: chb01_43.edf\\n',\n",
              " 'File Start Time: 05:15:29\\n',\n",
              " 'File End Time: 6:15:29\\n',\n",
              " 'Number of Seizures in File: 0\\n',\n",
              " '\\n',\n",
              " 'File Name: chb01_46.edf\\n',\n",
              " 'File Start Time: 08:15:51\\n',\n",
              " 'File End Time: 9:15:51\\n',\n",
              " 'Number of Seizures in File: 0\\n']"
            ]
          },
          "metadata": {
            "tags": []
          },
          "execution_count": 8
        }
      ]
    },
    {
      "cell_type": "code",
      "metadata": {
        "colab_type": "code",
        "id": "QfOhy82l-Fxb",
        "colab": {
          "base_uri": "https://localhost:8080/",
          "height": 439
        },
        "outputId": "9ab10f34-90f9-4593-8786-36172708fa8a"
      },
      "source": [
        "part_codes = sorted(list(set([record.split('/')[0] for record in records_list])))\n",
        "part_codes\n"
      ],
      "execution_count": null,
      "outputs": [
        {
          "output_type": "execute_result",
          "data": {
            "text/plain": [
              "['chb01',\n",
              " 'chb02',\n",
              " 'chb03',\n",
              " 'chb04',\n",
              " 'chb05',\n",
              " 'chb06',\n",
              " 'chb07',\n",
              " 'chb08',\n",
              " 'chb09',\n",
              " 'chb10',\n",
              " 'chb11',\n",
              " 'chb12',\n",
              " 'chb13',\n",
              " 'chb14',\n",
              " 'chb15',\n",
              " 'chb16',\n",
              " 'chb17',\n",
              " 'chb18',\n",
              " 'chb19',\n",
              " 'chb20',\n",
              " 'chb21',\n",
              " 'chb22',\n",
              " 'chb23',\n",
              " 'chb24']"
            ]
          },
          "metadata": {
            "tags": []
          },
          "execution_count": 9
        }
      ]
    },
    {
      "cell_type": "code",
      "metadata": {
        "colab_type": "code",
        "id": "WRx0W5ieHCnl",
        "colab": {
          "base_uri": "https://localhost:8080/",
          "height": 34
        },
        "outputId": "0bd6bd67-891f-41d9-9a3a-fc272ec8863a"
      },
      "source": [
        "print(\"here files with seizures: 3,4,15,16,18,21,26\")"
      ],
      "execution_count": null,
      "outputs": [
        {
          "output_type": "stream",
          "text": [
            "here files with seizures: 3,4,15,16,18,21,26\n"
          ],
          "name": "stdout"
        }
      ]
    },
    {
      "cell_type": "markdown",
      "metadata": {
        "colab_type": "text",
        "id": "bWSfeETwg9Fq"
      },
      "source": [
        "**dictionary** \n",
        "contains all information i.e. channels, start time , end time, seizure window for all seizure and non seizure files by help of summary file\n"
      ]
    },
    {
      "cell_type": "code",
      "metadata": {
        "colab_type": "code",
        "id": "lijgS1A3-F5N",
        "colab": {
          "base_uri": "https://localhost:8080/",
          "height": 54
        },
        "outputId": "107b39f5-2405-4838-b548-7bf945556ad9"
      },
      "source": [
        "import re\n",
        "part_info_dict = {}\n",
        "\n",
        "def info_dict(content):\n",
        "  \n",
        "  line_nos=len(content)\n",
        "  line_no=1\n",
        "\n",
        "  channels = []\n",
        "  file_name = []\n",
        "  file_info_dict={}\n",
        "\n",
        "  for line in content:\n",
        "\n",
        "    # if there is Channel in the line...\n",
        "    if re.findall('Channel \\d+', line):\n",
        "      # split the line into channel number and channel reference\n",
        "      channel = line.split(': ')\n",
        "      # get the channel reference and remove any new lines\n",
        "      channel = channel[-1].replace(\"\\n\", \"\")\n",
        "      # put into the channel list\n",
        "      channels.append(channel)\n",
        "\n",
        "    # if the line is the file name\n",
        "    elif re.findall('File Name', line):\n",
        "      # if there is already a file_name\n",
        "      if file_name:\n",
        "        # flush the current file info to it\n",
        "        part_info_dict[file_name] = file_info_dict\n",
        "\n",
        "      # get the file name\n",
        "      file_name = re.findall('\\w+\\d+_\\d+|\\w+\\d+\\w+_\\d+', line)[0]\n",
        "\n",
        "      file_info_dict = {}\n",
        "      # put the channel list in the file info dict and remove duplicates\n",
        "      file_info_dict['Channels'] = list(set(channels))\n",
        "      # reset the rest of the options\n",
        "      file_info_dict['Start Time'] = ''\n",
        "      file_info_dict['End Time'] = ''\n",
        "      file_info_dict['Seizures Window'] = []\n",
        "\n",
        "    # if the line is about the file start time\n",
        "    elif re.findall('File Start Time', line):\n",
        "      # get the start time\n",
        "      file_info_dict['Start Time'] = re.findall('\\d+:\\d+:\\d+', line)[0]\n",
        "\n",
        "    # if the line is about the file end time\n",
        "    elif re.findall('File End Time', line):\n",
        "      # get the start time\n",
        "      file_info_dict['End Time'] = re.findall('\\d+:\\d+:\\d+', line)[0]\n",
        "\n",
        "    elif re.findall('Seizure Start Time|Seizure End Time|Seizure \\d+ Start Time|Seizure \\d+ End Time', line):\n",
        "      file_info_dict['Seizures Window'].append(int(re.findall('\\d+', line)[-1]))\n",
        "\n",
        "    # if last line in the list...\n",
        "    if line_no == line_nos:\n",
        "      # flush the file info to it\n",
        "      part_info_dict[file_name] = file_info_dict\n",
        "\n",
        "    line_no+=1\n",
        "for part_code in part_codes:\n",
        "  content = get_content(part_code)\n",
        "  #print(content)\n",
        "  info_dict(content)\n",
        "#print(info_dict(content))\n",
        "print(part_info_dict)\n",
        "    "
      ],
      "execution_count": null,
      "outputs": [
        {
          "output_type": "stream",
          "text": [
            "{'chb01_01': {'Channels': ['P8-O2', 'T7-P7', 'FP1-F3', 'P7-O1', 'F3-C3', 'CZ-PZ', 'F8-T8', 'P4-O2', 'T8-P8', 'C4-P4', 'T7-FT9', 'C3-P3', 'FZ-CZ', 'F7-T7', 'FP2-F4', 'FT9-FT10', 'FP2-F8', 'FP1-F7', 'P3-O1', 'P7-T7', 'FT10-T8', 'F4-C4'], 'Start Time': '11:42:54', 'End Time': '12:42:54', 'Seizures Window': []}, 'chb01_02': {'Channels': ['P8-O2', 'T7-P7', 'FP1-F3', 'P7-O1', 'F3-C3', 'CZ-PZ', 'F8-T8', 'P4-O2', 'T8-P8', 'C4-P4', 'T7-FT9', 'C3-P3', 'FZ-CZ', 'F7-T7', 'FP2-F4', 'FT9-FT10', 'FP2-F8', 'FP1-F7', 'P3-O1', 'P7-T7', 'FT10-T8', 'F4-C4'], 'Start Time': '12:42:57', 'End Time': '13:42:57', 'Seizures Window': []}, 'chb01_03': {'Channels': ['P8-O2', 'T7-P7', 'FP1-F3', 'P7-O1', 'F3-C3', 'CZ-PZ', 'F8-T8', 'P4-O2', 'T8-P8', 'C4-P4', 'T7-FT9', 'C3-P3', 'FZ-CZ', 'F7-T7', 'FP2-F4', 'FT9-FT10', 'FP2-F8', 'FP1-F7', 'P3-O1', 'P7-T7', 'FT10-T8', 'F4-C4'], 'Start Time': '13:43:04', 'End Time': '14:43:04', 'Seizures Window': [2996, 3036]}, 'chb01_04': {'Channels': ['P8-O2', 'T7-P7', 'FP1-F3', 'P7-O1', 'F3-C3', 'CZ-PZ', 'F8-T8', 'P4-O2', 'T8-P8', 'C4-P4', 'T7-FT9', 'C3-P3', 'FZ-CZ', 'F7-T7', 'FP2-F4', 'FT9-FT10', 'FP2-F8', 'FP1-F7', 'P3-O1', 'P7-T7', 'FT10-T8', 'F4-C4'], 'Start Time': '14:43:12', 'End Time': '15:43:12', 'Seizures Window': [1467, 1494]}, 'chb01_05': {'Channels': ['P8-O2', 'T7-P7', 'FP1-F3', 'P7-O1', 'F3-C3', 'CZ-PZ', 'F8-T8', 'P4-O2', 'T8-P8', 'C4-P4', 'T7-FT9', 'C3-P3', 'FZ-CZ', 'F7-T7', 'FP2-F4', 'FT9-FT10', 'FP2-F8', 'FP1-F7', 'P3-O1', 'P7-T7', 'FT10-T8', 'F4-C4'], 'Start Time': '15:43:19', 'End Time': '16:43:19', 'Seizures Window': []}, 'chb01_06': {'Channels': ['P8-O2', 'T7-P7', 'FP1-F3', 'P7-O1', 'F3-C3', 'CZ-PZ', 'F8-T8', 'P4-O2', 'T8-P8', 'C4-P4', 'T7-FT9', 'C3-P3', 'FZ-CZ', 'F7-T7', 'FP2-F4', 'FT9-FT10', 'FP2-F8', 'FP1-F7', 'P3-O1', 'P7-T7', 'FT10-T8', 'F4-C4'], 'Start Time': '16:43:26', 'End Time': '17:43:26', 'Seizures Window': []}, 'chb01_07': {'Channels': ['P8-O2', 'T7-P7', 'FP1-F3', 'P7-O1', 'F3-C3', 'CZ-PZ', 'F8-T8', 'P4-O2', 'T8-P8', 'C4-P4', 'T7-FT9', 'C3-P3', 'FZ-CZ', 'F7-T7', 'FP2-F4', 'FT9-FT10', 'FP2-F8', 'FP1-F7', 'P3-O1', 'P7-T7', 'FT10-T8', 'F4-C4'], 'Start Time': '17:43:33', 'End Time': '18:43:33', 'Seizures Window': []}, 'chb01_08': {'Channels': ['P8-O2', 'T7-P7', 'FP1-F3', 'P7-O1', 'F3-C3', 'CZ-PZ', 'F8-T8', 'P4-O2', 'T8-P8', 'C4-P4', 'T7-FT9', 'C3-P3', 'FZ-CZ', 'F7-T7', 'FP2-F4', 'FT9-FT10', 'FP2-F8', 'FP1-F7', 'P3-O1', 'P7-T7', 'FT10-T8', 'F4-C4'], 'Start Time': '18:43:40', 'End Time': '19:43:40', 'Seizures Window': []}, 'chb01_09': {'Channels': ['P8-O2', 'T7-P7', 'FP1-F3', 'P7-O1', 'F3-C3', 'CZ-PZ', 'F8-T8', 'P4-O2', 'T8-P8', 'C4-P4', 'T7-FT9', 'C3-P3', 'FZ-CZ', 'F7-T7', 'FP2-F4', 'FT9-FT10', 'FP2-F8', 'FP1-F7', 'P3-O1', 'P7-T7', 'FT10-T8', 'F4-C4'], 'Start Time': '19:43:56', 'End Time': '20:43:56', 'Seizures Window': []}, 'chb01_10': {'Channels': ['P8-O2', 'T7-P7', 'FP1-F3', 'P7-O1', 'F3-C3', 'CZ-PZ', 'F8-T8', 'P4-O2', 'T8-P8', 'C4-P4', 'T7-FT9', 'C3-P3', 'FZ-CZ', 'F7-T7', 'FP2-F4', 'FT9-FT10', 'FP2-F8', 'FP1-F7', 'P3-O1', 'P7-T7', 'FT10-T8', 'F4-C4'], 'Start Time': '20:44:07', 'End Time': '21:44:07', 'Seizures Window': []}, 'chb01_11': {'Channels': ['P8-O2', 'T7-P7', 'FP1-F3', 'P7-O1', 'F3-C3', 'CZ-PZ', 'F8-T8', 'P4-O2', 'T8-P8', 'C4-P4', 'T7-FT9', 'C3-P3', 'FZ-CZ', 'F7-T7', 'FP2-F4', 'FT9-FT10', 'FP2-F8', 'FP1-F7', 'P3-O1', 'P7-T7', 'FT10-T8', 'F4-C4'], 'Start Time': '21:44:14', 'End Time': '22:44:14', 'Seizures Window': []}, 'chb01_12': {'Channels': ['P8-O2', 'T7-P7', 'FP1-F3', 'P7-O1', 'F3-C3', 'CZ-PZ', 'F8-T8', 'P4-O2', 'T8-P8', 'C4-P4', 'T7-FT9', 'C3-P3', 'FZ-CZ', 'F7-T7', 'FP2-F4', 'FT9-FT10', 'FP2-F8', 'FP1-F7', 'P3-O1', 'P7-T7', 'FT10-T8', 'F4-C4'], 'Start Time': '22:44:22', 'End Time': '23:44:22', 'Seizures Window': []}, 'chb01_13': {'Channels': ['P8-O2', 'T7-P7', 'FP1-F3', 'P7-O1', 'F3-C3', 'CZ-PZ', 'F8-T8', 'P4-O2', 'T8-P8', 'C4-P4', 'T7-FT9', 'C3-P3', 'FZ-CZ', 'F7-T7', 'FP2-F4', 'FT9-FT10', 'FP2-F8', 'FP1-F7', 'P3-O1', 'P7-T7', 'FT10-T8', 'F4-C4'], 'Start Time': '23:44:29', 'End Time': '24:44:29', 'Seizures Window': []}, 'chb01_14': {'Channels': ['P8-O2', 'T7-P7', 'FP1-F3', 'P7-O1', 'F3-C3', 'CZ-PZ', 'F8-T8', 'P4-O2', 'T8-P8', 'C4-P4', 'T7-FT9', 'C3-P3', 'FZ-CZ', 'F7-T7', 'FP2-F4', 'FT9-FT10', 'FP2-F8', 'FP1-F7', 'P3-O1', 'P7-T7', 'FT10-T8', 'F4-C4'], 'Start Time': '00:44:37', 'End Time': '1:44:37', 'Seizures Window': []}, 'chb01_15': {'Channels': ['P8-O2', 'T7-P7', 'FP1-F3', 'P7-O1', 'F3-C3', 'CZ-PZ', 'F8-T8', 'P4-O2', 'T8-P8', 'C4-P4', 'T7-FT9', 'C3-P3', 'FZ-CZ', 'F7-T7', 'FP2-F4', 'FT9-FT10', 'FP2-F8', 'FP1-F7', 'P3-O1', 'P7-T7', 'FT10-T8', 'F4-C4'], 'Start Time': '01:44:44', 'End Time': '2:44:44', 'Seizures Window': [1732, 1772]}, 'chb01_16': {'Channels': ['P8-O2', 'T7-P7', 'FP1-F3', 'P7-O1', 'F3-C3', 'CZ-PZ', 'F8-T8', 'P4-O2', 'T8-P8', 'C4-P4', 'T7-FT9', 'C3-P3', 'FZ-CZ', 'F7-T7', 'FP2-F4', 'FT9-FT10', 'FP2-F8', 'FP1-F7', 'P3-O1', 'P7-T7', 'FT10-T8', 'F4-C4'], 'Start Time': '02:44:51', 'End Time': '3:44:51', 'Seizures Window': [1015, 1066]}, 'chb01_17': {'Channels': ['P8-O2', 'T7-P7', 'FP1-F3', 'P7-O1', 'F3-C3', 'CZ-PZ', 'F8-T8', 'P4-O2', 'T8-P8', 'C4-P4', 'T7-FT9', 'C3-P3', 'FZ-CZ', 'F7-T7', 'FP2-F4', 'FT9-FT10', 'FP2-F8', 'FP1-F7', 'P3-O1', 'P7-T7', 'FT10-T8', 'F4-C4'], 'Start Time': '03:44:59', 'End Time': '4:44:59', 'Seizures Window': []}, 'chb01_18': {'Channels': ['P8-O2', 'T7-P7', 'FP1-F3', 'P7-O1', 'F3-C3', 'CZ-PZ', 'F8-T8', 'P4-O2', 'T8-P8', 'C4-P4', 'T7-FT9', 'C3-P3', 'FZ-CZ', 'F7-T7', 'FP2-F4', 'FT9-FT10', 'FP2-F8', 'FP1-F7', 'P3-O1', 'P7-T7', 'FT10-T8', 'F4-C4'], 'Start Time': '04:45:06', 'End Time': '5:45:06', 'Seizures Window': [1720, 1810]}, 'chb01_19': {'Channels': ['P8-O2', 'T7-P7', 'FP1-F3', 'P7-O1', 'F3-C3', 'CZ-PZ', 'F8-T8', 'P4-O2', 'T8-P8', 'C4-P4', 'T7-FT9', 'C3-P3', 'FZ-CZ', 'F7-T7', 'FP2-F4', 'FT9-FT10', 'FP2-F8', 'FP1-F7', 'P3-O1', 'P7-T7', 'FT10-T8', 'F4-C4'], 'Start Time': '05:45:13', 'End Time': '6:45:13', 'Seizures Window': []}, 'chb01_20': {'Channels': ['P8-O2', 'T7-P7', 'FP1-F3', 'P7-O1', 'F3-C3', 'CZ-PZ', 'F8-T8', 'P4-O2', 'T8-P8', 'C4-P4', 'T7-FT9', 'C3-P3', 'FZ-CZ', 'F7-T7', 'FP2-F4', 'FT9-FT10', 'FP2-F8', 'FP1-F7', 'P3-O1', 'P7-T7', 'FT10-T8', 'F4-C4'], 'Start Time': '06:45:20', 'End Time': '7:29:43', 'Seizures Window': []}, 'chb01_21': {'Channels': ['P8-O2', 'T7-P7', 'FP1-F3', 'P7-O1', 'F3-C3', 'CZ-PZ', 'F8-T8', 'P4-O2', 'T8-P8', 'C4-P4', 'T7-FT9', 'C3-P3', 'FZ-CZ', 'F7-T7', 'FP2-F4', 'FT9-FT10', 'FP2-F8', 'FP1-F7', 'P3-O1', 'P7-T7', 'FT10-T8', 'F4-C4'], 'Start Time': '07:33:46', 'End Time': '8:33:46', 'Seizures Window': [327, 420]}, 'chb01_22': {'Channels': ['P8-O2', 'T7-P7', 'FP1-F3', 'P7-O1', 'F3-C3', 'CZ-PZ', 'F8-T8', 'P4-O2', 'T8-P8', 'C4-P4', 'T7-FT9', 'C3-P3', 'FZ-CZ', 'F7-T7', 'FP2-F4', 'FT9-FT10', 'FP2-F8', 'FP1-F7', 'P3-O1', 'P7-T7', 'FT10-T8', 'F4-C4'], 'Start Time': '08:33:49', 'End Time': '9:33:49', 'Seizures Window': []}, 'chb01_23': {'Channels': ['P8-O2', 'T7-P7', 'FP1-F3', 'P7-O1', 'F3-C3', 'CZ-PZ', 'F8-T8', 'P4-O2', 'T8-P8', 'C4-P4', 'T7-FT9', 'C3-P3', 'FZ-CZ', 'F7-T7', 'FP2-F4', 'FT9-FT10', 'FP2-F8', 'FP1-F7', 'P3-O1', 'P7-T7', 'FT10-T8', 'F4-C4'], 'Start Time': '09:33:58', 'End Time': '10:33:58', 'Seizures Window': []}, 'chb01_24': {'Channels': ['P8-O2', 'T7-P7', 'FP1-F3', 'P7-O1', 'F3-C3', 'CZ-PZ', 'F8-T8', 'P4-O2', 'T8-P8', 'C4-P4', 'T7-FT9', 'C3-P3', 'FZ-CZ', 'F7-T7', 'FP2-F4', 'FT9-FT10', 'FP2-F8', 'FP1-F7', 'P3-O1', 'P7-T7', 'FT10-T8', 'F4-C4'], 'Start Time': '10:34:06', 'End Time': '11:34:06', 'Seizures Window': []}, 'chb01_25': {'Channels': ['P8-O2', 'T7-P7', 'FP1-F3', 'P7-O1', 'F3-C3', 'CZ-PZ', 'F8-T8', 'P4-O2', 'T8-P8', 'C4-P4', 'T7-FT9', 'C3-P3', 'FZ-CZ', 'F7-T7', 'FP2-F4', 'FT9-FT10', 'FP2-F8', 'FP1-F7', 'P3-O1', 'P7-T7', 'FT10-T8', 'F4-C4'], 'Start Time': '11:34:14', 'End Time': '12:34:14', 'Seizures Window': []}, 'chb01_26': {'Channels': ['P8-O2', 'T7-P7', 'FP1-F3', 'P7-O1', 'F3-C3', 'CZ-PZ', 'F8-T8', 'P4-O2', 'T8-P8', 'C4-P4', 'T7-FT9', 'C3-P3', 'FZ-CZ', 'F7-T7', 'FP2-F4', 'FT9-FT10', 'FP2-F8', 'FP1-F7', 'P3-O1', 'P7-T7', 'FT10-T8', 'F4-C4'], 'Start Time': '12:34:22', 'End Time': '13:13:07', 'Seizures Window': [1862, 1963]}, 'chb01_27': {'Channels': ['P8-O2', 'T7-P7', 'FP1-F3', 'P7-O1', 'F3-C3', 'CZ-PZ', 'F8-T8', 'P4-O2', 'T8-P8', 'C4-P4', 'T7-FT9', 'C3-P3', 'FZ-CZ', 'F7-T7', 'FP2-F4', 'FT9-FT10', 'FP2-F8', 'FP1-F7', 'P3-O1', 'P7-T7', 'FT10-T8', 'F4-C4'], 'Start Time': '13:13:21', 'End Time': '13:23:21', 'Seizures Window': []}, 'chb01_29': {'Channels': ['P8-O2', 'T7-P7', 'FP1-F3', 'P7-O1', 'F3-C3', 'CZ-PZ', 'F8-T8', 'P4-O2', 'T8-P8', 'C4-P4', 'T7-FT9', 'C3-P3', 'FZ-CZ', 'F7-T7', 'FP2-F4', 'FT9-FT10', 'FP2-F8', 'FP1-F7', 'P3-O1', 'P7-T7', 'FT10-T8', 'F4-C4'], 'Start Time': '13:24:08', 'End Time': '14:24:08', 'Seizures Window': []}, 'chb01_30': {'Channels': ['P8-O2', 'T7-P7', 'FP1-F3', 'P7-O1', 'F3-C3', 'CZ-PZ', 'F8-T8', 'P4-O2', 'T8-P8', 'C4-P4', 'T7-FT9', 'C3-P3', 'FZ-CZ', 'F7-T7', 'FP2-F4', 'FT9-FT10', 'FP2-F8', 'FP1-F7', 'P3-O1', 'P7-T7', 'FT10-T8', 'F4-C4'], 'Start Time': '14:24:15', 'End Time': '15:24:15', 'Seizures Window': []}, 'chb01_31': {'Channels': ['P8-O2', 'T7-P7', 'FP1-F3', 'P7-O1', 'F3-C3', 'CZ-PZ', 'F8-T8', 'P4-O2', 'T8-P8', 'C4-P4', 'T7-FT9', 'C3-P3', 'FZ-CZ', 'F7-T7', 'FP2-F4', 'FT9-FT10', 'FP2-F8', 'FP1-F7', 'P3-O1', 'P7-T7', 'FT10-T8', 'F4-C4'], 'Start Time': '15:24:24', 'End Time': '16:24:24', 'Seizures Window': []}, 'chb01_32': {'Channels': ['P8-O2', 'T7-P7', 'FP1-F3', 'P7-O1', 'F3-C3', 'CZ-PZ', 'F8-T8', 'P4-O2', 'T8-P8', 'C4-P4', 'T7-FT9', 'C3-P3', 'FZ-CZ', 'F7-T7', 'FP2-F4', 'FT9-FT10', 'FP2-F8', 'FP1-F7', 'P3-O1', 'P7-T7', 'FT10-T8', 'F4-C4'], 'Start Time': '16:24:32', 'End Time': '17:24:32', 'Seizures Window': []}, 'chb01_33': {'Channels': ['P8-O2', 'T7-P7', 'FP1-F3', 'P7-O1', 'F3-C3', 'CZ-PZ', 'F8-T8', 'P4-O2', 'T8-P8', 'C4-P4', 'T7-FT9', 'C3-P3', 'FZ-CZ', 'F7-T7', 'FP2-F4', 'FT9-FT10', 'FP2-F8', 'FP1-F7', 'P3-O1', 'P7-T7', 'FT10-T8', 'F4-C4'], 'Start Time': '17:24:39', 'End Time': '18:24:39', 'Seizures Window': []}, 'chb01_34': {'Channels': ['P8-O2', 'T7-P7', 'FP1-F3', 'P7-O1', 'F3-C3', 'CZ-PZ', 'F8-T8', 'P4-O2', 'T8-P8', 'C4-P4', 'T7-FT9', 'C3-P3', 'FZ-CZ', 'F7-T7', 'FP2-F4', 'FT9-FT10', 'FP2-F8', 'FP1-F7', 'P3-O1', 'P7-T7', 'FT10-T8', 'F4-C4'], 'Start Time': '18:24:46', 'End Time': '19:24:46', 'Seizures Window': []}, 'chb01_36': {'Channels': ['P8-O2', 'T7-P7', 'FP1-F3', 'P7-O1', 'F3-C3', 'CZ-PZ', 'F8-T8', 'P4-O2', 'T8-P8', 'C4-P4', 'T7-FT9', 'C3-P3', 'FZ-CZ', 'F7-T7', 'FP2-F4', 'FT9-FT10', 'FP2-F8', 'FP1-F7', 'P3-O1', 'P7-T7', 'FT10-T8', 'F4-C4'], 'Start Time': '22:14:43', 'End Time': '23:14:43', 'Seizures Window': []}, 'chb01_37': {'Channels': ['P8-O2', 'T7-P7', 'FP1-F3', 'P7-O1', 'F3-C3', 'CZ-PZ', 'F8-T8', 'P4-O2', 'T8-P8', 'C4-P4', 'T7-FT9', 'C3-P3', 'FZ-CZ', 'F7-T7', 'FP2-F4', 'FT9-FT10', 'FP2-F8', 'FP1-F7', 'P3-O1', 'P7-T7', 'FT10-T8', 'F4-C4'], 'Start Time': '23:14:46', 'End Time': '24:14:46', 'Seizures Window': []}, 'chb01_38': {'Channels': ['P8-O2', 'T7-P7', 'FP1-F3', 'P7-O1', 'F3-C3', 'CZ-PZ', 'F8-T8', 'P4-O2', 'T8-P8', 'C4-P4', 'T7-FT9', 'C3-P3', 'FZ-CZ', 'F7-T7', 'FP2-F4', 'FT9-FT10', 'FP2-F8', 'FP1-F7', 'P3-O1', 'P7-T7', 'FT10-T8', 'F4-C4'], 'Start Time': '00:14:53', 'End Time': '1:14:53', 'Seizures Window': []}, 'chb01_39': {'Channels': ['P8-O2', 'T7-P7', 'FP1-F3', 'P7-O1', 'F3-C3', 'CZ-PZ', 'F8-T8', 'P4-O2', 'T8-P8', 'C4-P4', 'T7-FT9', 'C3-P3', 'FZ-CZ', 'F7-T7', 'FP2-F4', 'FT9-FT10', 'FP2-F8', 'FP1-F7', 'P3-O1', 'P7-T7', 'FT10-T8', 'F4-C4'], 'Start Time': '01:15:01', 'End Time': '2:15:01', 'Seizures Window': []}, 'chb01_40': {'Channels': ['P8-O2', 'T7-P7', 'FP1-F3', 'P7-O1', 'F3-C3', 'CZ-PZ', 'F8-T8', 'P4-O2', 'T8-P8', 'C4-P4', 'T7-FT9', 'C3-P3', 'FZ-CZ', 'F7-T7', 'FP2-F4', 'FT9-FT10', 'FP2-F8', 'FP1-F7', 'P3-O1', 'P7-T7', 'FT10-T8', 'F4-C4'], 'Start Time': '02:15:08', 'End Time': '3:15:08', 'Seizures Window': []}, 'chb01_41': {'Channels': ['P8-O2', 'T7-P7', 'FP1-F3', 'P7-O1', 'F3-C3', 'CZ-PZ', 'F8-T8', 'P4-O2', 'T8-P8', 'C4-P4', 'T7-FT9', 'C3-P3', 'FZ-CZ', 'F7-T7', 'FP2-F4', 'FT9-FT10', 'FP2-F8', 'FP1-F7', 'P3-O1', 'P7-T7', 'FT10-T8', 'F4-C4'], 'Start Time': '03:15:15', 'End Time': '4:15:15', 'Seizures Window': []}, 'chb01_42': {'Channels': ['P8-O2', 'T7-P7', 'FP1-F3', 'P7-O1', 'F3-C3', 'CZ-PZ', 'F8-T8', 'P4-O2', 'T8-P8', 'C4-P4', 'T7-FT9', 'C3-P3', 'FZ-CZ', 'F7-T7', 'FP2-F4', 'FT9-FT10', 'FP2-F8', 'FP1-F7', 'P3-O1', 'P7-T7', 'FT10-T8', 'F4-C4'], 'Start Time': '04:15:22', 'End Time': '5:15:22', 'Seizures Window': []}, 'chb01_43': {'Channels': ['P8-O2', 'T7-P7', 'FP1-F3', 'P7-O1', 'F3-C3', 'CZ-PZ', 'F8-T8', 'P4-O2', 'T8-P8', 'C4-P4', 'T7-FT9', 'C3-P3', 'FZ-CZ', 'F7-T7', 'FP2-F4', 'FT9-FT10', 'FP2-F8', 'FP1-F7', 'P3-O1', 'P7-T7', 'FT10-T8', 'F4-C4'], 'Start Time': '05:15:29', 'End Time': '6:15:29', 'Seizures Window': []}, 'chb01_46': {'Channels': ['P8-O2', 'T7-P7', 'FP1-F3', 'P7-O1', 'F3-C3', 'CZ-PZ', 'F8-T8', 'P4-O2', 'T8-P8', 'C4-P4', 'T7-FT9', 'C3-P3', 'FZ-CZ', 'F7-T7', 'FP2-F4', 'FT9-FT10', 'FP2-F8', 'FP1-F7', 'P3-O1', 'P7-T7', 'FT10-T8', 'F4-C4'], 'Start Time': '08:15:51', 'End Time': '9:15:51', 'Seizures Window': []}, 'chb02_01': {'Channels': ['P8-O2', 'T7-P7', 'FP1-F3', 'P7-O1', 'F3-C3', 'CZ-PZ', 'F8-T8', 'P4-O2', 'T8-P8', 'C4-P4', 'T7-FT9', 'C3-P3', 'FZ-CZ', 'F7-T7', 'FP2-F4', 'FT9-FT10', 'FP2-F8', 'FP1-F7', 'P3-O1', 'P7-T7', 'FT10-T8', 'F4-C4'], 'Start Time': '15:29:39', 'End Time': '16:29:39', 'Seizures Window': []}, 'chb02_02': {'Channels': ['P8-O2', 'T7-P7', 'FP1-F3', 'P7-O1', 'F3-C3', 'CZ-PZ', 'F8-T8', 'P4-O2', 'T8-P8', 'C4-P4', 'T7-FT9', 'C3-P3', 'FZ-CZ', 'F7-T7', 'FP2-F4', 'FT9-FT10', 'FP2-F8', 'FP1-F7', 'P3-O1', 'P7-T7', 'FT10-T8', 'F4-C4'], 'Start Time': '17:29:49', 'End Time': '18:29:49', 'Seizures Window': []}, 'chb02_03': {'Channels': ['P8-O2', 'T7-P7', 'FP1-F3', 'P7-O1', 'F3-C3', 'CZ-PZ', 'F8-T8', 'P4-O2', 'T8-P8', 'C4-P4', 'T7-FT9', 'C3-P3', 'FZ-CZ', 'F7-T7', 'FP2-F4', 'FT9-FT10', 'FP2-F8', 'FP1-F7', 'P3-O1', 'P7-T7', 'FT10-T8', 'F4-C4'], 'Start Time': '18:29:56', 'End Time': '19:29:56', 'Seizures Window': []}, 'chb02_04': {'Channels': ['P8-O2', 'T7-P7', 'FP1-F3', 'P7-O1', 'F3-C3', 'CZ-PZ', 'F8-T8', 'P4-O2', 'T8-P8', 'C4-P4', 'T7-FT9', 'C3-P3', 'FZ-CZ', 'F7-T7', 'FP2-F4', 'FT9-FT10', 'FP2-F8', 'FP1-F7', 'P3-O1', 'P7-T7', 'FT10-T8', 'F4-C4'], 'Start Time': '19:30:03', 'End Time': '20:30:03', 'Seizures Window': []}, 'chb02_05': {'Channels': ['P8-O2', 'T7-P7', 'FP1-F3', 'P7-O1', 'F3-C3', 'CZ-PZ', 'F8-T8', 'P4-O2', 'T8-P8', 'C4-P4', 'T7-FT9', 'C3-P3', 'FZ-CZ', 'F7-T7', 'FP2-F4', 'FT9-FT10', 'FP2-F8', 'FP1-F7', 'P3-O1', 'P7-T7', 'FT10-T8', 'F4-C4'], 'Start Time': '20:30:10', 'End Time': '21:30:10', 'Seizures Window': []}, 'chb02_06': {'Channels': ['P8-O2', 'T7-P7', 'FP1-F3', 'P7-O1', 'F3-C3', 'CZ-PZ', 'F8-T8', 'P4-O2', 'T8-P8', 'C4-P4', 'T7-FT9', 'C3-P3', 'FZ-CZ', 'F7-T7', 'FP2-F4', 'FT9-FT10', 'FP2-F8', 'FP1-F7', 'P3-O1', 'P7-T7', 'FT10-T8', 'F4-C4'], 'Start Time': '21:30:18', 'End Time': '22:30:18', 'Seizures Window': []}, 'chb02_07': {'Channels': ['P8-O2', 'T7-P7', 'FP1-F3', 'P7-O1', 'F3-C3', 'CZ-PZ', 'F8-T8', 'P4-O2', 'T8-P8', 'C4-P4', 'T7-FT9', 'C3-P3', 'FZ-CZ', 'F7-T7', 'FP2-F4', 'FT9-FT10', 'FP2-F8', 'FP1-F7', 'P3-O1', 'P7-T7', 'FT10-T8', 'F4-C4'], 'Start Time': '22:30:25', 'End Time': '23:30:25', 'Seizures Window': []}, 'chb02_08': {'Channels': ['P8-O2', 'T7-P7', 'FP1-F3', 'P7-O1', 'F3-C3', 'CZ-PZ', 'F8-T8', 'P4-O2', 'T8-P8', 'C4-P4', 'T7-FT9', 'C3-P3', 'FZ-CZ', 'F7-T7', 'FP2-F4', 'FT9-FT10', 'FP2-F8', 'FP1-F7', 'P3-O1', 'P7-T7', 'FT10-T8', 'F4-C4'], 'Start Time': '23:30:33', 'End Time': '24:30:33', 'Seizures Window': []}, 'chb02_09': {'Channels': ['P8-O2', 'T7-P7', 'FP1-F3', 'P7-O1', 'F3-C3', 'CZ-PZ', 'F8-T8', 'P4-O2', 'T8-P8', 'C4-P4', 'T7-FT9', 'C3-P3', 'FZ-CZ', 'F7-T7', 'FP2-F4', 'FT9-FT10', 'FP2-F8', 'FP1-F7', 'P3-O1', 'P7-T7', 'FT10-T8', 'F4-C4'], 'Start Time': '00:30:40', 'End Time': '1:30:40', 'Seizures Window': []}, 'chb02_10': {'Channels': ['P8-O2', 'T7-P7', 'FP1-F3', 'P7-O1', 'F3-C3', 'CZ-PZ', 'F8-T8', 'P4-O2', 'T8-P8', 'C4-P4', 'T7-FT9', 'C3-P3', 'FZ-CZ', 'F7-T7', 'FP2-F4', 'FT9-FT10', 'FP2-F8', 'FP1-F7', 'P3-O1', 'P7-T7', 'FT10-T8', 'F4-C4'], 'Start Time': '01:30:47', 'End Time': '2:30:47', 'Seizures Window': []}, 'chb02_11': {'Channels': ['P8-O2', 'T7-P7', 'FP1-F3', 'P7-O1', 'F3-C3', 'CZ-PZ', 'F8-T8', 'P4-O2', 'T8-P8', 'C4-P4', 'T7-FT9', 'C3-P3', 'FZ-CZ', 'F7-T7', 'FP2-F4', 'FT9-FT10', 'FP2-F8', 'FP1-F7', 'P3-O1', 'P7-T7', 'FT10-T8', 'F4-C4'], 'Start Time': '02:30:55', 'End Time': '3:30:55', 'Seizures Window': []}, 'chb02_12': {'Channels': ['P8-O2', 'T7-P7', 'FP1-F3', 'P7-O1', 'F3-C3', 'CZ-PZ', 'F8-T8', 'P4-O2', 'T8-P8', 'C4-P4', 'T7-FT9', 'C3-P3', 'FZ-CZ', 'F7-T7', 'FP2-F4', 'FT9-FT10', 'FP2-F8', 'FP1-F7', 'P3-O1', 'P7-T7', 'FT10-T8', 'F4-C4'], 'Start Time': '03:31:02', 'End Time': '4:31:02', 'Seizures Window': []}, 'chb02_13': {'Channels': ['P8-O2', 'T7-P7', 'FP1-F3', 'P7-O1', 'F3-C3', 'CZ-PZ', 'F8-T8', 'P4-O2', 'T8-P8', 'C4-P4', 'T7-FT9', 'C3-P3', 'FZ-CZ', 'F7-T7', 'FP2-F4', 'FT9-FT10', 'FP2-F8', 'FP1-F7', 'P3-O1', 'P7-T7', 'FT10-T8', 'F4-C4'], 'Start Time': '04:31:09', 'End Time': '5:31:09', 'Seizures Window': []}, 'chb02_14': {'Channels': ['P8-O2', 'T7-P7', 'FP1-F3', 'P7-O1', 'F3-C3', 'CZ-PZ', 'F8-T8', 'P4-O2', 'T8-P8', 'C4-P4', 'T7-FT9', 'C3-P3', 'FZ-CZ', 'F7-T7', 'FP2-F4', 'FT9-FT10', 'FP2-F8', 'FP1-F7', 'P3-O1', 'P7-T7', 'FT10-T8', 'F4-C4'], 'Start Time': '05:31:17', 'End Time': '6:31:17', 'Seizures Window': []}, 'chb02_15': {'Channels': ['P8-O2', 'T7-P7', 'FP1-F3', 'P7-O1', 'F3-C3', 'CZ-PZ', 'F8-T8', 'P4-O2', 'T8-P8', 'C4-P4', 'T7-FT9', 'C3-P3', 'FZ-CZ', 'F7-T7', 'FP2-F4', 'FT9-FT10', 'FP2-F8', 'FP1-F7', 'P3-O1', 'P7-T7', 'FT10-T8', 'F4-C4'], 'Start Time': '08:31:38', 'End Time': '9:31:38', 'Seizures Window': []}, 'chb02_16': {'Channels': ['P8-O2', 'T7-P7', 'FP1-F3', 'P7-O1', 'F3-C3', 'CZ-PZ', 'F8-T8', 'P4-O2', 'T8-P8', 'C4-P4', 'T7-FT9', 'C3-P3', 'FZ-CZ', 'F7-T7', 'FP2-F4', 'FT9-FT10', 'FP2-F8', 'FP1-F7', 'P3-O1', 'P7-T7', 'FT10-T8', 'F4-C4'], 'Start Time': '10:50:23', 'End Time': '11:50:23', 'Seizures Window': [2972, 3053]}, 'chb02_17': {'Channels': ['P8-O2', 'T7-P7', 'FP1-F3', 'P7-O1', 'F3-C3', 'CZ-PZ', 'F8-T8', 'P4-O2', 'T8-P8', 'C4-P4', 'T7-FT9', 'C3-P3', 'FZ-CZ', 'F7-T7', 'FP2-F4', 'FT9-FT10', 'FP2-F8', 'FP1-F7', 'P3-O1', 'P7-T7', 'FT10-T8', 'F4-C4'], 'Start Time': '11:50:31', 'End Time': '12:50:31', 'Seizures Window': []}, 'chb02_18': {'Channels': ['P8-O2', 'T7-P7', 'FP1-F3', 'P7-O1', 'F3-C3', 'CZ-PZ', 'F8-T8', 'P4-O2', 'T8-P8', 'C4-P4', 'T7-FT9', 'C3-P3', 'FZ-CZ', 'F7-T7', 'FP2-F4', 'FT9-FT10', 'FP2-F8', 'FP1-F7', 'P3-O1', 'P7-T7', 'FT10-T8', 'F4-C4'], 'Start Time': '12:50:38', 'End Time': '13:50:38', 'Seizures Window': []}, 'chb02_19': {'Channels': ['P8-O2', 'T7-P7', 'FP1-F3', 'P7-O1', 'F3-C3', 'CZ-PZ', 'F8-T8', 'P4-O2', 'T8-P8', 'C4-P4', 'T7-FT9', 'C3-P3', 'FZ-CZ', 'F7-T7', 'FP2-F4', 'FT9-FT10', 'FP2-F8', 'FP1-F7', 'P3-O1', 'P7-T7', 'FT10-T8', 'F4-C4'], 'Start Time': '13:50:45', 'End Time': '14:50:45', 'Seizures Window': [3369, 3378]}, 'chb02_20': {'Channels': ['P8-O2', 'T7-P7', 'FP1-F3', 'P7-O1', 'F3-C3', 'CZ-PZ', 'F8-T8', 'P4-O2', 'T8-P8', 'C4-P4', 'T7-FT9', 'C3-P3', 'FZ-CZ', 'F7-T7', 'FP2-F4', 'FT9-FT10', 'FP2-F8', 'FP1-F7', 'P3-O1', 'P7-T7', 'FT10-T8', 'F4-C4'], 'Start Time': '14:50:53', 'End Time': '15:50:53', 'Seizures Window': []}, 'chb02_21': {'Channels': ['P8-O2', 'T7-P7', 'FP1-F3', 'P7-O1', 'F3-C3', 'CZ-PZ', 'F8-T8', 'P4-O2', 'T8-P8', 'C4-P4', 'T7-FT9', 'C3-P3', 'FZ-CZ', 'F7-T7', 'FP2-F4', 'FT9-FT10', 'FP2-F8', 'FP1-F7', 'P3-O1', 'P7-T7', 'FT10-T8', 'F4-C4'], 'Start Time': '15:51:00', 'End Time': '16:51:00', 'Seizures Window': []}, 'chb02_22': {'Channels': ['P8-O2', 'T7-P7', 'FP1-F3', 'P7-O1', 'F3-C3', 'CZ-PZ', 'F8-T8', 'P4-O2', 'T8-P8', 'C4-P4', 'T7-FT9', 'C3-P3', 'FZ-CZ', 'F7-T7', 'FP2-F4', 'FT9-FT10', 'FP2-F8', 'FP1-F7', 'P3-O1', 'P7-T7', 'FT10-T8', 'F4-C4'], 'Start Time': '16:51:08', 'End Time': '17:51:08', 'Seizures Window': []}, 'chb02_23': {'Channels': ['P8-O2', 'T7-P7', 'FP1-F3', 'P7-O1', 'F3-C3', 'CZ-PZ', 'F8-T8', 'P4-O2', 'T8-P8', 'C4-P4', 'T7-FT9', 'C3-P3', 'FZ-CZ', 'F7-T7', 'FP2-F4', 'FT9-FT10', 'FP2-F8', 'FP1-F7', 'P3-O1', 'P7-T7', 'FT10-T8', 'F4-C4'], 'Start Time': '19:02:27', 'End Time': '20:02:27', 'Seizures Window': []}, 'chb02_24': {'Channels': ['P8-O2', 'T7-P7', 'FP1-F3', 'P7-O1', 'F3-C3', 'CZ-PZ', 'F8-T8', 'P4-O2', 'T8-P8', 'C4-P4', 'T7-FT9', 'C3-P3', 'FZ-CZ', 'F7-T7', 'FP2-F4', 'FT9-FT10', 'FP2-F8', 'FP1-F7', 'P3-O1', 'P7-T7', 'FT10-T8', 'F4-C4'], 'Start Time': '20:02:40', 'End Time': '21:02:40', 'Seizures Window': []}, 'chb02_25': {'Channels': ['P8-O2', 'T7-P7', 'FP1-F3', 'P7-O1', 'F3-C3', 'CZ-PZ', 'F8-T8', 'P4-O2', 'T8-P8', 'C4-P4', 'T7-FT9', 'C3-P3', 'FZ-CZ', 'F7-T7', 'FP2-F4', 'FT9-FT10', 'FP2-F8', 'FP1-F7', 'P3-O1', 'P7-T7', 'FT10-T8', 'F4-C4'], 'Start Time': '21:02:48', 'End Time': '22:02:48', 'Seizures Window': []}, 'chb02_26': {'Channels': ['P8-O2', 'T7-P7', 'FP1-F3', 'P7-O1', 'F3-C3', 'CZ-PZ', 'F8-T8', 'P4-O2', 'T8-P8', 'C4-P4', 'T7-FT9', 'C3-P3', 'FZ-CZ', 'F7-T7', 'FP2-F4', 'FT9-FT10', 'FP2-F8', 'FP1-F7', 'P3-O1', 'P7-T7', 'FT10-T8', 'F4-C4'], 'Start Time': '22:02:55', 'End Time': '23:02:55', 'Seizures Window': []}, 'chb02_27': {'Channels': ['P8-O2', 'T7-P7', 'FP1-F3', 'P7-O1', 'F3-C3', 'CZ-PZ', 'F8-T8', 'P4-O2', 'T8-P8', 'C4-P4', 'T7-FT9', 'C3-P3', 'FZ-CZ', 'F7-T7', 'FP2-F4', 'FT9-FT10', 'FP2-F8', 'FP1-F7', 'P3-O1', 'P7-T7', 'FT10-T8', 'F4-C4'], 'Start Time': '23:03:03', 'End Time': '24:03:03', 'Seizures Window': []}, 'chb02_28': {'Channels': ['P8-O2', 'T7-P7', 'FP1-F3', 'P7-O1', 'F3-C3', 'CZ-PZ', 'F8-T8', 'P4-O2', 'T8-P8', 'C4-P4', 'T7-FT9', 'C3-P3', 'FZ-CZ', 'F7-T7', 'FP2-F4', 'FT9-FT10', 'FP2-F8', 'FP1-F7', 'P3-O1', 'P7-T7', 'FT10-T8', 'F4-C4'], 'Start Time': '00:03:10', 'End Time': '1:03:10', 'Seizures Window': []}, 'chb02_29': {'Channels': ['P8-O2', 'T7-P7', 'FP1-F3', 'P7-O1', 'F3-C3', 'CZ-PZ', 'F8-T8', 'P4-O2', 'T8-P8', 'C4-P4', 'T7-FT9', 'C3-P3', 'FZ-CZ', 'F7-T7', 'FP2-F4', 'FT9-FT10', 'FP2-F8', 'FP1-F7', 'P3-O1', 'P7-T7', 'FT10-T8', 'F4-C4'], 'Start Time': '01:03:18', 'End Time': '2:03:18', 'Seizures Window': []}, 'chb02_30': {'Channels': ['P8-O2', 'T7-P7', 'FP1-F3', 'P7-O1', 'F3-C3', 'CZ-PZ', 'F8-T8', 'P4-O2', 'T8-P8', 'C4-P4', 'T7-FT9', 'C3-P3', 'FZ-CZ', 'F7-T7', 'FP2-F4', 'FT9-FT10', 'FP2-F8', 'FP1-F7', 'P3-O1', 'P7-T7', 'FT10-T8', 'F4-C4'], 'Start Time': '02:03:25', 'End Time': '3:03:25', 'Seizures Window': []}, 'chb02_31': {'Channels': ['P8-O2', 'T7-P7', 'FP1-F3', 'P7-O1', 'F3-C3', 'CZ-PZ', 'F8-T8', 'P4-O2', 'T8-P8', 'C4-P4', 'T7-FT9', 'C3-P3', 'FZ-CZ', 'F7-T7', 'FP2-F4', 'FT9-FT10', 'FP2-F8', 'FP1-F7', 'P3-O1', 'P7-T7', 'FT10-T8', 'F4-C4'], 'Start Time': '03:03:33', 'End Time': '4:03:33', 'Seizures Window': []}, 'chb02_32': {'Channels': ['P8-O2', 'T7-P7', 'FP1-F3', 'P7-O1', 'F3-C3', 'CZ-PZ', 'F8-T8', 'P4-O2', 'T8-P8', 'C4-P4', 'T7-FT9', 'C3-P3', 'FZ-CZ', 'F7-T7', 'FP2-F4', 'FT9-FT10', 'FP2-F8', 'FP1-F7', 'P3-O1', 'P7-T7', 'FT10-T8', 'F4-C4'], 'Start Time': '04:03:40', 'End Time': '5:03:40', 'Seizures Window': []}, 'chb02_33': {'Channels': ['P8-O2', 'T7-P7', 'FP1-F3', 'P7-O1', 'F3-C3', 'CZ-PZ', 'F8-T8', 'P4-O2', 'T8-P8', 'C4-P4', 'T7-FT9', 'C3-P3', 'FZ-CZ', 'F7-T7', 'FP2-F4', 'FT9-FT10', 'FP2-F8', 'FP1-F7', 'P3-O1', 'P7-T7', 'FT10-T8', 'F4-C4'], 'Start Time': '05:03:47', 'End Time': '6:03:47', 'Seizures Window': []}, 'chb02_34': {'Channels': ['P8-O2', 'T7-P7', 'FP1-F3', 'P7-O1', 'F3-C3', 'CZ-PZ', 'F8-T8', 'P4-O2', 'T8-P8', 'C4-P4', 'T7-FT9', 'C3-P3', 'FZ-CZ', 'F7-T7', 'FP2-F4', 'FT9-FT10', 'FP2-F8', 'FP1-F7', 'P3-O1', 'P7-T7', 'FT10-T8', 'F4-C4'], 'Start Time': '06:03:55', 'End Time': '7:03:55', 'Seizures Window': []}, 'chb02_35': {'Channels': ['P8-O2', 'T7-P7', 'FP1-F3', 'P7-O1', 'F3-C3', 'CZ-PZ', 'F8-T8', 'P4-O2', 'T8-P8', 'C4-P4', 'T7-FT9', 'C3-P3', 'FZ-CZ', 'F7-T7', 'FP2-F4', 'FT9-FT10', 'FP2-F8', 'FP1-F7', 'P3-O1', 'P7-T7', 'FT10-T8', 'F4-C4'], 'Start Time': '07:04:02', 'End Time': '8:04:02', 'Seizures Window': []}, 'chb03_01': {'Channels': ['P8-O2', 'T7-P7', 'FP1-F3', 'P7-O1', 'F3-C3', 'CZ-PZ', 'F8-T8', 'P4-O2', 'T8-P8', 'C4-P4', 'T7-FT9', 'C3-P3', 'FZ-CZ', 'F7-T7', 'FP2-F4', 'FT9-FT10', 'FP2-F8', 'FP1-F7', 'P3-O1', 'P7-T7', 'FT10-T8', 'F4-C4'], 'Start Time': '13:23:36', 'End Time': '14:23:36', 'Seizures Window': [362, 414]}, 'chb03_02': {'Channels': ['P8-O2', 'T7-P7', 'FP1-F3', 'P7-O1', 'F3-C3', 'CZ-PZ', 'F8-T8', 'P4-O2', 'T8-P8', 'C4-P4', 'T7-FT9', 'C3-P3', 'FZ-CZ', 'F7-T7', 'FP2-F4', 'FT9-FT10', 'FP2-F8', 'FP1-F7', 'P3-O1', 'P7-T7', 'FT10-T8', 'F4-C4'], 'Start Time': '14:23:39', 'End Time': '15:23:39', 'Seizures Window': [731, 796]}, 'chb03_03': {'Channels': ['P8-O2', 'T7-P7', 'FP1-F3', 'P7-O1', 'F3-C3', 'CZ-PZ', 'F8-T8', 'P4-O2', 'T8-P8', 'C4-P4', 'T7-FT9', 'C3-P3', 'FZ-CZ', 'F7-T7', 'FP2-F4', 'FT9-FT10', 'FP2-F8', 'FP1-F7', 'P3-O1', 'P7-T7', 'FT10-T8', 'F4-C4'], 'Start Time': '15:23:47', 'End Time': '16:23:47', 'Seizures Window': [432, 501]}, 'chb03_04': {'Channels': ['P8-O2', 'T7-P7', 'FP1-F3', 'P7-O1', 'F3-C3', 'CZ-PZ', 'F8-T8', 'P4-O2', 'T8-P8', 'C4-P4', 'T7-FT9', 'C3-P3', 'FZ-CZ', 'F7-T7', 'FP2-F4', 'FT9-FT10', 'FP2-F8', 'FP1-F7', 'P3-O1', 'P7-T7', 'FT10-T8', 'F4-C4'], 'Start Time': '16:23:54', 'End Time': '17:23:54', 'Seizures Window': [2162, 2214]}, 'chb03_05': {'Channels': ['P8-O2', 'T7-P7', 'FP1-F3', 'P7-O1', 'F3-C3', 'CZ-PZ', 'F8-T8', 'P4-O2', 'T8-P8', 'C4-P4', 'T7-FT9', 'C3-P3', 'FZ-CZ', 'F7-T7', 'FP2-F4', 'FT9-FT10', 'FP2-F8', 'FP1-F7', 'P3-O1', 'P7-T7', 'FT10-T8', 'F4-C4'], 'Start Time': '17:24:01', 'End Time': '18:24:01', 'Seizures Window': []}, 'chb03_06': {'Channels': ['P8-O2', 'T7-P7', 'FP1-F3', 'P7-O1', 'F3-C3', 'CZ-PZ', 'F8-T8', 'P4-O2', 'T8-P8', 'C4-P4', 'T7-FT9', 'C3-P3', 'FZ-CZ', 'F7-T7', 'FP2-F4', 'FT9-FT10', 'FP2-F8', 'FP1-F7', 'P3-O1', 'P7-T7', 'FT10-T8', 'F4-C4'], 'Start Time': '18:24:08', 'End Time': '19:24:08', 'Seizures Window': []}, 'chb03_07': {'Channels': ['P8-O2', 'T7-P7', 'FP1-F3', 'P7-O1', 'F3-C3', 'CZ-PZ', 'F8-T8', 'P4-O2', 'T8-P8', 'C4-P4', 'T7-FT9', 'C3-P3', 'FZ-CZ', 'F7-T7', 'FP2-F4', 'FT9-FT10', 'FP2-F8', 'FP1-F7', 'P3-O1', 'P7-T7', 'FT10-T8', 'F4-C4'], 'Start Time': '19:24:15', 'End Time': '20:24:15', 'Seizures Window': []}, 'chb03_08': {'Channels': ['P8-O2', 'T7-P7', 'FP1-F3', 'P7-O1', 'F3-C3', 'CZ-PZ', 'F8-T8', 'P4-O2', 'T8-P8', 'C4-P4', 'T7-FT9', 'C3-P3', 'FZ-CZ', 'F7-T7', 'FP2-F4', 'FT9-FT10', 'FP2-F8', 'FP1-F7', 'P3-O1', 'P7-T7', 'FT10-T8', 'F4-C4'], 'Start Time': '20:24:22', 'End Time': '21:24:22', 'Seizures Window': []}, 'chb03_09': {'Channels': ['P8-O2', 'T7-P7', 'FP1-F3', 'P7-O1', 'F3-C3', 'CZ-PZ', 'F8-T8', 'P4-O2', 'T8-P8', 'C4-P4', 'T7-FT9', 'C3-P3', 'FZ-CZ', 'F7-T7', 'FP2-F4', 'FT9-FT10', 'FP2-F8', 'FP1-F7', 'P3-O1', 'P7-T7', 'FT10-T8', 'F4-C4'], 'Start Time': '21:24:30', 'End Time': '22:24:30', 'Seizures Window': []}, 'chb03_10': {'Channels': ['P8-O2', 'T7-P7', 'FP1-F3', 'P7-O1', 'F3-C3', 'CZ-PZ', 'F8-T8', 'P4-O2', 'T8-P8', 'C4-P4', 'T7-FT9', 'C3-P3', 'FZ-CZ', 'F7-T7', 'FP2-F4', 'FT9-FT10', 'FP2-F8', 'FP1-F7', 'P3-O1', 'P7-T7', 'FT10-T8', 'F4-C4'], 'Start Time': '22:24:37', 'End Time': '23:24:37', 'Seizures Window': []}, 'chb03_11': {'Channels': ['P8-O2', 'T7-P7', 'FP1-F3', 'P7-O1', 'F3-C3', 'CZ-PZ', 'F8-T8', 'P4-O2', 'T8-P8', 'C4-P4', 'T7-FT9', 'C3-P3', 'FZ-CZ', 'F7-T7', 'FP2-F4', 'FT9-FT10', 'FP2-F8', 'FP1-F7', 'P3-O1', 'P7-T7', 'FT10-T8', 'F4-C4'], 'Start Time': '23:24:44', 'End Time': '24:24:44', 'Seizures Window': []}, 'chb03_12': {'Channels': ['P8-O2', 'T7-P7', 'FP1-F3', 'P7-O1', 'F3-C3', 'CZ-PZ', 'F8-T8', 'P4-O2', 'T8-P8', 'C4-P4', 'T7-FT9', 'C3-P3', 'FZ-CZ', 'F7-T7', 'FP2-F4', 'FT9-FT10', 'FP2-F8', 'FP1-F7', 'P3-O1', 'P7-T7', 'FT10-T8', 'F4-C4'], 'Start Time': '00:24:51', 'End Time': '1:24:51', 'Seizures Window': []}, 'chb03_13': {'Channels': ['P8-O2', 'T7-P7', 'FP1-F3', 'P7-O1', 'F3-C3', 'CZ-PZ', 'F8-T8', 'P4-O2', 'T8-P8', 'C4-P4', 'T7-FT9', 'C3-P3', 'FZ-CZ', 'F7-T7', 'FP2-F4', 'FT9-FT10', 'FP2-F8', 'FP1-F7', 'P3-O1', 'P7-T7', 'FT10-T8', 'F4-C4'], 'Start Time': '01:24:59', 'End Time': '2:24:59', 'Seizures Window': []}, 'chb03_14': {'Channels': ['P8-O2', 'T7-P7', 'FP1-F3', 'P7-O1', 'F3-C3', 'CZ-PZ', 'F8-T8', 'P4-O2', 'T8-P8', 'C4-P4', 'T7-FT9', 'C3-P3', 'FZ-CZ', 'F7-T7', 'FP2-F4', 'FT9-FT10', 'FP2-F8', 'FP1-F7', 'P3-O1', 'P7-T7', 'FT10-T8', 'F4-C4'], 'Start Time': '02:25:06', 'End Time': '3:25:06', 'Seizures Window': []}, 'chb03_15': {'Channels': ['P8-O2', 'T7-P7', 'FP1-F3', 'P7-O1', 'F3-C3', 'CZ-PZ', 'F8-T8', 'P4-O2', 'T8-P8', 'C4-P4', 'T7-FT9', 'C3-P3', 'FZ-CZ', 'F7-T7', 'FP2-F4', 'FT9-FT10', 'FP2-F8', 'FP1-F7', 'P3-O1', 'P7-T7', 'FT10-T8', 'F4-C4'], 'Start Time': '03:25:13', 'End Time': '4:25:13', 'Seizures Window': []}, 'chb03_16': {'Channels': ['P8-O2', 'T7-P7', 'FP1-F3', 'P7-O1', 'F3-C3', 'CZ-PZ', 'F8-T8', 'P4-O2', 'T8-P8', 'C4-P4', 'T7-FT9', 'C3-P3', 'FZ-CZ', 'F7-T7', 'FP2-F4', 'FT9-FT10', 'FP2-F8', 'FP1-F7', 'P3-O1', 'P7-T7', 'FT10-T8', 'F4-C4'], 'Start Time': '04:25:20', 'End Time': '5:25:20', 'Seizures Window': []}, 'chb03_17': {'Channels': ['P8-O2', 'T7-P7', 'FP1-F3', 'P7-O1', 'F3-C3', 'CZ-PZ', 'F8-T8', 'P4-O2', 'T8-P8', 'C4-P4', 'T7-FT9', 'C3-P3', 'FZ-CZ', 'F7-T7', 'FP2-F4', 'FT9-FT10', 'FP2-F8', 'FP1-F7', 'P3-O1', 'P7-T7', 'FT10-T8', 'F4-C4'], 'Start Time': '05:25:27', 'End Time': '6:25:27', 'Seizures Window': []}, 'chb03_18': {'Channels': ['P8-O2', 'T7-P7', 'FP1-F3', 'P7-O1', 'F3-C3', 'CZ-PZ', 'F8-T8', 'P4-O2', 'T8-P8', 'C4-P4', 'T7-FT9', 'C3-P3', 'FZ-CZ', 'F7-T7', 'FP2-F4', 'FT9-FT10', 'FP2-F8', 'FP1-F7', 'P3-O1', 'P7-T7', 'FT10-T8', 'F4-C4'], 'Start Time': '06:25:34', 'End Time': '7:25:34', 'Seizures Window': []}, 'chb03_19': {'Channels': ['P8-O2', 'T7-P7', 'FP1-F3', 'P7-O1', 'F3-C3', 'CZ-PZ', 'F8-T8', 'P4-O2', 'T8-P8', 'C4-P4', 'T7-FT9', 'C3-P3', 'FZ-CZ', 'F7-T7', 'FP2-F4', 'FT9-FT10', 'FP2-F8', 'FP1-F7', 'P3-O1', 'P7-T7', 'FT10-T8', 'F4-C4'], 'Start Time': '07:25:42', 'End Time': '8:25:42', 'Seizures Window': []}, 'chb03_20': {'Channels': ['P8-O2', 'T7-P7', 'FP1-F3', 'P7-O1', 'F3-C3', 'CZ-PZ', 'F8-T8', 'P4-O2', 'T8-P8', 'C4-P4', 'T7-FT9', 'C3-P3', 'FZ-CZ', 'F7-T7', 'FP2-F4', 'FT9-FT10', 'FP2-F8', 'FP1-F7', 'P3-O1', 'P7-T7', 'FT10-T8', 'F4-C4'], 'Start Time': '08:25:51', 'End Time': '9:25:57', 'Seizures Window': []}, 'chb03_21': {'Channels': ['P8-O2', 'T7-P7', 'FP1-F3', 'P7-O1', 'F3-C3', 'CZ-PZ', 'F8-T8', 'P4-O2', 'T8-P8', 'C4-P4', 'T7-FT9', 'C3-P3', 'FZ-CZ', 'F7-T7', 'FP2-F4', 'FT9-FT10', 'FP2-F8', 'FP1-F7', 'P3-O1', 'P7-T7', 'FT10-T8', 'F4-C4'], 'Start Time': '12:38:31', 'End Time': '13:38:31', 'Seizures Window': []}, 'chb03_22': {'Channels': ['P8-O2', 'T7-P7', 'FP1-F3', 'P7-O1', 'F3-C3', 'CZ-PZ', 'F8-T8', 'P4-O2', 'T8-P8', 'C4-P4', 'T7-FT9', 'C3-P3', 'FZ-CZ', 'F7-T7', 'FP2-F4', 'FT9-FT10', 'FP2-F8', 'FP1-F7', 'P3-O1', 'P7-T7', 'FT10-T8', 'F4-C4'], 'Start Time': '13:38:38', 'End Time': '14:38:38', 'Seizures Window': []}, 'chb03_23': {'Channels': ['P8-O2', 'T7-P7', 'FP1-F3', 'P7-O1', 'F3-C3', 'CZ-PZ', 'F8-T8', 'P4-O2', 'T8-P8', 'C4-P4', 'T7-FT9', 'C3-P3', 'FZ-CZ', 'F7-T7', 'FP2-F4', 'FT9-FT10', 'FP2-F8', 'FP1-F7', 'P3-O1', 'P7-T7', 'FT10-T8', 'F4-C4'], 'Start Time': '14:38:45', 'End Time': '15:38:45', 'Seizures Window': []}, 'chb03_24': {'Channels': ['P8-O2', 'T7-P7', 'FP1-F3', 'P7-O1', 'F3-C3', 'CZ-PZ', 'F8-T8', 'P4-O2', 'T8-P8', 'C4-P4', 'T7-FT9', 'C3-P3', 'FZ-CZ', 'F7-T7', 'FP2-F4', 'FT9-FT10', 'FP2-F8', 'FP1-F7', 'P3-O1', 'P7-T7', 'FT10-T8', 'F4-C4'], 'Start Time': '16:39:05', 'End Time': '17:39:05', 'Seizures Window': []}, 'chb03_25': {'Channels': ['P8-O2', 'T7-P7', 'FP1-F3', 'P7-O1', 'F3-C3', 'CZ-PZ', 'F8-T8', 'P4-O2', 'T8-P8', 'C4-P4', 'T7-FT9', 'C3-P3', 'FZ-CZ', 'F7-T7', 'FP2-F4', 'FT9-FT10', 'FP2-F8', 'FP1-F7', 'P3-O1', 'P7-T7', 'FT10-T8', 'F4-C4'], 'Start Time': '15:38:57', 'End Time': '16:38:57', 'Seizures Window': []}, 'chb03_26': {'Channels': ['P8-O2', 'T7-P7', 'FP1-F3', 'P7-O1', 'F3-C3', 'CZ-PZ', 'F8-T8', 'P4-O2', 'T8-P8', 'C4-P4', 'T7-FT9', 'C3-P3', 'FZ-CZ', 'F7-T7', 'FP2-F4', 'FT9-FT10', 'FP2-F8', 'FP1-F7', 'P3-O1', 'P7-T7', 'FT10-T8', 'F4-C4'], 'Start Time': '17:39:12', 'End Time': '18:39:12', 'Seizures Window': []}, 'chb03_27': {'Channels': ['P8-O2', 'T7-P7', 'FP1-F3', 'P7-O1', 'F3-C3', 'CZ-PZ', 'F8-T8', 'P4-O2', 'T8-P8', 'C4-P4', 'T7-FT9', 'C3-P3', 'FZ-CZ', 'F7-T7', 'FP2-F4', 'FT9-FT10', 'FP2-F8', 'FP1-F7', 'P3-O1', 'P7-T7', 'FT10-T8', 'F4-C4'], 'Start Time': '18:39:20', 'End Time': '19:39:20', 'Seizures Window': []}, 'chb03_28': {'Channels': ['P8-O2', 'T7-P7', 'FP1-F3', 'P7-O1', 'F3-C3', 'CZ-PZ', 'F8-T8', 'P4-O2', 'T8-P8', 'C4-P4', 'T7-FT9', 'C3-P3', 'FZ-CZ', 'F7-T7', 'FP2-F4', 'FT9-FT10', 'FP2-F8', 'FP1-F7', 'P3-O1', 'P7-T7', 'FT10-T8', 'F4-C4'], 'Start Time': '19:39:27', 'End Time': '20:39:27', 'Seizures Window': []}, 'chb03_29': {'Channels': ['P8-O2', 'T7-P7', 'FP1-F3', 'P7-O1', 'F3-C3', 'CZ-PZ', 'F8-T8', 'P4-O2', 'T8-P8', 'C4-P4', 'T7-FT9', 'C3-P3', 'FZ-CZ', 'F7-T7', 'FP2-F4', 'FT9-FT10', 'FP2-F8', 'FP1-F7', 'P3-O1', 'P7-T7', 'FT10-T8', 'F4-C4'], 'Start Time': '20:39:34', 'End Time': '21:39:34', 'Seizures Window': []}, 'chb03_30': {'Channels': ['P8-O2', 'T7-P7', 'FP1-F3', 'P7-O1', 'F3-C3', 'CZ-PZ', 'F8-T8', 'P4-O2', 'T8-P8', 'C4-P4', 'T7-FT9', 'C3-P3', 'FZ-CZ', 'F7-T7', 'FP2-F4', 'FT9-FT10', 'FP2-F8', 'FP1-F7', 'P3-O1', 'P7-T7', 'FT10-T8', 'F4-C4'], 'Start Time': '21:39:42', 'End Time': '22:39:42', 'Seizures Window': []}, 'chb03_31': {'Channels': ['P8-O2', 'T7-P7', 'FP1-F3', 'P7-O1', 'F3-C3', 'CZ-PZ', 'F8-T8', 'P4-O2', 'T8-P8', 'C4-P4', 'T7-FT9', 'C3-P3', 'FZ-CZ', 'F7-T7', 'FP2-F4', 'FT9-FT10', 'FP2-F8', 'FP1-F7', 'P3-O1', 'P7-T7', 'FT10-T8', 'F4-C4'], 'Start Time': '16:50:17', 'End Time': '17:50:17', 'Seizures Window': []}, 'chb03_32': {'Channels': ['P8-O2', 'T7-P7', 'FP1-F3', 'P7-O1', 'F3-C3', 'CZ-PZ', 'F8-T8', 'P4-O2', 'T8-P8', 'C4-P4', 'T7-FT9', 'C3-P3', 'FZ-CZ', 'F7-T7', 'FP2-F4', 'FT9-FT10', 'FP2-F8', 'FP1-F7', 'P3-O1', 'P7-T7', 'FT10-T8', 'F4-C4'], 'Start Time': '17:50:25', 'End Time': '18:50:25', 'Seizures Window': []}, 'chb03_33': {'Channels': ['P8-O2', 'T7-P7', 'FP1-F3', 'P7-O1', 'F3-C3', 'CZ-PZ', 'F8-T8', 'P4-O2', 'T8-P8', 'C4-P4', 'T7-FT9', 'C3-P3', 'FZ-CZ', 'F7-T7', 'FP2-F4', 'FT9-FT10', 'FP2-F8', 'FP1-F7', 'P3-O1', 'P7-T7', 'FT10-T8', 'F4-C4'], 'Start Time': '18:50:32', 'End Time': '19:50:32', 'Seizures Window': []}, 'chb03_34': {'Channels': ['P8-O2', 'T7-P7', 'FP1-F3', 'P7-O1', 'F3-C3', 'CZ-PZ', 'F8-T8', 'P4-O2', 'T8-P8', 'C4-P4', 'T7-FT9', 'C3-P3', 'FZ-CZ', 'F7-T7', 'FP2-F4', 'FT9-FT10', 'FP2-F8', 'FP1-F7', 'P3-O1', 'P7-T7', 'FT10-T8', 'F4-C4'], 'Start Time': '01:51:23', 'End Time': '2:51:23', 'Seizures Window': [1982, 2029]}, 'chb03_35': {'Channels': ['P8-O2', 'T7-P7', 'FP1-F3', 'P7-O1', 'F3-C3', 'CZ-PZ', 'F8-T8', 'P4-O2', 'T8-P8', 'C4-P4', 'T7-FT9', 'C3-P3', 'FZ-CZ', 'F7-T7', 'FP2-F4', 'FT9-FT10', 'FP2-F8', 'FP1-F7', 'P3-O1', 'P7-T7', 'FT10-T8', 'F4-C4'], 'Start Time': '02:51:30', 'End Time': '3:51:30', 'Seizures Window': [2592, 2656]}, 'chb03_36': {'Channels': ['P8-O2', 'T7-P7', 'FP1-F3', 'P7-O1', 'F3-C3', 'CZ-PZ', 'F8-T8', 'P4-O2', 'T8-P8', 'C4-P4', 'T7-FT9', 'C3-P3', 'FZ-CZ', 'F7-T7', 'FP2-F4', 'FT9-FT10', 'FP2-F8', 'FP1-F7', 'P3-O1', 'P7-T7', 'FT10-T8', 'F4-C4'], 'Start Time': '04:51:45', 'End Time': '5:51:45', 'Seizures Window': [1725, 1778]}, 'chb03_37': {'Channels': ['P8-O2', 'T7-P7', 'FP1-F3', 'P7-O1', 'F3-C3', 'CZ-PZ', 'F8-T8', 'P4-O2', 'T8-P8', 'C4-P4', 'T7-FT9', 'C3-P3', 'FZ-CZ', 'F7-T7', 'FP2-F4', 'FT9-FT10', 'FP2-F8', 'FP1-F7', 'P3-O1', 'P7-T7', 'FT10-T8', 'F4-C4'], 'Start Time': '21:15:28', 'End Time': '22:15:28', 'Seizures Window': []}, 'chb03_38': {'Channels': ['P8-O2', 'T7-P7', 'FP1-F3', 'P7-O1', 'F3-C3', 'CZ-PZ', 'F8-T8', 'P4-O2', 'T8-P8', 'C4-P4', 'T7-FT9', 'C3-P3', 'FZ-CZ', 'F7-T7', 'FP2-F4', 'FT9-FT10', 'FP2-F8', 'FP1-F7', 'P3-O1', 'P7-T7', 'FT10-T8', 'F4-C4'], 'Start Time': '22:15:35', 'End Time': '23:15:35', 'Seizures Window': []}, 'chb04_01': {'Channels': ['P8-O2', 'T7-P7', 'FP1-F3', 'P7-O1', 'F3-C3', 'CZ-PZ', 'F8-T8', 'P4-O2', 'T8-P8', 'C4-P4', 'T7-FT9', 'C3-P3', 'FZ-CZ', 'F7-T7', 'FP2-F4', 'FT9-FT10', 'FP2-F8', 'FP1-F7', 'P3-O1', 'P7-T7', 'FT10-T8', 'F4-C4'], 'Start Time': '18:01:25', 'End Time': '22:01:23', 'Seizures Window': []}, 'chb04_02': {'Channels': ['P8-O2', 'T7-P7', 'FP1-F3', 'P7-O1', 'F3-C3', 'CZ-PZ', 'F8-T8', 'P4-O2', 'T8-P8', 'C4-P4', 'T7-FT9', 'C3-P3', 'FZ-CZ', 'F7-T7', 'FP2-F4', 'FT9-FT10', 'FP2-F8', 'FP1-F7', 'P3-O1', 'P7-T7', 'FT10-T8', 'F4-C4'], 'Start Time': '22:02:15', 'End Time': '26:02:15', 'Seizures Window': []}, 'chb04_03': {'Channels': ['P8-O2', 'T7-P7', 'FP1-F3', 'P7-O1', 'F3-C3', 'CZ-PZ', 'F8-T8', 'P4-O2', 'T8-P8', 'C4-P4', 'T7-FT9', 'C3-P3', 'FZ-CZ', 'F7-T7', 'FP2-F4', 'FT9-FT10', 'FP2-F8', 'FP1-F7', 'P3-O1', 'P7-T7', 'FT10-T8', 'F4-C4'], 'Start Time': '02:02:23', 'End Time': '6:02:23', 'Seizures Window': []}, 'chb04_04': {'Channels': ['P8-O2', 'T7-P7', 'FP1-F3', 'P7-O1', 'F3-C3', 'CZ-PZ', 'F8-T8', 'P4-O2', 'T8-P8', 'C4-P4', 'T7-FT9', 'C3-P3', 'FZ-CZ', 'F7-T7', 'FP2-F4', 'FT9-FT10', 'FP2-F8', 'FP1-F7', 'P3-O1', 'P7-T7', 'FT10-T8', 'F4-C4'], 'Start Time': '06:02:30', 'End Time': '10:02:30', 'Seizures Window': []}, 'chb04_05': {'Channels': ['P8-O2', 'T7-P7', 'FP1-F3', 'P7-O1', 'F3-C3', 'CZ-PZ', 'F8-T8', 'P4-O2', 'T8-P8', 'C4-P4', 'T7-FT9', 'C3-P3', 'FZ-CZ', 'F7-T7', 'FP2-F4', 'FT9-FT10', 'FP2-F8', 'FP1-F7', 'P3-O1', 'P7-T7', 'FT10-T8', 'F4-C4'], 'Start Time': '10:02:37', 'End Time': '12:41:33', 'Seizures Window': [7804, 7853]}, 'chb04_06': {'Channels': ['P8-O2', 'T7-P7', 'FP1-F3', 'P7-O1', 'F3-C3', 'CZ-PZ', 'F8-T8', 'P4-O2', 'T8-P8', 'C4-P4', 'T7-FT9', 'C3-P3', 'FZ-CZ', 'F7-T7', 'FP2-F4', 'FT9-FT10', 'FP2-F8', 'FP1-F7', 'P3-O1', 'P7-T7', 'FT10-T8', 'F4-C4'], 'Start Time': '12:45:50', 'End Time': '16:45:50', 'Seizures Window': []}, 'chb04_07': {'Channels': ['P8-O2', 'T7-P7', 'FP1-F3', 'P7-O1', 'F3-C3', 'CZ-PZ', 'F8-T8', 'P4-O2', 'T8-P8', 'C4-P4', 'T7-FT9', 'C3-P3', 'FZ-CZ', 'F7-T7', 'FP2-F4', 'ECG', 'FT9-FT10', 'FP2-F8', 'FP1-F7', 'P3-O1', 'P7-T7', 'FT10-T8', 'F4-C4'], 'Start Time': '16:45:53', 'End Time': '18:50:49', 'Seizures Window': []}, 'chb04_08': {'Channels': ['P8-O2', 'T7-P7', 'FP1-F3', 'P7-O1', 'F3-C3', 'CZ-PZ', 'F8-T8', 'P4-O2', 'T8-P8', 'C4-P4', 'T7-FT9', 'C3-P3', 'FZ-CZ', 'F7-T7', 'FP2-F4', 'ECG', 'FT9-FT10', 'FP2-F8', 'FP1-F7', 'P3-O1', 'P7-T7', 'FT10-T8', 'F4-C4'], 'Start Time': '18:53:30', 'End Time': '22:53:30', 'Seizures Window': [6446, 6557]}, 'chb04_09': {'Channels': ['P8-O2', 'T7-P7', 'FP1-F3', 'P7-O1', 'F3-C3', 'CZ-PZ', 'F8-T8', 'P4-O2', 'T8-P8', 'C4-P4', 'T7-FT9', 'C3-P3', 'FZ-CZ', 'F7-T7', 'FP2-F4', 'ECG', 'FT9-FT10', 'FP2-F8', 'FP1-F7', 'P3-O1', 'P7-T7', 'FT10-T8', 'F4-C4'], 'Start Time': '22:53:33', 'End Time': '26:53:33', 'Seizures Window': []}, 'chb04_10': {'Channels': ['P8-O2', 'T7-P7', 'FP1-F3', 'P7-O1', 'F3-C3', 'CZ-PZ', 'F8-T8', 'P4-O2', 'T8-P8', 'C4-P4', 'T7-FT9', 'C3-P3', 'FZ-CZ', 'F7-T7', 'FP2-F4', 'ECG', 'FT9-FT10', 'FP2-F8', 'FP1-F7', 'P3-O1', 'P7-T7', 'FT10-T8', 'F4-C4'], 'Start Time': '02:53:41', 'End Time': '6:53:41', 'Seizures Window': []}, 'chb04_11': {'Channels': ['P8-O2', 'T7-P7', 'FP1-F3', 'P7-O1', 'F3-C3', 'CZ-PZ', 'F8-T8', 'P4-O2', 'T8-P8', 'C4-P4', 'T7-FT9', 'C3-P3', 'FZ-CZ', 'F7-T7', 'FP2-F4', 'ECG', 'FT9-FT10', 'FP2-F8', 'FP1-F7', 'P3-O1', 'P7-T7', 'FT10-T8', 'F4-C4'], 'Start Time': '06:53:48', 'End Time': '8:14:20', 'Seizures Window': []}, 'chb04_12': {'Channels': ['P8-O2', 'T7-P7', 'FP1-F3', 'P7-O1', 'F3-C3', 'CZ-PZ', 'F8-T8', 'P4-O2', 'T8-P8', 'C4-P4', 'T7-FT9', 'C3-P3', 'FZ-CZ', 'F7-T7', 'FP2-F4', 'ECG', 'FT9-FT10', 'FP2-F8', 'FP1-F7', 'P3-O1', 'P7-T7', 'FT10-T8', 'F4-C4'], 'Start Time': '08:16:27', 'End Time': '12:16:47', 'Seizures Window': []}, 'chb04_13': {'Channels': ['P8-O2', 'T7-P7', 'FP1-F3', 'P7-O1', 'F3-C3', 'CZ-PZ', 'F8-T8', 'P4-O2', 'T8-P8', 'C4-P4', 'T7-FT9', 'C3-P3', 'FZ-CZ', 'F7-T7', 'FP2-F4', 'ECG', 'FT9-FT10', 'FP2-F8', 'FP1-F7', 'P3-O1', 'P7-T7', 'FT10-T8', 'F4-C4'], 'Start Time': '12:17:31', 'End Time': '16:17:29', 'Seizures Window': []}, 'chb04_14': {'Channels': ['P8-O2', 'T7-P7', 'FP1-F3', 'P7-O1', 'F3-C3', 'CZ-PZ', 'F8-T8', 'P4-O2', 'T8-P8', 'C4-P4', 'T7-FT9', 'C3-P3', 'FZ-CZ', 'F7-T7', 'FP2-F4', 'ECG', 'FT9-FT10', 'FP2-F8', 'FP1-F7', 'P3-O1', 'P7-T7', 'FT10-T8', 'F4-C4'], 'Start Time': '16:18:02', 'End Time': '20:18:20', 'Seizures Window': []}, 'chb04_15': {'Channels': ['P8-O2', 'T7-P7', 'FP1-F3', 'P7-O1', 'F3-C3', 'CZ-PZ', 'F8-T8', 'P4-O2', 'T8-P8', 'C4-P4', 'T7-FT9', 'C3-P3', 'FZ-CZ', 'F7-T7', 'FP2-F4', 'ECG', 'FT9-FT10', 'FP2-F8', 'FP1-F7', 'P3-O1', 'P7-T7', 'FT10-T8', 'F4-C4'], 'Start Time': '20:19:43', 'End Time': '24:19:43', 'Seizures Window': []}, 'chb04_16': {'Channels': ['P8-O2', 'T7-P7', 'FP1-F3', 'P7-O1', 'F3-C3', 'CZ-PZ', 'F8-T8', 'P4-O2', 'T8-P8', 'C4-P4', 'T7-FT9', 'C3-P3', 'FZ-CZ', 'F7-T7', 'FP2-F4', 'ECG', 'FT9-FT10', 'FP2-F8', 'FP1-F7', 'P3-O1', 'P7-T7', 'FT10-T8', 'F4-C4'], 'Start Time': '00:19:51', 'End Time': '4:19:51', 'Seizures Window': []}, 'chb04_17': {'Channels': ['P8-O2', 'T7-P7', 'FP1-F3', 'P7-O1', 'F3-C3', 'CZ-PZ', 'F8-T8', 'P4-O2', 'T8-P8', 'C4-P4', 'T7-FT9', 'C3-P3', 'FZ-CZ', 'F7-T7', 'FP2-F4', 'ECG', 'FT9-FT10', 'FP2-F8', 'FP1-F7', 'P3-O1', 'P7-T7', 'FT10-T8', 'F4-C4'], 'Start Time': '04:19:59', 'End Time': '8:08:51', 'Seizures Window': []}, 'chb04_18': {'Channels': ['P8-O2', 'T7-P7', 'FP1-F3', 'P7-O1', 'F3-C3', 'CZ-PZ', 'F8-T8', 'P4-O2', 'T8-P8', 'C4-P4', 'T7-FT9', 'C3-P3', 'FZ-CZ', 'F7-T7', 'FP2-F4', 'ECG', 'FT9-FT10', 'FP2-F8', 'FP1-F7', 'P3-O1', 'P7-T7', 'FT10-T8', 'F4-C4'], 'Start Time': '08:11:11', 'End Time': '12:11:36', 'Seizures Window': []}, 'chb04_19': {'Channels': ['P8-O2', 'T7-P7', 'FP1-F3', 'P7-O1', 'F3-C3', 'CZ-PZ', 'F8-T8', 'P4-O2', 'T8-P8', 'C4-P4', 'T7-FT9', 'C3-P3', 'FZ-CZ', 'F7-T7', 'FP2-F4', 'ECG', 'FT9-FT10', 'FP2-F8', 'FP1-F7', 'P3-O1', 'P7-T7', 'FT10-T8', 'F4-C4'], 'Start Time': '12:41:24', 'End Time': '16:41:24', 'Seizures Window': []}, 'chb04_21': {'Channels': ['P8-O2', 'T7-P7', 'FP1-F3', 'P7-O1', 'F3-C3', 'CZ-PZ', 'F8-T8', 'P4-O2', 'T8-P8', 'C4-P4', 'T7-FT9', 'C3-P3', 'FZ-CZ', 'F7-T7', 'FP2-F4', 'ECG', 'FT9-FT10', 'FP2-F8', 'FP1-F7', 'P3-O1', 'P7-T7', 'FT10-T8', 'F4-C4'], 'Start Time': '20:41:40', 'End Time': '24:41:40', 'Seizures Window': []}, 'chb04_22': {'Channels': ['P8-O2', 'T7-P7', 'FP1-F3', 'P7-O1', 'F3-C3', 'CZ-PZ', 'F8-T8', 'P4-O2', 'T8-P8', 'C4-P4', 'T7-FT9', 'C3-P3', 'FZ-CZ', 'F7-T7', 'FP2-F4', 'ECG', 'FT9-FT10', 'FP2-F8', 'FP1-F7', 'P3-O1', 'P7-T7', 'FT10-T8', 'F4-C4'], 'Start Time': '00:41:48', 'End Time': '4:41:48', 'Seizures Window': []}, 'chb04_23': {'Channels': ['P8-O2', 'T7-P7', 'FP1-F3', 'P7-O1', 'F3-C3', 'CZ-PZ', 'F8-T8', 'P4-O2', 'T8-P8', 'C4-P4', 'T7-FT9', 'C3-P3', 'FZ-CZ', 'F7-T7', 'FP2-F4', 'ECG', 'FT9-FT10', 'FP2-F8', 'FP1-F7', 'P3-O1', 'P7-T7', 'FT10-T8', 'F4-C4'], 'Start Time': '04:41:55', 'End Time': '7:39:59', 'Seizures Window': []}, 'chb04_24': {'Channels': ['P8-O2', 'T7-P7', 'FP1-F3', 'P7-O1', 'F3-C3', 'CZ-PZ', 'F8-T8', 'P4-O2', 'T8-P8', 'C4-P4', 'T7-FT9', 'C3-P3', 'FZ-CZ', 'F7-T7', 'FP2-F4', 'ECG', 'FT9-FT10', 'FP2-F8', 'FP1-F7', 'P3-O1', 'P7-T7', 'FT10-T8', 'F4-C4'], 'Start Time': '07:41:42', 'End Time': '11:41:48', 'Seizures Window': []}, 'chb04_25': {'Channels': ['P8-O2', 'T7-P7', 'FP1-F3', 'P7-O1', 'F3-C3', 'CZ-PZ', 'F8-T8', 'P4-O2', 'T8-P8', 'C4-P4', 'T7-FT9', 'C3-P3', 'FZ-CZ', 'F7-T7', 'FP2-F4', 'ECG', 'FT9-FT10', 'FP2-F8', 'FP1-F7', 'P3-O1', 'P7-T7', 'FT10-T8', 'F4-C4'], 'Start Time': '11:46:02', 'End Time': '15:46:02', 'Seizures Window': []}, 'chb04_26': {'Channels': ['P8-O2', 'T7-P7', 'FP1-F3', 'P7-O1', 'F3-C3', 'CZ-PZ', 'F8-T8', 'P4-O2', 'T8-P8', 'C4-P4', 'T7-FT9', 'C3-P3', 'FZ-CZ', 'F7-T7', 'FP2-F4', 'ECG', 'FT9-FT10', 'FP2-F8', 'FP1-F7', 'P3-O1', 'P7-T7', 'FT10-T8', 'F4-C4'], 'Start Time': '15:46:10', 'End Time': '19:46:10', 'Seizures Window': []}, 'chb04_27': {'Channels': ['P8-O2', 'T7-P7', 'FP1-F3', 'P7-O1', 'F3-C3', 'CZ-PZ', 'F8-T8', 'P4-O2', 'T8-P8', 'C4-P4', 'T7-FT9', 'C3-P3', 'FZ-CZ', 'F7-T7', 'FP2-F4', 'ECG', 'FT9-FT10', 'FP2-F8', 'FP1-F7', 'P3-O1', 'P7-T7', 'FT10-T8', 'F4-C4'], 'Start Time': '19:46:17', 'End Time': '23:46:44', 'Seizures Window': []}, 'chb04_28': {'Channels': ['P8-O2', 'T7-P7', 'FP1-F3', 'P7-O1', 'F3-C3', 'CZ-PZ', 'F8-T8', 'P4-O2', 'T8-P8', 'C4-P4', 'T7-FT9', 'C3-P3', 'FZ-CZ', 'F7-T7', 'FP2-F4', 'ECG', 'FT9-FT10', 'FP2-F8', 'FP1-F7', 'P3-O1', 'P7-T7', 'FT10-T8', 'F4-C4'], 'Start Time': '00:04:47', 'End Time': '4:05:10', 'Seizures Window': [1679, 1781, 3782, 3898]}, 'chb04_29': {'Channels': ['P8-O2', 'T7-P7', 'FP1-F3', 'P7-O1', 'F3-C3', 'CZ-PZ', 'F8-T8', 'P4-O2', 'T8-P8', 'C4-P4', 'T7-FT9', 'C3-P3', 'FZ-CZ', 'F7-T7', 'FP2-F4', 'ECG', 'FT9-FT10', 'FP2-F8', 'FP1-F7', 'P3-O1', 'P7-T7', 'FT10-T8', 'F4-C4'], 'Start Time': '04:06:56', 'End Time': '8:06:59', 'Seizures Window': []}, 'chb04_30': {'Channels': ['P8-O2', 'T7-P7', 'FP1-F3', 'P7-O1', 'F3-C3', 'CZ-PZ', 'F8-T8', 'P4-O2', 'T8-P8', 'C4-P4', 'T7-FT9', 'C3-P3', 'FZ-CZ', 'F7-T7', 'FP2-F4', 'ECG', 'FT9-FT10', 'FP2-F8', 'FP1-F7', 'P3-O1', 'P7-T7', 'FT10-T8', 'F4-C4'], 'Start Time': '08:07:45', 'End Time': '12:07:45', 'Seizures Window': []}, 'chb04_31': {'Channels': ['P8-O2', 'T7-P7', 'FP1-F3', 'P7-O1', 'F3-C3', 'CZ-PZ', 'F8-T8', 'P4-O2', 'T8-P8', 'C4-P4', 'T7-FT9', 'C3-P3', 'FZ-CZ', 'F7-T7', 'FP2-F4', 'ECG', 'FT9-FT10', 'FP2-F8', 'FP1-F7', 'P3-O1', 'P7-T7', 'FT10-T8', 'F4-C4'], 'Start Time': '12:07:53', 'End Time': '16:07:53', 'Seizures Window': []}, 'chb04_32': {'Channels': ['P8-O2', 'T7-P7', 'FP1-F3', 'P7-O1', 'F3-C3', 'CZ-PZ', 'F8-T8', 'P4-O2', 'T8-P8', 'C4-P4', 'T7-FT9', 'C3-P3', 'FZ-CZ', 'F7-T7', 'FP2-F4', 'ECG', 'FT9-FT10', 'FP2-F8', 'FP1-F7', 'P3-O1', 'P7-T7', 'FT10-T8', 'F4-C4'], 'Start Time': '16:08:00', 'End Time': '20:08:00', 'Seizures Window': []}, 'chb04_33': {'Channels': ['P8-O2', 'T7-P7', 'FP1-F3', 'P7-O1', 'F3-C3', 'CZ-PZ', 'F8-T8', 'P4-O2', 'T8-P8', 'C4-P4', 'T7-FT9', 'C3-P3', 'FZ-CZ', 'F7-T7', 'FP2-F4', 'ECG', 'FT9-FT10', 'FP2-F8', 'FP1-F7', 'P3-O1', 'P7-T7', 'FT10-T8', 'F4-C4'], 'Start Time': '20:08:08', 'End Time': '24:08:08', 'Seizures Window': []}, 'chb04_34': {'Channels': ['P8-O2', 'T7-P7', 'FP1-F3', 'P7-O1', 'F3-C3', 'CZ-PZ', 'F8-T8', 'P4-O2', 'T8-P8', 'C4-P4', 'T7-FT9', 'C3-P3', 'FZ-CZ', 'F7-T7', 'FP2-F4', 'ECG', 'FT9-FT10', 'FP2-F8', 'FP1-F7', 'P3-O1', 'P7-T7', 'FT10-T8', 'F4-C4'], 'Start Time': '00:08:16', 'End Time': '4:08:16', 'Seizures Window': []}, 'chb04_35': {'Channels': ['P8-O2', 'T7-P7', 'FP1-F3', 'P7-O1', 'F3-C3', 'CZ-PZ', 'F8-T8', 'P4-O2', 'T8-P8', 'C4-P4', 'T7-FT9', 'C3-P3', 'FZ-CZ', 'F7-T7', 'FP2-F4', 'ECG', 'FT9-FT10', 'FP2-F8', 'FP1-F7', 'P3-O1', 'P7-T7', 'FT10-T8', 'F4-C4'], 'Start Time': '04:08:24', 'End Time': '8:08:24', 'Seizures Window': []}, 'chb04_36': {'Channels': ['P8-O2', 'T7-P7', 'FP1-F3', 'P7-O1', 'F3-C3', 'CZ-PZ', 'F8-T8', 'P4-O2', 'T8-P8', 'C4-P4', 'T7-FT9', 'C3-P3', 'FZ-CZ', 'F7-T7', 'FP2-F4', 'ECG', 'FT9-FT10', 'FP2-F8', 'FP1-F7', 'P3-O1', 'P7-T7', 'FT10-T8', 'F4-C4'], 'Start Time': '08:08:31', 'End Time': '12:08:31', 'Seizures Window': []}, 'chb04_37': {'Channels': ['P8-O2', 'T7-P7', 'FP1-F3', 'P7-O1', 'F3-C3', 'CZ-PZ', 'F8-T8', 'P4-O2', 'T8-P8', 'C4-P4', 'T7-FT9', 'C3-P3', 'FZ-CZ', 'F7-T7', 'FP2-F4', 'ECG', 'FT9-FT10', 'FP2-F8', 'FP1-F7', 'P3-O1', 'P7-T7', 'FT10-T8', 'F4-C4'], 'Start Time': '12:08:39', 'End Time': '13:42:12', 'Seizures Window': []}, 'chb04_38': {'Channels': ['P8-O2', 'T7-P7', 'FP1-F3', 'P7-O1', 'F3-C3', 'CZ-PZ', 'F8-T8', 'P4-O2', 'T8-P8', 'C4-P4', 'T7-FT9', 'C3-P3', 'FZ-CZ', 'F7-T7', 'FP2-F4', 'ECG', 'FT9-FT10', 'FP2-F8', 'FP1-F7', 'P3-O1', 'P7-T7', 'FT10-T8', 'F4-C4'], 'Start Time': '14:37:59', 'End Time': '18:37:59', 'Seizures Window': []}, 'chb04_39': {'Channels': ['P8-O2', 'T7-P7', 'FP1-F3', 'P7-O1', 'F3-C3', 'CZ-PZ', 'F8-T8', 'P4-O2', 'T8-P8', 'C4-P4', 'T7-FT9', 'C3-P3', 'FZ-CZ', 'F7-T7', 'FP2-F4', 'ECG', 'FT9-FT10', 'FP2-F8', 'FP1-F7', 'P3-O1', 'P7-T7', 'FT10-T8', 'F4-C4'], 'Start Time': '18:38:02', 'End Time': '22:38:02', 'Seizures Window': []}, 'chb04_40': {'Channels': ['P8-O2', 'T7-P7', 'FP1-F3', 'P7-O1', 'F3-C3', 'CZ-PZ', 'F8-T8', 'P4-O2', 'T8-P8', 'C4-P4', 'T7-FT9', 'C3-P3', 'FZ-CZ', 'F7-T7', 'FP2-F4', 'ECG', 'FT9-FT10', 'FP2-F8', 'FP1-F7', 'P3-O1', 'P7-T7', 'FT10-T8', 'F4-C4'], 'Start Time': '22:38:10', 'End Time': '26:38:10', 'Seizures Window': []}, 'chb04_41': {'Channels': ['P8-O2', 'T7-P7', 'FP1-F3', 'P7-O1', 'F3-C3', 'CZ-PZ', 'F8-T8', 'P4-O2', 'T8-P8', 'C4-P4', 'T7-FT9', 'C3-P3', 'FZ-CZ', 'F7-T7', 'FP2-F4', 'ECG', 'FT9-FT10', 'FP2-F8', 'FP1-F7', 'P3-O1', 'P7-T7', 'FT10-T8', 'F4-C4'], 'Start Time': '02:38:18', 'End Time': '6:38:18', 'Seizures Window': []}, 'chb04_42': {'Channels': ['P8-O2', 'T7-P7', 'FP1-F3', 'P7-O1', 'F3-C3', 'CZ-PZ', 'F8-T8', 'P4-O2', 'T8-P8', 'C4-P4', 'T7-FT9', 'C3-P3', 'FZ-CZ', 'F7-T7', 'FP2-F4', 'ECG', 'FT9-FT10', 'FP2-F8', 'FP1-F7', 'P3-O1', 'P7-T7', 'FT10-T8', 'F4-C4'], 'Start Time': '06:38:25', 'End Time': '8:15:28', 'Seizures Window': []}, 'chb04_43': {'Channels': ['P8-O2', 'T7-P7', 'FP1-F3', 'P7-O1', 'F3-C3', 'CZ-PZ', 'F8-T8', 'P4-O2', 'T8-P8', 'C4-P4', 'T7-FT9', 'C3-P3', 'FZ-CZ', 'F7-T7', 'FP2-F4', 'ECG', 'FT9-FT10', 'FP2-F8', 'FP1-F7', 'P3-O1', 'P7-T7', 'FT10-T8', 'F4-C4'], 'Start Time': '08:17:50', 'End Time': '12:17:50', 'Seizures Window': []}, 'chb05_01': {'Channels': ['P8-O2', 'T7-P7', 'FP1-F3', 'P7-O1', 'F3-C3', 'CZ-PZ', 'F8-T8', 'P4-O2', 'T8-P8', 'C4-P4', 'T7-FT9', 'C3-P3', 'FZ-CZ', 'F7-T7', 'FP2-F4', 'FT9-FT10', 'FP2-F8', 'FP1-F7', 'P3-O1', 'P7-T7', 'FT10-T8', 'F4-C4'], 'Start Time': '17:20:05', 'End Time': '18:20:15', 'Seizures Window': []}, 'chb05_02': {'Channels': ['P8-O2', 'T7-P7', 'FP1-F3', 'P7-O1', 'F3-C3', 'CZ-PZ', 'F8-T8', 'P4-O2', 'T8-P8', 'C4-P4', 'T7-FT9', 'C3-P3', 'FZ-CZ', 'F7-T7', 'FP2-F4', 'FT9-FT10', 'FP2-F8', 'FP1-F7', 'P3-O1', 'P7-T7', 'FT10-T8', 'F4-C4'], 'Start Time': '18:20:57', 'End Time': '19:20:57', 'Seizures Window': []}, 'chb05_03': {'Channels': ['P8-O2', 'T7-P7', 'FP1-F3', 'P7-O1', 'F3-C3', 'CZ-PZ', 'F8-T8', 'P4-O2', 'T8-P8', 'C4-P4', 'T7-FT9', 'C3-P3', 'FZ-CZ', 'F7-T7', 'FP2-F4', 'FT9-FT10', 'FP2-F8', 'FP1-F7', 'P3-O1', 'P7-T7', 'FT10-T8', 'F4-C4'], 'Start Time': '19:21:04', 'End Time': '20:21:04', 'Seizures Window': []}, 'chb05_04': {'Channels': ['P8-O2', 'T7-P7', 'FP1-F3', 'P7-O1', 'F3-C3', 'CZ-PZ', 'F8-T8', 'P4-O2', 'T8-P8', 'C4-P4', 'T7-FT9', 'C3-P3', 'FZ-CZ', 'F7-T7', 'FP2-F4', 'FT9-FT10', 'FP2-F8', 'FP1-F7', 'P3-O1', 'P7-T7', 'FT10-T8', 'F4-C4'], 'Start Time': '20:21:11', 'End Time': '21:21:11', 'Seizures Window': []}, 'chb05_05': {'Channels': ['P8-O2', 'T7-P7', 'FP1-F3', 'P7-O1', 'F3-C3', 'CZ-PZ', 'F8-T8', 'P4-O2', 'T8-P8', 'C4-P4', 'T7-FT9', 'C3-P3', 'FZ-CZ', 'F7-T7', 'FP2-F4', 'FT9-FT10', 'FP2-F8', 'FP1-F7', 'P3-O1', 'P7-T7', 'FT10-T8', 'F4-C4'], 'Start Time': '21:21:19', 'End Time': '22:21:19', 'Seizures Window': []}, 'chb05_06': {'Channels': ['P8-O2', 'T7-P7', 'FP1-F3', 'P7-O1', 'F3-C3', 'CZ-PZ', 'F8-T8', 'P4-O2', 'T8-P8', 'C4-P4', 'T7-FT9', 'C3-P3', 'FZ-CZ', 'F7-T7', 'FP2-F4', 'FT9-FT10', 'FP2-F8', 'FP1-F7', 'P3-O1', 'P7-T7', 'FT10-T8', 'F4-C4'], 'Start Time': '22:21:25', 'End Time': '23:21:25', 'Seizures Window': [417, 532]}, 'chb05_07': {'Channels': ['P8-O2', 'T7-P7', 'FP1-F3', 'P7-O1', 'F3-C3', 'CZ-PZ', 'F8-T8', 'P4-O2', 'T8-P8', 'C4-P4', 'T7-FT9', 'C3-P3', 'FZ-CZ', 'F7-T7', 'FP2-F4', 'FT9-FT10', 'FP2-F8', 'FP1-F7', 'P3-O1', 'P7-T7', 'FT10-T8', 'F4-C4'], 'Start Time': '23:21:32', 'End Time': '24:21:32', 'Seizures Window': []}, 'chb05_08': {'Channels': ['P8-O2', 'T7-P7', 'FP1-F3', 'P7-O1', 'F3-C3', 'CZ-PZ', 'F8-T8', 'P4-O2', 'T8-P8', 'C4-P4', 'T7-FT9', 'C3-P3', 'FZ-CZ', 'F7-T7', 'FP2-F4', 'FT9-FT10', 'FP2-F8', 'FP1-F7', 'P3-O1', 'P7-T7', 'FT10-T8', 'F4-C4'], 'Start Time': '00:21:39', 'End Time': '1:21:39', 'Seizures Window': []}, 'chb05_09': {'Channels': ['P8-O2', 'T7-P7', 'FP1-F3', 'P7-O1', 'F3-C3', 'CZ-PZ', 'F8-T8', 'P4-O2', 'T8-P8', 'C4-P4', 'T7-FT9', 'C3-P3', 'FZ-CZ', 'F7-T7', 'FP2-F4', 'FT9-FT10', 'FP2-F8', 'FP1-F7', 'P3-O1', 'P7-T7', 'FT10-T8', 'F4-C4'], 'Start Time': '01:21:46', 'End Time': '2:21:46', 'Seizures Window': []}, 'chb05_10': {'Channels': ['P8-O2', 'T7-P7', 'FP1-F3', 'P7-O1', 'F3-C3', 'CZ-PZ', 'F8-T8', 'P4-O2', 'T8-P8', 'C4-P4', 'T7-FT9', 'C3-P3', 'FZ-CZ', 'F7-T7', 'FP2-F4', 'FT9-FT10', 'FP2-F8', 'FP1-F7', 'P3-O1', 'P7-T7', 'FT10-T8', 'F4-C4'], 'Start Time': '02:21:53', 'End Time': '3:21:53', 'Seizures Window': []}, 'chb05_11': {'Channels': ['P8-O2', 'T7-P7', 'FP1-F3', 'P7-O1', 'F3-C3', 'CZ-PZ', 'F8-T8', 'P4-O2', 'T8-P8', 'C4-P4', 'T7-FT9', 'C3-P3', 'FZ-CZ', 'F7-T7', 'FP2-F4', 'FT9-FT10', 'FP2-F8', 'FP1-F7', 'P3-O1', 'P7-T7', 'FT10-T8', 'F4-C4'], 'Start Time': '03:22:01', 'End Time': '4:22:01', 'Seizures Window': []}, 'chb05_12': {'Channels': ['P8-O2', 'T7-P7', 'FP1-F3', 'P7-O1', 'F3-C3', 'CZ-PZ', 'F8-T8', 'P4-O2', 'T8-P8', 'C4-P4', 'T7-FT9', 'C3-P3', 'FZ-CZ', 'F7-T7', 'FP2-F4', 'FT9-FT10', 'FP2-F8', 'FP1-F7', 'P3-O1', 'P7-T7', 'FT10-T8', 'F4-C4'], 'Start Time': '04:22:08', 'End Time': '5:22:08', 'Seizures Window': []}, 'chb05_13': {'Channels': ['P8-O2', 'T7-P7', 'FP1-F3', 'P7-O1', 'F3-C3', 'CZ-PZ', 'F8-T8', 'P4-O2', 'T8-P8', 'C4-P4', 'T7-FT9', 'C3-P3', 'FZ-CZ', 'F7-T7', 'FP2-F4', 'FT9-FT10', 'FP2-F8', 'FP1-F7', 'P3-O1', 'P7-T7', 'FT10-T8', 'F4-C4'], 'Start Time': '05:22:15', 'End Time': '6:22:15', 'Seizures Window': [1086, 1196]}, 'chb05_14': {'Channels': ['P8-O2', 'T7-P7', 'FP1-F3', 'P7-O1', 'F3-C3', 'CZ-PZ', 'F8-T8', 'P4-O2', 'T8-P8', 'C4-P4', 'T7-FT9', 'C3-P3', 'FZ-CZ', 'F7-T7', 'FP2-F4', 'FT9-FT10', 'FP2-F8', 'FP1-F7', 'P3-O1', 'P7-T7', 'FT10-T8', 'F4-C4'], 'Start Time': '06:22:21', 'End Time': '7:22:21', 'Seizures Window': []}, 'chb05_15': {'Channels': ['P8-O2', 'T7-P7', 'FP1-F3', 'P7-O1', 'F3-C3', 'CZ-PZ', 'F8-T8', 'P4-O2', 'T8-P8', 'C4-P4', 'T7-FT9', 'C3-P3', 'FZ-CZ', 'F7-T7', 'FP2-F4', 'FT9-FT10', 'FP2-F8', 'FP1-F7', 'P3-O1', 'P7-T7', 'FT10-T8', 'F4-C4'], 'Start Time': '07:22:28', 'End Time': '8:22:28', 'Seizures Window': []}, 'chb05_16': {'Channels': ['P8-O2', 'T7-P7', 'FP1-F3', 'P7-O1', 'F3-C3', 'CZ-PZ', 'F8-T8', 'P4-O2', 'T8-P8', 'C4-P4', 'T7-FT9', 'C3-P3', 'FZ-CZ', 'F7-T7', 'FP2-F4', 'FT9-FT10', 'FP2-F8', 'FP1-F7', 'P3-O1', 'P7-T7', 'FT10-T8', 'F4-C4'], 'Start Time': '08:22:35', 'End Time': '9:22:35', 'Seizures Window': [2317, 2413]}, 'chb05_17': {'Channels': ['P8-O2', 'T7-P7', 'FP1-F3', 'P7-O1', 'F3-C3', 'CZ-PZ', 'F8-T8', 'P4-O2', 'T8-P8', 'C4-P4', 'T7-FT9', 'C3-P3', 'FZ-CZ', 'F7-T7', 'FP2-F4', 'FT9-FT10', 'FP2-F8', 'FP1-F7', 'P3-O1', 'P7-T7', 'FT10-T8', 'F4-C4'], 'Start Time': '09:22:42', 'End Time': '10:22:42', 'Seizures Window': [2451, 2571]}, 'chb05_18': {'Channels': ['P8-O2', 'T7-P7', 'FP1-F3', 'P7-O1', 'F3-C3', 'CZ-PZ', 'F8-T8', 'P4-O2', 'T8-P8', 'C4-P4', 'T7-FT9', 'C3-P3', 'FZ-CZ', 'F7-T7', 'FP2-F4', 'FT9-FT10', 'FP2-F8', 'FP1-F7', 'P3-O1', 'P7-T7', 'FT10-T8', 'F4-C4'], 'Start Time': '10:22:50', 'End Time': '11:22:50', 'Seizures Window': []}, 'chb05_19': {'Channels': ['P8-O2', 'T7-P7', 'FP1-F3', 'P7-O1', 'F3-C3', 'CZ-PZ', 'F8-T8', 'P4-O2', 'T8-P8', 'C4-P4', 'T7-FT9', 'C3-P3', 'FZ-CZ', 'F7-T7', 'FP2-F4', 'FT9-FT10', 'FP2-F8', 'FP1-F7', 'P3-O1', 'P7-T7', 'FT10-T8', 'F4-C4'], 'Start Time': '11:22:57', 'End Time': '12:22:57', 'Seizures Window': []}, 'chb05_20': {'Channels': ['P8-O2', 'T7-P7', 'FP1-F3', 'P7-O1', 'F3-C3', 'CZ-PZ', 'F8-T8', 'P4-O2', 'T8-P8', 'C4-P4', 'T7-FT9', 'C3-P3', 'FZ-CZ', 'F7-T7', 'FP2-F4', 'FT9-FT10', 'FP2-F8', 'FP1-F7', 'P3-O1', 'P7-T7', 'FT10-T8', 'F4-C4'], 'Start Time': '12:23:04', 'End Time': '13:23:04', 'Seizures Window': []}, 'chb05_21': {'Channels': ['P8-O2', 'T7-P7', 'FP1-F3', 'P7-O1', 'F3-C3', 'CZ-PZ', 'F8-T8', 'P4-O2', 'T8-P8', 'C4-P4', 'T7-FT9', 'C3-P3', 'FZ-CZ', 'F7-T7', 'FP2-F4', 'FT9-FT10', 'FP2-F8', 'FP1-F7', 'P3-O1', 'P7-T7', 'FT10-T8', 'F4-C4'], 'Start Time': '13:23:11', 'End Time': '14:23:11', 'Seizures Window': []}, 'chb05_22': {'Channels': ['P8-O2', 'T7-P7', 'FP1-F3', 'P7-O1', 'F3-C3', 'CZ-PZ', 'F8-T8', 'P4-O2', 'T8-P8', 'C4-P4', 'T7-FT9', 'C3-P3', 'FZ-CZ', 'F7-T7', 'FP2-F4', 'FT9-FT10', 'FP2-F8', 'FP1-F7', 'P3-O1', 'P7-T7', 'FT10-T8', 'F4-C4'], 'Start Time': '14:23:17', 'End Time': '15:23:17', 'Seizures Window': [2348, 2465]}, 'chb05_23': {'Channels': ['P8-O2', 'T7-P7', 'FP1-F3', 'P7-O1', 'F3-C3', 'CZ-PZ', 'F8-T8', 'P4-O2', 'T8-P8', 'C4-P4', 'T7-FT9', 'C3-P3', 'FZ-CZ', 'F7-T7', 'FP2-F4', 'FT9-FT10', 'FP2-F8', 'FP1-F7', 'P3-O1', 'P7-T7', 'FT10-T8', 'F4-C4'], 'Start Time': '15:23:24', 'End Time': '16:23:24', 'Seizures Window': []}, 'chb05_24': {'Channels': ['P8-O2', 'T7-P7', 'FP1-F3', 'P7-O1', 'F3-C3', 'CZ-PZ', 'F8-T8', 'P4-O2', 'T8-P8', 'C4-P4', 'T7-FT9', 'C3-P3', 'FZ-CZ', 'F7-T7', 'FP2-F4', 'FT9-FT10', 'FP2-F8', 'FP1-F7', 'P3-O1', 'P7-T7', 'FT10-T8', 'F4-C4'], 'Start Time': '16:23:31', 'End Time': '17:23:31', 'Seizures Window': []}, 'chb05_25': {'Channels': ['P8-O2', 'T7-P7', 'FP1-F3', 'P7-O1', 'F3-C3', 'CZ-PZ', 'F8-T8', 'P4-O2', 'T8-P8', 'C4-P4', 'T7-FT9', 'C3-P3', 'FZ-CZ', 'F7-T7', 'FP2-F4', 'FT9-FT10', 'FP2-F8', 'FP1-F7', 'P3-O1', 'P7-T7', 'FT10-T8', 'F4-C4'], 'Start Time': '17:23:38', 'End Time': '18:23:38', 'Seizures Window': []}, 'chb05_26': {'Channels': ['P8-O2', 'T7-P7', 'FP1-F3', 'P7-O1', 'F3-C3', 'CZ-PZ', 'F8-T8', 'P4-O2', 'T8-P8', 'C4-P4', 'T7-FT9', 'C3-P3', 'FZ-CZ', 'F7-T7', 'FP2-F4', 'FT9-FT10', 'FP2-F8', 'FP1-F7', 'P3-O1', 'P7-T7', 'FT10-T8', 'F4-C4'], 'Start Time': '18:23:46', 'End Time': '19:23:46', 'Seizures Window': []}, 'chb05_27': {'Channels': ['P8-O2', 'T7-P7', 'FP1-F3', 'P7-O1', 'F3-C3', 'CZ-PZ', 'F8-T8', 'P4-O2', 'T8-P8', 'C4-P4', 'T7-FT9', 'C3-P3', 'FZ-CZ', 'F7-T7', 'FP2-F4', 'FT9-FT10', 'FP2-F8', 'FP1-F7', 'P3-O1', 'P7-T7', 'FT10-T8', 'F4-C4'], 'Start Time': '19:23:53', 'End Time': '20:23:53', 'Seizures Window': []}, 'chb05_28': {'Channels': ['P8-O2', 'T7-P7', 'FP1-F3', 'P7-O1', 'F3-C3', 'CZ-PZ', 'F8-T8', 'P4-O2', 'T8-P8', 'C4-P4', 'T7-FT9', 'C3-P3', 'FZ-CZ', 'F7-T7', 'FP2-F4', 'FT9-FT10', 'FP2-F8', 'FP1-F7', 'P3-O1', 'P7-T7', 'FT10-T8', 'F4-C4'], 'Start Time': '20:24:00', 'End Time': '21:24:00', 'Seizures Window': []}, 'chb05_29': {'Channels': ['P8-O2', 'T7-P7', 'FP1-F3', 'P7-O1', 'F3-C3', 'CZ-PZ', 'F8-T8', 'P4-O2', 'T8-P8', 'C4-P4', 'T7-FT9', 'C3-P3', 'FZ-CZ', 'F7-T7', 'FP2-F4', 'FT9-FT10', 'FP2-F8', 'FP1-F7', 'P3-O1', 'P7-T7', 'FT10-T8', 'F4-C4'], 'Start Time': '21:24:07', 'End Time': '22:24:07', 'Seizures Window': []}, 'chb05_30': {'Channels': ['P8-O2', 'T7-P7', 'FP1-F3', 'P7-O1', 'F3-C3', 'CZ-PZ', 'F8-T8', 'P4-O2', 'T8-P8', 'C4-P4', 'T7-FT9', 'C3-P3', 'FZ-CZ', 'F7-T7', 'FP2-F4', 'FT9-FT10', 'FP2-F8', 'FP1-F7', 'P3-O1', 'P7-T7', 'FT10-T8', 'F4-C4'], 'Start Time': '22:24:14', 'End Time': '23:24:14', 'Seizures Window': []}, 'chb05_31': {'Channels': ['P8-O2', 'T7-P7', 'FP1-F3', 'P7-O1', 'F3-C3', 'CZ-PZ', 'F8-T8', 'P4-O2', 'T8-P8', 'C4-P4', 'T7-FT9', 'C3-P3', 'FZ-CZ', 'F7-T7', 'FP2-F4', 'FT9-FT10', 'FP2-F8', 'FP1-F7', 'P3-O1', 'P7-T7', 'FT10-T8', 'F4-C4'], 'Start Time': '23:24:21', 'End Time': '24:24:21', 'Seizures Window': []}, 'chb05_32': {'Channels': ['P8-O2', 'T7-P7', 'FP1-F3', 'P7-O1', 'F3-C3', 'CZ-PZ', 'F8-T8', 'P4-O2', 'T8-P8', 'C4-P4', 'T7-FT9', 'C3-P3', 'FZ-CZ', 'F7-T7', 'FP2-F4', 'FT9-FT10', 'FP2-F8', 'FP1-F7', 'P3-O1', 'P7-T7', 'FT10-T8', 'F4-C4'], 'Start Time': '00:24:28', 'End Time': '1:24:28', 'Seizures Window': []}, 'chb05_33': {'Channels': ['P8-O2', 'T7-P7', 'FP1-F3', 'P7-O1', 'F3-C3', 'CZ-PZ', 'F8-T8', 'P4-O2', 'T8-P8', 'C4-P4', 'T7-FT9', 'C3-P3', 'FZ-CZ', 'F7-T7', 'FP2-F4', 'FT9-FT10', 'FP2-F8', 'FP1-F7', 'P3-O1', 'P7-T7', 'FT10-T8', 'F4-C4'], 'Start Time': '01:24:35', 'End Time': '2:24:35', 'Seizures Window': []}, 'chb05_34': {'Channels': ['P8-O2', 'T7-P7', 'FP1-F3', 'P7-O1', 'F3-C3', 'CZ-PZ', 'F8-T8', 'P4-O2', 'T8-P8', 'C4-P4', 'T7-FT9', 'C3-P3', 'FZ-CZ', 'F7-T7', 'FP2-F4', 'FT9-FT10', 'FP2-F8', 'FP1-F7', 'P3-O1', 'P7-T7', 'FT10-T8', 'F4-C4'], 'Start Time': '02:24:42', 'End Time': '3:24:42', 'Seizures Window': []}, 'chb05_35': {'Channels': ['P8-O2', 'T7-P7', 'FP1-F3', 'P7-O1', 'F3-C3', 'CZ-PZ', 'F8-T8', 'P4-O2', 'T8-P8', 'C4-P4', 'T7-FT9', 'C3-P3', 'FZ-CZ', 'F7-T7', 'FP2-F4', 'FT9-FT10', 'FP2-F8', 'FP1-F7', 'P3-O1', 'P7-T7', 'FT10-T8', 'F4-C4'], 'Start Time': '03:24:49', 'End Time': '4:24:49', 'Seizures Window': []}, 'chb05_36': {'Channels': ['P8-O2', 'T7-P7', 'FP1-F3', 'P7-O1', 'F3-C3', 'CZ-PZ', 'F8-T8', 'P4-O2', 'T8-P8', 'C4-P4', 'T7-FT9', 'C3-P3', 'FZ-CZ', 'F7-T7', 'FP2-F4', 'FT9-FT10', 'FP2-F8', 'FP1-F7', 'P3-O1', 'P7-T7', 'FT10-T8', 'F4-C4'], 'Start Time': '04:24:56', 'End Time': '5:24:56', 'Seizures Window': []}, 'chb05_37': {'Channels': ['P8-O2', 'T7-P7', 'FP1-F3', 'P7-O1', 'F3-C3', 'CZ-PZ', 'F8-T8', 'P4-O2', 'T8-P8', 'C4-P4', 'T7-FT9', 'C3-P3', 'FZ-CZ', 'F7-T7', 'FP2-F4', 'FT9-FT10', 'FP2-F8', 'FP1-F7', 'P3-O1', 'P7-T7', 'FT10-T8', 'F4-C4'], 'Start Time': '05:25:03', 'End Time': '6:25:03', 'Seizures Window': []}, 'chb05_38': {'Channels': ['P8-O2', 'T7-P7', 'FP1-F3', 'P7-O1', 'F3-C3', 'CZ-PZ', 'F8-T8', 'P4-O2', 'T8-P8', 'C4-P4', 'T7-FT9', 'C3-P3', 'FZ-CZ', 'F7-T7', 'FP2-F4', 'FT9-FT10', 'FP2-F8', 'FP1-F7', 'P3-O1', 'P7-T7', 'FT10-T8', 'F4-C4'], 'Start Time': '06:25:10', 'End Time': '7:25:10', 'Seizures Window': []}, 'chb05_39': {'Channels': ['P8-O2', 'T7-P7', 'FP1-F3', 'P7-O1', 'F3-C3', 'CZ-PZ', 'F8-T8', 'P4-O2', 'T8-P8', 'C4-P4', 'T7-FT9', 'C3-P3', 'FZ-CZ', 'F7-T7', 'FP2-F4', 'FT9-FT10', 'FP2-F8', 'FP1-F7', 'P3-O1', 'P7-T7', 'FT10-T8', 'F4-C4'], 'Start Time': '07:25:17', 'End Time': '8:25:17', 'Seizures Window': []}, 'chb06_01': {'Channels': ['P8-O2', 'T7-P7', 'FP1-F3', 'P7-O1', 'F3-C3', 'CZ-PZ', 'F8-T8', 'P4-O2', 'T8-P8', 'C4-P4', 'T7-FT9', 'C3-P3', 'FZ-CZ', 'F7-T7', 'FP2-F4', 'FT9-FT10', 'FP2-F8', 'FP1-F7', 'P3-O1', 'P7-T7', 'FT10-T8', 'F4-C4'], 'Start Time': '19:08:32', 'End Time': '23:08:59', 'Seizures Window': [1724, 1738, 7461, 7476, 13525, 13540]}, 'chb06_02': {'Channels': ['P8-O2', 'T7-P7', 'FP1-F3', 'P7-O1', 'F3-C3', 'CZ-PZ', 'F8-T8', 'P4-O2', 'T8-P8', 'C4-P4', 'T7-FT9', 'C3-P3', 'FZ-CZ', 'F7-T7', 'FP2-F4', 'FT9-FT10', 'FP2-F8', 'FP1-F7', 'P3-O1', 'P7-T7', 'FT10-T8', 'F4-C4'], 'Start Time': '23:09:34', 'End Time': '27:09:34', 'Seizures Window': []}, 'chb06_03': {'Channels': ['P8-O2', 'T7-P7', 'FP1-F3', 'P7-O1', 'F3-C3', 'CZ-PZ', 'F8-T8', 'P4-O2', 'T8-P8', 'C4-P4', 'T7-FT9', 'C3-P3', 'FZ-CZ', 'F7-T7', 'FP2-F4', 'FT9-FT10', 'FP2-F8', 'FP1-F7', 'P3-O1', 'P7-T7', 'FT10-T8', 'F4-C4'], 'Start Time': '03:09:42', 'End Time': '7:09:42', 'Seizures Window': []}, 'chb06_04': {'Channels': ['P8-O2', 'T7-P7', 'FP1-F3', 'P7-O1', 'F3-C3', 'CZ-PZ', 'F8-T8', 'P4-O2', 'T8-P8', 'C4-P4', 'T7-FT9', 'C3-P3', 'FZ-CZ', 'F7-T7', 'FP2-F4', 'FT9-FT10', 'FP2-F8', 'FP1-F7', 'P3-O1', 'P7-T7', 'FT10-T8', 'F4-C4'], 'Start Time': '07:09:51', 'End Time': '10:50:52', 'Seizures Window': [327, 347, 6211, 6231]}, 'chb06_05': {'Channels': ['P8-O2', 'T7-P7', 'FP1-F3', 'P7-O1', 'F3-C3', 'CZ-PZ', 'F8-T8', 'P4-O2', 'T8-P8', 'C4-P4', 'T7-FT9', 'C3-P3', 'FZ-CZ', 'F7-T7', 'FP2-F4', 'FT9-FT10', 'FP2-F8', 'FP1-F7', 'P3-O1', 'P7-T7', 'FT10-T8', 'F4-C4'], 'Start Time': '10:51:20', 'End Time': '14:51:20', 'Seizures Window': []}, 'chb06_06': {'Channels': ['P8-O2', 'T7-P7', 'FP1-F3', 'P7-O1', 'F3-C3', 'CZ-PZ', 'F8-T8', 'P4-O2', 'T8-P8', 'C4-P4', 'T7-FT9', 'C3-P3', 'FZ-CZ', 'F7-T7', 'FP2-F4', 'FT9-FT10', 'FP2-F8', 'FP1-F7', 'P3-O1', 'P7-T7', 'FT10-T8', 'F4-C4'], 'Start Time': '14:51:23', 'End Time': '18:51:23', 'Seizures Window': []}, 'chb06_07': {'Channels': ['P8-O2', 'T7-P7', 'FP1-F3', 'P7-O1', 'F3-C3', 'CZ-PZ', 'F8-T8', 'P4-O2', 'T8-P8', 'C4-P4', 'T7-FT9', 'C3-P3', 'FZ-CZ', 'F7-T7', 'FP2-F4', 'FT9-FT10', 'FP2-F8', 'FP1-F7', 'P3-O1', 'P7-T7', 'FT10-T8', 'F4-C4'], 'Start Time': '18:51:31', 'End Time': '22:51:31', 'Seizures Window': []}, 'chb06_08': {'Channels': ['P8-O2', 'T7-P7', 'FP1-F3', 'P7-O1', 'F3-C3', 'CZ-PZ', 'F8-T8', 'P4-O2', 'T8-P8', 'C4-P4', 'T7-FT9', 'C3-P3', 'FZ-CZ', 'F7-T7', 'FP2-F4', 'FT9-FT10', 'FP2-F8', 'FP1-F7', 'P3-O1', 'P7-T7', 'FT10-T8', 'F4-C4'], 'Start Time': '22:51:39', 'End Time': '26:51:39', 'Seizures Window': []}, 'chb06_09': {'Channels': ['P8-O2', 'T7-P7', 'FP1-F3', 'P7-O1', 'F3-C3', 'CZ-PZ', 'F8-T8', 'P4-O2', 'T8-P8', 'C4-P4', 'T7-FT9', 'C3-P3', 'FZ-CZ', 'F7-T7', 'FP2-F4', 'FT9-FT10', 'FP2-F8', 'FP1-F7', 'P3-O1', 'P7-T7', 'FT10-T8', 'F4-C4'], 'Start Time': '02:51:47', 'End Time': '6:51:47', 'Seizures Window': [12500, 12516]}, 'chb06_10': {'Channels': ['P8-O2', 'T7-P7', 'FP1-F3', 'P7-O1', 'F3-C3', 'CZ-PZ', 'F8-T8', 'P4-O2', 'T8-P8', 'C4-P4', 'T7-FT9', 'C3-P3', 'FZ-CZ', 'F7-T7', 'FP2-F4', 'FT9-FT10', 'FP2-F8', 'FP1-F7', 'P3-O1', 'P7-T7', 'FT10-T8', 'F4-C4'], 'Start Time': '06:51:54', 'End Time': '10:51:54', 'Seizures Window': [10833, 10845]}, 'chb06_12': {'Channels': ['P8-O2', 'T7-P7', 'FP1-F3', 'P7-O1', 'F3-C3', 'CZ-PZ', 'F8-T8', 'P4-O2', 'T8-P8', 'C4-P4', 'T7-FT9', 'C3-P3', 'FZ-CZ', 'F7-T7', 'FP2-F4', 'FT9-FT10', 'FP2-F8', 'FP1-F7', 'P3-O1', 'P7-T7', 'FT10-T8', 'F4-C4'], 'Start Time': '14:52:10', 'End Time': '18:52:10', 'Seizures Window': []}, 'chb06_13': {'Channels': ['P8-O2', 'T7-P7', 'FP1-F3', 'P7-O1', 'F3-C3', 'CZ-PZ', 'F8-T8', 'P4-O2', 'T8-P8', 'C4-P4', 'T7-FT9', 'C3-P3', 'FZ-CZ', 'F7-T7', 'FP2-F4', 'FT9-FT10', 'FP2-F8', 'FP1-F7', 'P3-O1', 'P7-T7', 'FT10-T8', 'F4-C4'], 'Start Time': '18:52:20', 'End Time': '22:52:20', 'Seizures Window': [506, 519]}, 'chb06_14': {'Channels': ['P8-O2', 'T7-P7', 'FP1-F3', 'P7-O1', 'F3-C3', 'CZ-PZ', 'F8-T8', 'P4-O2', 'T8-P8', 'C4-P4', 'T7-FT9', 'C3-P3', 'FZ-CZ', 'F7-T7', 'FP2-F4', 'FT9-FT10', 'FP2-F8', 'FP1-F7', 'P3-O1', 'P7-T7', 'FT10-T8', 'F4-C4'], 'Start Time': '22:52:35', 'End Time': '26:52:35', 'Seizures Window': []}, 'chb06_15': {'Channels': ['P8-O2', 'T7-P7', 'FP1-F3', 'P7-O1', 'F3-C3', 'CZ-PZ', 'F8-T8', 'P4-O2', 'T8-P8', 'C4-P4', 'T7-FT9', 'C3-P3', 'FZ-CZ', 'F7-T7', 'FP2-F4', 'FT9-FT10', 'FP2-F8', 'FP1-F7', 'P3-O1', 'P7-T7', 'FT10-T8', 'F4-C4'], 'Start Time': '02:52:43', 'End Time': '6:52:43', 'Seizures Window': []}, 'chb06_16': {'Channels': ['P8-O2', 'T7-P7', 'FP1-F3', 'P7-O1', 'F3-C3', 'CZ-PZ', 'F8-T8', 'P4-O2', 'T8-P8', 'C4-P4', 'T7-FT9', 'C3-P3', 'FZ-CZ', 'F7-T7', 'FP2-F4', 'FT9-FT10', 'FP2-F8', 'FP1-F7', 'P3-O1', 'P7-T7', 'FT10-T8', 'F4-C4'], 'Start Time': '06:52:51', 'End Time': '7:43:21', 'Seizures Window': []}, 'chb06_17': {'Channels': ['P8-O2', 'T7-P7', 'FP1-F3', 'P7-O1', 'F3-C3', 'CZ-PZ', 'F8-T8', 'P4-O2', 'T8-P8', 'C4-P4', 'T7-FT9', 'C3-P3', 'FZ-CZ', 'F7-T7', 'FP2-F4', 'FT9-FT10', 'FP2-F8', 'FP1-F7', 'P3-O1', 'P7-T7', 'FT10-T8', 'F4-C4'], 'Start Time': '07:45:51', 'End Time': '11:45:51', 'Seizures Window': []}, 'chb06_18': {'Channels': ['P8-O2', 'T7-P7', 'FP1-F3', 'P7-O1', 'F3-C3', 'CZ-PZ', 'F8-T8', 'P4-O2', 'T8-P8', 'C4-P4', 'T7-FT9', 'C3-P3', 'FZ-CZ', 'F7-T7', 'FP2-F4', 'FT9-FT10', 'FP2-F8', 'FP1-F7', 'P3-O1', 'P7-T7', 'FT10-T8', 'F4-C4'], 'Start Time': '11:45:55', 'End Time': '13:58:03', 'Seizures Window': [7799, 7811]}, 'chb06_24': {'Channels': ['P8-O2', 'T7-P7', 'FP1-F3', 'P7-O1', 'F3-C3', 'CZ-PZ', 'F8-T8', 'P4-O2', 'T8-P8', 'C4-P4', 'T7-FT9', 'C3-P3', 'FZ-CZ', 'F7-T7', 'FP2-F4', 'FT9-FT10', 'FP2-F8', 'FP1-F7', 'P3-O1', 'P7-T7', 'FT10-T8', 'F4-C4'], 'Start Time': '08:23:24', 'End Time': '12:23:24', 'Seizures Window': [9387, 9403]}, 'chb07_01': {'Channels': ['P8-O2', 'T7-P7', 'FP1-F3', 'P7-O1', 'F3-C3', 'CZ-PZ', 'F8-T8', 'P4-O2', 'T8-P8', 'C4-P4', 'T7-FT9', 'C3-P3', 'FZ-CZ', 'F7-T7', 'FP2-F4', 'FT9-FT10', 'FP2-F8', 'FP1-F7', 'P3-O1', 'P7-T7', 'FT10-T8', 'F4-C4'], 'Start Time': '16:58:28', 'End Time': '20:58:39', 'Seizures Window': []}, 'chb07_02': {'Channels': ['P8-O2', 'T7-P7', 'FP1-F3', 'P7-O1', 'F3-C3', 'CZ-PZ', 'F8-T8', 'P4-O2', 'T8-P8', 'C4-P4', 'T7-FT9', 'C3-P3', 'FZ-CZ', 'F7-T7', 'FP2-F4', 'FT9-FT10', 'FP2-F8', 'FP1-F7', 'P3-O1', 'P7-T7', 'FT10-T8', 'F4-C4'], 'Start Time': '21:00:13', 'End Time': '25:00:13', 'Seizures Window': []}, 'chb07_03': {'Channels': ['P8-O2', 'T7-P7', 'FP1-F3', 'P7-O1', 'F3-C3', 'CZ-PZ', 'F8-T8', 'P4-O2', 'T8-P8', 'C4-P4', 'T7-FT9', 'C3-P3', 'FZ-CZ', 'F7-T7', 'FP2-F4', 'FT9-FT10', 'FP2-F8', 'FP1-F7', 'P3-O1', 'P7-T7', 'FT10-T8', 'F4-C4'], 'Start Time': '01:00:21', 'End Time': '5:00:21', 'Seizures Window': []}, 'chb07_04': {'Channels': ['P8-O2', 'T7-P7', 'FP1-F3', 'P7-O1', 'F3-C3', 'CZ-PZ', 'F8-T8', 'P4-O2', 'T8-P8', 'C4-P4', 'T7-FT9', 'C3-P3', 'FZ-CZ', 'F7-T7', 'FP2-F4', 'FT9-FT10', 'FP2-F8', 'FP1-F7', 'P3-O1', 'P7-T7', 'FT10-T8', 'F4-C4'], 'Start Time': '05:00:29', 'End Time': '9:00:29', 'Seizures Window': []}, 'chb07_05': {'Channels': ['P8-O2', 'T7-P7', 'FP1-F3', 'P7-O1', 'F3-C3', 'CZ-PZ', 'F8-T8', 'P4-O2', 'T8-P8', 'C4-P4', 'T7-FT9', 'C3-P3', 'FZ-CZ', 'F7-T7', 'FP2-F4', 'FT9-FT10', 'FP2-F8', 'FP1-F7', 'P3-O1', 'P7-T7', 'FT10-T8', 'F4-C4'], 'Start Time': '09:00:36', 'End Time': '13:00:36', 'Seizures Window': []}, 'chb07_06': {'Channels': ['P8-O2', 'T7-P7', 'FP1-F3', 'P7-O1', 'F3-C3', 'CZ-PZ', 'F8-T8', 'P4-O2', 'T8-P8', 'C4-P4', 'T7-FT9', 'C3-P3', 'FZ-CZ', 'F7-T7', 'FP2-F4', 'FT9-FT10', 'FP2-F8', 'FP1-F7', 'P3-O1', 'P7-T7', 'FT10-T8', 'F4-C4'], 'Start Time': '13:00:44', 'End Time': '14:22:44', 'Seizures Window': []}, 'chb07_07': {'Channels': ['P8-O2', 'T7-P7', 'FP1-F3', 'P7-O1', 'F3-C3', 'CZ-PZ', 'F8-T8', 'P4-O2', 'T8-P8', 'C4-P4', 'T7-FT9', 'C3-P3', 'FZ-CZ', 'F7-T7', 'FP2-F4', 'FT9-FT10', 'FP2-F8', 'FP1-F7', 'P3-O1', 'P7-T7', 'FT10-T8', 'F4-C4'], 'Start Time': '14:23:26', 'End Time': '15:41:06', 'Seizures Window': []}, 'chb07_08': {'Channels': ['P8-O2', 'T7-P7', 'FP1-F3', 'P7-O1', 'F3-C3', 'CZ-PZ', 'F8-T8', 'P4-O2', 'T8-P8', 'C4-P4', 'T7-FT9', 'C3-P3', 'FZ-CZ', 'F7-T7', 'FP2-F4', 'FT9-FT10', 'FP2-F8', 'FP1-F7', 'P3-O1', 'P7-T7', 'FT10-T8', 'F4-C4'], 'Start Time': '15:45:54', 'End Time': '19:45:54', 'Seizures Window': []}, 'chb07_09': {'Channels': ['P8-O2', 'T7-P7', 'FP1-F3', 'P7-O1', 'F3-C3', 'CZ-PZ', 'F8-T8', 'P4-O2', 'T8-P8', 'C4-P4', 'T7-FT9', 'C3-P3', 'FZ-CZ', 'F7-T7', 'FP2-F4', 'FT9-FT10', 'FP2-F8', 'FP1-F7', 'P3-O1', 'P7-T7', 'FT10-T8', 'F4-C4'], 'Start Time': '19:45:58', 'End Time': '23:45:58', 'Seizures Window': []}, 'chb07_10': {'Channels': ['P8-O2', 'T7-P7', 'FP1-F3', 'P7-O1', 'F3-C3', 'CZ-PZ', 'F8-T8', 'P4-O2', 'T8-P8', 'C4-P4', 'T7-FT9', 'C3-P3', 'FZ-CZ', 'F7-T7', 'FP2-F4', 'FT9-FT10', 'FP2-F8', 'FP1-F7', 'P3-O1', 'P7-T7', 'FT10-T8', 'F4-C4'], 'Start Time': '23:46:06', 'End Time': '27:46:06', 'Seizures Window': []}, 'chb07_11': {'Channels': ['P8-O2', 'T7-P7', 'FP1-F3', 'P7-O1', 'F3-C3', 'CZ-PZ', 'F8-T8', 'P4-O2', 'T8-P8', 'C4-P4', 'T7-FT9', 'C3-P3', 'FZ-CZ', 'F7-T7', 'FP2-F4', 'FT9-FT10', 'FP2-F8', 'FP1-F7', 'P3-O1', 'P7-T7', 'FT10-T8', 'F4-C4'], 'Start Time': '03:46:13', 'End Time': '7:46:13', 'Seizures Window': []}, 'chb07_12': {'Channels': ['P8-O2', 'T7-P7', 'FP1-F3', 'P7-O1', 'F3-C3', 'CZ-PZ', 'F8-T8', 'P4-O2', 'T8-P8', 'C4-P4', 'T7-FT9', 'C3-P3', 'FZ-CZ', 'F7-T7', 'FP2-F4', 'FT9-FT10', 'FP2-F8', 'FP1-F7', 'P3-O1', 'P7-T7', 'FT10-T8', 'F4-C4'], 'Start Time': '07:46:22', 'End Time': '11:46:22', 'Seizures Window': [4920, 5006]}, 'chb07_13': {'Channels': ['P8-O2', 'T7-P7', 'FP1-F3', 'P7-O1', 'F3-C3', 'CZ-PZ', 'F8-T8', 'P4-O2', 'T8-P8', 'C4-P4', 'T7-FT9', 'C3-P3', 'FZ-CZ', 'F7-T7', 'FP2-F4', 'FT9-FT10', 'FP2-F8', 'FP1-F7', 'P3-O1', 'P7-T7', 'FT10-T8', 'F4-C4'], 'Start Time': '11:46:29', 'End Time': '12:48:35', 'Seizures Window': [3285, 3381]}, 'chb07_14': {'Channels': ['P8-O2', 'T7-P7', 'FP1-F3', 'P7-O1', 'F3-C3', 'CZ-PZ', 'F8-T8', 'P4-O2', 'T8-P8', 'C4-P4', 'T7-FT9', 'C3-P3', 'FZ-CZ', 'F7-T7', 'FP2-F4', 'FT9-FT10', 'FP2-F8', 'FP1-F7', 'P3-O1', 'P7-T7', 'FT10-T8', 'F4-C4'], 'Start Time': '12:48:54', 'End Time': '16:48:54', 'Seizures Window': []}, 'chb07_15': {'Channels': ['P8-O2', 'T7-P7', 'FP1-F3', 'P7-O1', 'F3-C3', 'CZ-PZ', 'F8-T8', 'P4-O2', 'T8-P8', 'C4-P4', 'T7-FT9', 'C3-P3', 'FZ-CZ', 'F7-T7', 'FP2-F4', 'FT9-FT10', 'FP2-F8', 'FP1-F7', 'P3-O1', 'P7-T7', 'FT10-T8', 'F4-C4'], 'Start Time': '16:48:58', 'End Time': '20:48:58', 'Seizures Window': []}, 'chb07_16': {'Channels': ['P8-O2', 'T7-P7', 'FP1-F3', 'P7-O1', 'F3-C3', 'CZ-PZ', 'F8-T8', 'P4-O2', 'T8-P8', 'C4-P4', 'T7-FT9', 'C3-P3', 'FZ-CZ', 'F7-T7', 'FP2-F4', 'FT9-FT10', 'FP2-F8', 'FP1-F7', 'P3-O1', 'P7-T7', 'FT10-T8', 'F4-C4'], 'Start Time': '20:49:06', 'End Time': '24:49:06', 'Seizures Window': []}, 'chb07_17': {'Channels': ['P8-O2', 'T7-P7', 'FP1-F3', 'P7-O1', 'F3-C3', 'CZ-PZ', 'F8-T8', 'P4-O2', 'T8-P8', 'C4-P4', 'T7-FT9', 'C3-P3', 'FZ-CZ', 'F7-T7', 'FP2-F4', 'FT9-FT10', 'FP2-F8', 'FP1-F7', 'P3-O1', 'P7-T7', 'FT10-T8', 'F4-C4'], 'Start Time': '00:49:19', 'End Time': '4:49:19', 'Seizures Window': []}, 'chb07_18': {'Channels': ['P8-O2', 'T7-P7', 'FP1-F3', 'P7-O1', 'F3-C3', 'CZ-PZ', 'F8-T8', 'P4-O2', 'T8-P8', 'C4-P4', 'T7-FT9', 'C3-P3', 'FZ-CZ', 'F7-T7', 'FP2-F4', 'FT9-FT10', 'FP2-F8', 'FP1-F7', 'P3-O1', 'P7-T7', 'FT10-T8', 'F4-C4'], 'Start Time': '04:49:28', 'End Time': '8:10:28', 'Seizures Window': []}, 'chb07_19': {'Channels': ['P8-O2', 'T7-P7', 'FP1-F3', 'P7-O1', 'F3-C3', 'CZ-PZ', 'F8-T8', 'P4-O2', 'T8-P8', 'C4-P4', 'T7-FT9', 'C3-P3', 'FZ-CZ', 'F7-T7', 'FP2-F4', 'FT9-FT10', 'FP2-F8', 'FP1-F7', 'P3-O1', 'P7-T7', 'FT10-T8', 'F4-C4'], 'Start Time': '08:12:32', 'End Time': '12:12:43', 'Seizures Window': [13688, 13831]}, 'chb08_02': {'Channels': ['P8-O2', 'T7-P7', 'FP1-F3', 'P7-O1', 'F3-C3', 'CZ-PZ', 'F8-T8', 'P4-O2', 'T8-P8', 'C4-P4', 'T7-FT9', 'C3-P3', 'FZ-CZ', 'F7-T7', 'FP2-F4', 'FT9-FT10', 'FP2-F8', 'FP1-F7', 'P3-O1', 'P7-T7', 'FT10-T8', 'F4-C4'], 'Start Time': '12:28:57', 'End Time': '13:28:57', 'Seizures Window': [2670, 2841]}, 'chb08_03': {'Channels': ['P8-O2', 'T7-P7', 'FP1-F3', 'P7-O1', 'F3-C3', 'CZ-PZ', 'F8-T8', 'P4-O2', 'T8-P8', 'C4-P4', 'T7-FT9', 'C3-P3', 'FZ-CZ', 'F7-T7', 'FP2-F4', 'FT9-FT10', 'FP2-F8', 'FP1-F7', 'P3-O1', 'P7-T7', 'FT10-T8', 'F4-C4'], 'Start Time': '13:28:59', 'End Time': '14:28:59', 'Seizures Window': []}, 'chb08_04': {'Channels': ['P8-O2', 'T7-P7', 'FP1-F3', 'P7-O1', 'F3-C3', 'CZ-PZ', 'F8-T8', 'P4-O2', 'T8-P8', 'C4-P4', 'T7-FT9', 'C3-P3', 'FZ-CZ', 'F7-T7', 'FP2-F4', 'FT9-FT10', 'FP2-F8', 'FP1-F7', 'P3-O1', 'P7-T7', 'FT10-T8', 'F4-C4'], 'Start Time': '14:29:07', 'End Time': '15:29:07', 'Seizures Window': []}, 'chb08_05': {'Channels': ['P8-O2', 'T7-P7', 'FP1-F3', 'P7-O1', 'F3-C3', 'CZ-PZ', 'F8-T8', 'P4-O2', 'T8-P8', 'C4-P4', 'T7-FT9', 'C3-P3', 'FZ-CZ', 'F7-T7', 'FP2-F4', 'FT9-FT10', 'FP2-F8', 'FP1-F7', 'P3-O1', 'P7-T7', 'FT10-T8', 'F4-C4'], 'Start Time': '15:29:14', 'End Time': '16:29:14', 'Seizures Window': [2856, 3046]}, 'chb08_10': {'Channels': ['P8-O2', 'T7-P7', 'FP1-F3', 'P7-O1', 'F3-C3', 'CZ-PZ', 'F8-T8', 'P4-O2', 'T8-P8', 'C4-P4', 'T7-FT9', 'C3-P3', 'FZ-CZ', 'F7-T7', 'FP2-F4', 'FT9-FT10', 'FP2-F8', 'FP1-F7', 'P3-O1', 'P7-T7', 'FT10-T8', 'F4-C4'], 'Start Time': '19:36:54', 'End Time': '20:36:54', 'Seizures Window': []}, 'chb08_11': {'Channels': ['P8-O2', 'T7-P7', 'FP1-F3', 'P7-O1', 'F3-C3', 'CZ-PZ', 'F8-T8', 'P4-O2', 'T8-P8', 'C4-P4', 'T7-FT9', 'C3-P3', 'FZ-CZ', 'F7-T7', 'FP2-F4', 'FT9-FT10', 'FP2-F8', 'FP1-F7', 'P3-O1', 'P7-T7', 'FT10-T8', 'F4-C4'], 'Start Time': '20:37:01', 'End Time': '21:37:01', 'Seizures Window': [2988, 3122]}, 'chb08_12': {'Channels': ['P8-O2', 'T7-P7', 'FP1-F3', 'P7-O1', 'F3-C3', 'CZ-PZ', 'F8-T8', 'P4-O2', 'T8-P8', 'C4-P4', 'T7-FT9', 'C3-P3', 'FZ-CZ', 'F7-T7', 'FP2-F4', 'FT9-FT10', 'FP2-F8', 'FP1-F7', 'P3-O1', 'P7-T7', 'FT10-T8', 'F4-C4'], 'Start Time': '21:37:08', 'End Time': '22:37:08', 'Seizures Window': []}, 'chb08_13': {'Channels': ['P8-O2', 'T7-P7', 'FP1-F3', 'P7-O1', 'F3-C3', 'CZ-PZ', 'F8-T8', 'P4-O2', 'T8-P8', 'C4-P4', 'T7-FT9', 'C3-P3', 'FZ-CZ', 'F7-T7', 'FP2-F4', 'FT9-FT10', 'FP2-F8', 'FP1-F7', 'P3-O1', 'P7-T7', 'FT10-T8', 'F4-C4'], 'Start Time': '22:37:16', 'End Time': '23:37:16', 'Seizures Window': [2417, 2577]}, 'chb08_14': {'Channels': ['P8-O2', 'T7-P7', 'FP1-F3', 'P7-O1', 'F3-C3', 'CZ-PZ', 'F8-T8', 'P4-O2', 'T8-P8', 'C4-P4', 'T7-FT9', 'C3-P3', 'FZ-CZ', 'F7-T7', 'FP2-F4', 'FT9-FT10', 'FP2-F8', 'FP1-F7', 'P3-O1', 'P7-T7', 'FT10-T8', 'F4-C4'], 'Start Time': '23:37:23', 'End Time': '24:37:23', 'Seizures Window': []}, 'chb08_15': {'Channels': ['P8-O2', 'T7-P7', 'FP1-F3', 'P7-O1', 'F3-C3', 'CZ-PZ', 'F8-T8', 'P4-O2', 'T8-P8', 'C4-P4', 'T7-FT9', 'C3-P3', 'FZ-CZ', 'F7-T7', 'FP2-F4', 'FT9-FT10', 'FP2-F8', 'FP1-F7', 'P3-O1', 'P7-T7', 'FT10-T8', 'F4-C4'], 'Start Time': '00:37:31', 'End Time': '1:37:31', 'Seizures Window': []}, 'chb08_16': {'Channels': ['P8-O2', 'T7-P7', 'FP1-F3', 'P7-O1', 'F3-C3', 'CZ-PZ', 'F8-T8', 'P4-O2', 'T8-P8', 'C4-P4', 'T7-FT9', 'C3-P3', 'FZ-CZ', 'F7-T7', 'FP2-F4', 'FT9-FT10', 'FP2-F8', 'FP1-F7', 'P3-O1', 'P7-T7', 'FT10-T8', 'F4-C4'], 'Start Time': '01:37:38', 'End Time': '2:37:38', 'Seizures Window': []}, 'chb08_17': {'Channels': ['P8-O2', 'T7-P7', 'FP1-F3', 'P7-O1', 'F3-C3', 'CZ-PZ', 'F8-T8', 'P4-O2', 'T8-P8', 'C4-P4', 'T7-FT9', 'C3-P3', 'FZ-CZ', 'F7-T7', 'FP2-F4', 'FT9-FT10', 'FP2-F8', 'FP1-F7', 'P3-O1', 'P7-T7', 'FT10-T8', 'F4-C4'], 'Start Time': '02:37:46', 'End Time': '3:37:46', 'Seizures Window': []}, 'chb08_18': {'Channels': ['P8-O2', 'T7-P7', 'FP1-F3', 'P7-O1', 'F3-C3', 'CZ-PZ', 'F8-T8', 'P4-O2', 'T8-P8', 'C4-P4', 'T7-FT9', 'C3-P3', 'FZ-CZ', 'F7-T7', 'FP2-F4', 'FT9-FT10', 'FP2-F8', 'FP1-F7', 'P3-O1', 'P7-T7', 'FT10-T8', 'F4-C4'], 'Start Time': '03:37:53', 'End Time': '4:37:53', 'Seizures Window': []}, 'chb08_19': {'Channels': ['P8-O2', 'T7-P7', 'FP1-F3', 'P7-O1', 'F3-C3', 'CZ-PZ', 'F8-T8', 'P4-O2', 'T8-P8', 'C4-P4', 'T7-FT9', 'C3-P3', 'FZ-CZ', 'F7-T7', 'FP2-F4', 'FT9-FT10', 'FP2-F8', 'FP1-F7', 'P3-O1', 'P7-T7', 'FT10-T8', 'F4-C4'], 'Start Time': '04:38:01', 'End Time': '5:38:01', 'Seizures Window': []}, 'chb08_20': {'Channels': ['P8-O2', 'T7-P7', 'FP1-F3', 'P7-O1', 'F3-C3', 'CZ-PZ', 'F8-T8', 'P4-O2', 'T8-P8', 'C4-P4', 'T7-FT9', 'C3-P3', 'FZ-CZ', 'F7-T7', 'FP2-F4', 'FT9-FT10', 'FP2-F8', 'FP1-F7', 'P3-O1', 'P7-T7', 'FT10-T8', 'F4-C4'], 'Start Time': '05:38:08', 'End Time': '6:38:08', 'Seizures Window': []}, 'chb08_21': {'Channels': ['P8-O2', 'T7-P7', 'FP1-F3', 'P7-O1', 'F3-C3', 'CZ-PZ', 'F8-T8', 'P4-O2', 'T8-P8', 'C4-P4', 'T7-FT9', 'C3-P3', 'FZ-CZ', 'F7-T7', 'FP2-F4', 'FT9-FT10', 'FP2-F8', 'FP1-F7', 'P3-O1', 'P7-T7', 'FT10-T8', 'F4-C4'], 'Start Time': '06:38:16', 'End Time': '7:38:16', 'Seizures Window': [2083, 2347]}, 'chb08_22': {'Channels': ['P8-O2', 'T7-P7', 'FP1-F3', 'P7-O1', 'F3-C3', 'CZ-PZ', 'F8-T8', 'P4-O2', 'T8-P8', 'C4-P4', 'T7-FT9', 'C3-P3', 'FZ-CZ', 'F7-T7', 'FP2-F4', 'FT9-FT10', 'FP2-F8', 'FP1-F7', 'P3-O1', 'P7-T7', 'FT10-T8', 'F4-C4'], 'Start Time': '07:38:23', 'End Time': '8:38:23', 'Seizures Window': []}, 'chb08_23': {'Channels': ['P8-O2', 'T7-P7', 'FP1-F3', 'P7-O1', 'F3-C3', 'CZ-PZ', 'F8-T8', 'P4-O2', 'T8-P8', 'C4-P4', 'T7-FT9', 'C3-P3', 'FZ-CZ', 'F7-T7', 'FP2-F4', 'FT9-FT10', 'FP2-F8', 'FP1-F7', 'P3-O1', 'P7-T7', 'FT10-T8', 'F4-C4'], 'Start Time': '08:38:31', 'End Time': '9:38:31', 'Seizures Window': []}, 'chb08_24': {'Channels': ['P8-O2', 'T7-P7', 'FP1-F3', 'P7-O1', 'F3-C3', 'CZ-PZ', 'F8-T8', 'P4-O2', 'T8-P8', 'C4-P4', 'T7-FT9', 'C3-P3', 'FZ-CZ', 'F7-T7', 'FP2-F4', 'FT9-FT10', 'FP2-F8', 'FP1-F7', 'P3-O1', 'P7-T7', 'FT10-T8', 'F4-C4'], 'Start Time': '09:38:38', 'End Time': '10:38:38', 'Seizures Window': []}, 'chb08_29': {'Channels': ['P8-O2', 'T7-P7', 'FP1-F3', 'P7-O1', 'F3-C3', 'CZ-PZ', 'F8-T8', 'P4-O2', 'T8-P8', 'C4-P4', 'T7-FT9', 'C3-P3', 'FZ-CZ', 'F7-T7', 'FP2-F4', 'FT9-FT10', 'FP2-F8', 'FP1-F7', 'P3-O1', 'P7-T7', 'FT10-T8', 'F4-C4'], 'Start Time': '13:51:25', 'End Time': '14:51:48', 'Seizures Window': []}, 'chb09_01': {'Channels': ['P8-O2', 'T7-P7', 'FP1-F3', 'P7-O1', 'F3-C3', 'CZ-PZ', 'F8-T8', 'P4-O2', 'T8-P8', 'C4-P4', 'T7-FT9', 'C3-P3', 'FZ-CZ', 'F7-T7', 'FP2-F4', 'FT9-FT10', 'FP2-F8', 'FP1-F7', 'P3-O1', 'P7-T7', 'FT10-T8', 'F4-C4'], 'Start Time': '17:59:37', 'End Time': '20:13:20', 'Seizures Window': []}, 'chb09_02': {'Channels': ['P8-O2', 'T7-P7', 'FP1-F3', 'P7-O1', 'F3-C3', 'CZ-PZ', 'F8-T8', 'P4-O2', 'T8-P8', 'C4-P4', 'T7-FT9', 'C3-P3', 'FZ-CZ', 'VNS', 'F7-T7', 'FP2-F4', 'FT9-FT10', 'FP2-F8', 'FP1-F7', 'P3-O1', 'P7-T7', 'FT10-T8', 'F4-C4'], 'Start Time': '20:14:28', 'End Time': '24:14:27', 'Seizures Window': []}, 'chb09_03': {'Channels': ['P8-O2', 'T7-P7', 'FP1-F3', 'P7-O1', 'F3-C3', 'CZ-PZ', 'F8-T8', 'P4-O2', 'T8-P8', 'C4-P4', 'T7-FT9', 'C3-P3', 'FZ-CZ', 'VNS', 'F7-T7', 'FP2-F4', 'FT9-FT10', 'FP2-F8', 'FP1-F7', 'P3-O1', 'P7-T7', 'FT10-T8', 'F4-C4'], 'Start Time': '00:20:27', 'End Time': '4:20:27', 'Seizures Window': []}, 'chb09_04': {'Channels': ['P8-O2', 'T7-P7', 'FP1-F3', 'P7-O1', 'F3-C3', 'CZ-PZ', 'F8-T8', 'P4-O2', 'T8-P8', 'C4-P4', 'T7-FT9', 'C3-P3', 'FZ-CZ', 'VNS', 'F7-T7', 'FP2-F4', 'FT9-FT10', 'FP2-F8', 'FP1-F7', 'P3-O1', 'P7-T7', 'FT10-T8', 'F4-C4'], 'Start Time': '04:20:30', 'End Time': '8:20:45', 'Seizures Window': []}, 'chb09_05': {'Channels': ['P8-O2', 'T7-P7', 'FP1-F3', 'P7-O1', 'F3-C3', 'CZ-PZ', 'F8-T8', 'P4-O2', 'T8-P8', 'C4-P4', 'T7-FT9', 'C3-P3', 'FZ-CZ', 'VNS', 'F7-T7', 'FP2-F4', 'FT9-FT10', 'FP2-F8', 'FP1-F7', 'P3-O1', 'P7-T7', 'FT10-T8', 'F4-C4'], 'Start Time': '08:21:34', 'End Time': '12:21:34', 'Seizures Window': []}, 'chb09_06': {'Channels': ['P8-O2', 'T7-P7', 'FP1-F3', 'P7-O1', 'F3-C3', 'CZ-PZ', 'F8-T8', 'P4-O2', 'T8-P8', 'C4-P4', 'T7-FT9', 'C3-P3', 'FZ-CZ', 'VNS', 'F7-T7', 'FP2-F4', 'FT9-FT10', 'FP2-F8', 'FP1-F7', 'P3-O1', 'P7-T7', 'FT10-T8', 'F4-C4'], 'Start Time': '12:21:42', 'End Time': '16:21:41', 'Seizures Window': [12231, 12295]}, 'chb09_07': {'Channels': ['P8-O2', 'T7-P7', 'FP1-F3', 'P7-O1', 'F3-C3', 'CZ-PZ', 'F8-T8', 'P4-O2', 'T8-P8', 'C4-P4', 'T7-FT9', 'C3-P3', 'FZ-CZ', 'VNS', 'F7-T7', 'FP2-F4', 'FT9-FT10', 'FP2-F8', 'FP1-F7', 'P3-O1', 'P7-T7', 'FT10-T8', 'F4-C4'], 'Start Time': '16:22:09', 'End Time': '20:22:09', 'Seizures Window': []}, 'chb09_08': {'Channels': ['P8-O2', 'T7-P7', 'FP1-F3', 'P7-O1', 'F3-C3', 'CZ-PZ', 'F8-T8', 'P4-O2', 'T8-P8', 'C4-P4', 'T7-FT9', 'C3-P3', 'FZ-CZ', 'VNS', 'F7-T7', 'FP2-F4', 'FT9-FT10', 'FP2-F8', 'FP1-F7', 'P3-O1', 'P7-T7', 'FT10-T8', 'F4-C4'], 'Start Time': '20:22:17', 'End Time': '24:22:17', 'Seizures Window': [2951, 3030, 9196, 9267]}, 'chb09_09': {'Channels': ['P8-O2', 'T7-P7', 'FP1-F3', 'P7-O1', 'F3-C3', 'CZ-PZ', 'F8-T8', 'P4-O2', 'T8-P8', 'C4-P4', 'T7-FT9', 'C3-P3', 'FZ-CZ', 'VNS', 'F7-T7', 'FP2-F4', 'FT9-FT10', 'FP2-F8', 'FP1-F7', 'P3-O1', 'P7-T7', 'FT10-T8', 'F4-C4'], 'Start Time': '00:22:25', 'End Time': '4:22:25', 'Seizures Window': []}, 'chb09_10': {'Channels': ['P8-O2', 'T7-P7', 'FP1-F3', 'P7-O1', 'F3-C3', 'CZ-PZ', 'F8-T8', 'P4-O2', 'T8-P8', 'C4-P4', 'T7-FT9', 'C3-P3', 'FZ-CZ', 'VNS', 'F7-T7', 'FP2-F4', 'FT9-FT10', 'FP2-F8', 'FP1-F7', 'P3-O1', 'P7-T7', 'FT10-T8', 'F4-C4'], 'Start Time': '04:22:33', 'End Time': '8:22:33', 'Seizures Window': []}, 'chb09_11': {'Channels': ['P8-O2', 'T7-P7', 'FP1-F3', 'P7-O1', 'F3-C3', 'CZ-PZ', 'F8-T8', 'P4-O2', 'T8-P8', 'C4-P4', 'T7-FT9', 'C3-P3', 'FZ-CZ', 'VNS', 'F7-T7', 'FP2-F4', 'FT9-FT10', 'FP2-F8', 'FP1-F7', 'P3-O1', 'P7-T7', 'FT10-T8', 'F4-C4'], 'Start Time': '08:22:40', 'End Time': '12:22:40', 'Seizures Window': []}, 'chb09_12': {'Channels': ['P8-O2', 'T7-P7', 'FP1-F3', 'P7-O1', 'F3-C3', 'CZ-PZ', 'F8-T8', 'P4-O2', 'T8-P8', 'C4-P4', 'T7-FT9', 'C3-P3', 'FZ-CZ', 'VNS', 'F7-T7', 'FP2-F4', 'FT9-FT10', 'FP2-F8', 'FP1-F7', 'P3-O1', 'P7-T7', 'FT10-T8', 'F4-C4'], 'Start Time': '12:22:47', 'End Time': '16:22:47', 'Seizures Window': []}, 'chb09_13': {'Channels': ['P8-O2', 'T7-P7', 'FP1-F3', 'P7-O1', 'F3-C3', 'CZ-PZ', 'F8-T8', 'P4-O2', 'T8-P8', 'C4-P4', 'T7-FT9', 'C3-P3', 'FZ-CZ', 'VNS', 'F7-T7', 'FP2-F4', 'FT9-FT10', 'FP2-F8', 'FP1-F7', 'P3-O1', 'P7-T7', 'FT10-T8', 'F4-C4'], 'Start Time': '16:23:00', 'End Time': '20:23:05', 'Seizures Window': []}, 'chb09_14': {'Channels': ['P8-O2', 'T7-P7', 'FP1-F3', 'P7-O1', 'F3-C3', 'CZ-PZ', 'F8-T8', 'P4-O2', 'T8-P8', 'C4-P4', 'T7-FT9', 'C3-P3', 'FZ-CZ', 'VNS', 'F7-T7', 'FP2-F4', 'FT9-FT10', 'FP2-F8', 'FP1-F7', 'P3-O1', 'P7-T7', 'FT10-T8', 'F4-C4'], 'Start Time': '20:23:54', 'End Time': '24:24:05', 'Seizures Window': []}, 'chb09_15': {'Channels': ['P8-O2', 'T7-P7', 'FP1-F3', 'P7-O1', 'F3-C3', 'CZ-PZ', 'F8-T8', 'P4-O2', 'T8-P8', 'C4-P4', 'T7-FT9', 'C3-P3', 'FZ-CZ', 'VNS', 'F7-T7', 'FP2-F4', 'FT9-FT10', 'FP2-F8', 'FP1-F7', 'P3-O1', 'P7-T7', 'FT10-T8', 'F4-C4'], 'Start Time': '00:26:59', 'End Time': '4:27:20', 'Seizures Window': []}, 'chb09_16': {'Channels': ['P8-O2', 'T7-P7', 'FP1-F3', 'P7-O1', 'F3-C3', 'CZ-PZ', 'F8-T8', 'P4-O2', 'T8-P8', 'C4-P4', 'T7-FT9', 'C3-P3', 'FZ-CZ', 'VNS', 'F7-T7', 'FP2-F4', 'FT9-FT10', 'FP2-F8', 'FP1-F7', 'P3-O1', 'P7-T7', 'FT10-T8', 'F4-C4'], 'Start Time': '04:28:46', 'End Time': '8:15:17', 'Seizures Window': []}, 'chb09_17': {'Channels': ['P8-O2', 'T7-P7', 'FP1-F3', 'P7-O1', 'F3-C3', 'CZ-PZ', 'F8-T8', 'P4-O2', 'T8-P8', 'C4-P4', 'T7-FT9', 'C3-P3', 'FZ-CZ', 'VNS', 'F7-T7', 'FP2-F4', 'FT9-FT10', 'FP2-F8', 'FP1-F7', 'P3-O1', 'P7-T7', 'FT10-T8', 'F4-C4'], 'Start Time': '08:16:09', 'End Time': '8:32:23', 'Seizures Window': []}, 'chb09_18': {'Channels': ['P8-O2', 'T7-P7', 'FP1-F3', 'P7-O1', 'F3-C3', 'CZ-PZ', 'F8-T8', 'P4-O2', 'T8-P8', 'C4-P4', 'T7-FT9', 'C3-P3', 'FZ-CZ', 'VNS', 'F7-T7', 'FP2-F4', 'FT9-FT10', 'FP2-F8', 'FP1-F7', 'P3-O1', 'P7-T7', 'FT10-T8', 'F4-C4'], 'Start Time': '08:34:42', 'End Time': '12:34:42', 'Seizures Window': []}, 'chb09_19': {'Channels': ['P8-O2', 'T7-P7', 'FP1-F3', 'P7-O1', 'F3-C3', 'CZ-PZ', 'F8-T8', 'P4-O2', 'T8-P8', 'C4-P4', 'T7-FT9', 'C3-P3', 'FZ-CZ', 'VNS', 'F7-T7', 'FP2-F4', 'FT9-FT10', 'FP2-F8', 'FP1-F7', 'P3-O1', 'P7-T7', 'FT10-T8', 'F4-C4'], 'Start Time': '12:34:46', 'End Time': '14:09:46', 'Seizures Window': [5299, 5361]}, 'chb10_01': {'Channels': ['P8-O2', 'T7-P7', 'FP1-F3', 'P7-O1', 'F3-C3', 'CZ-PZ', 'F8-T8', 'P4-O2', 'T8-P8', 'C4-P4', 'T7-FT9', 'C3-P3', 'FZ-CZ', 'F7-T7', 'FP2-F4', 'FT9-FT10', 'FP2-F8', 'FP1-F7', 'P3-O1', 'P7-T7', 'FT10-T8', 'F4-C4'], 'Start Time': '17:52:43', 'End Time': '19:53:03', 'Seizures Window': []}, 'chb10_02': {'Channels': ['P8-O2', 'T7-P7', 'FP1-F3', 'P7-O1', 'F3-C3', 'CZ-PZ', 'F8-T8', 'P4-O2', 'T8-P8', 'C4-P4', 'T7-FT9', 'C3-P3', 'FZ-CZ', 'F7-T7', 'FP2-F4', 'FT9-FT10', 'FP2-F8', 'FP1-F7', 'P3-O1', 'P7-T7', 'FT10-T8', 'F4-C4'], 'Start Time': '19:53:45', 'End Time': '21:53:45', 'Seizures Window': []}, 'chb10_03': {'Channels': ['P8-O2', 'T7-P7', 'FP1-F3', 'P7-O1', 'F3-C3', 'CZ-PZ', 'F8-T8', 'P4-O2', 'T8-P8', 'C4-P4', 'T7-FT9', 'C3-P3', 'FZ-CZ', 'F7-T7', 'FP2-F4', 'FT9-FT10', 'FP2-F8', 'FP1-F7', 'P3-O1', 'P7-T7', 'FT10-T8', 'F4-C4'], 'Start Time': '21:53:52', 'End Time': '23:53:52', 'Seizures Window': []}, 'chb10_04': {'Channels': ['P8-O2', 'T7-P7', 'FP1-F3', 'P7-O1', 'F3-C3', 'CZ-PZ', 'F8-T8', 'P4-O2', 'T8-P8', 'C4-P4', 'T7-FT9', 'C3-P3', 'FZ-CZ', 'F7-T7', 'FP2-F4', 'FT9-FT10', 'FP2-F8', 'FP1-F7', 'P3-O1', 'P7-T7', 'FT10-T8', 'F4-C4'], 'Start Time': '23:54:00', 'End Time': '25:54:00', 'Seizures Window': []}, 'chb10_05': {'Channels': ['P8-O2', 'T7-P7', 'FP1-F3', 'P7-O1', 'F3-C3', 'CZ-PZ', 'F8-T8', 'P4-O2', 'T8-P8', 'C4-P4', 'T7-FT9', 'C3-P3', 'FZ-CZ', 'F7-T7', 'FP2-F4', 'FT9-FT10', 'FP2-F8', 'FP1-F7', 'P3-O1', 'P7-T7', 'FT10-T8', 'F4-C4'], 'Start Time': '01:54:07', 'End Time': '3:54:07', 'Seizures Window': []}, 'chb10_06': {'Channels': ['P8-O2', 'T7-P7', 'FP1-F3', 'P7-O1', 'F3-C3', 'CZ-PZ', 'F8-T8', 'P4-O2', 'T8-P8', 'C4-P4', 'T7-FT9', 'C3-P3', 'FZ-CZ', 'F7-T7', 'FP2-F4', 'FT9-FT10', 'FP2-F8', 'FP1-F7', 'P3-O1', 'P7-T7', 'FT10-T8', 'F4-C4'], 'Start Time': '03:54:15', 'End Time': '5:54:15', 'Seizures Window': []}, 'chb10_07': {'Channels': ['P8-O2', 'T7-P7', 'FP1-F3', 'P7-O1', 'F3-C3', 'CZ-PZ', 'F8-T8', 'P4-O2', 'T8-P8', 'C4-P4', 'T7-FT9', 'C3-P3', 'FZ-CZ', 'F7-T7', 'FP2-F4', 'FT9-FT10', 'FP2-F8', 'FP1-F7', 'P3-O1', 'P7-T7', 'FT10-T8', 'F4-C4'], 'Start Time': '05:54:23', 'End Time': '7:54:23', 'Seizures Window': []}, 'chb10_08': {'Channels': ['P8-O2', 'T7-P7', 'FP1-F3', 'P7-O1', 'F3-C3', 'CZ-PZ', 'F8-T8', 'P4-O2', 'T8-P8', 'C4-P4', 'T7-FT9', 'C3-P3', 'FZ-CZ', 'F7-T7', 'FP2-F4', 'FT9-FT10', 'FP2-F8', 'FP1-F7', 'P3-O1', 'P7-T7', 'FT10-T8', 'F4-C4'], 'Start Time': '07:54:30', 'End Time': '9:54:30', 'Seizures Window': []}, 'chb10_12': {'Channels': ['P8-O2', 'T7-P7', 'FP1-F3', 'P7-O1', 'F3-C3', 'CZ-PZ', 'F8-T8', 'P4-O2', 'T8-P8', 'C4-P4', 'T7-FT9', 'C3-P3', 'FZ-CZ', 'F7-T7', 'FP2-F4', 'FT9-FT10', 'FP2-F8', 'FP1-F7', 'P3-O1', 'P7-T7', 'FT10-T8', 'F4-C4'], 'Start Time': '15:55:00', 'End Time': '17:55:00', 'Seizures Window': [6313, 6348]}, 'chb10_13': {'Channels': ['P8-O2', 'T7-P7', 'FP1-F3', 'P7-O1', 'F3-C3', 'CZ-PZ', 'F8-T8', 'P4-O2', 'T8-P8', 'C4-P4', 'T7-FT9', 'C3-P3', 'FZ-CZ', 'F7-T7', 'FP2-F4', 'FT9-FT10', 'FP2-F8', 'FP1-F7', 'P3-O1', 'P7-T7', 'FT10-T8', 'F4-C4'], 'Start Time': '17:55:08', 'End Time': '19:55:08', 'Seizures Window': []}, 'chb10_14': {'Channels': ['P8-O2', 'T7-P7', 'FP1-F3', 'P7-O1', 'F3-C3', 'CZ-PZ', 'F8-T8', 'P4-O2', 'T8-P8', 'C4-P4', 'T7-FT9', 'C3-P3', 'FZ-CZ', 'F7-T7', 'FP2-F4', 'FT9-FT10', 'FP2-F8', 'FP1-F7', 'P3-O1', 'P7-T7', 'FT10-T8', 'F4-C4'], 'Start Time': '19:55:15', 'End Time': '21:55:15', 'Seizures Window': []}, 'chb10_15': {'Channels': ['P8-O2', 'T7-P7', 'FP1-F3', 'P7-O1', 'F3-C3', 'CZ-PZ', 'F8-T8', 'P4-O2', 'T8-P8', 'C4-P4', 'T7-FT9', 'C3-P3', 'FZ-CZ', 'F7-T7', 'FP2-F4', 'FT9-FT10', 'FP2-F8', 'FP1-F7', 'P3-O1', 'P7-T7', 'FT10-T8', 'F4-C4'], 'Start Time': '21:55:23', 'End Time': '23:55:23', 'Seizures Window': []}, 'chb10_16': {'Channels': ['P8-O2', 'T7-P7', 'FP1-F3', 'P7-O1', 'F3-C3', 'CZ-PZ', 'F8-T8', 'P4-O2', 'T8-P8', 'C4-P4', 'T7-FT9', 'C3-P3', 'FZ-CZ', 'F7-T7', 'FP2-F4', 'FT9-FT10', 'FP2-F8', 'FP1-F7', 'P3-O1', 'P7-T7', 'FT10-T8', 'F4-C4'], 'Start Time': '23:55:30', 'End Time': '25:55:30', 'Seizures Window': []}, 'chb10_17': {'Channels': ['P8-O2', 'T7-P7', 'FP1-F3', 'P7-O1', 'F3-C3', 'CZ-PZ', 'F8-T8', 'P4-O2', 'T8-P8', 'C4-P4', 'T7-FT9', 'C3-P3', 'FZ-CZ', 'F7-T7', 'FP2-F4', 'FT9-FT10', 'FP2-F8', 'FP1-F7', 'P3-O1', 'P7-T7', 'FT10-T8', 'F4-C4'], 'Start Time': '01:55:37', 'End Time': '3:55:37', 'Seizures Window': []}, 'chb10_18': {'Channels': ['P8-O2', 'T7-P7', 'FP1-F3', 'P7-O1', 'F3-C3', 'CZ-PZ', 'F8-T8', 'P4-O2', 'T8-P8', 'C4-P4', 'T7-FT9', 'C3-P3', 'FZ-CZ', 'F7-T7', 'FP2-F4', 'FT9-FT10', 'FP2-F8', 'FP1-F7', 'P3-O1', 'P7-T7', 'FT10-T8', 'F4-C4'], 'Start Time': '03:55:45', 'End Time': '5:55:45', 'Seizures Window': []}, 'chb10_19': {'Channels': ['P8-O2', 'T7-P7', 'FP1-F3', 'P7-O1', 'F3-C3', 'CZ-PZ', 'F8-T8', 'P4-O2', 'T8-P8', 'C4-P4', 'T7-FT9', 'C3-P3', 'FZ-CZ', 'F7-T7', 'FP2-F4', 'FT9-FT10', 'FP2-F8', 'FP1-F7', 'P3-O1', 'P7-T7', 'FT10-T8', 'F4-C4'], 'Start Time': '05:55:52', 'End Time': '7:55:52', 'Seizures Window': []}, 'chb10_20': {'Channels': ['P8-O2', 'T7-P7', 'FP1-F3', 'P7-O1', 'F3-C3', 'CZ-PZ', 'F8-T8', 'P4-O2', 'T8-P8', 'C4-P4', 'T7-FT9', 'C3-P3', 'FZ-CZ', 'F7-T7', 'FP2-F4', 'FT9-FT10', 'FP2-F8', 'FP1-F7', 'P3-O1', 'P7-T7', 'FT10-T8', 'F4-C4'], 'Start Time': '07:56:00', 'End Time': '9:56:12', 'Seizures Window': [6888, 6958]}, 'chb10_21': {'Channels': ['P8-O2', 'T7-P7', 'FP1-F3', 'P7-O1', 'F3-C3', 'CZ-PZ', 'F8-T8', 'P4-O2', 'T8-P8', 'C4-P4', 'T7-FT9', 'C3-P3', 'FZ-CZ', 'F7-T7', 'FP2-F4', 'FT9-FT10', 'FP2-F8', 'FP1-F7', 'P3-O1', 'P7-T7', 'FT10-T8', 'F4-C4'], 'Start Time': '09:58:35', 'End Time': '11:58:35', 'Seizures Window': []}, 'chb10_22': {'Channels': ['P8-O2', 'T7-P7', 'FP1-F3', 'P7-O1', 'F3-C3', 'CZ-PZ', 'F8-T8', 'P4-O2', 'T8-P8', 'C4-P4', 'T7-FT9', 'C3-P3', 'FZ-CZ', 'F7-T7', 'FP2-F4', 'FT9-FT10', 'FP2-F8', 'FP1-F7', 'P3-O1', 'P7-T7', 'FT10-T8', 'F4-C4'], 'Start Time': '11:58:43', 'End Time': '13:58:43', 'Seizures Window': []}, 'chb10_27': {'Channels': ['P8-O2', 'T7-P7', 'FP1-F3', 'P7-O1', 'F3-C3', 'CZ-PZ', 'F8-T8', 'P4-O2', 'T8-P8', 'C4-P4', 'T7-FT9', 'C3-P3', 'FZ-CZ', 'F7-T7', 'FP2-F4', 'FT9-FT10', 'FP2-F8', 'FP1-F7', 'P3-O1', 'P7-T7', 'FT10-T8', 'F4-C4'], 'Start Time': '22:02:08', 'End Time': '24:02:26', 'Seizures Window': [2382, 2447]}, 'chb10_28': {'Channels': ['P8-O2', 'T7-P7', 'FP1-F3', 'P7-O1', 'F3-C3', 'CZ-PZ', 'F8-T8', 'P4-O2', 'T8-P8', 'C4-P4', 'T7-FT9', 'C3-P3', 'FZ-CZ', 'F7-T7', 'FP2-F4', 'FT9-FT10', 'FP2-F8', 'FP1-F7', 'P3-O1', 'P7-T7', 'FT10-T8', 'F4-C4'], 'Start Time': '00:03:04', 'End Time': '2:03:04', 'Seizures Window': []}, 'chb10_30': {'Channels': ['P8-O2', 'T7-P7', 'FP1-F3', 'P7-O1', 'F3-C3', 'CZ-PZ', 'F8-T8', 'P4-O2', 'T8-P8', 'C4-P4', 'T7-FT9', 'C3-P3', 'FZ-CZ', 'F7-T7', 'FP2-F4', 'FT9-FT10', 'FP2-F8', 'FP1-F7', 'P3-O1', 'P7-T7', 'FT10-T8', 'F4-C4'], 'Start Time': '04:03:19', 'End Time': '6:03:32', 'Seizures Window': [3021, 3079]}, 'chb10_31': {'Channels': ['P8-O2', 'T7-P7', 'FP1-F3', 'P7-O1', 'F3-C3', 'CZ-PZ', 'F8-T8', 'P4-O2', 'T8-P8', 'C4-P4', 'T7-FT9', 'C3-P3', 'FZ-CZ', 'F7-T7', 'FP2-F4', 'FT9-FT10', 'FP2-F8', 'FP1-F7', 'P3-O1', 'P7-T7', 'FT10-T8', 'F4-C4'], 'Start Time': '06:04:00', 'End Time': '8:04:21', 'Seizures Window': [3801, 3877]}, 'chb10_38': {'Channels': ['P8-O2', 'T7-P7', 'FP1-F3', 'P7-O1', 'F3-C3', 'CZ-PZ', 'F8-T8', 'P4-O2', 'T8-P8', 'C4-P4', 'T7-FT9', 'C3-P3', 'FZ-CZ', 'F7-T7', 'FP2-F4', 'FT9-FT10', 'FP2-F8', 'FP1-F7', 'P3-O1', 'P7-T7', 'FT10-T8', 'F4-C4'], 'Start Time': '14:33:05', 'End Time': '16:33:05', 'Seizures Window': [4618, 4707]}, 'chb10_89': {'Channels': ['P8-O2', 'T7-P7', 'FP1-F3', 'P7-O1', 'F3-C3', 'CZ-PZ', 'F8-T8', 'P4-O2', 'T8-P8', 'C4-P4', 'T7-FT9', 'C3-P3', 'FZ-CZ', 'F7-T7', 'FP2-F4', 'FT9-FT10', 'FP2-F8', 'FP1-F7', 'P3-O1', 'P7-T7', 'FT10-T8', 'F4-C4'], 'Start Time': '16:21:55', 'End Time': '18:21:55', 'Seizures Window': [1383, 1437]}, 'chb11_01': {'Channels': ['P8-O2', 'T7-P7', 'FP1-F3', 'P7-O1', 'F3-C3', 'CZ-PZ', 'F8-T8', 'P4-O2', 'T8-P8', 'C4-P4', 'T7-FT9', 'C3-P3', 'FZ-CZ', 'F7-T7', 'FP2-F4', 'FT9-FT10', 'FP2-F8', 'FP1-F7', 'P3-O1', 'P7-T7', 'FT10-T8', 'F4-C4'], 'Start Time': '14:19:16', 'End Time': '15:19:14', 'Seizures Window': []}, 'chb11_02': {'Channels': ['P8-O2', 'T7-P7', 'FP1-F3', 'P7-O1', 'F3-C3', 'CZ-PZ', 'F8-T8', 'P4-O2', 'T8-P8', 'C4-P4', 'T7-FT9', 'C3-P3', 'FZ-CZ', 'F7-T7', 'FP2-F4', 'FT9-FT10', 'FP2-F8', 'FP1-F7', 'P3-O1', 'P7-T7', 'FT10-T8', '-', 'F4-C4'], 'Start Time': '15:19:43', 'End Time': '16:19:43', 'Seizures Window': []}, 'chb11_03': {'Channels': ['P8-O2', 'T7-P7', 'FP1-F3', 'P7-O1', 'F3-C3', 'CZ-PZ', 'F8-T8', 'P4-O2', 'T8-P8', 'C4-P4', 'T7-FT9', 'C3-P3', 'FZ-CZ', 'F7-T7', 'FP2-F4', 'FT9-FT10', 'FP2-F8', 'FP1-F7', 'P3-O1', 'P7-T7', 'FT10-T8', '-', 'F4-C4'], 'Start Time': '16:19:50', 'End Time': '17:19:50', 'Seizures Window': []}, 'chb11_04': {'Channels': ['P8-O2', 'T7-P7', 'FP1-F3', 'P7-O1', 'F3-C3', 'CZ-PZ', 'F8-T8', 'P4-O2', 'T8-P8', 'C4-P4', 'T7-FT9', 'C3-P3', 'FZ-CZ', 'F7-T7', 'FP2-F4', 'FT9-FT10', 'FP2-F8', 'FP1-F7', 'P3-O1', 'P7-T7', 'FT10-T8', '-', 'F4-C4'], 'Start Time': '17:19:57', 'End Time': '18:19:57', 'Seizures Window': []}, 'chb11_05': {'Channels': ['P8-O2', 'T7-P7', 'FP1-F3', 'P7-O1', 'F3-C3', 'CZ-PZ', 'F8-T8', 'P4-O2', 'T8-P8', 'C4-P4', 'T7-FT9', 'C3-P3', 'FZ-CZ', 'F7-T7', 'FP2-F4', 'FT9-FT10', 'FP2-F8', 'FP1-F7', 'P3-O1', 'P7-T7', 'FT10-T8', '-', 'F4-C4'], 'Start Time': '18:20:03', 'End Time': '19:20:03', 'Seizures Window': []}, 'chb11_06': {'Channels': ['P8-O2', 'T7-P7', 'FP1-F3', 'P7-O1', 'F3-C3', 'CZ-PZ', 'F8-T8', 'P4-O2', 'T8-P8', 'C4-P4', 'T7-FT9', 'C3-P3', 'FZ-CZ', 'F7-T7', 'FP2-F4', 'FT9-FT10', 'FP2-F8', 'FP1-F7', 'P3-O1', 'P7-T7', 'FT10-T8', '-', 'F4-C4'], 'Start Time': '19:20:10', 'End Time': '20:20:10', 'Seizures Window': []}, 'chb11_07': {'Channels': ['P8-O2', 'T7-P7', 'FP1-F3', 'P7-O1', 'F3-C3', 'CZ-PZ', 'F8-T8', 'P4-O2', 'T8-P8', 'C4-P4', 'T7-FT9', 'C3-P3', 'FZ-CZ', 'F7-T7', 'FP2-F4', 'FT9-FT10', 'FP2-F8', 'FP1-F7', 'P3-O1', 'P7-T7', 'FT10-T8', '-', 'F4-C4'], 'Start Time': '20:20:17', 'End Time': '21:20:17', 'Seizures Window': []}, 'chb11_08': {'Channels': ['P8-O2', 'T7-P7', 'FP1-F3', 'P7-O1', 'F3-C3', 'CZ-PZ', 'F8-T8', 'P4-O2', 'T8-P8', 'C4-P4', 'T7-FT9', 'C3-P3', 'FZ-CZ', 'F7-T7', 'FP2-F4', 'FT9-FT10', 'FP2-F8', 'FP1-F7', 'P3-O1', 'P7-T7', 'FT10-T8', '-', 'F4-C4'], 'Start Time': '21:20:24', 'End Time': '22:20:24', 'Seizures Window': []}, 'chb11_09': {'Channels': ['P8-O2', 'T7-P7', 'FP1-F3', 'P7-O1', 'F3-C3', 'CZ-PZ', 'F8-T8', 'P4-O2', 'T8-P8', 'C4-P4', 'T7-FT9', 'C3-P3', 'FZ-CZ', 'F7-T7', 'FP2-F4', 'FT9-FT10', 'FP2-F8', 'FP1-F7', 'P3-O1', 'P7-T7', 'FT10-T8', '-', 'F4-C4'], 'Start Time': '22:20:31', 'End Time': '23:20:31', 'Seizures Window': []}, 'chb11_10': {'Channels': ['P8-O2', 'T7-P7', 'FP1-F3', 'P7-O1', 'F3-C3', 'CZ-PZ', 'F8-T8', 'P4-O2', 'T8-P8', 'C4-P4', 'T7-FT9', 'C3-P3', 'FZ-CZ', 'F7-T7', 'FP2-F4', 'FT9-FT10', 'FP2-F8', 'FP1-F7', 'P3-O1', 'P7-T7', 'FT10-T8', '-', 'F4-C4'], 'Start Time': '23:20:37', 'End Time': '24:20:37', 'Seizures Window': []}, 'chb11_11': {'Channels': ['P8-O2', 'T7-P7', 'FP1-F3', 'P7-O1', 'F3-C3', 'CZ-PZ', 'F8-T8', 'P4-O2', 'T8-P8', 'C4-P4', 'T7-FT9', 'C3-P3', 'FZ-CZ', 'F7-T7', 'FP2-F4', 'FT9-FT10', 'FP2-F8', 'FP1-F7', 'P3-O1', 'P7-T7', 'FT10-T8', '-', 'F4-C4'], 'Start Time': '00:20:44', 'End Time': '1:20:44', 'Seizures Window': []}, 'chb11_12': {'Channels': ['P8-O2', 'T7-P7', 'FP1-F3', 'P7-O1', 'F3-C3', 'CZ-PZ', 'F8-T8', 'P4-O2', 'T8-P8', 'C4-P4', 'T7-FT9', 'C3-P3', 'FZ-CZ', 'F7-T7', 'FP2-F4', 'FT9-FT10', 'FP2-F8', 'FP1-F7', 'P3-O1', 'P7-T7', 'FT10-T8', '-', 'F4-C4'], 'Start Time': '01:20:51', 'End Time': '2:20:51', 'Seizures Window': []}, 'chb11_13': {'Channels': ['P8-O2', 'T7-P7', 'FP1-F3', 'P7-O1', 'F3-C3', 'CZ-PZ', 'F8-T8', 'P4-O2', 'T8-P8', 'C4-P4', 'T7-FT9', 'C3-P3', 'FZ-CZ', 'F7-T7', 'FP2-F4', 'FT9-FT10', 'FP2-F8', 'FP1-F7', 'P3-O1', 'P7-T7', 'FT10-T8', '-', 'F4-C4'], 'Start Time': '02:20:58', 'End Time': '3:20:58', 'Seizures Window': []}, 'chb11_14': {'Channels': ['P8-O2', 'T7-P7', 'FP1-F3', 'P7-O1', 'F3-C3', 'CZ-PZ', 'F8-T8', 'P4-O2', 'T8-P8', 'C4-P4', 'T7-FT9', 'C3-P3', 'FZ-CZ', 'F7-T7', 'FP2-F4', 'FT9-FT10', 'FP2-F8', 'FP1-F7', 'P3-O1', 'P7-T7', 'FT10-T8', '-', 'F4-C4'], 'Start Time': '03:21:04', 'End Time': '4:21:04', 'Seizures Window': []}, 'chb11_15': {'Channels': ['P8-O2', 'T7-P7', 'FP1-F3', 'P7-O1', 'F3-C3', 'CZ-PZ', 'F8-T8', 'P4-O2', 'T8-P8', 'C4-P4', 'T7-FT9', 'C3-P3', 'FZ-CZ', 'F7-T7', 'FP2-F4', 'FT9-FT10', 'FP2-F8', 'FP1-F7', 'P3-O1', 'P7-T7', 'FT10-T8', '-', 'F4-C4'], 'Start Time': '04:21:11', 'End Time': '5:21:11', 'Seizures Window': []}, 'chb11_16': {'Channels': ['P8-O2', 'T7-P7', 'FP1-F3', 'P7-O1', 'F3-C3', 'CZ-PZ', 'F8-T8', 'P4-O2', 'T8-P8', 'C4-P4', 'T7-FT9', 'C3-P3', 'FZ-CZ', 'F7-T7', 'FP2-F4', 'FT9-FT10', 'FP2-F8', 'FP1-F7', 'P3-O1', 'P7-T7', 'FT10-T8', '-', 'F4-C4'], 'Start Time': '05:21:18', 'End Time': '6:21:18', 'Seizures Window': []}, 'chb11_17': {'Channels': ['P8-O2', 'T7-P7', 'FP1-F3', 'P7-O1', 'F3-C3', 'CZ-PZ', 'F8-T8', 'P4-O2', 'T8-P8', 'C4-P4', 'T7-FT9', 'C3-P3', 'FZ-CZ', 'F7-T7', 'FP2-F4', 'FT9-FT10', 'FP2-F8', 'FP1-F7', 'P3-O1', 'P7-T7', 'FT10-T8', '-', 'F4-C4'], 'Start Time': '06:21:25', 'End Time': '7:21:25', 'Seizures Window': []}, 'chb11_18': {'Channels': ['P8-O2', 'T7-P7', 'FP1-F3', 'P7-O1', 'F3-C3', 'CZ-PZ', 'F8-T8', 'P4-O2', 'T8-P8', 'C4-P4', 'T7-FT9', 'C3-P3', 'FZ-CZ', 'F7-T7', 'FP2-F4', 'FT9-FT10', 'FP2-F8', 'FP1-F7', 'P3-O1', 'P7-T7', 'FT10-T8', '-', 'F4-C4'], 'Start Time': '07:21:32', 'End Time': '8:21:32', 'Seizures Window': []}, 'chb11_19': {'Channels': ['P8-O2', 'T7-P7', 'FP1-F3', 'P7-O1', 'F3-C3', 'CZ-PZ', 'F8-T8', 'P4-O2', 'T8-P8', 'C4-P4', 'T7-FT9', 'C3-P3', 'FZ-CZ', 'F7-T7', 'FP2-F4', 'FT9-FT10', 'FP2-F8', 'FP1-F7', 'P3-O1', 'P7-T7', 'FT10-T8', '-', 'F4-C4'], 'Start Time': '08:21:39', 'End Time': '9:21:39', 'Seizures Window': []}, 'chb11_24': {'Channels': ['P8-O2', 'T7-P7', 'FP1-F3', 'P7-O1', 'F3-C3', 'CZ-PZ', 'F8-T8', 'P4-O2', 'T8-P8', 'C4-P4', 'T7-FT9', 'C3-P3', 'FZ-CZ', 'F7-T7', 'FP2-F4', 'FT9-FT10', 'FP2-F8', 'FP1-F7', 'P3-O1', 'P7-T7', 'FT10-T8', '-', 'F4-C4'], 'Start Time': '13:22:16', 'End Time': '14:22:16', 'Seizures Window': []}, 'chb11_25': {'Channels': ['P8-O2', 'T7-P7', 'FP1-F3', 'P7-O1', 'F3-C3', 'CZ-PZ', 'F8-T8', 'P4-O2', 'T8-P8', 'C4-P4', 'T7-FT9', 'C3-P3', 'FZ-CZ', 'F7-T7', 'FP2-F4', 'FT9-FT10', 'FP2-F8', 'FP1-F7', 'P3-O1', 'P7-T7', 'FT10-T8', '-', 'F4-C4'], 'Start Time': '14:22:23', 'End Time': '15:22:23', 'Seizures Window': []}, 'chb11_26': {'Channels': ['P8-O2', 'T7-P7', 'FP1-F3', 'P7-O1', 'F3-C3', 'CZ-PZ', 'F8-T8', 'P4-O2', 'T8-P8', 'C4-P4', 'T7-FT9', 'C3-P3', 'FZ-CZ', 'F7-T7', 'FP2-F4', 'FT9-FT10', 'FP2-F8', 'FP1-F7', 'P3-O1', 'P7-T7', 'FT10-T8', '-', 'F4-C4'], 'Start Time': '15:22:29', 'End Time': '16:22:29', 'Seizures Window': []}, 'chb11_27': {'Channels': ['P8-O2', 'T7-P7', 'FP1-F3', 'P7-O1', 'F3-C3', 'CZ-PZ', 'F8-T8', 'P4-O2', 'T8-P8', 'C4-P4', 'T7-FT9', 'C3-P3', 'FZ-CZ', 'F7-T7', 'FP2-F4', 'FT9-FT10', 'FP2-F8', 'FP1-F7', 'P3-O1', 'P7-T7', 'FT10-T8', '-', 'F4-C4'], 'Start Time': '16:22:36', 'End Time': '17:22:36', 'Seizures Window': []}, 'chb11_53': {'Channels': ['P8-O2', 'T7-P7', 'FP1-F3', 'P7-O1', 'F3-C3', 'CZ-PZ', 'F8-T8', 'P4-O2', 'T8-P8', 'C4-P4', 'T7-FT9', 'C3-P3', 'FZ-CZ', 'F7-T7', 'FP2-F4', 'FT9-FT10', 'FP2-F8', 'FP1-F7', 'P3-O1', 'P7-T7', 'FT10-T8', '-', 'F4-C4'], 'Start Time': '17:37:03', 'End Time': '18:37:03', 'Seizures Window': []}, 'chb11_54': {'Channels': ['P8-O2', 'T7-P7', 'FP1-F3', 'P7-O1', 'F3-C3', 'CZ-PZ', 'F8-T8', 'P4-O2', 'T8-P8', 'C4-P4', 'T7-FT9', 'C3-P3', 'FZ-CZ', 'F7-T7', 'FP2-F4', 'FT9-FT10', 'FP2-F8', 'FP1-F7', 'P3-O1', 'P7-T7', 'FT10-T8', '-', 'F4-C4'], 'Start Time': '18:37:10', 'End Time': '19:37:10', 'Seizures Window': []}, 'chb11_55': {'Channels': ['P8-O2', 'T7-P7', 'FP1-F3', 'P7-O1', 'F3-C3', 'CZ-PZ', 'F8-T8', 'P4-O2', 'T8-P8', 'C4-P4', 'T7-FT9', 'C3-P3', 'FZ-CZ', 'F7-T7', 'FP2-F4', 'FT9-FT10', 'FP2-F8', 'FP1-F7', 'P3-O1', 'P7-T7', 'FT10-T8', '-', 'F4-C4'], 'Start Time': '19:37:17', 'End Time': '20:37:17', 'Seizures Window': []}, 'chb11_56': {'Channels': ['P8-O2', 'T7-P7', 'FP1-F3', 'P7-O1', 'F3-C3', 'CZ-PZ', 'F8-T8', 'P4-O2', 'T8-P8', 'C4-P4', 'T7-FT9', 'C3-P3', 'FZ-CZ', 'F7-T7', 'FP2-F4', 'FT9-FT10', 'FP2-F8', 'FP1-F7', 'P3-O1', 'P7-T7', 'FT10-T8', '-', 'F4-C4'], 'Start Time': '20:37:51', 'End Time': '21:37:51', 'Seizures Window': []}, 'chb11_58': {'Channels': ['P8-O2', 'T7-P7', 'FP1-F3', 'P7-O1', 'F3-C3', 'CZ-PZ', 'F8-T8', 'P4-O2', 'T8-P8', 'C4-P4', 'T7-FT9', 'C3-P3', 'FZ-CZ', 'F7-T7', 'FP2-F4', 'FT9-FT10', 'FP2-F8', 'FP1-F7', 'P3-O1', 'P7-T7', 'FT10-T8', '-', 'F4-C4'], 'Start Time': '22:38:05', 'End Time': '23:38:05', 'Seizures Window': []}, 'chb11_60': {'Channels': ['P8-O2', 'T7-P7', 'FP1-F3', 'P7-O1', 'F3-C3', 'CZ-PZ', 'F8-T8', 'P4-O2', 'T8-P8', 'C4-P4', 'T7-FT9', 'C3-P3', 'FZ-CZ', 'F7-T7', 'FP2-F4', 'FT9-FT10', 'FP2-F8', 'FP1-F7', 'P3-O1', 'P7-T7', 'FT10-T8', '-', 'F4-C4'], 'Start Time': '00:38:19', 'End Time': '1:38:19', 'Seizures Window': []}, 'chb11_61': {'Channels': ['P8-O2', 'T7-P7', 'FP1-F3', 'P7-O1', 'F3-C3', 'CZ-PZ', 'F8-T8', 'P4-O2', 'T8-P8', 'C4-P4', 'T7-FT9', 'C3-P3', 'FZ-CZ', 'F7-T7', 'FP2-F4', 'FT9-FT10', 'FP2-F8', 'FP1-F7', 'P3-O1', 'P7-T7', 'FT10-T8', '-', 'F4-C4'], 'Start Time': '01:38:26', 'End Time': '2:38:26', 'Seizures Window': []}, 'chb11_62': {'Channels': ['P8-O2', 'T7-P7', 'FP1-F3', 'P7-O1', 'F3-C3', 'CZ-PZ', 'F8-T8', 'P4-O2', 'T8-P8', 'C4-P4', 'T7-FT9', 'C3-P3', 'FZ-CZ', 'F7-T7', 'FP2-F4', 'FT9-FT10', 'FP2-F8', 'FP1-F7', 'P3-O1', 'P7-T7', 'FT10-T8', '-', 'F4-C4'], 'Start Time': '02:38:32', 'End Time': '3:38:32', 'Seizures Window': []}, 'chb11_63': {'Channels': ['P8-O2', 'T7-P7', 'FP1-F3', 'P7-O1', 'F3-C3', 'CZ-PZ', 'F8-T8', 'P4-O2', 'T8-P8', 'C4-P4', 'T7-FT9', 'C3-P3', 'FZ-CZ', 'F7-T7', 'FP2-F4', 'FT9-FT10', 'FP2-F8', 'FP1-F7', 'P3-O1', 'P7-T7', 'FT10-T8', '-', 'F4-C4'], 'Start Time': '03:38:39', 'End Time': '4:38:39', 'Seizures Window': []}, 'chb11_82': {'Channels': ['P8-O2', 'T7-P7', 'FP1-F3', 'P7-O1', 'F3-C3', 'CZ-PZ', 'F8-T8', 'P4-O2', 'T8-P8', 'C4-P4', 'T7-FT9', 'C3-P3', 'FZ-CZ', 'F7-T7', 'FP2-F4', 'FT9-FT10', 'FP2-F8', 'FP1-F7', 'P3-O1', 'P7-T7', 'FT10-T8', '-', 'F4-C4'], 'Start Time': '21:47:24', 'End Time': '22:47:24', 'Seizures Window': [298, 320]}, 'chb11_92': {'Channels': ['P8-O2', 'T7-P7', 'FP1-F3', 'P7-O1', 'F3-C3', 'CZ-PZ', 'F8-T8', 'P4-O2', 'T8-P8', 'C4-P4', 'T7-FT9', 'C3-P3', 'FZ-CZ', 'F7-T7', 'FP2-F4', 'FT9-FT10', 'FP2-F8', 'FP1-F7', 'P3-O1', 'P7-T7', 'FT10-T8', '-', 'F4-C4'], 'Start Time': '07:48:31', 'End Time': '8:48:31', 'Seizures Window': [2695, 2727]}, 'chb11_99': {'Channels': ['P8-O2', 'T7-P7', 'FP1-F3', 'P7-O1', 'F3-C3', 'CZ-PZ', 'F8-T8', 'P4-O2', 'T8-P8', 'C4-P4', 'T7-FT9', 'C3-P3', 'FZ-CZ', 'F7-T7', 'FP2-F4', 'FT9-FT10', 'FP2-F8', 'FP1-F7', 'P3-O1', 'P7-T7', 'FT10-T8', '-', 'F4-C4'], 'Start Time': '14:49:19', 'End Time': '15:36:58', 'Seizures Window': [1454, 2206]}, 'chb12_06': {'Channels': ['P8-O2', 'T7-P7', 'FP1-F3', 'P7-O1', 'F3-C3', 'CZ-PZ', 'F8-T8', 'P4-O2', 'T8-P8', 'C4-P4', 'T7-FT9', 'C3-P3', 'FZ-CZ', 'F7-T7', 'FP2-F4', 'FT9-FT10', 'FP2-F8', 'FP1-F7', 'P3-O1', 'P7-T7', 'FT10-T8', '-', 'F4-C4'], 'Start Time': '22:44:34', 'End Time': '23:44:40', 'Seizures Window': [1665, 1726, 3415, 3447]}, 'chb12_08': {'Channels': ['P8-O2', 'T7-P7', 'FP1-F3', 'P7-O1', 'F3-C3', 'CZ-PZ', 'F8-T8', 'P4-O2', 'T8-P8', 'C4-P4', 'T7-FT9', 'C3-P3', 'FZ-CZ', 'F7-T7', 'FP2-F4', 'FT9-FT10', 'FP2-F8', 'FP1-F7', 'P3-O1', 'P7-T7', 'FT10-T8', '-', 'F4-C4'], 'Start Time': '00:46:38', 'End Time': '1:46:38', 'Seizures Window': [1426, 1439, 1591, 1614, 1957, 1977, 2798, 2824]}, 'chb12_09': {'Channels': ['P8-O2', 'T7-P7', 'FP1-F3', 'P7-O1', 'F3-C3', 'CZ-PZ', 'F8-T8', 'P4-O2', 'T8-P8', 'C4-P4', 'T7-FT9', 'C3-P3', 'FZ-CZ', 'F7-T7', 'FP2-F4', 'FT9-FT10', 'FP2-F8', 'FP1-F7', 'P3-O1', 'P7-T7', 'FT10-T8', '-', 'F4-C4'], 'Start Time': '01:46:45', 'End Time': '2:46:57', 'Seizures Window': [3082, 3114, 3503, 3535]}, 'chb12_10': {'Channels': ['P8-O2', 'T7-P7', 'FP1-F3', 'P7-O1', 'F3-C3', 'CZ-PZ', 'F8-T8', 'P4-O2', 'T8-P8', 'C4-P4', 'T7-FT9', 'C3-P3', 'FZ-CZ', 'F7-T7', 'FP2-F4', 'FT9-FT10', 'FP2-F8', 'FP1-F7', 'P3-O1', 'P7-T7', 'FT10-T8', '-', 'F4-C4'], 'Start Time': '02:47:45', 'End Time': '3:47:56', 'Seizures Window': [593, 625, 811, 856]}, 'chb12_11': {'Channels': ['P8-O2', 'T7-P7', 'FP1-F3', 'P7-O1', 'F3-C3', 'CZ-PZ', 'F8-T8', 'P4-O2', 'T8-P8', 'C4-P4', 'T7-FT9', 'C3-P3', 'FZ-CZ', 'F7-T7', 'FP2-F4', 'FT9-FT10', 'FP2-F8', 'FP1-F7', 'P3-O1', 'P7-T7', 'FT10-T8', '-', 'F4-C4'], 'Start Time': '03:48:28', 'End Time': '4:28:59', 'Seizures Window': [1085, 1122]}, 'chb12_19': {'Channels': ['P8-O2', 'T7-P7', 'FP1-F3', 'P7-O1', 'F3-C3', 'CZ-PZ', 'F8-T8', 'P4-O2', 'T8-P8', 'C4-P4', 'T7-FT9', 'C3-P3', 'FZ-CZ', 'F7-T7', 'FP2-F4', 'FT9-FT10', 'FP2-F8', 'FP1-F7', 'P3-O1', 'P7-T7', 'FT10-T8', '-', 'F4-C4'], 'Start Time': '08:57:21', 'End Time': '9:57:21', 'Seizures Window': []}, 'chb12_20': {'Channels': ['P8-O2', 'T7-P7', 'FP1-F3', 'P7-O1', 'F3-C3', 'CZ-PZ', 'F8-T8', 'P4-O2', 'T8-P8', 'C4-P4', 'T7-FT9', 'C3-P3', 'FZ-CZ', 'F7-T7', 'FP2-F4', 'FT9-FT10', 'FP2-F8', 'FP1-F7', 'P3-O1', 'P7-T7', 'FT10-T8', '-', 'F4-C4'], 'Start Time': '09:57:27', 'End Time': '10:57:27', 'Seizures Window': []}, 'chb12_21': {'Channels': ['P8-O2', 'T7-P7', 'FP1-F3', 'P7-O1', 'F3-C3', 'CZ-PZ', 'F8-T8', 'P4-O2', 'T8-P8', 'C4-P4', 'T7-FT9', 'C3-P3', 'FZ-CZ', 'F7-T7', 'FP2-F4', 'FT9-FT10', 'FP2-F8', 'FP1-F7', 'P3-O1', 'P7-T7', 'FT10-T8', '-', 'F4-C4'], 'Start Time': '10:57:35', 'End Time': '11:57:35', 'Seizures Window': []}, 'chb12_23': {'Channels': ['P8-O2', 'T7-P7', 'FP1-F3', 'P7-O1', 'F3-C3', 'CZ-PZ', 'F8-T8', 'P4-O2', 'T8-P8', 'C4-P4', 'T7-FT9', 'C3-P3', 'FZ-CZ', 'F7-T7', 'FP2-F4', 'FT9-FT10', 'FP2-F8', 'FP1-F7', 'P3-O1', 'P7-T7', 'FT10-T8', '-', 'F4-C4'], 'Start Time': '12:06:43', 'End Time': '13:06:43', 'Seizures Window': [253, 333, 425, 522, 630, 670]}, 'chb12_24': {'Channels': ['P8-O2', 'T7-P7', 'FP1-F3', 'P7-O1', 'F3-C3', 'CZ-PZ', 'F8-T8', 'P4-O2', 'T8-P8', 'C4-P4', 'T7-FT9', 'C3-P3', 'FZ-CZ', 'F7-T7', 'FP2-F4', 'FT9-FT10', 'FP2-F8', 'FP1-F7', 'P3-O1', 'P7-T7', 'FT10-T8', '-', 'F4-C4'], 'Start Time': '13:06:45', 'End Time': '14:06:45', 'Seizures Window': []}, 'chb12_27': {'Channels': ['FP2-CS2', 'P8-O2', 'T7-P7', 'FP1-F3', 'FZ-CS2', 'P7-O1', 'F3-C3', 'C3-CS2', 'T8-CS2', 'CP6-CS2', 'CZ-PZ', 'F3-CS2', 'PZ-CS2', 'P7-CS2', 'F8-T8', 'P4-O2', 'C6-CS2', 'T8-P8', 'C4-P4', 'CP4-CS2', 'T7-FT9', 'T7-CS2', 'C3-P3', 'FZ-CZ', 'P4-CS2', 'FP1-CS2', 'F7-T7', 'FP2-F4', 'F4-CS2', 'FT9-FT10', 'F8-CS2', 'FP2-F8', 'FP1-F7', 'P3-O1', 'C4-CS2', 'O1-CS2', 'C2-CS2', 'CP2-CS2', 'P7-T7', 'O2-CS2', 'P3-CS2', 'FT10-T8', 'CZ-CS2', '-', 'F7-CS2', 'P8-CS2', 'F4-C4'], 'Start Time': '16:07:06', 'End Time': '17:07:06', 'Seizures Window': [916, 951, 1097, 1124, 1728, 1753, 1921, 1963, 2388, 2440, 2621, 2669]}, 'chb12_28': {'Channels': ['FP2-CS2', 'P8-O2', 'PZ', 'P3', 'P8', 'T7-P7', 'F8', 'FP1-F3', 'FZ-CS2', 'P7-O1', 'C6', 'FZ', 'F3-C3', 'C3-CS2', 'T8-CS2', 'T8', 'CP6-CS2', 'CZ-PZ', 'F3-CS2', 'PZ-CS2', 'F3', 'P4', 'P7-CS2', 'F8-T8', 'P4-O2', 'P7', 'C6-CS2', 'F7', 'T8-P8', 'C4-P4', 'FP2', 'CP4-CS2', 'T7', 'T7-FT9', 'CP2', 'T7-CS2', 'C3-P3', 'FZ-CZ', 'O2', 'P4-CS2', 'CP4', 'FP1-CS2', 'F7-T7', 'EKG1-CHIN', 'FP2-F4', '01', 'F4-CS2', 'CP6', 'FT9-FT10', 'F8-CS2', 'FP2-F8', 'FP1-F7', 'P3-O1', 'C4-CS2', 'O1-CS2', 'C2-CS2', 'CP2-CS2', 'P7-T7', 'O2-CS2', 'FP1', 'C2', 'P3-CS2', 'FT10-T8', 'CZ-CS2', '-', 'C3', 'F7-CS2', 'CZ', 'F4', 'P8-CS2', 'C4', 'F4-C4'], 'Start Time': '17:07:12', 'End Time': '18:07:12', 'Seizures Window': [181, 215]}, 'chb12_29': {'Channels': ['FP2-CS2', 'P8-O2', 'PZ', 'P3', 'P8', 'T7-P7', 'F8', 'FP1-F3', 'FZ-CS2', 'P7-O1', 'C6', 'FZ', 'F3-C3', 'C3-CS2', 'T8-CS2', 'T8', 'CP6-CS2', 'CZ-PZ', 'F3-CS2', 'PZ-CS2', 'F3', 'P4', 'P7-CS2', 'F8-T8', 'P4-O2', 'P7', 'C6-CS2', 'F7', 'T8-P8', 'C4-P4', 'FP2', 'CP4-CS2', 'T7', 'T7-FT9', 'CP2', 'T7-CS2', 'C3-P3', 'FZ-CZ', 'O2', 'P4-CS2', 'CP4', 'FP1-CS2', 'F7-T7', 'EKG1-CHIN', 'FP2-F4', '01', 'F4-CS2', 'CP6', 'FT9-FT10', 'F8-CS2', 'FP2-F8', 'FP1-F7', 'P3-O1', 'C4-CS2', 'O1-CS2', 'C2-CS2', 'CP2-CS2', 'P7-T7', 'O2-CS2', 'FP1', 'C2', 'P3-CS2', 'FT10-T8', 'CZ-CS2', '-', 'C3', 'F7-CS2', 'CZ', 'F4', 'P8-CS2', 'C4', 'F4-C4'], 'Start Time': '18:07:19', 'End Time': '19:07:43', 'Seizures Window': [107, 146, 554, 592, 1163, 1199, 1401, 1447, 1884, 1921, 3557, 3584]}, 'chb12_32': {'Channels': ['FP2-CS2', 'P8-O2', 'PZ', 'P3', 'P8', 'T7-P7', 'F8', 'FP1-F3', 'FZ-CS2', 'P7-O1', 'C6', 'FZ', 'F3-C3', 'C3-CS2', 'T8-CS2', 'T8', 'CP6-CS2', 'CZ-PZ', 'F3-CS2', 'PZ-CS2', 'F3', 'P4', 'P7-CS2', 'F8-T8', 'P4-O2', 'P7', 'C6-CS2', 'F7', 'T8-P8', 'C4-P4', 'FP2', 'CP4-CS2', 'T7', 'T7-FT9', 'CP2', 'LOC-ROC', 'T7-CS2', 'C3-P3', 'FZ-CZ', 'O2', 'P4-CS2', 'CP4', 'FP1-CS2', 'F7-T7', 'EKG1-CHIN', 'FP2-F4', '01', 'F4-CS2', 'CP6', 'FT9-FT10', 'F8-CS2', 'FP2-F8', 'FP1-F7', 'P3-O1', 'C4-CS2', 'O1-CS2', 'C2-CS2', 'CP2-CS2', 'P7-T7', 'O2-CS2', 'FP1', 'C2', 'P3-CS2', 'FT10-T8', 'CZ-CS2', '-', 'C3', 'F7-CS2', 'CZ', 'F4', 'P8-CS2', 'C4', 'F4-C4'], 'Start Time': '21:09:45', 'End Time': '22:09:45', 'Seizures Window': []}, 'chb12_33': {'Channels': ['FP2-CS2', 'P8-O2', 'PZ', 'P3', 'P8', 'T7-P7', 'F8', 'FP1-F3', 'FZ-CS2', 'P7-O1', 'C6', 'FZ', 'F3-C3', 'C3-CS2', 'T8-CS2', 'T8', 'CP6-CS2', 'CZ-PZ', 'F3-CS2', 'PZ-CS2', 'F3', 'P4', 'P7-CS2', 'F8-T8', 'P4-O2', 'P7', 'C6-CS2', 'F7', 'T8-P8', 'C4-P4', 'FP2', 'CP4-CS2', 'T7', 'T7-FT9', 'CP2', 'LOC-ROC', 'T7-CS2', 'C3-P3', 'FZ-CZ', 'O2', 'P4-CS2', 'CP4', 'FP1-CS2', 'F7-T7', 'EKG1-CHIN', 'FP2-F4', '01', 'F4-CS2', 'CP6', 'FT9-FT10', 'F8-CS2', 'FP2-F8', 'FP1-F7', 'P3-O1', 'C4-CS2', 'O1-CS2', 'C2-CS2', 'CP2-CS2', 'P7-T7', 'O2-CS2', 'FP1', 'C2', 'P3-CS2', 'FT10-T8', 'CZ-CS2', '-', 'C3', 'F7-CS2', 'CZ', 'F4', 'P8-CS2', 'C4', 'F4-C4'], 'Start Time': '22:09:51', 'End Time': '23:09:51', 'Seizures Window': [2185, 2206, 2427, 2450]}, 'chb12_34': {'Channels': ['FP2-CS2', 'P8-O2', 'PZ', 'P3', 'P8', 'T7-P7', 'F8', 'FP1-F3', 'FZ-CS2', 'P7-O1', 'C6', 'FZ', 'F3-C3', 'C3-CS2', 'T8-CS2', 'T8', 'CP6-CS2', 'CZ-PZ', 'F3-CS2', 'PZ-CS2', 'F3', 'P4', 'P7-CS2', 'F8-T8', 'P4-O2', 'P7', 'C6-CS2', 'F7', 'T8-P8', 'C4-P4', 'FP2', 'CP4-CS2', 'T7', 'T7-FT9', 'CP2', 'LOC-ROC', 'T7-CS2', 'C3-P3', 'FZ-CZ', 'O2', 'P4-CS2', 'CP4', 'FP1-CS2', 'F7-T7', 'EKG1-CHIN', 'FP2-F4', '01', 'F4-CS2', 'CP6', 'FT9-FT10', 'F8-CS2', 'FP2-F8', 'FP1-F7', 'P3-O1', 'C4-CS2', 'O1-CS2', 'C2-CS2', 'CP2-CS2', 'P7-T7', 'O2-CS2', 'FP1', 'C2', 'P3-CS2', 'FT10-T8', 'CZ-CS2', '-', 'C3', 'F7-CS2', 'CZ', 'F4', 'P8-CS2', 'C4', 'F4-C4'], 'Start Time': '23:09:58', 'End Time': '24:09:58', 'Seizures Window': []}, 'chb12_35': {'Channels': ['FP2-CS2', 'P8-O2', 'PZ', 'P3', 'P8', 'T7-P7', 'F8', 'FP1-F3', 'FZ-CS2', 'P7-O1', 'C6', 'FZ', 'F3-C3', 'C3-CS2', 'T8-CS2', 'T8', 'CP6-CS2', 'CZ-PZ', 'F3-CS2', 'PZ-CS2', 'F3', 'P4', 'P7-CS2', 'F8-T8', 'P4-O2', 'P7', 'C6-CS2', 'F7', 'T8-P8', 'C4-P4', 'FP2', 'CP4-CS2', 'T7', 'T7-FT9', 'CP2', 'LOC-ROC', 'T7-CS2', 'C3-P3', 'FZ-CZ', 'O2', 'P4-CS2', 'CP4', 'FP1-CS2', 'F7-T7', 'EKG1-CHIN', 'FP2-F4', '01', 'F4-CS2', 'CP6', 'FT9-FT10', 'F8-CS2', 'FP2-F8', 'FP1-F7', 'P3-O1', 'C4-CS2', 'O1-CS2', 'C2-CS2', 'CP2-CS2', 'P7-T7', 'O2-CS2', 'FP1', 'C2', 'P3-CS2', 'FT10-T8', 'CZ-CS2', '-', 'C3', 'F7-CS2', 'CZ', 'F4', 'P8-CS2', 'C4', 'F4-C4'], 'Start Time': '00:10:04', 'End Time': '1:10:04', 'Seizures Window': []}, 'chb12_36': {'Channels': ['FP2-CS2', 'P8-O2', 'PZ', 'P3', 'P8', 'T7-P7', 'F8', 'FP1-F3', 'FZ-CS2', 'P7-O1', 'C6', 'FZ', 'F3-C3', 'C3-CS2', 'T8-CS2', 'T8', 'CP6-CS2', 'CZ-PZ', 'F3-CS2', 'PZ-CS2', 'F3', 'P4', 'P7-CS2', 'F8-T8', 'P4-O2', 'P7', 'C6-CS2', 'F7', 'T8-P8', 'C4-P4', 'FP2', 'CP4-CS2', 'T7', 'T7-FT9', 'CP2', 'LOC-ROC', 'T7-CS2', 'C3-P3', 'FZ-CZ', 'O2', 'P4-CS2', 'CP4', 'FP1-CS2', 'F7-T7', 'EKG1-CHIN', 'FP2-F4', '01', 'F4-CS2', 'CP6', 'FT9-FT10', 'F8-CS2', 'FP2-F8', 'FP1-F7', 'P3-O1', 'C4-CS2', 'O1-CS2', 'C2-CS2', 'CP2-CS2', 'P7-T7', 'O2-CS2', 'FP1', 'C2', 'P3-CS2', 'FT10-T8', 'CZ-CS2', '-', 'C3', 'F7-CS2', 'CZ', 'F4', 'P8-CS2', 'C4', 'F4-C4'], 'Start Time': '01:10:11', 'End Time': '2:10:11', 'Seizures Window': [653, 680]}, 'chb12_37': {'Channels': ['FP2-CS2', 'P8-O2', 'PZ', 'P3', 'P8', 'T7-P7', 'F8', 'FP1-F3', 'FZ-CS2', 'P7-O1', 'C6', 'FZ', 'F3-C3', 'C3-CS2', 'T8-CS2', 'T8', 'CP6-CS2', 'CZ-PZ', 'F3-CS2', 'PZ-CS2', 'F3', 'P4', 'P7-CS2', 'F8-T8', 'P4-O2', 'P7', 'C6-CS2', 'F7', 'T8-P8', 'C4-P4', 'FP2', 'CP4-CS2', 'T7', 'T7-FT9', 'CP2', 'LOC-ROC', 'T7-CS2', 'C3-P3', 'FZ-CZ', 'O2', 'P4-CS2', 'CP4', 'FP1-CS2', 'F7-T7', 'EKG1-CHIN', 'FP2-F4', '01', 'F4-CS2', 'CP6', 'FT9-FT10', 'F8-CS2', 'FP2-F8', 'FP1-F7', 'P3-O1', 'C4-CS2', 'O1-CS2', 'C2-CS2', 'CP2-CS2', 'P7-T7', 'O2-CS2', 'FP1', 'C2', 'P3-CS2', 'FT10-T8', 'CZ-CS2', '-', 'C3', 'F7-CS2', 'CZ', 'F4', 'P8-CS2', 'C4', 'F4-C4'], 'Start Time': '02:10:17', 'End Time': '3:10:33', 'Seizures Window': []}, 'chb12_38': {'Channels': ['FP2-CS2', 'P8-O2', 'PZ', 'P3', 'P8', 'T7-P7', 'F8', 'FP1-F3', 'FZ-CS2', 'P7-O1', 'C6', 'FZ', 'F3-C3', 'C3-CS2', 'T8-CS2', 'T8', 'CP6-CS2', 'CZ-PZ', 'F3-CS2', 'PZ-CS2', 'F3', 'P4', 'P7-CS2', 'F8-T8', 'P4-O2', 'P7', 'C6-CS2', 'F7', 'T8-P8', 'C4-P4', 'FP2', 'CP4-CS2', 'T7', 'T7-FT9', 'CP2', 'LOC-ROC', 'T7-CS2', 'C3-P3', 'FZ-CZ', 'O2', 'P4-CS2', 'CP4', 'FP1-CS2', 'F7-T7', 'EKG1-CHIN', 'FP2-F4', '01', 'F4-CS2', 'CP6', 'FT9-FT10', 'F8-CS2', 'FP2-F8', 'FP1-F7', 'P3-O1', 'C4-CS2', 'O1-CS2', 'C2-CS2', 'CP2-CS2', 'P7-T7', 'O2-CS2', 'FP1', 'C2', 'P3-CS2', 'FT10-T8', 'CZ-CS2', '-', 'C3', 'F7-CS2', 'CZ', 'F4', 'P8-CS2', 'C4', 'F4-C4'], 'Start Time': '03:11:04', 'End Time': '4:11:04', 'Seizures Window': [1548, 1573, 2798, 2821, 2966, 3009, 3146, 3201, 3364, 3410]}, 'chb12_39': {'Channels': ['FP2-CS2', 'P8-O2', 'PZ', 'P3', 'P8', 'T7-P7', 'F8', 'FP1-F3', 'FZ-CS2', 'P7-O1', 'C6', 'FZ', 'F3-C3', 'C3-CS2', 'T8-CS2', 'T8', 'CP6-CS2', 'CZ-PZ', 'F3-CS2', 'PZ-CS2', 'F3', 'P4', 'P7-CS2', 'F8-T8', 'P4-O2', 'P7', 'C6-CS2', 'F7', 'T8-P8', 'C4-P4', 'FP2', 'CP4-CS2', 'T7', 'T7-FT9', 'CP2', 'LOC-ROC', 'T7-CS2', 'C3-P3', 'FZ-CZ', 'O2', 'P4-CS2', 'CP4', 'FP1-CS2', 'F7-T7', 'EKG1-CHIN', 'FP2-F4', '01', 'F4-CS2', 'CP6', 'FT9-FT10', 'F8-CS2', 'FP2-F8', 'FP1-F7', 'P3-O1', 'C4-CS2', 'O1-CS2', 'C2-CS2', 'CP2-CS2', 'P7-T7', 'O2-CS2', 'FP1', 'C2', 'P3-CS2', 'FT10-T8', 'CZ-CS2', '-', 'C3', 'F7-CS2', 'CZ', 'F4', 'P8-CS2', 'C4', 'F4-C4'], 'Start Time': '04:11:10', 'End Time': '5:11:10', 'Seizures Window': []}, 'chb12_40': {'Channels': ['FP2-CS2', 'P8-O2', 'PZ', 'P3', 'P8', 'T7-P7', 'F8', 'FP1-F3', 'FZ-CS2', 'P7-O1', 'C6', 'FZ', 'F3-C3', 'C3-CS2', 'T8-CS2', 'T8', 'CP6-CS2', 'CZ-PZ', 'F3-CS2', 'PZ-CS2', 'F3', 'P4', 'P7-CS2', 'F8-T8', 'P4-O2', 'P7', 'C6-CS2', 'F7', 'T8-P8', 'C4-P4', 'FP2', 'CP4-CS2', 'T7', 'T7-FT9', 'CP2', 'LOC-ROC', 'T7-CS2', 'C3-P3', 'FZ-CZ', 'O2', 'P4-CS2', 'CP4', 'FP1-CS2', 'F7-T7', 'EKG1-CHIN', 'FP2-F4', '01', 'F4-CS2', 'CP6', 'FT9-FT10', 'F8-CS2', 'FP2-F8', 'FP1-F7', 'P3-O1', 'C4-CS2', 'O1-CS2', 'C2-CS2', 'CP2-CS2', 'P7-T7', 'O2-CS2', 'FP1', 'C2', 'P3-CS2', 'FT10-T8', 'CZ-CS2', '-', 'C3', 'F7-CS2', 'CZ', 'F4', 'P8-CS2', 'C4', 'F4-C4'], 'Start Time': '05:11:17', 'End Time': '6:11:17', 'Seizures Window': []}, 'chb12_41': {'Channels': ['FP2-CS2', 'P8-O2', 'PZ', 'P3', 'P8', 'T7-P7', 'F8', 'FP1-F3', 'FZ-CS2', 'P7-O1', 'C6', 'FZ', 'F3-C3', 'C3-CS2', 'T8-CS2', 'T8', 'CP6-CS2', 'CZ-PZ', 'F3-CS2', 'PZ-CS2', 'F3', 'P4', 'P7-CS2', 'F8-T8', 'P4-O2', 'P7', 'C6-CS2', 'F7', 'T8-P8', 'C4-P4', 'FP2', 'CP4-CS2', 'T7', 'T7-FT9', 'CP2', 'LOC-ROC', 'T7-CS2', 'C3-P3', 'FZ-CZ', 'O2', 'P4-CS2', 'CP4', 'FP1-CS2', 'F7-T7', 'EKG1-CHIN', 'FP2-F4', '01', 'F4-CS2', 'CP6', 'FT9-FT10', 'F8-CS2', 'FP2-F8', 'FP1-F7', 'P3-O1', 'C4-CS2', 'O1-CS2', 'C2-CS2', 'CP2-CS2', 'P7-T7', 'O2-CS2', 'FP1', 'C2', 'P3-CS2', 'FT10-T8', 'CZ-CS2', '-', 'C3', 'F7-CS2', 'CZ', 'F4', 'P8-CS2', 'C4', 'F4-C4'], 'Start Time': '06:11:24', 'End Time': '7:11:24', 'Seizures Window': []}, 'chb12_42': {'Channels': ['FP2-CS2', 'P8-O2', 'PZ', 'P3', 'P8', 'T7-P7', 'F8', 'FP1-F3', 'FZ-CS2', 'P7-O1', 'C6', 'FZ', 'F3-C3', 'C3-CS2', 'T8-CS2', 'T8', 'CP6-CS2', 'CZ-PZ', 'F3-CS2', 'PZ-CS2', 'F3', 'P4', 'P7-CS2', 'F8-T8', 'P4-O2', 'P7', 'C6-CS2', 'F7', 'T8-P8', 'C4-P4', 'FP2', 'CP4-CS2', 'T7', 'T7-FT9', 'CP2', 'LOC-ROC', 'T7-CS2', 'C3-P3', 'FZ-CZ', 'O2', 'P4-CS2', 'CP4', 'FP1-CS2', 'F7-T7', 'EKG1-CHIN', 'FP2-F4', '01', 'F4-CS2', 'CP6', 'FT9-FT10', 'F8-CS2', 'FP2-F8', 'FP1-F7', 'P3-O1', 'C4-CS2', 'O1-CS2', 'C2-CS2', 'CP2-CS2', 'P7-T7', 'O2-CS2', 'FP1', 'C2', 'P3-CS2', 'FT10-T8', 'CZ-CS2', '-', 'C3', 'F7-CS2', 'CZ', 'F4', 'P8-CS2', 'C4', 'F4-C4'], 'Start Time': '07:11:30', 'End Time': '8:11:30', 'Seizures Window': [699, 750, 945, 973, 1170, 1199, 1676, 1701, 2213, 2236]}, 'chb13_02': {'Channels': ['P8-O2', 'T7-P7', 'FP1-F3', 'P7-O1', 'F3-C3', 'CZ-PZ', 'F8-T8', 'P4-O2', 'T8-P8', 'C4-P4', 'T7-FT9', 'C3-P3', 'FZ-CZ', 'F7-T7', 'FP2-F4', 'FT9-FT10', 'FP2-F8', 'FP1-F7', 'P3-O1', 'P7-T7', 'FT10-T8', '-', 'F4-C4'], 'Start Time': '16:43:14', 'End Time': '17:43:14', 'Seizures Window': []}, 'chb13_03': {'Channels': ['P8-O2', 'T7-P7', 'FP1-F3', 'P7-O1', 'F3-C3', 'CZ-PZ', 'F8-T8', 'P4-O2', 'T8-P8', 'C4-P4', 'T7-FT9', 'C3-P3', 'FZ-CZ', 'F7-T7', 'FP2-F4', 'FT9-FT10', 'FP2-F8', 'FP1-F7', 'P3-O1', 'P7-T7', 'FT10-T8', '-', 'F4-C4'], 'Start Time': '17:43:20', 'End Time': '18:43:20', 'Seizures Window': []}, 'chb13_04': {'Channels': ['P8-O2', 'EKG1-EKG2', 'T7-P7', 'FP1-F3', 'P7-O1', 'F3-C3', 'CZ-PZ', 'F8-T8', 'P4-O2', 'T8-P8', 'C4-P4', 'T7-FT9', 'C3-P3', 'FZ-CZ', 'F7-T7', 'FP2-F4', 'FT9-FT10', 'FP2-F8', 'FP1-F7', 'P3-O1', 'P7-T7', 'FT10-T8', 'LUE-RAE', '-', 'F4-C4'], 'Start Time': '18:43:27', 'End Time': '19:43:27', 'Seizures Window': []}, 'chb13_05': {'Channels': ['P8-O2', 'EKG1-EKG2', 'T7-P7', 'FP1-F3', 'P7-O1', 'F3-C3', 'CZ-PZ', 'F8-T8', 'P4-O2', 'T8-P8', 'C4-P4', 'T7-FT9', 'C3-P3', 'FZ-CZ', 'F7-T7', 'FP2-F4', 'FT9-FT10', 'FP2-F8', 'FP1-F7', 'P3-O1', 'P7-T7', 'FT10-T8', 'LUE-RAE', '-', 'F4-C4'], 'Start Time': '19:43:34', 'End Time': '20:43:34', 'Seizures Window': []}, 'chb13_06': {'Channels': ['P8-O2', 'EKG1-EKG2', 'T7-P7', 'FP1-F3', 'P7-O1', 'F3-C3', 'CZ-PZ', 'F8-T8', 'P4-O2', 'T8-P8', 'C4-P4', 'T7-FT9', 'C3-P3', 'FZ-CZ', 'F7-T7', 'FP2-F4', 'FT9-FT10', 'FP2-F8', 'FP1-F7', 'P3-O1', 'P7-T7', 'FT10-T8', 'LUE-RAE', '-', 'F4-C4'], 'Start Time': '20:43:41', 'End Time': '21:43:41', 'Seizures Window': []}, 'chb13_07': {'Channels': ['P8-O2', 'EKG1-EKG2', 'T7-P7', 'FP1-F3', 'P7-O1', 'F3-C3', 'CZ-PZ', 'F8-T8', 'P4-O2', 'T8-P8', 'C4-P4', 'T7-FT9', 'C3-P3', 'FZ-CZ', 'F7-T7', 'FP2-F4', 'FT9-FT10', 'FP2-F8', 'FP1-F7', 'P3-O1', 'P7-T7', 'FT10-T8', 'LUE-RAE', '-', 'F4-C4'], 'Start Time': '21:43:47', 'End Time': '22:43:47', 'Seizures Window': []}, 'chb13_08': {'Channels': ['P8-O2', 'EKG1-EKG2', 'T7-P7', 'FP1-F3', 'P7-O1', 'F3-C3', 'CZ-PZ', 'F8-T8', 'P4-O2', 'T8-P8', 'C4-P4', 'T7-FT9', 'C3-P3', 'FZ-CZ', 'F7-T7', 'FP2-F4', 'FT9-FT10', 'FP2-F8', 'FP1-F7', 'P3-O1', 'P7-T7', 'FT10-T8', 'LUE-RAE', '-', 'F4-C4'], 'Start Time': '22:43:55', 'End Time': '23:43:55', 'Seizures Window': []}, 'chb13_09': {'Channels': ['P8-O2', 'EKG1-EKG2', 'T7-P7', 'FP1-F3', 'P7-O1', 'F3-C3', 'CZ-PZ', 'F8-T8', 'P4-O2', 'T8-P8', 'C4-P4', 'T7-FT9', 'C3-P3', 'FZ-CZ', 'F7-T7', 'FP2-F4', 'FT9-FT10', 'FP2-F8', 'FP1-F7', 'P3-O1', 'P7-T7', 'FT10-T8', 'LUE-RAE', '-', 'F4-C4'], 'Start Time': '23:44:01', 'End Time': '24:44:01', 'Seizures Window': []}, 'chb13_10': {'Channels': ['P8-O2', 'EKG1-EKG2', 'T7-P7', 'FP1-F3', 'P7-O1', 'F3-C3', 'CZ-PZ', 'F8-T8', 'P4-O2', 'T8-P8', 'C4-P4', 'T7-FT9', 'C3-P3', 'FZ-CZ', 'F7-T7', 'FP2-F4', 'FT9-FT10', 'FP2-F8', 'FP1-F7', 'P3-O1', 'P7-T7', 'FT10-T8', 'LUE-RAE', '-', 'F4-C4'], 'Start Time': '00:44:08', 'End Time': '1:44:08', 'Seizures Window': []}, 'chb13_11': {'Channels': ['P8-O2', 'EKG1-EKG2', 'T7-P7', 'FP1-F3', 'P7-O1', 'F3-C3', 'CZ-PZ', 'F8-T8', 'P4-O2', 'T8-P8', 'C4-P4', 'T7-FT9', 'C3-P3', 'FZ-CZ', 'F7-T7', 'FP2-F4', 'FT9-FT10', 'FP2-F8', 'FP1-F7', 'P3-O1', 'P7-T7', 'FT10-T8', 'LUE-RAE', '-', 'F4-C4'], 'Start Time': '01:44:15', 'End Time': '2:44:15', 'Seizures Window': []}, 'chb13_12': {'Channels': ['P8-O2', 'EKG1-EKG2', 'T7-P7', 'FP1-F3', 'P7-O1', 'F3-C3', 'CZ-PZ', 'F8-T8', 'P4-O2', 'T8-P8', 'C4-P4', 'T7-FT9', 'C3-P3', 'FZ-CZ', 'F7-T7', 'FP2-F4', 'FT9-FT10', 'FP2-F8', 'FP1-F7', 'P3-O1', 'P7-T7', 'FT10-T8', 'LUE-RAE', '-', 'F4-C4'], 'Start Time': '02:44:21', 'End Time': '3:44:21', 'Seizures Window': []}, 'chb13_13': {'Channels': ['P8-O2', 'EKG1-EKG2', 'T7-P7', 'FP1-F3', 'P7-O1', 'F3-C3', 'CZ-PZ', 'F8-T8', 'P4-O2', 'T8-P8', 'C4-P4', 'T7-FT9', 'C3-P3', 'FZ-CZ', 'F7-T7', 'FP2-F4', 'FT9-FT10', 'FP2-F8', 'FP1-F7', 'P3-O1', 'P7-T7', 'FT10-T8', 'LUE-RAE', '-', 'F4-C4'], 'Start Time': '03:44:28', 'End Time': '4:44:28', 'Seizures Window': []}, 'chb13_14': {'Channels': ['P8-O2', 'EKG1-EKG2', 'T7-P7', 'FP1-F3', 'P7-O1', 'F3-C3', 'CZ-PZ', 'F8-T8', 'P4-O2', 'T8-P8', 'C4-P4', 'T7-FT9', 'C3-P3', 'FZ-CZ', 'F7-T7', 'FP2-F4', 'FT9-FT10', 'FP2-F8', 'FP1-F7', 'P3-O1', 'P7-T7', 'FT10-T8', 'LUE-RAE', '-', 'F4-C4'], 'Start Time': '04:44:35', 'End Time': '5:44:35', 'Seizures Window': []}, 'chb13_15': {'Channels': ['P8-O2', 'EKG1-EKG2', 'T7-P7', 'FP1-F3', 'P7-O1', 'F3-C3', 'CZ-PZ', 'F8-T8', 'P4-O2', 'T8-P8', 'C4-P4', 'T7-FT9', 'C3-P3', 'FZ-CZ', 'F7-T7', 'FP2-F4', 'FT9-FT10', 'FP2-F8', 'FP1-F7', 'P3-O1', 'P7-T7', 'FT10-T8', 'LUE-RAE', '-', 'F4-C4'], 'Start Time': '05:44:42', 'End Time': '6:44:42', 'Seizures Window': []}, 'chb13_16': {'Channels': ['P8-O2', 'EKG1-EKG2', 'T7-P7', 'FP1-F3', 'P7-O1', 'F3-C3', 'CZ-PZ', 'F8-T8', 'P4-O2', 'T8-P8', 'C4-P4', 'T7-FT9', 'C3-P3', 'FZ-CZ', 'F7-T7', 'FP2-F4', 'FT9-FT10', 'FP2-F8', 'FP1-F7', 'P3-O1', 'P7-T7', 'FT10-T8', 'LUE-RAE', '-', 'F4-C4'], 'Start Time': '06:44:48', 'End Time': '7:44:48', 'Seizures Window': []}, 'chb13_18': {'Channels': ['P8-O2', 'EKG1-EKG2', 'T7-P7', 'FP1-F3', 'P7-O1', 'F3-C3', 'CZ-PZ', 'F8-T8', 'P4-O2', 'T8-P8', 'C4-P4', 'T7-FT9', 'C3-P3', 'FZ-CZ', 'F7-T7', 'FP2-F4', 'FT9-FT10', 'FP2-F8', 'FP1-F7', 'P3-O1', 'P7-T7', 'FT10-T8', 'LUE-RAE', '-', 'F4-C4'], 'Start Time': '08:14:20', 'End Time': '9:14:20', 'Seizures Window': []}, 'chb13_19': {'Channels': ['P8-O2', 'EKG1-EKG2', 'T7-P7', 'FP1-F3', 'P7-O1', 'F3-C3', 'CZ-PZ', 'F8-T8', 'P4-O2', 'T8-P8', 'C4-P4', 'T7-FT9', 'C3-P3', 'FZ-CZ', 'F7-T7', 'FP2-F4', 'FT9-FT10', 'FP2-F8', 'FP1-F7', 'P3-O1', 'P7-T7', 'FT10-T8', 'LUE-RAE', '-', 'F4-C4'], 'Start Time': '09:14:25', 'End Time': '10:14:25', 'Seizures Window': [2077, 2121]}, 'chb13_21': {'Channels': ['P8-O2', 'EKG1-EKG2', 'T7-P7', 'FP1-F3', 'P7-O1', 'F3-C3', 'CZ-PZ', 'F8-T8', 'P4-O2', 'T8-P8', 'C4-P4', 'T7-FT9', 'C3-P3', 'FZ-CZ', 'F7-T7', 'FP2-F4', 'FT9-FT10', 'FP2-F8', 'FP1-F7', 'P3-O1', 'P7-T7', 'FT10-T8', 'LUE-RAE', '-', 'F4-C4'], 'Start Time': '11:14:59', 'End Time': '12:14:59', 'Seizures Window': [934, 1004]}, 'chb13_22': {'Channels': ['P8-O2', 'EKG1-EKG2', 'T7-P7', 'FP1-F3', 'P7-O1', 'F3-C3', 'CZ-PZ', 'F8-T8', 'P4-O2', 'T8-P8', 'C4-P4', 'T7-FT9', 'C3-P3', 'FZ-CZ', 'F7-T7', 'FP2-F4', 'FT9-FT10', 'FP2-F8', 'FP1-F7', 'P3-O1', 'P7-T7', 'FT10-T8', 'LUE-RAE', '-', 'F4-C4'], 'Start Time': '12:15:06', 'End Time': '13:15:06', 'Seizures Window': []}, 'chb13_24': {'Channels': ['P8-O2', 'EKG1-EKG2', 'T7-P7', 'FP1-F3', 'P7-O1', 'F3-C3', 'CZ-PZ', 'F8-T8', 'P4-O2', 'T8-P8', 'C4-P4', 'T7-FT9', 'C3-P3', 'FZ-CZ', 'F7-T7', 'FP2-F4', 'FT9-FT10', 'FP2-F8', 'FP1-F7', 'P3-O1', 'P7-T7', 'FT10-T8', 'LUE-RAE', '-', 'F4-C4'], 'Start Time': '14:15:19', 'End Time': '15:15:19', 'Seizures Window': []}, 'chb13_30': {'Channels': ['P8-O2', 'EKG1-EKG2', 'T7-P7', 'FP1-F3', 'P7-O1', 'F3-C3', 'CZ-PZ', 'F8-T8', 'P4-O2', 'T8-P8', 'C4-P4', 'T7-FT9', 'C3-P3', 'FZ-CZ', 'F7-T7', 'FP2-F4', 'FT9-FT10', 'FP2-F8', 'FP1-F7', 'P3-O1', 'P7-T7', 'FT10-T8', 'LUE-RAE', '-', 'F4-C4'], 'Start Time': '20:16:00', 'End Time': '21:16:00', 'Seizures Window': []}, 'chb13_36': {'Channels': ['P8-O2', 'EKG1-EKG2', 'T7-P7', 'FP1-F3', 'P7-O1', 'F3-C3', 'CZ-PZ', 'F8-T8', 'P4-O2', 'T8-P8', 'C4-P4', 'T7-FT9', 'C3-P3', 'FZ-CZ', 'F7-T7', 'FP2-F4', 'FT9-FT10', 'FP2-F8', 'FP1-F7', 'P3-O1', 'P7-T7', 'FT10-T8', 'LUE-RAE', '-', 'F4-C4'], 'Start Time': '02:17:23', 'End Time': '3:17:23', 'Seizures Window': []}, 'chb13_37': {'Channels': ['P8-O2', 'EKG1-EKG2', 'T7-P7', 'FP1-F3', 'P7-O1', 'F3-C3', 'CZ-PZ', 'F8-T8', 'P4-O2', 'T8-P8', 'C4-P4', 'T7-FT9', 'C3-P3', 'FZ-CZ', 'F7-T7', 'FP2-F4', 'FT9-FT10', 'FP2-F8', 'FP1-F7', 'P3-O1', 'P7-T7', 'FT10-T8', 'LUE-RAE', '-', 'F4-C4'], 'Start Time': '03:17:30', 'End Time': '4:17:30', 'Seizures Window': []}, 'chb13_38': {'Channels': ['P8-O2', 'EKG1-EKG2', 'T7-P7', 'FP1-F3', 'P7-O1', 'F3-C3', 'CZ-PZ', 'F8-T8', 'P4-O2', 'T8-P8', 'C4-P4', 'T7-FT9', 'C3-P3', 'FZ-CZ', 'F7-T7', 'FP2-F4', 'FT9-FT10', 'FP2-F8', 'FP1-F7', 'P3-O1', 'P7-T7', 'FT10-T8', 'LUE-RAE', '-', 'F4-C4'], 'Start Time': '04:17:37', 'End Time': '5:17:37', 'Seizures Window': []}, 'chb13_39': {'Channels': ['P8-O2', 'EKG1-EKG2', 'T7-P7', 'FP1-F3', 'P7-O1', 'F3-C3', 'CZ-PZ', 'F8-T8', 'P4-O2', 'T8-P8', 'C4-P4', 'T7-FT9', 'C3-P3', 'FZ-CZ', 'F7-T7', 'FP2-F4', 'FT9-FT10', 'FP2-F8', 'FP1-F7', 'P3-O1', 'P7-T7', 'FT10-T8', 'LUE-RAE', '-', 'F4-C4'], 'Start Time': '05:17:44', 'End Time': '6:17:44', 'Seizures Window': []}, 'chb13_40': {'Channels': ['P8-O2', 'EKG1-EKG2', 'T7-P7', 'FP1-F3', 'P7-O1', 'F3-C3', 'CZ-PZ', 'F8-T8', 'P4-O2', 'T8-P8', 'C4-P4', 'T7-FT9', 'C3-P3', 'FZ-CZ', 'F7-T7', 'FP2-F4', 'FT9-FT10', 'FP2-F8', 'FP1-F7', 'P3-O1', 'P7-T7', 'FT10-T8', 'LUE-RAE', '-', 'F4-C4'], 'Start Time': '06:17:50', 'End Time': '7:17:50', 'Seizures Window': [142, 173, 530, 594]}, 'chb13_47': {'Channels': ['P8-O2', 'EKG1-EKG2', 'T7-P7', 'FP1-F3', 'P7-O1', 'F3-C3', 'CZ-PZ', 'F8-T8', 'P4-O2', 'T8-P8', 'C4-P4', 'T7-FT9', 'C3-P3', 'FZ-CZ', 'F7-T7', 'FP2-F4', 'FT9-FT10', 'FP2-F8', 'FP1-F7', 'P3-O1', 'P7-T7', 'FT10-T8', 'LUE-RAE', '-', 'F4-C4'], 'Start Time': '13:18:37', 'End Time': '14:18:37', 'Seizures Window': []}, 'chb13_55': {'Channels': ['P8-O2', 'EKG1-EKG2', 'T7-P7', 'FP1-F3', 'P7-O1', 'F3-C3', 'CZ-PZ', 'F8-T8', 'P4-O2', 'T8-P8', 'C4-P4', 'T7-FT9', 'C3-P3', 'FZ-CZ', 'F7-T7', 'FP2-F4', 'FT9-FT10', 'FP2-F8', 'FP1-F7', 'P3-O1', 'P7-T7', 'FT10-T8', 'LUE-RAE', '-', 'F4-C4'], 'Start Time': '21:20:07', 'End Time': '22:20:07', 'Seizures Window': [458, 478, 2436, 2454]}, 'chb13_56': {'Channels': ['P8-O2', 'EKG1-EKG2', 'T7-P7', 'FP1-F3', 'P7-O1', 'F3-C3', 'CZ-PZ', 'F8-T8', 'P4-O2', 'T8-P8', 'C4-P4', 'T7-FT9', 'C3-P3', 'FZ-CZ', 'F7-T7', 'FP2-F4', 'FT9-FT10', 'FP2-F8', 'FP1-F7', 'P3-O1', 'P7-T7', 'FT10-T8', 'LUE-RAE', '-', 'F4-C4'], 'Start Time': '22:20:14', 'End Time': '23:20:14', 'Seizures Window': []}, 'chb13_58': {'Channels': ['P8-O2', 'EKG1-EKG2', 'T7-P7', 'FP1-F3', 'P7-O1', 'F3-C3', 'CZ-PZ', 'F8-T8', 'P4-O2', 'T8-P8', 'C4-P4', 'T7-FT9', 'C3-P3', 'FZ-CZ', 'F7-T7', 'FP2-F4', 'FT9-FT10', 'FP2-F8', 'FP1-F7', 'P3-O1', 'P7-T7', 'FT10-T8', 'LUE-RAE', '-', 'F4-C4'], 'Start Time': '00:20:28', 'End Time': '1:20:28', 'Seizures Window': [2474, 2491]}, 'chb13_59': {'Channels': ['P8-O2', 'EKG1-EKG2', 'T7-P7', 'FP1-F3', 'P7-O1', 'F3-C3', 'CZ-PZ', 'F8-T8', 'P4-O2', 'T8-P8', 'C4-P4', 'T7-FT9', 'C3-P3', 'FZ-CZ', 'F7-T7', 'FP2-F4', 'FT9-FT10', 'FP2-F8', 'FP1-F7', 'P3-O1', 'P7-T7', 'FT10-T8', 'LUE-RAE', '-', 'F4-C4'], 'Start Time': '01:20:34', 'End Time': '2:20:34', 'Seizures Window': [3339, 3401]}, 'chb13_60': {'Channels': ['P8-O2', 'EKG1-EKG2', 'T7-P7', 'FP1-F3', 'P7-O1', 'F3-C3', 'CZ-PZ', 'F8-T8', 'P4-O2', 'T8-P8', 'C4-P4', 'T7-FT9', 'C3-P3', 'FZ-CZ', 'F7-T7', 'FP2-F4', 'FT9-FT10', 'FP2-F8', 'FP1-F7', 'P3-O1', 'P7-T7', 'FT10-T8', 'LUE-RAE', '-', 'F4-C4'], 'Start Time': '02:20:41', 'End Time': '3:20:41', 'Seizures Window': [638, 660]}, 'chb13_62': {'Channels': ['P8-O2', 'EKG1-EKG2', 'T7-P7', 'FP1-F3', 'P7-O1', 'F3-C3', 'CZ-PZ', 'F8-T8', 'P4-O2', 'T8-P8', 'C4-P4', 'T7-FT9', 'C3-P3', 'FZ-CZ', 'F7-T7', 'FP2-F4', 'FT9-FT10', 'FP2-F8', 'FP1-F7', 'P3-O1', 'P7-T7', 'FT10-T8', 'LUE-RAE', '-', 'F4-C4'], 'Start Time': '04:20:55', 'End Time': '5:20:55', 'Seizures Window': [851, 916, 1626, 1691, 2664, 2721]}, 'chb14_01': {'Channels': ['P8-O2', 'T7-P7', 'FP1-F3', 'P7-O1', 'F3-C3', 'CZ-PZ', 'F8-T8', 'P4-O2', 'T8-P8', 'C4-P4', 'T7-FT9', 'C3-P3', 'FZ-CZ', 'F7-T7', 'FP2-F4', 'FT9-FT10', 'FP2-F8', 'FP1-F7', 'P3-O1', 'P7-T7', 'FT10-T8', '-', 'F4-C4'], 'Start Time': '14:34:50', 'End Time': '15:34:50', 'Seizures Window': []}, 'chb14_02': {'Channels': ['P8-O2', 'T7-P7', 'FP1-F3', 'P7-O1', 'F3-C3', 'CZ-PZ', 'F8-T8', 'P4-O2', 'T8-P8', 'C4-P4', 'T7-FT9', 'C3-P3', 'FZ-CZ', 'F7-T7', 'FP2-F4', 'FT9-FT10', 'FP2-F8', 'FP1-F7', 'P3-O1', 'P7-T7', 'FT10-T8', '-', 'F4-C4'], 'Start Time': '15:34:53', 'End Time': '16:34:53', 'Seizures Window': []}, 'chb14_03': {'Channels': ['P8-O2', 'T7-P7', 'FP1-F3', 'P7-O1', 'F3-C3', 'CZ-PZ', 'F8-T8', 'P4-O2', 'T8-P8', 'C4-P4', 'T7-FT9', 'C3-P3', 'FZ-CZ', 'F7-T7', 'FP2-F4', 'FT9-FT10', 'FP2-F8', 'FP1-F7', 'P3-O1', 'P7-T7', 'FT10-T8', '-', 'F4-C4'], 'Start Time': '16:35:00', 'End Time': '17:35:00', 'Seizures Window': [1986, 2000]}, 'chb14_04': {'Channels': ['P8-O2', 'T7-P7', 'FP1-F3', 'P7-O1', 'F3-C3', 'CZ-PZ', 'F8-T8', 'P4-O2', 'T8-P8', 'C4-P4', 'T7-FT9', 'C3-P3', 'FZ-CZ', 'F7-T7', 'FP2-F4', 'FT9-FT10', 'FP2-F8', 'FP1-F7', 'P3-O1', 'P7-T7', 'FT10-T8', '-', 'F4-C4'], 'Start Time': '17:35:07', 'End Time': '18:35:07', 'Seizures Window': [1372, 1392, 2817, 2839]}, 'chb14_06': {'Channels': ['P8-O2', 'T7-P7', 'FP1-F3', 'P7-O1', 'F3-C3', 'CZ-PZ', 'F8-T8', 'P4-O2', 'T8-P8', 'C4-P4', 'T7-FT9', 'C3-P3', 'FZ-CZ', 'F7-T7', 'FP2-F4', 'FT9-FT10', 'FP2-F8', 'FP1-F7', 'P3-O1', 'P7-T7', 'FT10-T8', '-', 'F4-C4'], 'Start Time': '19:35:21', 'End Time': '20:35:21', 'Seizures Window': [1911, 1925]}, 'chb14_07': {'Channels': ['P8-O2', 'T7-P7', 'FP1-F3', 'P7-O1', 'F3-C3', 'CZ-PZ', 'F8-T8', 'P4-O2', 'T8-P8', 'C4-P4', 'T7-FT9', 'C3-P3', 'FZ-CZ', 'F7-T7', 'FP2-F4', 'FT9-FT10', 'FP2-F8', 'FP1-F7', 'P3-O1', 'P7-T7', 'FT10-T8', '-', 'F4-C4'], 'Start Time': '20:35:28', 'End Time': '21:35:28', 'Seizures Window': []}, 'chb14_11': {'Channels': ['P8-O2', 'T7-P7', 'FP1-F3', 'P7-O1', 'F3-C3', 'CZ-PZ', 'F8-T8', 'P4-O2', 'T8-P8', 'C4-P4', 'T7-FT9', 'C3-P3', 'FZ-CZ', 'F7-T7', 'FP2-F4', 'FT9-FT10', 'FP2-F8', 'FP1-F7', 'P3-O1', 'P7-T7', 'FT10-T8', '-', 'F4-C4'], 'Start Time': '00:35:55', 'End Time': '1:35:55', 'Seizures Window': [1838, 1879]}, 'chb14_12': {'Channels': ['P8-O2', 'T7-P7', 'FP1-F3', 'P7-O1', 'F3-C3', 'CZ-PZ', 'F8-T8', 'P4-O2', 'T8-P8', 'C4-P4', 'T7-FT9', 'C3-P3', 'FZ-CZ', 'F7-T7', 'FP2-F4', 'FT9-FT10', 'FP2-F8', 'FP1-F7', 'P3-O1', 'P7-T7', 'FT10-T8', '-', 'F4-C4'], 'Start Time': '01:36:02', 'End Time': '2:36:02', 'Seizures Window': []}, 'chb14_13': {'Channels': ['P8-O2', 'T7-P7', 'FP1-F3', 'P7-O1', 'F3-C3', 'CZ-PZ', 'F8-T8', 'P4-O2', 'T8-P8', 'C4-P4', 'T7-FT9', 'C3-P3', 'FZ-CZ', 'F7-T7', 'FP2-F4', 'FT9-FT10', 'FP2-F8', 'FP1-F7', 'P3-O1', 'P7-T7', 'FT10-T8', '-', 'F4-C4'], 'Start Time': '02:36:09', 'End Time': '3:36:09', 'Seizures Window': []}, 'chb14_14': {'Channels': ['P8-O2', 'T7-P7', 'FP1-F3', 'P7-O1', 'F3-C3', 'CZ-PZ', 'F8-T8', 'P4-O2', 'T8-P8', 'C4-P4', 'T7-FT9', 'C3-P3', 'FZ-CZ', 'F7-T7', 'FP2-F4', 'FT9-FT10', 'FP2-F8', 'FP1-F7', 'P3-O1', 'P7-T7', 'FT10-T8', '-', 'F4-C4'], 'Start Time': '03:36:16', 'End Time': '4:36:16', 'Seizures Window': []}, 'chb14_16': {'Channels': ['P8-O2', 'T7-P7', 'FP1-F3', 'P7-O1', 'F3-C3', 'CZ-PZ', 'F8-T8', 'P4-O2', 'T8-P8', 'C4-P4', 'T7-FT9', 'C3-P3', 'FZ-CZ', 'F7-T7', 'FP2-F4', 'FT9-FT10', 'FP2-F8', 'FP1-F7', 'P3-O1', 'P7-T7', 'FT10-T8', '-', 'F4-C4'], 'Start Time': '05:36:29', 'End Time': '6:36:29', 'Seizures Window': []}, 'chb14_17': {'Channels': ['P8-O2', 'T7-P7', 'FP1-F3', 'P7-O1', 'F3-C3', 'CZ-PZ', 'F8-T8', 'P4-O2', 'T8-P8', 'C4-P4', 'T7-FT9', 'C3-P3', 'FZ-CZ', 'F7-T7', 'FP2-F4', 'FT9-FT10', 'FP2-F8', 'FP1-F7', 'P3-O1', 'P7-T7', 'FT10-T8', '-', 'F4-C4'], 'Start Time': '06:36:36', 'End Time': '7:36:36', 'Seizures Window': [3239, 3259]}, 'chb14_18': {'Channels': ['P8-O2', 'T7-P7', 'FP1-F3', 'P7-O1', 'F3-C3', 'CZ-PZ', 'F8-T8', 'P4-O2', 'T8-P8', 'C4-P4', 'T7-FT9', 'C3-P3', 'FZ-CZ', 'F7-T7', 'FP2-F4', 'FT9-FT10', 'FP2-F8', 'FP1-F7', 'P3-O1', 'P7-T7', 'FT10-T8', '-', 'F4-C4'], 'Start Time': '07:36:43', 'End Time': '8:36:43', 'Seizures Window': [1039, 1061]}, 'chb14_19': {'Channels': ['P8-O2', 'T7-P7', 'FP1-F3', 'P7-O1', 'F3-C3', 'CZ-PZ', 'F8-T8', 'P4-O2', 'T8-P8', 'C4-P4', 'T7-FT9', 'C3-P3', 'FZ-CZ', 'F7-T7', 'FP2-F4', 'FT9-FT10', 'FP2-F8', 'FP1-F7', 'P3-O1', 'P7-T7', 'FT10-T8', '-', 'F4-C4'], 'Start Time': '08:36:50', 'End Time': '9:36:50', 'Seizures Window': []}, 'chb14_20': {'Channels': ['P8-O2', 'T7-P7', 'FP1-F3', 'P7-O1', 'F3-C3', 'CZ-PZ', 'F8-T8', 'P4-O2', 'T8-P8', 'C4-P4', 'T7-FT9', 'C3-P3', 'FZ-CZ', 'F7-T7', 'FP2-F4', 'FT9-FT10', 'FP2-F8', 'FP1-F7', 'P3-O1', 'P7-T7', 'FT10-T8', '-', 'F4-C4'], 'Start Time': '09:36:57', 'End Time': '10:36:57', 'Seizures Window': []}, 'chb14_22': {'Channels': ['P8-O2', 'T7-P7', 'FP1-F3', 'P7-O1', 'F3-C3', 'CZ-PZ', 'F8-T8', 'P4-O2', 'T8-P8', 'C4-P4', 'T7-FT9', 'C3-P3', 'FZ-CZ', 'F7-T7', 'FP2-F4', 'FT9-FT10', 'FP2-F8', 'FP1-F7', 'P3-O1', 'P7-T7', 'FT10-T8', '-', 'F4-C4'], 'Start Time': '11:37:11', 'End Time': '12:37:11', 'Seizures Window': []}, 'chb14_24': {'Channels': ['P8-O2', 'T7-P7', 'FP1-F3', 'P7-O1', 'F3-C3', 'CZ-PZ', 'F8-T8', 'P4-O2', 'T8-P8', 'C4-P4', 'T7-FT9', 'C3-P3', 'FZ-CZ', 'F7-T7', 'FP2-F4', 'FT9-FT10', 'FP2-F8', 'FP1-F7', 'P3-O1', 'P7-T7', 'FT10-T8', '-', 'F4-C4'], 'Start Time': '13:37:25', 'End Time': '14:37:25', 'Seizures Window': []}, 'chb14_25': {'Channels': ['P8-O2', 'T7-P7', 'FP1-F3', 'P7-O1', 'F3-C3', 'CZ-PZ', 'F8-T8', 'P4-O2', 'T8-P8', 'C4-P4', 'T7-FT9', 'C3-P3', 'FZ-CZ', 'F7-T7', 'FP2-F4', 'FT9-FT10', 'FP2-F8', 'FP1-F7', 'P3-O1', 'P7-T7', 'FT10-T8', '-', 'F4-C4'], 'Start Time': '14:37:31', 'End Time': '15:37:31', 'Seizures Window': []}, 'chb14_26': {'Channels': ['P8-O2', 'T7-P7', 'FP1-F3', 'P7-O1', 'F3-C3', 'CZ-PZ', 'F8-T8', 'P4-O2', 'T8-P8', 'C4-P4', 'T7-FT9', 'C3-P3', 'FZ-CZ', 'F7-T7', 'FP2-F4', 'FT9-FT10', 'FP2-F8', 'FP1-F7', 'P3-O1', 'P7-T7', 'FT10-T8', '-', 'F4-C4'], 'Start Time': '15:37:38', 'End Time': '16:37:38', 'Seizures Window': []}, 'chb14_27': {'Channels': ['P8-O2', 'T7-P7', 'FP1-F3', 'P7-O1', 'F3-C3', 'CZ-PZ', 'F8-T8', 'P4-O2', 'T8-P8', 'C4-P4', 'T7-FT9', 'C3-P3', 'FZ-CZ', 'F7-T7', 'FP2-F4', 'FT9-FT10', 'FP2-F8', 'FP1-F7', 'P3-O1', 'P7-T7', 'FT10-T8', '-', 'F4-C4'], 'Start Time': '16:37:45', 'End Time': '17:37:45', 'Seizures Window': [2833, 2849]}, 'chb14_29': {'Channels': ['P8-O2', 'T7-P7', 'FP1-F3', 'P7-O1', 'F3-C3', 'CZ-PZ', 'F8-T8', 'P4-O2', 'T8-P8', 'C4-P4', 'T7-FT9', 'C3-P3', 'FZ-CZ', 'F7-T7', 'FP2-F4', 'FT9-FT10', 'FP2-F8', 'FP1-F7', 'P3-O1', 'P7-T7', 'FT10-T8', '-', 'F4-C4'], 'Start Time': '18:37:59', 'End Time': '19:37:59', 'Seizures Window': []}, 'chb14_30': {'Channels': ['P8-O2', 'T7-P7', 'FP1-F3', 'P7-O1', 'F3-C3', 'CZ-PZ', 'F8-T8', 'P4-O2', 'T8-P8', 'C4-P4', 'T7-FT9', 'C3-P3', 'FZ-CZ', 'F7-T7', 'FP2-F4', 'FT9-FT10', 'FP2-F8', 'FP1-F7', 'P3-O1', 'P7-T7', 'FT10-T8', '-', 'F4-C4'], 'Start Time': '19:38:06', 'End Time': '20:38:06', 'Seizures Window': []}, 'chb14_32': {'Channels': ['P8-O2', 'T7-P7', 'FP1-F3', 'P7-O1', 'F3-C3', 'CZ-PZ', 'F8-T8', 'P4-O2', 'T8-P8', 'C4-P4', 'T7-FT9', 'C3-P3', 'FZ-CZ', 'F7-T7', 'FP2-F4', 'FT9-FT10', 'FP2-F8', 'FP1-F7', 'P3-O1', 'P7-T7', 'FT10-T8', '-', 'F4-C4'], 'Start Time': '21:38:19', 'End Time': '22:38:19', 'Seizures Window': []}, 'chb14_37': {'Channels': ['P8-O2', 'T7-P7', 'FP1-F3', 'P7-O1', 'F3-C3', 'CZ-PZ', 'F8-T8', 'P4-O2', 'T8-P8', 'C4-P4', 'T7-FT9', 'C3-P3', 'FZ-CZ', 'F7-T7', 'FP2-F4', 'FT9-FT10', 'FP2-F8', 'FP1-F7', 'P3-O1', 'P7-T7', 'FT10-T8', '-', 'F4-C4'], 'Start Time': '02:38:53', 'End Time': '3:38:53', 'Seizures Window': []}, 'chb14_39': {'Channels': ['P8-O2', 'T7-P7', 'FP1-F3', 'P7-O1', 'F3-C3', 'CZ-PZ', 'F8-T8', 'P4-O2', 'T8-P8', 'C4-P4', 'T7-FT9', 'C3-P3', 'FZ-CZ', 'F7-T7', 'FP2-F4', 'FT9-FT10', 'FP2-F8', 'FP1-F7', 'P3-O1', 'P7-T7', 'FT10-T8', '-', 'F4-C4'], 'Start Time': '04:39:07', 'End Time': '5:39:07', 'Seizures Window': []}, 'chb14_42': {'Channels': ['P8-O2', 'T7-P7', 'FP1-F3', 'P7-O1', 'F3-C3', 'CZ-PZ', 'F8-T8', 'P4-O2', 'T8-P8', 'C4-P4', 'T7-FT9', 'C3-P3', 'FZ-CZ', 'F7-T7', 'FP2-F4', 'FT9-FT10', 'FP2-F8', 'FP1-F7', 'P3-O1', 'P7-T7', 'FT10-T8', '-', 'F4-C4'], 'Start Time': '07:39:28', 'End Time': '8:39:28', 'Seizures Window': []}, 'chb15_01': {'Channels': ['P8-O2', 'T7-P7', 'FP1-F3', 'P7-O1', 'F3-C3', 'FC2-Ref', 'CZ-PZ', 'FC1-Ref', 'F8-T8', 'P4-O2', 'T8-P8', 'C4-P4', 'C3-P3', 'FZ-CZ', 'CP6-Ref', 'F7-T7', 'FP2-F4', 'CP2-Ref', 'FC5-Ref', 'CP5-Ref', 'FP2-F8', 'FP1-F7', 'FC6-Ref', 'P3-O1', '-', 'CP1-Ref', 'F4-C4'], 'Start Time': '18:23:13', 'End Time': '19:23:15', 'Seizures Window': []}, 'chb15_02': {'Channels': ['P8-O2', 'T7-P7', 'FP1-F3', 'P7-O1', 'F3-C3', 'FC2-Ref', 'CZ-PZ', 'FC1-Ref', 'F8-T8', 'P4-O2', 'T8-P8', 'C4-P4', 'T7-FT9', 'C3-P3', 'FZ-CZ', 'CP6-Ref', 'F7-T7', 'FP2-F4', 'CP2-Ref', 'PZ-OZ', 'FC5-Ref', 'CP5-Ref', 'FT9-FT10', 'FP2-F8', 'FP1-F7', 'FC6-Ref', 'P3-O1', 'P7-T7', 'FT10-T8', '-', 'CP1-Ref', 'F4-C4'], 'Start Time': '19:23:43', 'End Time': '20:23:43', 'Seizures Window': []}, 'chb15_03': {'Channels': ['P8-O2', 'T7-P7', 'FP1-F3', 'P7-O1', 'F3-C3', 'FC2-Ref', 'CZ-PZ', 'FC1-Ref', 'F8-T8', 'P4-O2', 'T8-P8', 'C4-P4', 'T7-FT9', 'C3-P3', 'FZ-CZ', 'CP6-Ref', 'F7-T7', 'FP2-F4', 'CP2-Ref', 'PZ-OZ', 'FC5-Ref', 'CP5-Ref', 'FT9-FT10', 'FP2-F8', 'FP1-F7', 'FC6-Ref', 'P3-O1', 'P7-T7', 'FT10-T8', '-', 'CP1-Ref', 'F4-C4'], 'Start Time': '20:23:50', 'End Time': '21:23:50', 'Seizures Window': []}, 'chb15_04': {'Channels': ['P8-O2', 'T7-P7', 'FP1-F3', 'P7-O1', 'F3-C3', 'FC2-Ref', 'CZ-PZ', 'FC1-Ref', 'F8-T8', 'P4-O2', 'T8-P8', 'C4-P4', 'T7-FT9', 'C3-P3', 'FZ-CZ', 'CP6-Ref', 'F7-T7', 'FP2-F4', 'CP2-Ref', 'PZ-OZ', 'FC5-Ref', 'CP5-Ref', 'FT9-FT10', 'FP2-F8', 'FP1-F7', 'FC6-Ref', 'P3-O1', 'P7-T7', 'FT10-T8', '-', 'CP1-Ref', 'F4-C4'], 'Start Time': '21:23:57', 'End Time': '22:23:57', 'Seizures Window': []}, 'chb15_05': {'Channels': ['P8-O2', 'T7-P7', 'FP1-F3', 'P7-O1', 'F3-C3', 'FC2-Ref', 'CZ-PZ', 'FC1-Ref', 'F8-T8', 'P4-O2', 'T8-P8', 'C4-P4', 'T7-FT9', 'C3-P3', 'FZ-CZ', 'CP6-Ref', 'F7-T7', 'FP2-F4', 'CP2-Ref', 'PZ-OZ', 'FC5-Ref', 'CP5-Ref', 'FT9-FT10', 'FP2-F8', 'FP1-F7', 'FC6-Ref', 'P3-O1', 'P7-T7', 'FT10-T8', '-', 'CP1-Ref', 'F4-C4'], 'Start Time': '22:24:03', 'End Time': '23:24:03', 'Seizures Window': []}, 'chb15_06': {'Channels': ['P8-O2', 'T7-P7', 'FP1-F3', 'P7-O1', 'F3-C3', 'FC2-Ref', 'CZ-PZ', 'FC1-Ref', 'F8-T8', 'P4-O2', 'T8-P8', 'C4-P4', 'T7-FT9', 'C3-P3', 'FZ-CZ', 'CP6-Ref', 'F7-T7', 'FP2-F4', 'CP2-Ref', 'PZ-OZ', 'FC5-Ref', 'CP5-Ref', 'FT9-FT10', 'FP2-F8', 'FP1-F7', 'FC6-Ref', 'P3-O1', 'P7-T7', 'FT10-T8', '-', 'CP1-Ref', 'F4-C4'], 'Start Time': '23:24:10', 'End Time': '24:24:10', 'Seizures Window': [272, 397]}, 'chb15_07': {'Channels': ['P8-O2', 'T7-P7', 'FP1-F3', 'P7-O1', 'F3-C3', 'FC2-Ref', 'CZ-PZ', 'FC1-Ref', 'F8-T8', 'P4-O2', 'T8-P8', 'C4-P4', 'T7-FT9', 'C3-P3', 'FZ-CZ', 'CP6-Ref', 'F7-T7', 'FP2-F4', 'CP2-Ref', 'PZ-OZ', 'FC5-Ref', 'CP5-Ref', 'FT9-FT10', 'FP2-F8', 'FP1-F7', 'FC6-Ref', 'P3-O1', 'P7-T7', 'FT10-T8', '-', 'CP1-Ref', 'F4-C4'], 'Start Time': '00:24:17', 'End Time': '1:24:17', 'Seizures Window': []}, 'chb15_08': {'Channels': ['P8-O2', 'T7-P7', 'FP1-F3', 'P7-O1', 'F3-C3', 'FC2-Ref', 'CZ-PZ', 'FC1-Ref', 'F8-T8', 'P4-O2', 'T8-P8', 'C4-P4', 'T7-FT9', 'C3-P3', 'FZ-CZ', 'CP6-Ref', 'F7-T7', 'FP2-F4', 'CP2-Ref', 'PZ-OZ', 'FC5-Ref', 'CP5-Ref', 'FT9-FT10', 'FP2-F8', 'FP1-F7', 'FC6-Ref', 'P3-O1', 'P7-T7', 'FT10-T8', '-', 'CP1-Ref', 'F4-C4'], 'Start Time': '01:24:24', 'End Time': '2:24:24', 'Seizures Window': []}, 'chb15_09': {'Channels': ['P8-O2', 'T7-P7', 'FP1-F3', 'P7-O1', 'F3-C3', 'FC2-Ref', 'CZ-PZ', 'FC1-Ref', 'F8-T8', 'P4-O2', 'T8-P8', 'C4-P4', 'T7-FT9', 'C3-P3', 'FZ-CZ', 'CP6-Ref', 'F7-T7', 'FP2-F4', 'CP2-Ref', 'PZ-OZ', 'FC5-Ref', 'CP5-Ref', 'FT9-FT10', 'FP2-F8', 'FP1-F7', 'FC6-Ref', 'P3-O1', 'P7-T7', 'FT10-T8', '-', 'CP1-Ref', 'F4-C4'], 'Start Time': '02:24:31', 'End Time': '3:24:31', 'Seizures Window': []}, 'chb15_10': {'Channels': ['P8-O2', 'T7-P7', 'FP1-F3', 'P7-O1', 'F3-C3', 'FC2-Ref', 'CZ-PZ', 'FC1-Ref', 'F8-T8', 'P4-O2', 'T8-P8', 'C4-P4', 'T7-FT9', 'C3-P3', 'FZ-CZ', 'CP6-Ref', 'F7-T7', 'FP2-F4', 'CP2-Ref', 'PZ-OZ', 'FC5-Ref', 'CP5-Ref', 'FT9-FT10', 'FP2-F8', 'FP1-F7', 'FC6-Ref', 'P3-O1', 'P7-T7', 'FT10-T8', '-', 'CP1-Ref', 'F4-C4'], 'Start Time': '03:24:38', 'End Time': '4:24:38', 'Seizures Window': [1082, 1113]}, 'chb15_11': {'Channels': ['P8-O2', 'T7-P7', 'FP1-F3', 'P7-O1', 'F3-C3', 'FC2-Ref', 'CZ-PZ', 'FC1-Ref', 'F8-T8', 'P4-O2', 'T8-P8', 'C4-P4', 'T7-FT9', 'C3-P3', 'FZ-CZ', 'CP6-Ref', 'F7-T7', 'FP2-F4', 'CP2-Ref', 'PZ-OZ', 'FC5-Ref', 'CP5-Ref', 'FT9-FT10', 'FP2-F8', 'FP1-F7', 'FC6-Ref', 'P3-O1', 'P7-T7', 'FT10-T8', '-', 'CP1-Ref', 'F4-C4'], 'Start Time': '04:24:45', 'End Time': '5:24:45', 'Seizures Window': []}, 'chb15_12': {'Channels': ['P8-O2', 'T7-P7', 'FP1-F3', 'P7-O1', 'F3-C3', 'FC2-Ref', 'CZ-PZ', 'FC1-Ref', 'F8-T8', 'P4-O2', 'T8-P8', 'C4-P4', 'T7-FT9', 'C3-P3', 'FZ-CZ', 'CP6-Ref', 'F7-T7', 'FP2-F4', 'CP2-Ref', 'PZ-OZ', 'FC5-Ref', 'CP5-Ref', 'FT9-FT10', 'FP2-F8', 'FP1-F7', 'FC6-Ref', 'P3-O1', 'P7-T7', 'FT10-T8', '-', 'CP1-Ref', 'F4-C4'], 'Start Time': '05:24:52', 'End Time': '6:24:52', 'Seizures Window': []}, 'chb15_13': {'Channels': ['P8-O2', 'T7-P7', 'FP1-F3', 'P7-O1', 'F3-C3', 'FC2-Ref', 'CZ-PZ', 'FC1-Ref', 'F8-T8', 'P4-O2', 'T8-P8', 'C4-P4', 'T7-FT9', 'C3-P3', 'FZ-CZ', 'CP6-Ref', 'F7-T7', 'FP2-F4', 'CP2-Ref', 'PZ-OZ', 'FC5-Ref', 'CP5-Ref', 'FT9-FT10', 'FP2-F8', 'FP1-F7', 'FC6-Ref', 'P3-O1', 'P7-T7', 'FT10-T8', '-', 'CP1-Ref', 'F4-C4'], 'Start Time': '06:24:59', 'End Time': '7:24:59', 'Seizures Window': []}, 'chb15_14': {'Channels': ['P8-O2', 'T7-P7', 'FP1-F3', 'P7-O1', 'F3-C3', 'FC2-Ref', 'CZ-PZ', 'FC1-Ref', 'F8-T8', 'P4-O2', 'T8-P8', 'C4-P4', 'T7-FT9', 'C3-P3', 'FZ-CZ', 'CP6-Ref', 'F7-T7', 'FP2-F4', 'CP2-Ref', 'PZ-OZ', 'FC5-Ref', 'CP5-Ref', 'FT9-FT10', 'FP2-F8', 'FP1-F7', 'FC6-Ref', 'P3-O1', 'P7-T7', 'FT10-T8', '-', 'CP1-Ref', 'F4-C4'], 'Start Time': '07:25:06', 'End Time': '8:25:06', 'Seizures Window': []}, 'chb15_15': {'Channels': ['P8-O2', 'T7-P7', 'FP1-F3', 'P7-O1', 'F3-C3', 'FC2-Ref', 'CZ-PZ', 'FC1-Ref', 'F8-T8', 'P4-O2', 'T8-P8', 'C4-P4', 'T7-FT9', 'C3-P3', 'FZ-CZ', 'CP6-Ref', 'F7-T7', 'FP2-F4', 'CP2-Ref', 'PZ-OZ', 'FC5-Ref', 'CP5-Ref', 'FT9-FT10', 'FP2-F8', 'FP1-F7', 'FC6-Ref', 'P3-O1', 'P7-T7', 'FT10-T8', '-', 'CP1-Ref', 'F4-C4'], 'Start Time': '08:25:13', 'End Time': '9:25:13', 'Seizures Window': [1591, 1748]}, 'chb15_16': {'Channels': ['P8-O2', 'T7-P7', 'FP1-F3', 'P7-O1', 'F3-C3', 'FC2-Ref', 'CZ-PZ', 'FC1-Ref', 'F8-T8', 'P4-O2', 'T8-P8', 'C4-P4', 'T7-FT9', 'C3-P3', 'FZ-CZ', 'CP6-Ref', 'F7-T7', 'FP2-F4', 'CP2-Ref', 'PZ-OZ', 'FC5-Ref', 'CP5-Ref', 'FT9-FT10', 'FP2-F8', 'FP1-F7', 'FC6-Ref', 'P3-O1', 'P7-T7', 'FT10-T8', '-', 'CP1-Ref', 'F4-C4'], 'Start Time': '09:25:20', 'End Time': '10:25:20', 'Seizures Window': []}, 'chb15_17': {'Channels': ['P8-O2', 'T7-P7', 'FP1-F3', 'P7-O1', 'F3-C3', 'FC2-Ref', 'CZ-PZ', 'FC1-Ref', 'F8-T8', 'P4-O2', 'T8-P8', 'C4-P4', 'T7-FT9', 'C3-P3', 'FZ-CZ', 'CP6-Ref', 'F7-T7', 'FP2-F4', 'CP2-Ref', 'PZ-OZ', 'FC5-Ref', 'CP5-Ref', 'FT9-FT10', 'FP2-F8', 'FP1-F7', 'FC6-Ref', 'P3-O1', 'P7-T7', 'FT10-T8', '-', 'CP1-Ref', 'F4-C4'], 'Start Time': '10:25:27', 'End Time': '11:25:27', 'Seizures Window': [1925, 1960]}, 'chb15_19': {'Channels': ['P8-O2', 'T7-P7', 'FP1-F3', 'P7-O1', 'F3-C3', 'FC2-Ref', 'CZ-PZ', 'FC1-Ref', 'F8-T8', 'P4-O2', 'T8-P8', 'C4-P4', 'T7-FT9', 'C3-P3', 'FZ-CZ', 'CP6-Ref', 'F7-T7', 'FP2-F4', 'CP2-Ref', 'PZ-OZ', 'FC5-Ref', 'CP5-Ref', 'FT9-FT10', 'FP2-F8', 'FP1-F7', 'FC6-Ref', 'P3-O1', 'P7-T7', 'FT10-T8', '-', 'CP1-Ref', 'F4-C4'], 'Start Time': '12:25:41', 'End Time': '13:25:41', 'Seizures Window': []}, 'chb15_20': {'Channels': ['P8-O2', 'T7-P7', 'FP1-F3', 'P7-O1', 'F3-C3', 'FC2-Ref', 'CZ-PZ', 'FC1-Ref', 'F8-T8', 'P4-O2', 'T8-P8', 'C4-P4', 'T7-FT9', 'C3-P3', 'FZ-CZ', 'CP6-Ref', 'F7-T7', 'FP2-F4', 'CP2-Ref', 'PZ-OZ', 'FC5-Ref', 'CP5-Ref', 'FT9-FT10', 'FP2-F8', 'FP1-F7', 'FC6-Ref', 'P3-O1', 'P7-T7', 'FT10-T8', '-', 'CP1-Ref', 'F4-C4'], 'Start Time': '13:25:48', 'End Time': '14:25:48', 'Seizures Window': [607, 662]}, 'chb15_22': {'Channels': ['P8-O2', 'T7-P7', 'FP1-F3', 'P7-O1', 'F3-C3', 'FC2-Ref', 'CZ-PZ', 'FC1-Ref', 'F8-T8', 'P4-O2', 'T8-P8', 'C4-P4', 'T7-FT9', 'C3-P3', 'FZ-CZ', 'CP6-Ref', 'F7-T7', 'FP2-F4', 'CP2-Ref', 'PZ-OZ', 'FC5-Ref', 'CP5-Ref', 'FT9-FT10', 'FP2-F8', 'FP1-F7', 'FC6-Ref', 'P3-O1', 'P7-T7', 'FT10-T8', '-', 'CP1-Ref', 'F4-C4'], 'Start Time': '15:26:02', 'End Time': '16:26:02', 'Seizures Window': [760, 965]}, 'chb15_26': {'Channels': ['P8-O2', 'T7-P7', 'FP1-F3', 'P7-O1', 'F3-C3', 'FC2-Ref', 'CZ-PZ', 'FC1-Ref', 'F8-T8', 'P4-O2', 'T8-P8', 'C4-P4', 'T7-FT9', 'C3-P3', 'FZ-CZ', 'CP6-Ref', 'F7-T7', 'FP2-F4', 'CP2-Ref', 'PZ-OZ', 'FC5-Ref', 'CP5-Ref', 'FT9-FT10', 'FP2-F8', 'FP1-F7', 'FC6-Ref', 'P3-O1', 'P7-T7', 'FT10-T8', '-', 'CP1-Ref', 'F4-C4'], 'Start Time': '19:27:44', 'End Time': '20:27:44', 'Seizures Window': []}, 'chb15_28': {'Channels': ['P8-O2', 'T7-P7', 'FP1-F3', 'P7-O1', 'F3-C3', 'FC2-Ref', 'CZ-PZ', 'FC1-Ref', 'F8-T8', 'P4-O2', 'T8-P8', 'C4-P4', 'T7-FT9', 'C3-P3', 'FZ-CZ', 'CP6-Ref', 'F7-T7', 'FP2-F4', 'CP2-Ref', 'PZ-OZ', 'FC5-Ref', 'CP5-Ref', 'FT9-FT10', 'FP2-F8', 'FP1-F7', 'FC6-Ref', 'P3-O1', 'P7-T7', 'FT10-T8', '-', 'CP1-Ref', 'F4-C4'], 'Start Time': '21:27:58', 'End Time': '22:27:58', 'Seizures Window': [876, 1066]}, 'chb15_29': {'Channels': ['P8-O2', 'T7-P7', 'FP1-F3', 'P7-O1', 'F3-C3', 'FC2-Ref', 'CZ-PZ', 'FC1-Ref', 'F8-T8', 'P4-O2', 'T8-P8', 'C4-P4', 'T7-FT9', 'C3-P3', 'FZ-CZ', 'CP6-Ref', 'F7-T7', 'FP2-F4', 'CP2-Ref', 'PZ-OZ', 'FC5-Ref', 'CP5-Ref', 'FT9-FT10', 'FP2-F8', 'FP1-F7', 'FC6-Ref', 'P3-O1', 'P7-T7', 'FT10-T8', '-', 'CP1-Ref', 'F4-C4'], 'Start Time': '22:28:05', 'End Time': '23:28:05', 'Seizures Window': []}, 'chb15_30': {'Channels': ['P8-O2', 'T7-P7', 'FP1-F3', 'P7-O1', 'F3-C3', 'FC2-Ref', 'CZ-PZ', 'FC1-Ref', 'F8-T8', 'P4-O2', 'T8-P8', 'C4-P4', 'T7-FT9', 'C3-P3', 'FZ-CZ', 'CP6-Ref', 'F7-T7', 'FP2-F4', 'CP2-Ref', 'PZ-OZ', 'FC5-Ref', 'CP5-Ref', 'FT9-FT10', 'FP2-F8', 'FP1-F7', 'FC6-Ref', 'P3-O1', 'P7-T7', 'FT10-T8', '-', 'CP1-Ref', 'F4-C4'], 'Start Time': '23:28:12', 'End Time': '24:28:12', 'Seizures Window': []}, 'chb15_31': {'Channels': ['P8-O2', 'T7-P7', 'FP1-F3', 'P7-O1', 'F3-C3', 'FC2-Ref', 'CZ-PZ', 'FC1-Ref', 'F8-T8', 'P4-O2', 'T8-P8', 'C4-P4', 'T7-FT9', 'C3-P3', 'FZ-CZ', 'CP6-Ref', 'F7-T7', 'FP2-F4', 'CP2-Ref', 'PZ-OZ', 'FC5-Ref', 'CP5-Ref', 'FT9-FT10', 'FP2-F8', 'FP1-F7', 'FC6-Ref', 'P3-O1', 'P7-T7', 'FT10-T8', '-', 'CP1-Ref', 'F4-C4'], 'Start Time': '00:28:18', 'End Time': '1:28:18', 'Seizures Window': [1751, 1871]}, 'chb15_32': {'Channels': ['P8-O2', 'T7-P7', 'FP1-F3', 'P7-O1', 'F3-C3', 'FC2-Ref', 'CZ-PZ', 'FC1-Ref', 'F8-T8', 'P4-O2', 'T8-P8', 'C4-P4', 'T7-FT9', 'C3-P3', 'FZ-CZ', 'CP6-Ref', 'F7-T7', 'FP2-F4', 'CP2-Ref', 'PZ-OZ', 'FC5-Ref', 'CP5-Ref', 'FT9-FT10', 'FP2-F8', 'FP1-F7', 'FC6-Ref', 'P3-O1', 'P7-T7', 'FT10-T8', '-', 'CP1-Ref', 'F4-C4'], 'Start Time': '01:28:25', 'End Time': '2:28:25', 'Seizures Window': []}, 'chb15_33': {'Channels': ['P8-O2', 'T7-P7', 'FP1-F3', 'P7-O1', 'F3-C3', 'FC2-Ref', 'CZ-PZ', 'FC1-Ref', 'F8-T8', 'P4-O2', 'T8-P8', 'C4-P4', 'T7-FT9', 'C3-P3', 'FZ-CZ', 'CP6-Ref', 'F7-T7', 'FP2-F4', 'CP2-Ref', 'PZ-OZ', 'FC5-Ref', 'CP5-Ref', 'FT9-FT10', 'FP2-F8', 'FP1-F7', 'FC6-Ref', 'P3-O1', 'P7-T7', 'FT10-T8', '-', 'CP1-Ref', 'F4-C4'], 'Start Time': '02:28:32', 'End Time': '3:28:32', 'Seizures Window': []}, 'chb15_35': {'Channels': ['P8-O2', 'T7-P7', 'FP1-F3', 'P7-O1', 'F3-C3', 'FC2-Ref', 'CZ-PZ', 'FC1-Ref', 'F8-T8', 'P4-O2', 'T8-P8', 'C4-P4', 'T7-FT9', 'C3-P3', 'FZ-CZ', 'CP6-Ref', 'F7-T7', 'FP2-F4', 'CP2-Ref', 'PZ-OZ', 'FC5-Ref', 'CP5-Ref', 'FT9-FT10', 'FP2-F8', 'FP1-F7', 'FC6-Ref', 'P3-O1', 'P7-T7', 'FT10-T8', '-', 'CP1-Ref', 'F4-C4'], 'Start Time': '04:28:46', 'End Time': '5:28:46', 'Seizures Window': []}, 'chb15_37': {'Channels': ['P8-O2', 'T7-P7', 'FP1-F3', 'P7-O1', 'F3-C3', 'FC2-Ref', 'CZ-PZ', 'FC1-Ref', 'F8-T8', 'P4-O2', 'T8-P8', 'C4-P4', 'T7-FT9', 'C3-P3', 'FZ-CZ', 'CP6-Ref', 'F7-T7', 'FP2-F4', 'CP2-Ref', 'PZ-OZ', 'FC5-Ref', 'CP5-Ref', 'FT9-FT10', 'FP2-F8', 'FP1-F7', 'FC6-Ref', 'P3-O1', 'P7-T7', 'FT10-T8', '-', 'CP1-Ref', 'F4-C4'], 'Start Time': '06:29:00', 'End Time': '7:29:00', 'Seizures Window': []}, 'chb15_40': {'Channels': ['P8-O2', 'T7-P7', 'FP1-F3', 'P7-O1', 'F3-C3', 'FC2-Ref', 'CZ-PZ', 'FC1-Ref', 'F8-T8', 'P4-O2', 'T8-P8', 'C4-P4', 'T7-FT9', 'C3-P3', 'FZ-CZ', 'CP6-Ref', 'F7-T7', 'FP2-F4', 'CP2-Ref', 'PZ-OZ', 'FC5-Ref', 'CP5-Ref', 'FT9-FT10', 'FP2-F8', 'FP1-F7', 'FC6-Ref', 'P3-O1', 'P7-T7', 'FT10-T8', '-', 'CP1-Ref', 'F4-C4'], 'Start Time': '09:29:21', 'End Time': '10:29:21', 'Seizures Window': [834, 894, 2378, 2497, 3362, 3425]}, 'chb15_45': {'Channels': ['P8-O2', 'T7-P7', 'FP1-F3', 'P7-O1', 'F3-C3', 'FC2-Ref', 'CZ-PZ', 'FC1-Ref', 'F8-T8', 'P4-O2', 'T8-P8', 'C4-P4', 'T7-FT9', 'C3-P3', 'FZ-CZ', 'CP6-Ref', 'F7-T7', 'FP2-F4', 'CP2-Ref', 'PZ-OZ', 'FC5-Ref', 'CP5-Ref', 'FT9-FT10', 'FP2-F8', 'FP1-F7', 'FC6-Ref', 'P3-O1', 'P7-T7', 'FT10-T8', '-', 'CP1-Ref', 'F4-C4'], 'Start Time': '14:30:00', 'End Time': '15:30:00', 'Seizures Window': []}, 'chb15_46': {'Channels': ['P8-O2', 'T7-P7', 'FP1-F3', 'P7-O1', 'F3-C3', 'FC2-Ref', 'CZ-PZ', 'FC1-Ref', 'F8-T8', 'P4-O2', 'T8-P8', 'C4-P4', 'T7-FT9', 'C3-P3', 'FZ-CZ', 'CP6-Ref', 'F7-T7', 'FP2-F4', 'CP2-Ref', 'PZ-OZ', 'FC5-Ref', 'CP5-Ref', 'FT9-FT10', 'FP2-F8', 'FP1-F7', 'FC6-Ref', 'P3-O1', 'P7-T7', 'FT10-T8', '-', 'CP1-Ref', 'F4-C4'], 'Start Time': '15:30:07', 'End Time': '16:30:07', 'Seizures Window': [3322, 3429]}, 'chb15_49': {'Channels': ['P8-O2', 'T7-P7', 'FP1-F3', 'P7-O1', 'F3-C3', 'FC2-Ref', 'CZ-PZ', 'FC1-Ref', 'F8-T8', 'P4-O2', 'T8-P8', 'C4-P4', 'T7-FT9', 'C3-P3', 'FZ-CZ', 'CP6-Ref', 'F7-T7', 'FP2-F4', 'CP2-Ref', 'PZ-OZ', 'FC5-Ref', 'CP5-Ref', 'FT9-FT10', 'FP2-F8', 'FP1-F7', 'FC6-Ref', 'P3-O1', 'P7-T7', 'FT10-T8', '-', 'CP1-Ref', 'F4-C4'], 'Start Time': '18:38:05', 'End Time': '19:38:30', 'Seizures Window': [1108, 1248]}, 'chb15_50': {'Channels': ['P8-O2', 'T7-P7', 'FP1-F3', 'P7-O1', 'F3-C3', 'FC2-Ref', 'CZ-PZ', 'FC1-Ref', 'F8-T8', 'P4-O2', 'T8-P8', 'C4-P4', 'T7-FT9', 'C3-P3', 'FZ-CZ', 'CP6-Ref', 'F7-T7', 'FP2-F4', 'CP2-Ref', 'PZ-OZ', 'FC5-Ref', 'CP5-Ref', 'FT9-FT10', 'FP2-F8', 'FP1-F7', 'FC6-Ref', 'P3-O1', 'P7-T7', 'FT10-T8', '-', 'CP1-Ref', 'F4-C4'], 'Start Time': '19:38:56', 'End Time': '20:38:56', 'Seizures Window': []}, 'chb15_51': {'Channels': ['P8-O2', 'T7-P7', 'FP1-F3', 'P7-O1', 'F3-C3', 'FC2-Ref', 'CZ-PZ', 'FC1-Ref', 'F8-T8', 'P4-O2', 'T8-P8', 'C4-P4', 'T7-FT9', 'C3-P3', 'FZ-CZ', 'CP6-Ref', 'F7-T7', 'FP2-F4', 'CP2-Ref', 'PZ-OZ', 'FC5-Ref', 'CP5-Ref', 'FT9-FT10', 'FP2-F8', 'FP1-F7', 'FC6-Ref', 'P3-O1', 'P7-T7', 'FT10-T8', '-', 'CP1-Ref', 'F4-C4'], 'Start Time': '20:39:03', 'End Time': '21:39:03', 'Seizures Window': []}, 'chb15_52': {'Channels': ['P8-O2', 'T7-P7', 'FP1-F3', 'P7-O1', 'F3-C3', 'FC2-Ref', 'CZ-PZ', 'FC1-Ref', 'F8-T8', 'P4-O2', 'T8-P8', 'C4-P4', 'T7-FT9', 'C3-P3', 'FZ-CZ', 'CP6-Ref', 'F7-T7', 'FP2-F4', 'CP2-Ref', 'PZ-OZ', 'FC5-Ref', 'CP5-Ref', 'FT9-FT10', 'FP2-F8', 'FP1-F7', 'FC6-Ref', 'P3-O1', 'P7-T7', 'FT10-T8', '-', 'CP1-Ref', 'F4-C4'], 'Start Time': '21:39:10', 'End Time': '22:39:19', 'Seizures Window': [778, 849]}, 'chb15_54': {'Channels': ['P8-O2', 'T7-P7', 'FP1-F3', 'P7-O1', 'F3-C3', 'FC2-Ref', 'CZ-PZ', 'FC1-Ref', 'F8-T8', 'P4-O2', 'T8-P8', 'C4-P4', 'T7-FT9', 'C3-P3', 'FZ-CZ', 'CP6-Ref', 'F7-T7', 'FP2-F4', 'CP2-Ref', 'PZ-OZ', 'FC5-Ref', 'CP5-Ref', 'FT9-FT10', 'FP2-F8', 'FP1-F7', 'FC6-Ref', 'P3-O1', 'P7-T7', 'FT10-T8', '-', 'CP1-Ref', 'F4-C4'], 'Start Time': '23:39:54', 'End Time': '24:39:54', 'Seizures Window': [263, 318, 843, 1020, 1524, 1595, 2179, 2250, 3428, 3460]}, 'chb15_61': {'Channels': ['P8-O2', 'T7-P7', 'FP1-F3', 'P7-O1', 'F3-C3', 'FC2-Ref', 'CZ-PZ', 'FC1-Ref', 'F8-T8', 'P4-O2', 'T8-P8', 'C4-P4', 'T7-FT9', 'C3-P3', 'FZ-CZ', 'CP6-Ref', 'F7-T7', 'FP2-F4', 'CP2-Ref', 'PZ-OZ', 'FC5-Ref', 'CP5-Ref', 'FT9-FT10', 'FP2-F8', 'FP1-F7', 'FC6-Ref', 'P3-O1', 'P7-T7', 'FT10-T8', '-', 'CP1-Ref', 'F4-C4'], 'Start Time': '06:41:03', 'End Time': '7:41:03', 'Seizures Window': []}, 'chb15_62': {'Channels': ['P8-O2', 'T7-P7', 'FP1-F3', 'P7-O1', 'F3-C3', 'FC2-Ref', 'CZ-PZ', 'FC1-Ref', 'F8-T8', 'P4-O2', 'T8-P8', 'C4-P4', 'T7-FT9', 'C3-P3', 'FZ-CZ', 'CP6-Ref', 'F7-T7', 'FP2-F4', 'CP2-Ref', 'PZ-OZ', 'FC5-Ref', 'CP5-Ref', 'FT9-FT10', 'FP2-F8', 'FP1-F7', 'FC6-Ref', 'P3-O1', 'P7-T7', 'FT10-T8', '-', 'CP1-Ref', 'F4-C4'], 'Start Time': '07:41:10', 'End Time': '8:41:10', 'Seizures Window': [751, 859]}, 'chb15_63': {'Channels': ['P8-O2', 'T7-P7', 'FP1-F3', 'P7-O1', 'F3-C3', 'FC2-Ref', 'CZ-PZ', 'FC1-Ref', 'F8-T8', 'P4-O2', 'T8-P8', 'C4-P4', 'T7-FT9', 'C3-P3', 'FZ-CZ', 'CP6-Ref', 'F7-T7', 'FP2-F4', 'CP2-Ref', 'PZ-OZ', 'FC5-Ref', 'CP5-Ref', 'FT9-FT10', 'FP2-F8', 'FP1-F7', 'FC6-Ref', 'P3-O1', 'P7-T7', 'FT10-T8', '-', 'CP1-Ref', 'F4-C4'], 'Start Time': '08:41:17', 'End Time': '9:41:17', 'Seizures Window': []}, 'chb16_01': {'Channels': ['P8-O2', 'T7-P7', 'FP1-F3', 'P7-O1', 'F3-C3', 'CZ-PZ', 'F8-T8', 'P4-O2', 'T8-P8', 'C4-P4', 'T7-FT9', 'C3-P3', 'FZ-CZ', 'F7-T7', 'FP2-F4', 'FT9-FT10', 'FP2-F8', 'FP1-F7', 'P3-O1', 'P7-T7', 'FT10-T8', '-', 'F4-C4'], 'Start Time': '16:39:42', 'End Time': '17:39:42', 'Seizures Window': []}, 'chb16_02': {'Channels': ['P8-O2', 'T7-P7', 'FP1-F3', 'P7-O1', 'F3-C3', 'CZ-PZ', 'F8-T8', 'P4-O2', 'T8-P8', 'C4-P4', 'T7-FT9', 'C3-P3', 'FZ-CZ', 'F7-T7', 'FP2-F4', 'FT9-FT10', 'FP2-F8', 'FP1-F7', 'P3-O1', 'P7-T7', 'FT10-T8', '-', 'F4-C4'], 'Start Time': '17:39:45', 'End Time': '18:39:45', 'Seizures Window': []}, 'chb16_03': {'Channels': ['P8-O2', 'T7-P7', 'FP1-F3', 'P7-O1', 'F3-C3', 'CZ-PZ', 'F8-T8', 'P4-O2', 'T8-P8', 'C4-P4', 'T7-FT9', 'C3-P3', 'FZ-CZ', 'F7-T7', 'FP2-F4', 'FT9-FT10', 'FP2-F8', 'FP1-F7', 'P3-O1', 'P7-T7', 'FT10-T8', '-', 'F4-C4'], 'Start Time': '18:39:52', 'End Time': '19:39:52', 'Seizures Window': []}, 'chb16_04': {'Channels': ['P8-O2', 'T7-P7', 'FP1-F3', 'P7-O1', 'F3-C3', 'CZ-PZ', 'F8-T8', 'P4-O2', 'T8-P8', 'C4-P4', 'T7-FT9', 'C3-P3', 'FZ-CZ', 'F7-T7', 'FP2-F4', 'FT9-FT10', 'FP2-F8', 'FP1-F7', 'P3-O1', 'P7-T7', 'FT10-T8', '-', 'F4-C4'], 'Start Time': '19:39:58', 'End Time': '20:39:58', 'Seizures Window': []}, 'chb16_05': {'Channels': ['P8-O2', 'T7-P7', 'FP1-F3', 'P7-O1', 'F3-C3', 'CZ-PZ', 'F8-T8', 'P4-O2', 'T8-P8', 'C4-P4', 'T7-FT9', 'C3-P3', 'FZ-CZ', 'F7-T7', 'FP2-F4', 'FT9-FT10', 'FP2-F8', 'FP1-F7', 'P3-O1', 'P7-T7', 'FT10-T8', '-', 'F4-C4'], 'Start Time': '20:40:05', 'End Time': '21:40:05', 'Seizures Window': []}, 'chb16_06': {'Channels': ['P8-O2', 'T7-P7', 'FP1-F3', 'P7-O1', 'F3-C3', 'CZ-PZ', 'F8-T8', 'P4-O2', 'T8-P8', 'C4-P4', 'T7-FT9', 'C3-P3', 'FZ-CZ', 'F7-T7', 'FP2-F4', 'FT9-FT10', 'FP2-F8', 'FP1-F7', 'P3-O1', 'P7-T7', 'FT10-T8', '-', 'F4-C4'], 'Start Time': '21:40:12', 'End Time': '22:40:12', 'Seizures Window': []}, 'chb16_07': {'Channels': ['P8-O2', 'T7-P7', 'FP1-F3', 'P7-O1', 'F3-C3', 'CZ-PZ', 'F8-T8', 'P4-O2', 'T8-P8', 'C4-P4', 'T7-FT9', 'C3-P3', 'FZ-CZ', 'F7-T7', 'FP2-F4', 'FT9-FT10', 'FP2-F8', 'FP1-F7', 'P3-O1', 'P7-T7', 'FT10-T8', '-', 'F4-C4'], 'Start Time': '22:40:19', 'End Time': '23:40:19', 'Seizures Window': []}, 'chb16_08': {'Channels': ['P8-O2', 'T7-P7', 'FP1-F3', 'P7-O1', 'F3-C3', 'CZ-PZ', 'F8-T8', 'P4-O2', 'T8-P8', 'C4-P4', 'T7-FT9', 'C3-P3', 'FZ-CZ', 'F7-T7', 'FP2-F4', 'FT9-FT10', 'FP2-F8', 'FP1-F7', 'P3-O1', 'P7-T7', 'FT10-T8', '-', 'F4-C4'], 'Start Time': '23:40:26', 'End Time': '24:40:26', 'Seizures Window': []}, 'chb16_09': {'Channels': ['P8-O2', 'T7-P7', 'FP1-F3', 'P7-O1', 'F3-C3', 'CZ-PZ', 'F8-T8', 'P4-O2', 'T8-P8', 'C4-P4', 'T7-FT9', 'C3-P3', 'FZ-CZ', 'F7-T7', 'FP2-F4', 'FT9-FT10', 'FP2-F8', 'FP1-F7', 'P3-O1', 'P7-T7', 'FT10-T8', '-', 'F4-C4'], 'Start Time': '00:40:33', 'End Time': '1:40:33', 'Seizures Window': []}, 'chb16_10': {'Channels': ['P8-O2', 'T7-P7', 'FP1-F3', 'P7-O1', 'F3-C3', 'CZ-PZ', 'F8-T8', 'P4-O2', 'T8-P8', 'C4-P4', 'T7-FT9', 'C3-P3', 'FZ-CZ', 'F7-T7', 'FP2-F4', 'FT9-FT10', 'FP2-F8', 'FP1-F7', 'P3-O1', 'P7-T7', 'FT10-T8', '-', 'F4-C4'], 'Start Time': '01:40:40', 'End Time': '2:40:40', 'Seizures Window': [2290, 2299]}, 'chb16_11': {'Channels': ['P8-O2', 'T7-P7', 'FP1-F3', 'P7-O1', 'F3-C3', 'CZ-PZ', 'F8-T8', 'P4-O2', 'T8-P8', 'C4-P4', 'T7-FT9', 'C3-P3', 'FZ-CZ', 'F7-T7', 'FP2-F4', 'FT9-FT10', 'FP2-F8', 'FP1-F7', 'P3-O1', 'P7-T7', 'FT10-T8', '-', 'F4-C4'], 'Start Time': '02:40:47', 'End Time': '3:40:47', 'Seizures Window': [1120, 1129]}, 'chb16_12': {'Channels': ['P8-O2', 'T7-P7', 'FP1-F3', 'P7-O1', 'F3-C3', 'CZ-PZ', 'F8-T8', 'P4-O2', 'T8-P8', 'C4-P4', 'T7-FT9', 'C3-P3', 'FZ-CZ', 'F7-T7', 'FP2-F4', 'FT9-FT10', 'FP2-F8', 'FP1-F7', 'P3-O1', 'P7-T7', 'FT10-T8', '-', 'F4-C4'], 'Start Time': '03:40:54', 'End Time': '4:40:54', 'Seizures Window': []}, 'chb16_13': {'Channels': ['P8-O2', 'T7-P7', 'FP1-F3', 'P7-O1', 'F3-C3', 'CZ-PZ', 'F8-T8', 'P4-O2', 'T8-P8', 'C4-P4', 'T7-FT9', 'C3-P3', 'FZ-CZ', 'F7-T7', 'FP2-F4', 'FT9-FT10', 'FP2-F8', 'FP1-F7', 'P3-O1', 'P7-T7', 'FT10-T8', '-', 'F4-C4'], 'Start Time': '04:41:01', 'End Time': '5:41:01', 'Seizures Window': []}, 'chb16_14': {'Channels': ['P8-O2', 'T7-P7', 'FP1-F3', 'P7-O1', 'F3-C3', 'CZ-PZ', 'F8-T8', 'P4-O2', 'T8-P8', 'C4-P4', 'T7-FT9', 'C3-P3', 'FZ-CZ', 'F7-T7', 'FP2-F4', 'FT9-FT10', 'FP2-F8', 'FP1-F7', 'P3-O1', 'P7-T7', 'FT10-T8', '-', 'F4-C4'], 'Start Time': '05:41:08', 'End Time': '6:41:08', 'Seizures Window': [1854, 1868]}, 'chb16_15': {'Channels': ['P8-O2', 'T7-P7', 'FP1-F3', 'P7-O1', 'F3-C3', 'CZ-PZ', 'F8-T8', 'P4-O2', 'T8-P8', 'C4-P4', 'T7-FT9', 'C3-P3', 'FZ-CZ', 'F7-T7', 'FP2-F4', 'FT9-FT10', 'FP2-F8', 'FP1-F7', 'P3-O1', 'P7-T7', 'FT10-T8', '-', 'F4-C4'], 'Start Time': '06:41:15', 'End Time': '7:41:15', 'Seizures Window': []}, 'chb16_16': {'Channels': ['P8-O2', 'T7-P7', 'FP1-F3', 'P7-O1', 'F3-C3', 'CZ-PZ', 'F8-T8', 'P4-O2', 'T8-P8', 'C4-P4', 'T7-FT9', 'C3-P3', 'FZ-CZ', 'F7-T7', 'FP2-F4', 'FT9-FT10', 'FP2-F8', 'FP1-F7', 'P3-O1', 'P7-T7', 'FT10-T8', '-', 'F4-C4'], 'Start Time': '07:41:22', 'End Time': '8:41:22', 'Seizures Window': [1214, 1220]}, 'chb16_17': {'Channels': ['P8-O2', 'T7-P7', 'FP1-F3', 'P7-O1', 'F3-C3', 'CZ-PZ', 'F8-T8', 'P4-O2', 'T8-P8', 'C4-P4', 'T7-FT9', 'C3-P3', 'FZ-CZ', 'F7-T7', 'FP2-F4', 'FT9-FT10', 'FP2-F8', 'FP1-F7', 'P3-O1', 'P7-T7', 'FT10-T8', '-', 'F4-C4'], 'Start Time': '08:41:29', 'End Time': '9:41:29', 'Seizures Window': [227, 236, 1694, 1700, 2162, 2170, 3290, 3298]}, 'chb16_18': {'Channels': ['P8-O2', 'T7-P7', 'FP1-F3', 'P7-O1', 'F3-C3', 'CZ-PZ', 'F8-T8', 'P4-O2', 'T8-P8', 'C4-P4', 'T7-FT9', 'C3-P3', 'FZ-CZ', 'F7-T7', 'FP2-F4', 'FT9-FT10', 'FP2-F8', 'FP1-F7', 'P3-O1', 'P7-T7', 'FT10-T8', '-', 'F4-C4'], 'Start Time': '09:41:36', 'End Time': '10:41:36', 'Seizures Window': [627, 635, 1909, 1916]}, 'chb16_19': {'Channels': ['P8-O2', 'T7-P7', 'FP1-F3', 'P7-O1', 'F3-C3', 'CZ-PZ', 'F8-T8', 'P4-O2', 'T8-P8', 'C4-P4', 'T7-FT9', 'C3-P3', 'FZ-CZ', 'F7-T7', 'FP2-F4', 'FT9-FT10', 'FP2-F8', 'FP1-F7', 'P3-O1', 'P7-T7', 'FT10-T8', '-', 'F4-C4'], 'Start Time': '10:41:43', 'End Time': '11:41:43', 'Seizures Window': []}, 'chb17a_03': {'Channels': ['P8-O2', 'T7-P7', 'FP1-F3', 'P7-O1', 'F3-C3', 'CZ-PZ', 'F8-T8', 'P4-O2', 'T8-P8', 'C4-P4', 'T7-FT9', 'C3-P3', 'FZ-CZ', 'F7-T7', 'FP2-F4', 'FT9-FT10', 'FP2-F8', 'FP1-F7', 'P3-O1', 'P7-T7', 'FT10-T8', '-', 'F4-C4'], 'Start Time': '19:47:38', 'End Time': '20:47:38', 'Seizures Window': [2282, 2372]}, 'chb17a_04': {'Channels': ['P8-O2', 'T7-P7', 'FP1-F3', 'P7-O1', 'F3-C3', 'CZ-PZ', 'F8-T8', 'P4-O2', 'T8-P8', 'C4-P4', 'T7-FT9', 'C3-P3', 'FZ-CZ', 'F7-T7', 'FP2-F4', 'FT9-FT10', 'FP2-F8', 'FP1-F7', 'P3-O1', 'P7-T7', 'FT10-T8', '-', 'F4-C4'], 'Start Time': '20:47:45', 'End Time': '21:47:45', 'Seizures Window': [3025, 3140]}, 'chb17a_05': {'Channels': ['P8-O2', 'T7-P7', 'FP1-F3', 'P7-O1', 'F3-C3', 'CZ-PZ', 'F8-T8', 'P4-O2', 'T8-P8', 'C4-P4', 'T7-FT9', 'C3-P3', 'FZ-CZ', 'F7-T7', 'FP2-F4', 'FT9-FT10', 'FP2-F8', 'FP1-F7', 'P3-O1', 'P7-T7', 'FT10-T8', '-', 'F4-C4'], 'Start Time': '21:47:52', 'End Time': '22:47:52', 'Seizures Window': []}, 'chb17a_06': {'Channels': ['P8-O2', 'T7-P7', 'FP1-F3', 'P7-O1', 'F3-C3', 'CZ-PZ', 'F8-T8', 'P4-O2', 'T8-P8', 'C4-P4', 'T7-FT9', 'C3-P3', 'FZ-CZ', 'F7-T7', 'FP2-F4', 'FT9-FT10', 'FP2-F8', 'FP1-F7', 'P3-O1', 'P7-T7', 'FT10-T8', '-', 'F4-C4'], 'Start Time': '22:47:59', 'End Time': '23:47:59', 'Seizures Window': []}, 'chb17a_08': {'Channels': ['P8-O2', 'T7-P7', 'FP1-F3', 'P7-O1', 'F3-C3', 'CZ-PZ', 'F8-T8', 'P4-O2', 'T8-P8', 'C4-P4', 'T7-FT9', 'C3-P3', 'FZ-CZ', 'F7-T7', 'FP2-F4', 'FT9-FT10', 'FP2-F8', 'FP1-F7', 'P3-O1', 'P7-T7', 'FT10-T8', '-', 'F4-C4'], 'Start Time': '00:48:39', 'End Time': '1:48:39', 'Seizures Window': []}, 'chb17b_57': {'Channels': ['P8-O2', 'T7-P7', 'FP1-F3', 'P7-O1', 'F3-C3', 'CZ-PZ', 'F8-T8', 'P4-O2', 'T8-P8', 'C4-P4', 'T7-FT9', 'C3-P3', 'FZ-CZ', 'F7-T7', 'FP2-F4', 'FT9-FT10', 'FP2-F8', 'FP1-F7', 'P3-O1', 'P7-T7', 'FT10-T8', '-', 'F4-C4'], 'Start Time': '01:59:21', 'End Time': '2:59:21', 'Seizures Window': []}, 'chb17b_58': {'Channels': ['P8-O2', 'T7-P7', 'FP1-F3', 'P7-O1', 'F3-C3', 'CZ-PZ', 'F8-T8', 'P4-O2', 'T8-P8', 'C4-P4', 'T7-FT9', 'C3-P3', 'FZ-CZ', 'F7-T7', 'FP2-F4', 'FT9-FT10', 'FP2-F8', 'FP1-F7', 'P3-O1', 'P7-T7', 'FT10-T8', '-', 'F4-C4'], 'Start Time': '02:59:28', 'End Time': '3:59:28', 'Seizures Window': []}, 'chb17b_59': {'Channels': ['P8-O2', 'T7-P7', 'FP1-F3', 'P7-O1', 'F3-C3', 'CZ-PZ', 'F8-T8', 'P4-O2', 'T8-P8', 'C4-P4', 'T7-FT9', 'C3-P3', 'FZ-CZ', 'F7-T7', 'FP2-F4', 'FT9-FT10', 'FP2-F8', 'FP1-F7', 'P3-O1', 'P7-T7', 'FT10-T8', '-', 'F4-C4'], 'Start Time': '03:59:35', 'End Time': '4:59:35', 'Seizures Window': []}, 'chb17b_60': {'Channels': ['P8-O2', 'T7-P7', 'FP1-F3', 'P7-O1', 'F3-C3', 'CZ-PZ', 'F8-T8', 'P4-O2', 'T8-P8', 'C4-P4', 'T7-FT9', 'C3-P3', 'FZ-CZ', 'F7-T7', 'FP2-F4', 'FT9-FT10', 'FP2-F8', 'FP1-F7', 'P3-O1', 'P7-T7', 'FT10-T8', '-', 'F4-C4'], 'Start Time': '04:59:41', 'End Time': '5:59:41', 'Seizures Window': []}, 'chb17b_63': {'Channels': ['P8-O2', 'T7-P7', 'FP1-F3', 'P7-O1', 'F3-C3', 'CZ-PZ', 'F8-T8', 'P4-O2', 'T8-P8', 'C4-P4', 'T7-FT9', 'C3-P3', 'FZ-CZ', 'F7-T7', 'FP2-F4', 'FT9-FT10', 'FP2-F8', 'FP1-F7', 'P3-O1', 'P7-T7', 'FT10-T8', '-', 'F4-C4'], 'Start Time': '08:00:02', 'End Time': '9:00:26', 'Seizures Window': [3136, 3224]}, 'chb17b_67': {'Channels': ['P8-O2', 'T7-P7', 'FP1-F3', 'P7-O1', 'F3-C3', 'CZ-PZ', 'F8-T8', 'P4-O2', 'T8-P8', 'C4-P4', 'T7-FT9', 'C3-P3', 'FZ-CZ', 'F7-T7', 'FP2-F4', 'FT9-FT10', 'FP2-F8', 'FP1-F7', 'P3-O1', 'P7-T7', 'FT10-T8', '-', 'F4-C4'], 'Start Time': '11:40:36', 'End Time': '12:40:36', 'Seizures Window': []}, 'chb17b_68': {'Channels': ['P8-O2', 'T7-P7', 'FP1-F3', 'P7-O1', 'F3-C3', 'CZ-PZ', 'F8-T8', 'P4-O2', 'T8-P8', 'C4-P4', 'T7-FT9', 'C3-P3', 'FZ-CZ', 'F7-T7', 'FP2-F4', 'FT9-FT10', 'FP2-F8', 'FP1-F7', 'P3-O1', 'P7-T7', 'FT10-T8', '-', 'F4-C4'], 'Start Time': '12:40:43', 'End Time': '13:40:43', 'Seizures Window': []}, 'chb17b_69': {'Channels': ['P8-O2', 'T7-P7', 'FP1-F3', 'P7-O1', 'F3-C3', 'CZ-PZ', 'F8-T8', 'P4-O2', 'T8-P8', 'C4-P4', 'T7-FT9', 'C3-P3', 'FZ-CZ', 'F7-T7', 'FP2-F4', 'FT9-FT10', 'FP2-F8', 'FP1-F7', 'P3-O1', 'P7-T7', 'FT10-T8', '-', 'F4-C4'], 'Start Time': '13:40:50', 'End Time': '14:40:50', 'Seizures Window': []}, 'chb17c_02': {'Channels': ['P8-O2', 'T7-P7', 'FP1-F3', 'P7-O1', 'F3-C3', 'CZ-PZ', 'F8-T8', 'P4-O2', 'T8-P8', 'C4-P4', 'T7-FT9', 'C3-P3', 'FZ-CZ', 'F7-T7', 'FP2-F4', 'FT9-FT10', 'FP2-F8', 'FP1-F7', 'P3-O1', 'P7-T7', 'FT10-T8', '-', 'F4-C4'], 'Start Time': '22:53:46', 'End Time': '23:53:46', 'Seizures Window': []}, 'chb17c_03': {'Channels': ['P8-O2', 'T7-P7', 'FP1-F3', 'P7-O1', 'F3-C3', 'CZ-PZ', 'F8-T8', 'P4-O2', 'T8-P8', 'C4-P4', 'T7-FT9', 'C3-P3', 'FZ-CZ', 'F7-T7', 'FP2-F4', 'FT9-FT10', 'FP2-F8', 'FP1-F7', 'P3-O1', 'P7-T7', 'FT10-T8', '-', 'F4-C4'], 'Start Time': '23:53:53', 'End Time': '24:53:53', 'Seizures Window': []}, 'chb17c_04': {'Channels': ['P8-O2', 'T7-P7', 'FP1-F3', 'P7-O1', 'F3-C3', 'CZ-PZ', 'F8-T8', 'P4-O2', 'T8-P8', 'C4-P4', 'T7-FT9', 'C3-P3', 'FZ-CZ', 'F7-T7', 'FP2-F4', 'FT9-FT10', 'FP2-F8', 'FP1-F7', 'P3-O1', 'P7-T7', 'FT10-T8', '-', 'F4-C4'], 'Start Time': '00:54:00', 'End Time': '1:54:00', 'Seizures Window': []}, 'chb17c_05': {'Channels': ['P8-O2', 'T7-P7', 'FP1-F3', 'P7-O1', 'F3-C3', 'CZ-PZ', 'F8-T8', 'P4-O2', 'T8-P8', 'C4-P4', 'T7-FT9', 'C3-P3', 'FZ-CZ', 'F7-T7', 'FP2-F4', 'FT9-FT10', 'FP2-F8', 'FP1-F7', 'P3-O1', 'P7-T7', 'FT10-T8', '-', 'F4-C4'], 'Start Time': '01:54:06', 'End Time': '2:54:06', 'Seizures Window': []}, 'chb17c_06': {'Channels': ['P8-O2', 'T7-P7', 'FP1-F3', 'P7-O1', 'F3-C3', 'CZ-PZ', 'F8-T8', 'P4-O2', 'T8-P8', 'C4-P4', 'T7-FT9', 'C3-P3', 'FZ-CZ', 'F7-T7', 'FP2-F4', 'FT9-FT10', 'FP2-F8', 'FP1-F7', 'P3-O1', 'P7-T7', 'FT10-T8', '-', 'F4-C4'], 'Start Time': '02:54:13', 'End Time': '3:54:13', 'Seizures Window': []}, 'chb17c_07': {'Channels': ['P8-O2', 'T7-P7', 'FP1-F3', 'P7-O1', 'F3-C3', 'CZ-PZ', 'F8-T8', 'P4-O2', 'T8-P8', 'C4-P4', 'T7-FT9', 'C3-P3', 'FZ-CZ', 'F7-T7', 'FP2-F4', 'FT9-FT10', 'FP2-F8', 'FP1-F7', 'P3-O1', 'P7-T7', 'FT10-T8', '-', 'F4-C4'], 'Start Time': '03:54:20', 'End Time': '4:54:20', 'Seizures Window': []}, 'chb17c_08': {'Channels': ['P8-O2', 'T7-P7', 'FP1-F3', 'P7-O1', 'F3-C3', 'CZ-PZ', 'F8-T8', 'P4-O2', 'T8-P8', 'C4-P4', 'T7-FT9', 'C3-P3', 'FZ-CZ', 'F7-T7', 'FP2-F4', 'FT9-FT10', 'FP2-F8', 'FP1-F7', 'P3-O1', 'P7-T7', 'FT10-T8', '-', 'F4-C4'], 'Start Time': '04:54:27', 'End Time': '5:54:27', 'Seizures Window': []}, 'chb17c_13': {'Channels': ['P8-O2', 'T7-P7', 'FP1-F3', 'P7-O1', 'F3-C3', 'CZ-PZ', 'F8-T8', 'P4-O2', 'T8-P8', 'C4-P4', 'T7-FT9', 'C3-P3', 'FZ-CZ', 'F7-T7', 'FP2-F4', 'FT9-FT10', 'FP2-F8', 'FP1-F7', 'P3-O1', 'P7-T7', 'FT10-T8', '-', 'F4-C4'], 'Start Time': '09:59:42', 'End Time': '10:59:42', 'Seizures Window': []}, 'chb18_01': {'Channels': ['P3-O1', 'P8-O2', 'F4-C4', 'F8-T8', 'P4-O2', 'F7-T7', 'T7-P7', 'FP2-F4', '-', 'FP1-F3', 'C4-P4', 'P7-O1', 'FP2-F8', 'T8-P8', 'F3-C3', 'C3-P3', 'FP1-F7', 'CZ-PZ', 'FZ-CZ'], 'Start Time': '17:53:23', 'End Time': '18:53:34', 'Seizures Window': []}, 'chb18_02': {'Channels': ['P8-O2', 'T7-P7', 'FP1-F3', 'P7-O1', 'F3-C3', 'CZ-PZ', 'F8-T8', 'P4-O2', 'T8-P8', 'C4-P4', 'T7-FT9', 'C3-P3', 'FZ-CZ', 'F7-T7', 'FP2-F4', 'FT9-FT10', 'FP2-F8', 'FP1-F7', 'P3-O1', 'P7-T7', 'FT10-T8', '-', '.', 'F4-C4'], 'Start Time': '18:54:57', 'End Time': '19:54:57', 'Seizures Window': []}, 'chb18_03': {'Channels': ['P8-O2', 'T7-P7', 'FP1-F3', 'P7-O1', 'F3-C3', 'CZ-PZ', 'F8-T8', 'P4-O2', 'T8-P8', 'C4-P4', 'T7-FT9', 'C3-P3', 'FZ-CZ', 'F7-T7', 'FP2-F4', 'FT9-FT10', 'FP2-F8', 'FP1-F7', 'P3-O1', 'P7-T7', 'FT10-T8', '-', '.', 'F4-C4'], 'Start Time': '19:55:04', 'End Time': '20:55:04', 'Seizures Window': []}, 'chb18_04': {'Channels': ['P8-O2', 'T7-P7', 'FP1-F3', 'P7-O1', 'F3-C3', 'CZ-PZ', 'F8-T8', 'P4-O2', 'T8-P8', 'C4-P4', 'T7-FT9', 'C3-P3', 'FZ-CZ', 'F7-T7', 'FP2-F4', 'FT9-FT10', 'FP2-F8', 'FP1-F7', 'P3-O1', 'P7-T7', 'FT10-T8', '-', '.', 'F4-C4'], 'Start Time': '20:55:11', 'End Time': '21:55:11', 'Seizures Window': []}, 'chb18_05': {'Channels': ['P8-O2', 'T7-P7', 'FP1-F3', 'P7-O1', 'F3-C3', 'CZ-PZ', 'F8-T8', 'P4-O2', 'T8-P8', 'C4-P4', 'T7-FT9', 'C3-P3', 'FZ-CZ', 'F7-T7', 'FP2-F4', 'FT9-FT10', 'FP2-F8', 'FP1-F7', 'P3-O1', 'P7-T7', 'FT10-T8', '-', '.', 'F4-C4'], 'Start Time': '21:55:18', 'End Time': '22:55:18', 'Seizures Window': []}, 'chb18_06': {'Channels': ['P8-O2', 'T7-P7', 'FP1-F3', 'P7-O1', 'F3-C3', 'CZ-PZ', 'F8-T8', 'P4-O2', 'T8-P8', 'C4-P4', 'T7-FT9', 'C3-P3', 'FZ-CZ', 'F7-T7', 'FP2-F4', 'FT9-FT10', 'FP2-F8', 'FP1-F7', 'P3-O1', 'P7-T7', 'FT10-T8', '-', '.', 'F4-C4'], 'Start Time': '22:55:25', 'End Time': '23:55:25', 'Seizures Window': []}, 'chb18_07': {'Channels': ['P8-O2', 'T7-P7', 'FP1-F3', 'P7-O1', 'F3-C3', 'CZ-PZ', 'F8-T8', 'P4-O2', 'T8-P8', 'C4-P4', 'T7-FT9', 'C3-P3', 'FZ-CZ', 'F7-T7', 'FP2-F4', 'FT9-FT10', 'FP2-F8', 'FP1-F7', 'P3-O1', 'P7-T7', 'FT10-T8', '-', '.', 'F4-C4'], 'Start Time': '23:55:32', 'End Time': '24:55:32', 'Seizures Window': []}, 'chb18_08': {'Channels': ['P8-O2', 'T7-P7', 'FP1-F3', 'P7-O1', 'F3-C3', 'CZ-PZ', 'F8-T8', 'P4-O2', 'T8-P8', 'C4-P4', 'T7-FT9', 'C3-P3', 'FZ-CZ', 'F7-T7', 'FP2-F4', 'FT9-FT10', 'FP2-F8', 'FP1-F7', 'P3-O1', 'P7-T7', 'FT10-T8', '-', '.', 'F4-C4'], 'Start Time': '00:55:38', 'End Time': '1:55:38', 'Seizures Window': []}, 'chb18_09': {'Channels': ['P8-O2', 'T7-P7', 'FP1-F3', 'P7-O1', 'F3-C3', 'CZ-PZ', 'F8-T8', 'P4-O2', 'T8-P8', 'C4-P4', 'T7-FT9', 'C3-P3', 'FZ-CZ', 'F7-T7', 'FP2-F4', 'FT9-FT10', 'FP2-F8', 'FP1-F7', 'P3-O1', 'P7-T7', 'FT10-T8', '-', '.', 'F4-C4'], 'Start Time': '01:55:45', 'End Time': '2:55:45', 'Seizures Window': []}, 'chb18_10': {'Channels': ['P8-O2', 'T7-P7', 'FP1-F3', 'P7-O1', 'F3-C3', 'CZ-PZ', 'F8-T8', 'P4-O2', 'T8-P8', 'C4-P4', 'T7-FT9', 'C3-P3', 'FZ-CZ', 'F7-T7', 'FP2-F4', 'FT9-FT10', 'FP2-F8', 'FP1-F7', 'P3-O1', 'P7-T7', 'FT10-T8', '-', '.', 'F4-C4'], 'Start Time': '02:55:52', 'End Time': '3:55:52', 'Seizures Window': []}, 'chb18_11': {'Channels': ['P8-O2', 'T7-P7', 'FP1-F3', 'P7-O1', 'F3-C3', 'CZ-PZ', 'F8-T8', 'P4-O2', 'T8-P8', 'C4-P4', 'T7-FT9', 'C3-P3', 'FZ-CZ', 'F7-T7', 'FP2-F4', 'FT9-FT10', 'FP2-F8', 'FP1-F7', 'P3-O1', 'P7-T7', 'FT10-T8', '-', '.', 'F4-C4'], 'Start Time': '03:55:59', 'End Time': '4:55:59', 'Seizures Window': []}, 'chb18_12': {'Channels': ['P8-O2', 'T7-P7', 'FP1-F3', 'P7-O1', 'F3-C3', 'CZ-PZ', 'F8-T8', 'P4-O2', 'T8-P8', 'C4-P4', 'T7-FT9', 'C3-P3', 'FZ-CZ', 'F7-T7', 'FP2-F4', 'FT9-FT10', 'FP2-F8', 'FP1-F7', 'P3-O1', 'P7-T7', 'FT10-T8', '-', '.', 'F4-C4'], 'Start Time': '04:56:06', 'End Time': '5:56:06', 'Seizures Window': []}, 'chb18_13': {'Channels': ['P8-O2', 'T7-P7', 'FP1-F3', 'P7-O1', 'F3-C3', 'CZ-PZ', 'F8-T8', 'P4-O2', 'T8-P8', 'C4-P4', 'T7-FT9', 'C3-P3', 'FZ-CZ', 'F7-T7', 'FP2-F4', 'FT9-FT10', 'FP2-F8', 'FP1-F7', 'P3-O1', 'P7-T7', 'FT10-T8', '-', '.', 'F4-C4'], 'Start Time': '05:56:13', 'End Time': '6:56:13', 'Seizures Window': []}, 'chb18_14': {'Channels': ['P8-O2', 'T7-P7', 'FP1-F3', 'P7-O1', 'F3-C3', 'CZ-PZ', 'F8-T8', 'P4-O2', 'T8-P8', 'C4-P4', 'T7-FT9', 'C3-P3', 'FZ-CZ', 'F7-T7', 'FP2-F4', 'FT9-FT10', 'FP2-F8', 'FP1-F7', 'P3-O1', 'P7-T7', 'FT10-T8', '-', '.', 'F4-C4'], 'Start Time': '06:56:19', 'End Time': '7:56:19', 'Seizures Window': []}, 'chb18_15': {'Channels': ['P8-O2', 'T7-P7', 'FP1-F3', 'P7-O1', 'F3-C3', 'CZ-PZ', 'F8-T8', 'P4-O2', 'T8-P8', 'C4-P4', 'T7-FT9', 'C3-P3', 'FZ-CZ', 'F7-T7', 'FP2-F4', 'FT9-FT10', 'FP2-F8', 'FP1-F7', 'P3-O1', 'P7-T7', 'FT10-T8', '-', '.', 'F4-C4'], 'Start Time': '07:56:26', 'End Time': '8:56:26', 'Seizures Window': []}, 'chb18_16': {'Channels': ['P8-O2', 'T7-P7', 'FP1-F3', 'P7-O1', 'F3-C3', 'CZ-PZ', 'F8-T8', 'P4-O2', 'T8-P8', 'C4-P4', 'T7-FT9', 'C3-P3', 'FZ-CZ', 'F7-T7', 'FP2-F4', 'FT9-FT10', 'FP2-F8', 'FP1-F7', 'P3-O1', 'P7-T7', 'FT10-T8', '-', '.', 'F4-C4'], 'Start Time': '08:56:33', 'End Time': '9:56:33', 'Seizures Window': []}, 'chb18_17': {'Channels': ['P8-O2', 'T7-P7', 'FP1-F3', 'P7-O1', 'F3-C3', 'CZ-PZ', 'F8-T8', 'P4-O2', 'T8-P8', 'C4-P4', 'T7-FT9', 'C3-P3', 'FZ-CZ', 'F7-T7', 'FP2-F4', 'FT9-FT10', 'FP2-F8', 'FP1-F7', 'P3-O1', 'P7-T7', 'FT10-T8', '-', '.', 'F4-C4'], 'Start Time': '09:56:40', 'End Time': '10:56:40', 'Seizures Window': []}, 'chb18_18': {'Channels': ['P8-O2', 'T7-P7', 'FP1-F3', 'P7-O1', 'F3-C3', 'CZ-PZ', 'F8-T8', 'P4-O2', 'T8-P8', 'C4-P4', 'T7-FT9', 'C3-P3', 'FZ-CZ', 'F7-T7', 'FP2-F4', 'FT9-FT10', 'FP2-F8', 'FP1-F7', 'P3-O1', 'P7-T7', 'FT10-T8', '-', '.', 'F4-C4'], 'Start Time': '16:57:30', 'End Time': '17:57:30', 'Seizures Window': []}, 'chb18_19': {'Channels': ['P8-O2', 'T7-P7', 'FP1-F3', 'P7-O1', 'F3-C3', 'CZ-PZ', 'F8-T8', 'P4-O2', 'T8-P8', 'C4-P4', 'T7-FT9', 'C3-P3', 'FZ-CZ', 'F7-T7', 'FP2-F4', 'FT9-FT10', 'FP2-F8', 'FP1-F7', 'P3-O1', 'P7-T7', 'FT10-T8', '-', '.', 'F4-C4'], 'Start Time': '17:57:37', 'End Time': '18:57:37', 'Seizures Window': []}, 'chb18_20': {'Channels': ['P8-O2', 'T7-P7', 'FP1-F3', 'P7-O1', 'F3-C3', 'CZ-PZ', 'F8-T8', 'P4-O2', 'T8-P8', 'C4-P4', 'T7-FT9', 'C3-P3', 'FZ-CZ', 'F7-T7', 'FP2-F4', 'FT9-FT10', 'FP2-F8', 'FP1-F7', 'P3-O1', 'P7-T7', 'FT10-T8', '-', '.', 'F4-C4'], 'Start Time': '18:57:44', 'End Time': '19:57:44', 'Seizures Window': []}, 'chb18_21': {'Channels': ['P8-O2', 'T7-P7', 'FP1-F3', 'P7-O1', 'F3-C3', 'CZ-PZ', 'F8-T8', 'P4-O2', 'T8-P8', 'C4-P4', 'T7-FT9', 'C3-P3', 'FZ-CZ', 'F7-T7', 'FP2-F4', 'FT9-FT10', 'FP2-F8', 'FP1-F7', 'P3-O1', 'P7-T7', 'FT10-T8', '-', '.', 'F4-C4'], 'Start Time': '19:57:50', 'End Time': '20:57:50', 'Seizures Window': []}, 'chb18_22': {'Channels': ['P8-O2', 'T7-P7', 'FP1-F3', 'P7-O1', 'F3-C3', 'CZ-PZ', 'F8-T8', 'P4-O2', 'T8-P8', 'C4-P4', 'T7-FT9', 'C3-P3', 'FZ-CZ', 'F7-T7', 'FP2-F4', 'FT9-FT10', 'FP2-F8', 'FP1-F7', 'P3-O1', 'P7-T7', 'FT10-T8', '-', '.', 'F4-C4'], 'Start Time': '20:57:57', 'End Time': '21:57:57', 'Seizures Window': []}, 'chb18_23': {'Channels': ['P8-O2', 'T7-P7', 'FP1-F3', 'P7-O1', 'F3-C3', 'CZ-PZ', 'F8-T8', 'P4-O2', 'T8-P8', 'C4-P4', 'T7-FT9', 'C3-P3', 'FZ-CZ', 'F7-T7', 'FP2-F4', 'FT9-FT10', 'FP2-F8', 'FP1-F7', 'P3-O1', 'P7-T7', 'FT10-T8', '-', '.', 'F4-C4'], 'Start Time': '23:58:18', 'End Time': '24:58:18', 'Seizures Window': []}, 'chb18_24': {'Channels': ['P8-O2', 'T7-P7', 'FP1-F3', 'P7-O1', 'F3-C3', 'CZ-PZ', 'F8-T8', 'P4-O2', 'T8-P8', 'C4-P4', 'T7-FT9', 'C3-P3', 'FZ-CZ', 'F7-T7', 'FP2-F4', 'FT9-FT10', 'FP2-F8', 'FP1-F7', 'P3-O1', 'P7-T7', 'FT10-T8', '-', '.', 'F4-C4'], 'Start Time': '00:58:25', 'End Time': '1:58:25', 'Seizures Window': []}, 'chb18_25': {'Channels': ['P8-O2', 'T7-P7', 'FP1-F3', 'P7-O1', 'F3-C3', 'CZ-PZ', 'F8-T8', 'P4-O2', 'T8-P8', 'C4-P4', 'T7-FT9', 'C3-P3', 'FZ-CZ', 'F7-T7', 'FP2-F4', 'FT9-FT10', 'FP2-F8', 'FP1-F7', 'P3-O1', 'P7-T7', 'FT10-T8', '-', '.', 'F4-C4'], 'Start Time': '01:58:31', 'End Time': '2:58:31', 'Seizures Window': []}, 'chb18_26': {'Channels': ['P8-O2', 'T7-P7', 'FP1-F3', 'P7-O1', 'F3-C3', 'CZ-PZ', 'F8-T8', 'P4-O2', 'T8-P8', 'C4-P4', 'T7-FT9', 'C3-P3', 'FZ-CZ', 'F7-T7', 'FP2-F4', 'FT9-FT10', 'FP2-F8', 'FP1-F7', 'P3-O1', 'P7-T7', 'FT10-T8', '-', '.', 'F4-C4'], 'Start Time': '02:58:38', 'End Time': '3:58:38', 'Seizures Window': []}, 'chb18_27': {'Channels': ['P8-O2', 'T7-P7', 'FP1-F3', 'P7-O1', 'F3-C3', 'CZ-PZ', 'F8-T8', 'P4-O2', 'T8-P8', 'C4-P4', 'T7-FT9', 'C3-P3', 'FZ-CZ', 'F7-T7', 'FP2-F4', 'FT9-FT10', 'FP2-F8', 'FP1-F7', 'P3-O1', 'P7-T7', 'FT10-T8', '-', '.', 'F4-C4'], 'Start Time': '03:58:45', 'End Time': '4:58:45', 'Seizures Window': []}, 'chb18_28': {'Channels': ['P8-O2', 'T7-P7', 'FP1-F3', 'P7-O1', 'F3-C3', 'CZ-PZ', 'F8-T8', 'P4-O2', 'T8-P8', 'C4-P4', 'T7-FT9', 'C3-P3', 'FZ-CZ', 'F7-T7', 'FP2-F4', 'FT9-FT10', 'FP2-F8', 'FP1-F7', 'P3-O1', 'P7-T7', 'FT10-T8', '-', '.', 'F4-C4'], 'Start Time': '04:58:52', 'End Time': '5:58:52', 'Seizures Window': []}, 'chb18_29': {'Channels': ['P8-O2', 'T7-P7', 'FP1-F3', 'P7-O1', 'F3-C3', 'CZ-PZ', 'F8-T8', 'P4-O2', 'T8-P8', 'C4-P4', 'T7-FT9', 'C3-P3', 'FZ-CZ', 'F7-T7', 'FP2-F4', 'FT9-FT10', 'FP2-F8', 'FP1-F7', 'P3-O1', 'P7-T7', 'FT10-T8', '-', '.', 'F4-C4'], 'Start Time': '05:58:59', 'End Time': '6:58:59', 'Seizures Window': [3477, 3527]}, 'chb18_30': {'Channels': ['P8-O2', 'T7-P7', 'FP1-F3', 'P7-O1', 'F3-C3', 'CZ-PZ', 'F8-T8', 'P4-O2', 'T8-P8', 'C4-P4', 'T7-FT9', 'C3-P3', 'FZ-CZ', 'F7-T7', 'FP2-F4', 'FT9-FT10', 'FP2-F8', 'FP1-F7', 'P3-O1', 'P7-T7', 'FT10-T8', '-', '.', 'F4-C4'], 'Start Time': '06:59:06', 'End Time': '7:59:06', 'Seizures Window': [541, 571]}, 'chb18_31': {'Channels': ['P8-O2', 'T7-P7', 'FP1-F3', 'P7-O1', 'F3-C3', 'CZ-PZ', 'F8-T8', 'P4-O2', 'T8-P8', 'C4-P4', 'T7-FT9', 'C3-P3', 'FZ-CZ', 'F7-T7', 'FP2-F4', 'FT9-FT10', 'FP2-F8', 'FP1-F7', 'P3-O1', 'P7-T7', 'FT10-T8', '-', '.', 'F4-C4'], 'Start Time': '10:00:32', 'End Time': '10:38:26', 'Seizures Window': [2087, 2155]}, 'chb18_32': {'Channels': ['P8-O2', 'T7-P7', 'FP1-F3', 'P7-O1', 'F3-C3', 'CZ-PZ', 'F8-T8', 'P4-O2', 'T8-P8', 'C4-P4', 'T7-FT9', 'C3-P3', 'FZ-CZ', 'F7-T7', 'FP2-F4', 'FT9-FT10', 'FP2-F8', 'FP1-F7', 'P3-O1', 'P7-T7', 'FT10-T8', '-', '.', 'F4-C4'], 'Start Time': '11:38:42', 'End Time': '12:38:42', 'Seizures Window': [1908, 1963]}, 'chb18_33': {'Channels': ['P8-O2', 'T7-P7', 'FP1-F3', 'P7-O1', 'F3-C3', 'CZ-PZ', 'F8-T8', 'P4-O2', 'T8-P8', 'C4-P4', 'T7-FT9', 'C3-P3', 'FZ-CZ', 'F7-T7', 'FP2-F4', 'FT9-FT10', 'FP2-F8', 'FP1-F7', 'P3-O1', 'P7-T7', 'FT10-T8', '-', '.', 'F4-C4'], 'Start Time': '15:39:10', 'End Time': '16:39:10', 'Seizures Window': []}, 'chb18_34': {'Channels': ['P8-O2', 'T7-P7', 'FP1-F3', 'P7-O1', 'F3-C3', 'CZ-PZ', 'F8-T8', 'P4-O2', 'T8-P8', 'C4-P4', 'T7-FT9', 'C3-P3', 'FZ-CZ', 'F7-T7', 'FP2-F4', 'FT9-FT10', 'FP2-F8', 'FP1-F7', 'P3-O1', 'P7-T7', 'FT10-T8', '-', '.', 'F4-C4'], 'Start Time': '19:40:40', 'End Time': '20:40:40', 'Seizures Window': []}, 'chb18_35': {'Channels': ['P8-O2', 'T7-P7', 'FP1-F3', 'P7-O1', 'F3-C3', 'CZ-PZ', 'F8-T8', 'P4-O2', 'T8-P8', 'C4-P4', 'T7-FT9', 'C3-P3', 'FZ-CZ', 'F7-T7', 'FP2-F4', 'FT9-FT10', 'FP2-F8', 'FP1-F7', 'P3-O1', 'P7-T7', 'FT10-T8', '-', '.', 'F4-C4'], 'Start Time': '08:42:06', 'End Time': '9:42:06', 'Seizures Window': [2196, 2264]}, 'chb18_36': {'Channels': ['P8-O2', 'T7-P7', 'FP1-F3', 'P7-O1', 'F3-C3', 'CZ-PZ', 'F8-T8', 'P4-O2', 'T8-P8', 'C4-P4', 'T7-FT9', 'C3-P3', 'FZ-CZ', 'F7-T7', 'FP2-F4', 'FT9-FT10', 'FP2-F8', 'FP1-F7', 'P3-O1', 'P7-T7', 'FT10-T8', '-', '.', 'F4-C4'], 'Start Time': '08:45:57', 'End Time': '9:45:57', 'Seizures Window': [463, 509]}, 'chb19_01': {'Channels': ['P3-O1', 'P8-O2', 'F4-C4', 'F8-T8', 'P4-O2', 'F7-T7', 'T7-P7', 'FP2-F4', '-', 'FP1-F3', 'C4-P4', 'P7-O1', 'FP2-F8', 'T8-P8', 'F3-C3', 'C3-P3', 'FP1-F7', 'CZ-PZ', 'FZ-CZ'], 'Start Time': '17:36:30', 'End Time': '18:36:30', 'Seizures Window': []}, 'chb19_02': {'Channels': ['P8-O2', 'T7-P7', 'FP1-F3', 'P7-O1', 'F3-C3', 'CZ-PZ', 'F8-T8', 'P4-O2', 'T8-P8', 'C4-P4', 'T7-FT9', 'C3-P3', 'FZ-CZ', 'F7-T7', 'FP2-F4', 'FT9-FT10', 'FP2-F8', 'FP1-F7', 'P3-O1', 'P7-T7', 'FT10-T8', '-', 'F4-C4'], 'Start Time': '18:36:32', 'End Time': '19:36:32', 'Seizures Window': []}, 'chb19_03': {'Channels': ['P8-O2', 'T7-P7', 'FP1-F3', 'P7-O1', 'F3-C3', 'CZ-PZ', 'F8-T8', 'P4-O2', 'T8-P8', 'C4-P4', 'T7-FT9', 'C3-P3', 'FZ-CZ', 'F7-T7', 'FP2-F4', 'FT9-FT10', 'FP2-F8', 'FP1-F7', 'P3-O1', 'P7-T7', 'FT10-T8', '-', 'F4-C4'], 'Start Time': '19:36:40', 'End Time': '20:36:40', 'Seizures Window': []}, 'chb19_04': {'Channels': ['P8-O2', 'T7-P7', 'FP1-F3', 'P7-O1', 'F3-C3', 'CZ-PZ', 'F8-T8', 'P4-O2', 'T8-P8', 'C4-P4', 'T7-FT9', 'C3-P3', 'FZ-CZ', 'F7-T7', 'FP2-F4', 'FT9-FT10', 'FP2-F8', 'FP1-F7', 'P3-O1', 'P7-T7', 'FT10-T8', '-', 'F4-C4'], 'Start Time': '20:36:46', 'End Time': '21:36:46', 'Seizures Window': []}, 'chb19_05': {'Channels': ['P8-O2', 'T7-P7', 'FP1-F3', 'P7-O1', 'F3-C3', 'CZ-PZ', 'F8-T8', 'P4-O2', 'T8-P8', 'C4-P4', 'T7-FT9', 'C3-P3', 'FZ-CZ', 'F7-T7', 'FP2-F4', 'FT9-FT10', 'FP2-F8', 'FP1-F7', 'P3-O1', 'P7-T7', 'FT10-T8', '-', 'F4-C4'], 'Start Time': '21:36:53', 'End Time': '22:36:53', 'Seizures Window': []}, 'chb19_06': {'Channels': ['P8-O2', 'T7-P7', 'FP1-F3', 'P7-O1', 'F3-C3', 'CZ-PZ', 'F8-T8', 'P4-O2', 'T8-P8', 'C4-P4', 'T7-FT9', 'C3-P3', 'FZ-CZ', 'F7-T7', 'FP2-F4', 'FT9-FT10', 'FP2-F8', 'FP1-F7', 'P3-O1', 'P7-T7', 'FT10-T8', '-', 'F4-C4'], 'Start Time': '22:37:00', 'End Time': '23:37:00', 'Seizures Window': []}, 'chb19_07': {'Channels': ['P8-O2', 'T7-P7', 'FP1-F3', 'P7-O1', 'F3-C3', 'CZ-PZ', 'F8-T8', 'P4-O2', 'T8-P8', 'C4-P4', 'T7-FT9', 'C3-P3', 'FZ-CZ', 'F7-T7', 'FP2-F4', 'FT9-FT10', 'FP2-F8', 'FP1-F7', 'P3-O1', 'P7-T7', 'FT10-T8', '-', 'F4-C4'], 'Start Time': '23:37:07', 'End Time': '24:37:07', 'Seizures Window': []}, 'chb19_08': {'Channels': ['P8-O2', 'T7-P7', 'FP1-F3', 'P7-O1', 'F3-C3', 'CZ-PZ', 'F8-T8', 'P4-O2', 'T8-P8', 'C4-P4', 'T7-FT9', 'C3-P3', 'FZ-CZ', 'F7-T7', 'FP2-F4', 'FT9-FT10', 'FP2-F8', 'FP1-F7', 'P3-O1', 'P7-T7', 'FT10-T8', '-', 'F4-C4'], 'Start Time': '00:37:14', 'End Time': '1:37:14', 'Seizures Window': []}, 'chb19_09': {'Channels': ['P8-O2', 'T7-P7', 'FP1-F3', 'P7-O1', 'F3-C3', 'CZ-PZ', 'F8-T8', 'P4-O2', 'T8-P8', 'C4-P4', 'T7-FT9', 'C3-P3', 'FZ-CZ', 'F7-T7', 'FP2-F4', 'FT9-FT10', 'FP2-F8', 'FP1-F7', 'P3-O1', 'P7-T7', 'FT10-T8', '-', 'F4-C4'], 'Start Time': '01:37:20', 'End Time': '2:37:20', 'Seizures Window': []}, 'chb19_10': {'Channels': ['P8-O2', 'T7-P7', 'FP1-F3', 'P7-O1', 'F3-C3', 'CZ-PZ', 'F8-T8', 'P4-O2', 'T8-P8', 'C4-P4', 'T7-FT9', 'C3-P3', 'FZ-CZ', 'F7-T7', 'FP2-F4', 'FT9-FT10', 'FP2-F8', 'FP1-F7', 'P3-O1', 'P7-T7', 'FT10-T8', '-', 'F4-C4'], 'Start Time': '02:37:27', 'End Time': '3:37:27', 'Seizures Window': []}, 'chb19_11': {'Channels': ['P8-O2', 'T7-P7', 'FP1-F3', 'P7-O1', 'F3-C3', 'CZ-PZ', 'F8-T8', 'P4-O2', 'T8-P8', 'C4-P4', 'T7-FT9', 'C3-P3', 'FZ-CZ', 'F7-T7', 'FP2-F4', 'FT9-FT10', 'FP2-F8', 'FP1-F7', 'P3-O1', 'P7-T7', 'FT10-T8', '-', 'F4-C4'], 'Start Time': '03:37:34', 'End Time': '4:37:34', 'Seizures Window': []}, 'chb19_12': {'Channels': ['P8-O2', 'T7-P7', 'FP1-F3', 'P7-O1', 'F3-C3', 'CZ-PZ', 'F8-T8', 'P4-O2', 'T8-P8', 'C4-P4', 'T7-FT9', 'C3-P3', 'FZ-CZ', 'F7-T7', 'FP2-F4', 'FT9-FT10', 'FP2-F8', 'FP1-F7', 'P3-O1', 'P7-T7', 'FT10-T8', '-', 'F4-C4'], 'Start Time': '04:37:41', 'End Time': '5:37:41', 'Seizures Window': []}, 'chb19_13': {'Channels': ['P8-O2', 'T7-P7', 'FP1-F3', 'P7-O1', 'F3-C3', 'CZ-PZ', 'F8-T8', 'P4-O2', 'T8-P8', 'C4-P4', 'T7-FT9', 'C3-P3', 'FZ-CZ', 'F7-T7', 'FP2-F4', 'FT9-FT10', 'FP2-F8', 'FP1-F7', 'P3-O1', 'P7-T7', 'FT10-T8', '-', 'F4-C4'], 'Start Time': '05:37:47', 'End Time': '6:37:47', 'Seizures Window': []}, 'chb19_14': {'Channels': ['P8-O2', 'T7-P7', 'FP1-F3', 'P7-O1', 'F3-C3', 'CZ-PZ', 'F8-T8', 'P4-O2', 'T8-P8', 'C4-P4', 'T7-FT9', 'C3-P3', 'FZ-CZ', 'F7-T7', 'FP2-F4', 'FT9-FT10', 'FP2-F8', 'FP1-F7', 'P3-O1', 'P7-T7', 'FT10-T8', '-', 'F4-C4'], 'Start Time': '06:37:54', 'End Time': '7:37:54', 'Seizures Window': []}, 'chb19_15': {'Channels': ['P8-O2', 'T7-P7', 'FP1-F3', 'P7-O1', 'F3-C3', 'CZ-PZ', 'F8-T8', 'P4-O2', 'T8-P8', 'C4-P4', 'T7-FT9', 'C3-P3', 'FZ-CZ', 'F7-T7', 'FP2-F4', 'FT9-FT10', 'FP2-F8', 'FP1-F7', 'P3-O1', 'P7-T7', 'FT10-T8', '-', 'F4-C4'], 'Start Time': '07:38:01', 'End Time': '8:38:01', 'Seizures Window': []}, 'chb19_16': {'Channels': ['P8-O2', 'T7-P7', 'FP1-F3', 'P7-O1', 'F3-C3', 'CZ-PZ', 'F8-T8', 'P4-O2', 'T8-P8', 'C4-P4', 'T7-FT9', 'C3-P3', 'FZ-CZ', 'F7-T7', 'FP2-F4', 'FT9-FT10', 'FP2-F8', 'FP1-F7', 'P3-O1', 'P7-T7', 'FT10-T8', '-', 'F4-C4'], 'Start Time': '08:38:08', 'End Time': '9:38:08', 'Seizures Window': []}, 'chb19_17': {'Channels': ['P8-O2', 'T7-P7', 'FP1-F3', 'P7-O1', 'F3-C3', 'CZ-PZ', 'F8-T8', 'P4-O2', 'T8-P8', 'C4-P4', 'T7-FT9', 'C3-P3', 'FZ-CZ', 'F7-T7', 'FP2-F4', 'FT9-FT10', 'FP2-F8', 'FP1-F7', 'P3-O1', 'P7-T7', 'FT10-T8', '-', 'F4-C4'], 'Start Time': '12:38:35', 'End Time': '13:38:35', 'Seizures Window': []}, 'chb19_18': {'Channels': ['P8-O2', 'T7-P7', 'FP1-F3', 'P7-O1', 'F3-C3', 'CZ-PZ', 'F8-T8', 'P4-O2', 'T8-P8', 'C4-P4', 'T7-FT9', 'C3-P3', 'FZ-CZ', 'F7-T7', 'FP2-F4', 'FT9-FT10', 'FP2-F8', 'FP1-F7', 'P3-O1', 'P7-T7', 'FT10-T8', '-', 'F4-C4'], 'Start Time': '13:38:42', 'End Time': '14:38:42', 'Seizures Window': []}, 'chb19_19': {'Channels': ['P8-O2', 'T7-P7', 'FP1-F3', 'P7-O1', 'F3-C3', 'CZ-PZ', 'F8-T8', 'P4-O2', 'T8-P8', 'C4-P4', 'T7-FT9', 'C3-P3', 'FZ-CZ', 'F7-T7', 'FP2-F4', 'FT9-FT10', 'FP2-F8', 'FP1-F7', 'P3-O1', 'P7-T7', 'FT10-T8', '-', 'F4-C4'], 'Start Time': '14:38:48', 'End Time': '15:38:48', 'Seizures Window': []}, 'chb19_20': {'Channels': ['P8-O2', 'T7-P7', 'FP1-F3', 'P7-O1', 'F3-C3', 'CZ-PZ', 'F8-T8', 'P4-O2', 'T8-P8', 'C4-P4', 'T7-FT9', 'C3-P3', 'FZ-CZ', 'F7-T7', 'FP2-F4', 'FT9-FT10', 'FP2-F8', 'FP1-F7', 'P3-O1', 'P7-T7', 'FT10-T8', '-', 'F4-C4'], 'Start Time': '15:38:55', 'End Time': '16:38:55', 'Seizures Window': []}, 'chb19_21': {'Channels': ['P8-O2', 'T7-P7', 'FP1-F3', 'P7-O1', 'F3-C3', 'CZ-PZ', 'F8-T8', 'P4-O2', 'T8-P8', 'C4-P4', 'T7-FT9', 'C3-P3', 'FZ-CZ', 'F7-T7', 'FP2-F4', 'FT9-FT10', 'FP2-F8', 'FP1-F7', 'P3-O1', 'P7-T7', 'FT10-T8', '-', 'F4-C4'], 'Start Time': '16:39:02', 'End Time': '17:39:02', 'Seizures Window': []}, 'chb19_22': {'Channels': ['P8-O2', 'T7-P7', 'FP1-F3', 'P7-O1', 'F3-C3', 'CZ-PZ', 'F8-T8', 'P4-O2', 'T8-P8', 'C4-P4', 'T7-FT9', 'C3-P3', 'FZ-CZ', 'F7-T7', 'FP2-F4', 'FT9-FT10', 'FP2-F8', 'FP1-F7', 'P3-O1', 'P7-T7', 'FT10-T8', '-', 'F4-C4'], 'Start Time': '22:39:42', 'End Time': '23:39:42', 'Seizures Window': []}, 'chb19_23': {'Channels': ['P8-O2', 'T7-P7', 'FP1-F3', 'P7-O1', 'F3-C3', 'CZ-PZ', 'F8-T8', 'P4-O2', 'T8-P8', 'C4-P4', 'T7-FT9', 'C3-P3', 'FZ-CZ', 'F7-T7', 'FP2-F4', 'FT9-FT10', 'FP2-F8', 'FP1-F7', 'P3-O1', 'P7-T7', 'FT10-T8', '-', 'F4-C4'], 'Start Time': '23:39:49', 'End Time': '24:39:49', 'Seizures Window': []}, 'chb19_24': {'Channels': ['P8-O2', 'T7-P7', 'FP1-F3', 'P7-O1', 'F3-C3', 'CZ-PZ', 'F8-T8', 'P4-O2', 'T8-P8', 'C4-P4', 'T7-FT9', 'C3-P3', 'FZ-CZ', 'F7-T7', 'FP2-F4', 'FT9-FT10', 'FP2-F8', 'FP1-F7', 'P3-O1', 'P7-T7', 'FT10-T8', '-', 'F4-C4'], 'Start Time': '00:39:56', 'End Time': '1:39:56', 'Seizures Window': []}, 'chb19_25': {'Channels': ['P8-O2', 'T7-P7', 'FP1-F3', 'P7-O1', 'F3-C3', 'CZ-PZ', 'F8-T8', 'P4-O2', 'T8-P8', 'C4-P4', 'T7-FT9', 'C3-P3', 'FZ-CZ', 'F7-T7', 'FP2-F4', 'FT9-FT10', 'FP2-F8', 'FP1-F7', 'P3-O1', 'P7-T7', 'FT10-T8', '-', 'F4-C4'], 'Start Time': '01:40:02', 'End Time': '2:40:02', 'Seizures Window': []}, 'chb19_26': {'Channels': ['P8-O2', 'T7-P7', 'FP1-F3', 'P7-O1', 'F3-C3', 'CZ-PZ', 'F8-T8', 'P4-O2', 'T8-P8', 'C4-P4', 'T7-FT9', 'C3-P3', 'FZ-CZ', 'F7-T7', 'FP2-F4', 'FT9-FT10', 'FP2-F8', 'FP1-F7', 'P3-O1', 'P7-T7', 'FT10-T8', '-', 'F4-C4'], 'Start Time': '04:40:23', 'End Time': '5:40:23', 'Seizures Window': []}, 'chb19_27': {'Channels': ['P8-O2', 'T7-P7', 'FP1-F3', 'P7-O1', 'F3-C3', 'CZ-PZ', 'F8-T8', 'P4-O2', 'T8-P8', 'C4-P4', 'T7-FT9', 'C3-P3', 'FZ-CZ', 'F7-T7', 'FP2-F4', 'FT9-FT10', 'FP2-F8', 'FP1-F7', 'P3-O1', 'P7-T7', 'FT10-T8', '-', 'F4-C4'], 'Start Time': '03:03:38', 'End Time': '4:03:38', 'Seizures Window': []}, 'chb19_28': {'Channels': ['P8-O2', 'T7-P7', 'FP1-F3', 'P7-O1', 'F3-C3', 'CZ-PZ', 'F8-T8', 'P4-O2', 'T8-P8', 'C4-P4', 'T7-FT9', 'C3-P3', 'FZ-CZ', 'F7-T7', 'FP2-F4', 'FT9-FT10', 'FP2-F8', 'FP1-F7', 'P3-O1', 'P7-T7', 'FT10-T8', '-', 'F4-C4'], 'Start Time': '01:09:35', 'End Time': '2:09:47', 'Seizures Window': [299, 377]}, 'chb19_29': {'Channels': ['P8-O2', 'T7-P7', 'FP1-F3', 'P7-O1', 'F3-C3', 'CZ-PZ', 'F8-T8', 'P4-O2', 'T8-P8', 'C4-P4', 'T7-FT9', 'C3-P3', 'FZ-CZ', 'F7-T7', 'FP2-F4', 'FT9-FT10', 'FP2-F8', 'FP1-F7', 'P3-O1', 'P7-T7', 'FT10-T8', '-', 'F4-C4'], 'Start Time': '07:11:12', 'End Time': '8:11:12', 'Seizures Window': [2964, 3041]}, 'chb19_30': {'Channels': ['P8-O2', 'T7-P7', 'FP1-F3', 'P7-O1', 'F3-C3', 'CZ-PZ', 'F8-T8', 'P4-O2', 'T8-P8', 'C4-P4', 'T7-FT9', 'C3-P3', 'FZ-CZ', 'F7-T7', 'FP2-F4', 'FT9-FT10', 'FP2-F8', 'FP1-F7', 'P3-O1', 'P7-T7', 'FT10-T8', '-', 'F4-C4'], 'Start Time': '11:12:51', 'End Time': '12:08:25', 'Seizures Window': [3159, 3240]}, 'chb20_01': {'Channels': ['P8-O2', 'T7-P7', 'FP1-F3', 'P7-O1', 'F3-C3', 'CZ-PZ', 'F8-T8', 'P4-O2', 'T8-P8', 'C4-P4', 'T7-FT9', 'C3-P3', 'FZ-CZ', 'F7-T7', 'FP2-F4', 'FT9-FT10', 'FP2-F8', 'FP1-F7', 'P3-O1', 'P7-T7', 'FT10-T8', '.', 'F4-C4'], 'Start Time': '16:55:08', 'End Time': '17:55:14', 'Seizures Window': []}, 'chb20_02': {'Channels': ['P8-O2', 'T7-P7', 'FP1-F3', 'P7-O1', 'F3-C3', 'CZ-PZ', 'F8-T8', 'P4-O2', 'T8-P8', 'C4-P4', 'T7-FT9', 'C3-P3', 'FZ-CZ', 'F7-T7', 'FP2-F4', 'FT9-FT10', 'FP2-F8', 'FP1-F7', 'P3-O1', 'P7-T7', 'FT10-T8', '.', 'F4-C4'], 'Start Time': '17:55:44', 'End Time': '18:55:44', 'Seizures Window': []}, 'chb20_03': {'Channels': ['P8-O2', 'T7-P7', 'FP1-F3', 'P7-O1', 'F3-C3', 'CZ-PZ', 'F8-T8', 'P4-O2', 'T8-P8', 'C4-P4', 'T7-FT9', 'C3-P3', 'FZ-CZ', 'F7-T7', 'FP2-F4', 'FT9-FT10', 'FP2-F8', 'FP1-F7', 'P3-O1', 'P7-T7', 'FT10-T8', '.', 'F4-C4'], 'Start Time': '18:55:51', 'End Time': '19:55:51', 'Seizures Window': []}, 'chb20_04': {'Channels': ['P8-O2', 'T7-P7', 'FP1-F3', 'P7-O1', 'F3-C3', 'CZ-PZ', 'F8-T8', 'P4-O2', 'T8-P8', 'C4-P4', 'T7-FT9', 'C3-P3', 'FZ-CZ', 'F7-T7', 'FP2-F4', 'FT9-FT10', 'FP2-F8', 'FP1-F7', 'P3-O1', 'P7-T7', 'FT10-T8', '.', 'F4-C4'], 'Start Time': '19:55:59', 'End Time': '20:55:59', 'Seizures Window': []}, 'chb20_05': {'Channels': ['P8-O2', 'T7-P7', 'FP1-F3', 'P7-O1', 'F3-C3', 'CZ-PZ', 'F8-T8', 'P4-O2', 'T8-P8', 'C4-P4', 'T7-FT9', 'C3-P3', 'FZ-CZ', 'F7-T7', 'FP2-F4', 'FT9-FT10', 'FP2-F8', 'FP1-F7', 'P3-O1', 'P7-T7', 'FT10-T8', '.', 'F4-C4'], 'Start Time': '20:56:06', 'End Time': '21:56:06', 'Seizures Window': []}, 'chb20_06': {'Channels': ['P8-O2', 'T7-P7', 'FP1-F3', 'P7-O1', 'F3-C3', 'CZ-PZ', 'F8-T8', 'P4-O2', 'T8-P8', 'C4-P4', 'T7-FT9', 'C3-P3', 'FZ-CZ', 'F7-T7', 'FP2-F4', 'FT9-FT10', 'FP2-F8', 'FP1-F7', 'P3-O1', 'P7-T7', 'FT10-T8', '.', 'F4-C4'], 'Start Time': '21:56:13', 'End Time': '22:56:13', 'Seizures Window': []}, 'chb20_07': {'Channels': ['P8-O2', 'T7-P7', 'FP1-F3', 'P7-O1', 'F3-C3', 'CZ-PZ', 'F8-T8', 'P4-O2', 'T8-P8', 'C4-P4', 'T7-FT9', 'C3-P3', 'FZ-CZ', 'F7-T7', 'FP2-F4', 'FT9-FT10', 'FP2-F8', 'FP1-F7', 'P3-O1', 'P7-T7', 'FT10-T8', '.', 'F4-C4'], 'Start Time': '22:56:19', 'End Time': '23:56:19', 'Seizures Window': []}, 'chb20_08': {'Channels': ['P8-O2', 'T7-P7', 'FP1-F3', 'P7-O1', 'F3-C3', 'CZ-PZ', 'F8-T8', 'P4-O2', 'T8-P8', 'C4-P4', 'T7-FT9', 'C3-P3', 'FZ-CZ', 'F7-T7', 'FP2-F4', 'FT9-FT10', 'FP2-F8', 'FP1-F7', 'P3-O1', 'P7-T7', 'FT10-T8', '.', 'F4-C4'], 'Start Time': '23:56:26', 'End Time': '24:56:26', 'Seizures Window': []}, 'chb20_11': {'Channels': ['P8-O2', 'T7-P7', 'FP1-F3', 'P7-O1', 'F3-C3', 'CZ-PZ', 'F8-T8', 'P4-O2', 'T8-P8', 'C4-P4', 'T7-FT9', 'C3-P3', 'FZ-CZ', 'F7-T7', 'FP2-F4', 'FT9-FT10', 'FP2-F8', 'FP1-F7', 'P3-O1', 'P7-T7', 'FT10-T8', '.', 'F4-C4'], 'Start Time': '02:56:46', 'End Time': '3:56:46', 'Seizures Window': []}, 'chb20_12': {'Channels': ['P8-O2', 'T7-P7', 'FP1-F3', 'P7-O1', 'F3-C3', 'CZ-PZ', 'F8-T8', 'P4-O2', 'T8-P8', 'C4-P4', 'T7-FT9', 'C3-P3', 'FZ-CZ', 'F7-T7', 'FP2-F4', 'FT9-FT10', 'FP2-F8', 'FP1-F7', 'P3-O1', 'P7-T7', 'FT10-T8', '.', 'F4-C4'], 'Start Time': '03:56:53', 'End Time': '4:56:53', 'Seizures Window': [94, 123]}, 'chb20_13': {'Channels': ['P8-O2', 'T7-P7', 'FP1-F3', 'P7-O1', 'F3-C3', 'CZ-PZ', 'F8-T8', 'P4-O2', 'T8-P8', 'C4-P4', 'T7-FT9', 'C3-P3', 'FZ-CZ', 'F7-T7', 'FP2-F4', 'FT9-FT10', 'FP2-F8', 'FP1-F7', 'P3-O1', 'P7-T7', 'FT10-T8', '.', 'F4-C4'], 'Start Time': '04:57:00', 'End Time': '5:57:00', 'Seizures Window': [1440, 1470, 2498, 2537]}, 'chb20_14': {'Channels': ['P8-O2', 'T7-P7', 'FP1-F3', 'P7-O1', 'F3-C3', 'CZ-PZ', 'F8-T8', 'P4-O2', 'T8-P8', 'C4-P4', 'T7-FT9', 'C3-P3', 'FZ-CZ', 'F7-T7', 'FP2-F4', 'FT9-FT10', 'FP2-F8', 'FP1-F7', 'P3-O1', 'P7-T7', 'FT10-T8', '.', 'F4-C4'], 'Start Time': '05:57:07', 'End Time': '6:57:07', 'Seizures Window': [1971, 2009]}, 'chb20_15': {'Channels': ['P8-O2', 'T7-P7', 'FP1-F3', 'P7-O1', 'F3-C3', 'CZ-PZ', 'F8-T8', 'P4-O2', 'T8-P8', 'C4-P4', 'T7-FT9', 'C3-P3', 'FZ-CZ', 'F7-T7', 'FP2-F4', 'FT9-FT10', 'FP2-F8', 'FP1-F7', 'P3-O1', 'P7-T7', 'FT10-T8', '.', 'F4-C4'], 'Start Time': '06:57:14', 'End Time': '7:57:14', 'Seizures Window': [390, 425, 1689, 1738]}, 'chb20_16': {'Channels': ['P8-O2', 'T7-P7', 'FP1-F3', 'P7-O1', 'F3-C3', 'CZ-PZ', 'F8-T8', 'P4-O2', 'T8-P8', 'C4-P4', 'T7-FT9', 'C3-P3', 'FZ-CZ', 'F7-T7', 'FP2-F4', 'FT9-FT10', 'FP2-F8', 'FP1-F7', 'P3-O1', 'P7-T7', 'FT10-T8', '.', 'F4-C4'], 'Start Time': '07:57:20', 'End Time': '8:55:09', 'Seizures Window': [2226, 2261]}, 'chb20_17': {'Channels': ['P8-O2', 'T7-P7', 'FP1-F3', 'P7-O1', 'F3-C3', 'CZ-PZ', 'F8-T8', 'P4-O2', 'T8-P8', 'C4-P4', 'T7-FT9', 'C3-P3', 'FZ-CZ', 'F7-T7', 'FP2-F4', 'FT9-FT10', 'FP2-F8', 'FP1-F7', 'P3-O1', 'P7-T7', 'FT10-T8', '.', 'F4-C4'], 'Start Time': '08:55:24', 'End Time': '9:55:24', 'Seizures Window': []}, 'chb20_21': {'Channels': ['P8-O2', 'T7-P7', 'FP1-F3', 'P7-O1', 'F3-C3', 'CZ-PZ', 'F8-T8', 'P4-O2', 'T8-P8', 'C4-P4', 'T7-FT9', 'C3-P3', 'FZ-CZ', 'F7-T7', 'FP2-F4', 'FT9-FT10', 'FP2-F8', 'FP1-F7', 'P3-O1', 'P7-T7', 'FT10-T8', '.', 'F4-C4'], 'Start Time': '12:51:27', 'End Time': '13:51:45', 'Seizures Window': []}, 'chb20_22': {'Channels': ['P8-O2', 'T7-P7', 'FP1-F3', 'P7-O1', 'F3-C3', 'CZ-PZ', 'F8-T8', 'P4-O2', 'T8-P8', 'C4-P4', 'T7-FT9', 'C3-P3', 'FZ-CZ', 'F7-T7', 'FP2-F4', 'FT9-FT10', 'FP2-F8', 'FP1-F7', 'P3-O1', 'P7-T7', 'FT10-T8', '.', 'F4-C4'], 'Start Time': '13:53:06', 'End Time': '14:05:28', 'Seizures Window': []}, 'chb20_23': {'Channels': ['P8-O2', 'T7-P7', 'FP1-F3', 'P7-O1', 'F3-C3', 'CZ-PZ', 'F8-T8', 'P4-O2', 'T8-P8', 'C4-P4', 'T7-FT9', 'C3-P3', 'FZ-CZ', 'F7-T7', 'FP2-F4', 'FT9-FT10', 'FP2-F8', 'FP1-F7', 'P3-O1', 'P7-T7', 'FT10-T8', '.', 'F4-C4'], 'Start Time': '14:11:44', 'End Time': '15:01:08', 'Seizures Window': []}, 'chb20_25': {'Channels': ['P8-O2', 'T7-P7', 'FP1-F3', 'P7-O1', 'F3-C3', 'CZ-PZ', 'F8-T8', 'P4-O2', 'T8-P8', 'C4-P4', 'T7-FT9', 'C3-P3', 'FZ-CZ', 'F7-T7', 'FP2-F4', 'FT9-FT10', 'FP2-F8', 'FP1-F7', 'P3-O1', 'P7-T7', 'FT10-T8', '.', 'F4-C4'], 'Start Time': '16:05:20', 'End Time': '17:05:20', 'Seizures Window': []}, 'chb20_26': {'Channels': ['P8-O2', 'T7-P7', 'FP1-F3', 'P7-O1', 'F3-C3', 'CZ-PZ', 'F8-T8', 'P4-O2', 'T8-P8', 'C4-P4', 'T7-FT9', 'C3-P3', 'FZ-CZ', 'F7-T7', 'FP2-F4', 'FT9-FT10', 'FP2-F8', 'FP1-F7', 'P3-O1', 'P7-T7', 'FT10-T8', '.', 'F4-C4'], 'Start Time': '17:05:27', 'End Time': '18:05:27', 'Seizures Window': []}, 'chb20_27': {'Channels': ['P8-O2', 'T7-P7', 'FP1-F3', 'P7-O1', 'F3-C3', 'CZ-PZ', 'F8-T8', 'P4-O2', 'T8-P8', 'C4-P4', 'T7-FT9', 'C3-P3', 'FZ-CZ', 'F7-T7', 'FP2-F4', 'FT9-FT10', 'FP2-F8', 'FP1-F7', 'P3-O1', 'P7-T7', 'FT10-T8', '.', 'F4-C4'], 'Start Time': '18:05:33', 'End Time': '19:05:33', 'Seizures Window': []}, 'chb20_28': {'Channels': ['P8-O2', 'T7-P7', 'FP1-F3', 'P7-O1', 'F3-C3', 'CZ-PZ', 'F8-T8', 'P4-O2', 'T8-P8', 'C4-P4', 'T7-FT9', 'C3-P3', 'FZ-CZ', 'F7-T7', 'FP2-F4', 'FT9-FT10', 'FP2-F8', 'FP1-F7', 'P3-O1', 'P7-T7', 'FT10-T8', '.', 'F4-C4'], 'Start Time': '19:05:40', 'End Time': '20:05:40', 'Seizures Window': []}, 'chb20_29': {'Channels': ['P8-O2', 'T7-P7', 'FP1-F3', 'P7-O1', 'F3-C3', 'CZ-PZ', 'F8-T8', 'P4-O2', 'T8-P8', 'C4-P4', 'T7-FT9', 'C3-P3', 'FZ-CZ', 'F7-T7', 'FP2-F4', 'FT9-FT10', 'FP2-F8', 'FP1-F7', 'P3-O1', 'P7-T7', 'FT10-T8', '.', 'F4-C4'], 'Start Time': '20:05:47', 'End Time': '21:05:47', 'Seizures Window': []}, 'chb20_30': {'Channels': ['P8-O2', 'T7-P7', 'FP1-F3', 'P7-O1', 'F3-C3', 'CZ-PZ', 'F8-T8', 'P4-O2', 'T8-P8', 'C4-P4', 'T7-FT9', 'C3-P3', 'FZ-CZ', 'F7-T7', 'FP2-F4', 'FT9-FT10', 'FP2-F8', 'FP1-F7', 'P3-O1', 'P7-T7', 'FT10-T8', '.', 'F4-C4'], 'Start Time': '21:05:54', 'End Time': '22:05:54', 'Seizures Window': []}, 'chb20_31': {'Channels': ['P8-O2', 'T7-P7', 'FP1-F3', 'P7-O1', 'F3-C3', 'CZ-PZ', 'F8-T8', 'P4-O2', 'T8-P8', 'C4-P4', 'T7-FT9', 'C3-P3', 'FZ-CZ', 'F7-T7', 'FP2-F4', 'FT9-FT10', 'FP2-F8', 'FP1-F7', 'P3-O1', 'P7-T7', 'FT10-T8', '.', 'F4-C4'], 'Start Time': '22:06:01', 'End Time': '23:06:01', 'Seizures Window': []}, 'chb20_34': {'Channels': ['P8-O2', 'T7-P7', 'FP1-F3', 'P7-O1', 'F3-C3', 'CZ-PZ', 'F8-T8', 'P4-O2', 'T8-P8', 'C4-P4', 'T7-FT9', 'C3-P3', 'FZ-CZ', 'F7-T7', 'FP2-F4', 'FT9-FT10', 'FP2-F8', 'FP1-F7', 'P3-O1', 'P7-T7', 'FT10-T8', '.', 'F4-C4'], 'Start Time': '01:06:21', 'End Time': '2:06:21', 'Seizures Window': []}, 'chb20_59': {'Channels': ['P8-O2', 'T7-P7', 'FP1-F3', 'P7-O1', 'F3-C3', 'CZ-PZ', 'F8-T8', 'P4-O2', 'T8-P8', 'C4-P4', 'T7-FT9', 'C3-P3', 'FZ-CZ', 'F7-T7', 'FP2-F4', 'FT9-FT10', 'FP2-F8', 'FP1-F7', 'P3-O1', 'P7-T7', 'FT10-T8', '.', 'F4-C4'], 'Start Time': '00:44:04', 'End Time': '1:44:04', 'Seizures Window': []}, 'chb20_60': {'Channels': ['P8-O2', 'T7-P7', 'FP1-F3', 'P7-O1', 'F3-C3', 'CZ-PZ', 'F8-T8', 'P4-O2', 'T8-P8', 'C4-P4', 'T7-FT9', 'C3-P3', 'FZ-CZ', 'F7-T7', 'FP2-F4', 'FT9-FT10', 'FP2-F8', 'FP1-F7', 'P3-O1', 'P7-T7', 'FT10-T8', '.', 'F4-C4'], 'Start Time': '01:44:11', 'End Time': '2:44:11', 'Seizures Window': []}, 'chb20_68': {'Channels': ['P8-O2', 'T7-P7', 'FP1-F3', 'P7-O1', 'F3-C3', 'CZ-PZ', 'F8-T8', 'P4-O2', 'T8-P8', 'C4-P4', 'T7-FT9', 'C3-P3', 'FZ-CZ', 'F7-T7', 'FP2-F4', 'FT9-FT10', 'FP2-F8', 'FP1-F7', 'P3-O1', 'P7-T7', 'FT10-T8', '.', 'F4-C4'], 'Start Time': '09:45:07', 'End Time': '10:21:14', 'Seizures Window': [1393, 1432]}, 'chb21_01': {'Channels': ['P8-O2', 'T7-P7', 'FP1-F3', 'P7-O1', 'F3-C3', 'CZ-PZ', 'F8-T8', 'P4-O2', 'T8-P8', 'C4-P4', 'T7-FT9', 'C3-P3', 'FZ-CZ', 'F7-T7', 'FP2-F4', 'FT9-FT10', 'FP2-F8', 'FP1-F7', 'P3-O1', 'P7-T7', 'FT10-T8', '-', 'F4-C4'], 'Start Time': '17:56:45', 'End Time': '18:56:45', 'Seizures Window': []}, 'chb21_02': {'Channels': ['P8-O2', 'T7-P7', 'FP1-F3', 'P7-O1', 'F3-C3', 'CZ-PZ', 'F8-T8', 'P4-O2', 'T8-P8', 'C4-P4', 'T7-FT9', 'C3-P3', 'FZ-CZ', 'F7-T7', 'FP2-F4', 'FT9-FT10', 'FP2-F8', 'FP1-F7', 'P3-O1', 'P7-T7', 'FT10-T8', '-', 'F4-C4'], 'Start Time': '18:56:49', 'End Time': '19:56:49', 'Seizures Window': []}, 'chb21_03': {'Channels': ['P8-O2', 'T7-P7', 'FP1-F3', 'P7-O1', 'F3-C3', 'CZ-PZ', 'F8-T8', 'P4-O2', 'T8-P8', 'C4-P4', 'T7-FT9', 'C3-P3', 'FZ-CZ', 'F7-T7', 'FP2-F4', 'FT9-FT10', 'FP2-F8', 'FP1-F7', 'P3-O1', 'P7-T7', 'FT10-T8', '-', 'F4-C4'], 'Start Time': '19:56:57', 'End Time': '20:56:57', 'Seizures Window': []}, 'chb21_04': {'Channels': ['P8-O2', 'T7-P7', 'FP1-F3', 'P7-O1', 'F3-C3', 'CZ-PZ', 'F8-T8', 'P4-O2', 'T8-P8', 'C4-P4', 'T7-FT9', 'C3-P3', 'FZ-CZ', 'F7-T7', 'FP2-F4', 'FT9-FT10', 'FP2-F8', 'FP1-F7', 'P3-O1', 'P7-T7', 'FT10-T8', '-', 'F4-C4'], 'Start Time': '20:57:04', 'End Time': '21:57:04', 'Seizures Window': []}, 'chb21_05': {'Channels': ['P8-O2', 'T7-P7', 'FP1-F3', 'P7-O1', 'F3-C3', 'CZ-PZ', 'F8-T8', 'P4-O2', 'T8-P8', 'C4-P4', 'T7-FT9', 'C3-P3', 'FZ-CZ', 'F7-T7', 'FP2-F4', 'FT9-FT10', 'FP2-F8', 'FP1-F7', 'P3-O1', 'P7-T7', 'FT10-T8', '-', 'F4-C4'], 'Start Time': '21:57:11', 'End Time': '22:57:11', 'Seizures Window': []}, 'chb21_06': {'Channels': ['P8-O2', 'T7-P7', 'FP1-F3', 'P7-O1', 'F3-C3', 'CZ-PZ', 'F8-T8', 'P4-O2', 'T8-P8', 'C4-P4', 'T7-FT9', 'C3-P3', 'FZ-CZ', 'F7-T7', 'FP2-F4', 'FT9-FT10', 'FP2-F8', 'FP1-F7', 'P3-O1', 'P7-T7', 'FT10-T8', '-', 'F4-C4'], 'Start Time': '22:57:18', 'End Time': '23:57:18', 'Seizures Window': []}, 'chb21_07': {'Channels': ['P8-O2', 'T7-P7', 'FP1-F3', 'P7-O1', 'F3-C3', 'CZ-PZ', 'F8-T8', 'P4-O2', 'T8-P8', 'C4-P4', 'T7-FT9', 'C3-P3', 'FZ-CZ', 'F7-T7', 'FP2-F4', 'FT9-FT10', 'FP2-F8', 'FP1-F7', 'P3-O1', 'P7-T7', 'FT10-T8', '-', 'F4-C4'], 'Start Time': '23:57:24', 'End Time': '24:57:24', 'Seizures Window': []}, 'chb21_08': {'Channels': ['P8-O2', 'T7-P7', 'FP1-F3', 'P7-O1', 'F3-C3', 'CZ-PZ', 'F8-T8', 'P4-O2', 'T8-P8', 'C4-P4', 'T7-FT9', 'C3-P3', 'FZ-CZ', 'F7-T7', 'FP2-F4', 'FT9-FT10', 'FP2-F8', 'FP1-F7', 'P3-O1', 'P7-T7', 'FT10-T8', '-', 'F4-C4'], 'Start Time': '00:57:31', 'End Time': '1:57:31', 'Seizures Window': []}, 'chb21_09': {'Channels': ['P8-O2', 'T7-P7', 'FP1-F3', 'P7-O1', 'F3-C3', 'CZ-PZ', 'F8-T8', 'P4-O2', 'T8-P8', 'C4-P4', 'T7-FT9', 'C3-P3', 'FZ-CZ', 'F7-T7', 'FP2-F4', 'FT9-FT10', 'FP2-F8', 'FP1-F7', 'P3-O1', 'P7-T7', 'FT10-T8', '-', 'F4-C4'], 'Start Time': '01:57:38', 'End Time': '2:57:38', 'Seizures Window': []}, 'chb21_10': {'Channels': ['P8-O2', 'T7-P7', 'FP1-F3', 'P7-O1', 'F3-C3', 'CZ-PZ', 'F8-T8', 'P4-O2', 'T8-P8', 'C4-P4', 'T7-FT9', 'C3-P3', 'FZ-CZ', 'F7-T7', 'FP2-F4', 'FT9-FT10', 'FP2-F8', 'FP1-F7', 'P3-O1', 'P7-T7', 'FT10-T8', '-', 'F4-C4'], 'Start Time': '02:57:45', 'End Time': '3:57:45', 'Seizures Window': []}, 'chb21_11': {'Channels': ['P8-O2', 'T7-P7', 'FP1-F3', 'P7-O1', 'F3-C3', 'CZ-PZ', 'F8-T8', 'P4-O2', 'T8-P8', 'C4-P4', 'T7-FT9', 'C3-P3', 'FZ-CZ', 'F7-T7', 'FP2-F4', 'FT9-FT10', 'FP2-F8', 'FP1-F7', 'P3-O1', 'P7-T7', 'FT10-T8', '-', 'F4-C4'], 'Start Time': '03:57:52', 'End Time': '4:57:52', 'Seizures Window': []}, 'chb21_12': {'Channels': ['P8-O2', 'T7-P7', 'FP1-F3', 'P7-O1', 'F3-C3', 'CZ-PZ', 'F8-T8', 'P4-O2', 'T8-P8', 'C4-P4', 'T7-FT9', 'C3-P3', 'FZ-CZ', 'F7-T7', 'FP2-F4', 'FT9-FT10', 'FP2-F8', 'FP1-F7', 'P3-O1', 'P7-T7', 'FT10-T8', '-', 'F4-C4'], 'Start Time': '04:57:59', 'End Time': '5:57:59', 'Seizures Window': []}, 'chb21_13': {'Channels': ['P8-O2', 'T7-P7', 'FP1-F3', 'P7-O1', 'F3-C3', 'CZ-PZ', 'F8-T8', 'P4-O2', 'T8-P8', 'C4-P4', 'T7-FT9', 'C3-P3', 'FZ-CZ', 'F7-T7', 'FP2-F4', 'FT9-FT10', 'FP2-F8', 'FP1-F7', 'P3-O1', 'P7-T7', 'FT10-T8', '-', 'F4-C4'], 'Start Time': '05:58:06', 'End Time': '6:58:06', 'Seizures Window': []}, 'chb21_14': {'Channels': ['P8-O2', 'T7-P7', 'FP1-F3', 'P7-O1', 'F3-C3', 'CZ-PZ', 'F8-T8', 'P4-O2', 'T8-P8', 'C4-P4', 'T7-FT9', 'C3-P3', 'FZ-CZ', 'F7-T7', 'FP2-F4', 'FT9-FT10', 'FP2-F8', 'FP1-F7', 'P3-O1', 'P7-T7', 'FT10-T8', '-', 'F4-C4'], 'Start Time': '06:58:13', 'End Time': '7:58:13', 'Seizures Window': []}, 'chb21_15': {'Channels': ['P8-O2', 'T7-P7', 'FP1-F3', 'P7-O1', 'F3-C3', 'CZ-PZ', 'F8-T8', 'P4-O2', 'T8-P8', 'C4-P4', 'T7-FT9', 'C3-P3', 'FZ-CZ', 'F7-T7', 'FP2-F4', 'FT9-FT10', 'FP2-F8', 'FP1-F7', 'P3-O1', 'P7-T7', 'FT10-T8', '-', 'F4-C4'], 'Start Time': '07:58:20', 'End Time': '8:58:20', 'Seizures Window': []}, 'chb21_16': {'Channels': ['P8-O2', 'T7-P7', 'FP1-F3', 'P7-O1', 'F3-C3', 'CZ-PZ', 'F8-T8', 'P4-O2', 'T8-P8', 'C4-P4', 'T7-FT9', 'C3-P3', 'FZ-CZ', 'F7-T7', 'FP2-F4', 'FT9-FT10', 'FP2-F8', 'FP1-F7', 'P3-O1', 'P7-T7', 'FT10-T8', '-', 'F4-C4'], 'Start Time': '08:58:27', 'End Time': '9:58:26', 'Seizures Window': []}, 'chb21_17': {'Channels': ['P8-O2', 'T7-P7', 'FP1-F3', 'P7-O1', 'F3-C3', 'CZ-PZ', 'F8-T8', 'P4-O2', 'T8-P8', 'C4-P4', 'T7-FT9', 'C3-P3', 'FZ-CZ', 'F7-T7', 'FP2-F4', 'FT9-FT10', 'FP2-F8', 'FP1-F7', 'P3-O1', 'P7-T7', 'FT10-T8', '-', 'F4-C4'], 'Start Time': '09:58:59', 'End Time': '10:58:59', 'Seizures Window': []}, 'chb21_18': {'Channels': ['P8-O2', 'T7-P7', 'FP1-F3', 'P7-O1', 'F3-C3', 'CZ-PZ', 'F8-T8', 'P4-O2', 'T8-P8', 'C4-P4', 'T7-FT9', 'C3-P3', 'FZ-CZ', 'F7-T7', 'FP2-F4', 'FT9-FT10', 'FP2-F8', 'FP1-F7', 'P3-O1', 'P7-T7', 'FT10-T8', '-', 'F4-C4'], 'Start Time': '10:59:06', 'End Time': '11:59:06', 'Seizures Window': []}, 'chb21_19': {'Channels': ['P8-O2', 'T7-P7', 'FP1-F3', 'P7-O1', 'F3-C3', 'CZ-PZ', 'F8-T8', 'P4-O2', 'T8-P8', 'C4-P4', 'T7-FT9', 'C3-P3', 'FZ-CZ', 'F7-T7', 'FP2-F4', 'FT9-FT10', 'FP2-F8', 'FP1-F7', 'P3-O1', 'P7-T7', 'FT10-T8', '-', 'F4-C4'], 'Start Time': '11:59:13', 'End Time': '12:59:13', 'Seizures Window': [1288, 1344]}, 'chb21_20': {'Channels': ['P8-O2', 'T7-P7', 'FP1-F3', 'P7-O1', 'F3-C3', 'CZ-PZ', 'F8-T8', 'P4-O2', 'T8-P8', 'C4-P4', 'T7-FT9', 'C3-P3', 'FZ-CZ', 'F7-T7', 'FP2-F4', 'FT9-FT10', 'FP2-F8', 'FP1-F7', 'P3-O1', 'P7-T7', 'FT10-T8', '-', 'F4-C4'], 'Start Time': '12:59:20', 'End Time': '13:49:10', 'Seizures Window': [2627, 2677]}, 'chb21_21': {'Channels': ['P8-O2', 'T7-P7', 'FP1-F3', 'P7-O1', 'F3-C3', 'CZ-PZ', 'F8-T8', 'P4-O2', 'T8-P8', 'C4-P4', 'T7-FT9', 'C3-P3', 'FZ-CZ', 'F7-T7', 'FP2-F4', 'FT9-FT10', 'FP2-F8', 'FP1-F7', 'P3-O1', 'P7-T7', 'FT10-T8', '-', 'F4-C4'], 'Start Time': '15:49:35', 'End Time': '16:49:35', 'Seizures Window': [2003, 2084]}, 'chb21_22': {'Channels': ['P8-O2', 'T7-P7', 'FP1-F3', 'P7-O1', 'F3-C3', 'CZ-PZ', 'F8-T8', 'P4-O2', 'T8-P8', 'C4-P4', 'T7-FT9', 'C3-P3', 'FZ-CZ', 'F7-T7', 'FP2-F4', 'FT9-FT10', 'FP2-F8', 'FP1-F7', 'P3-O1', 'P7-T7', 'FT10-T8', '-', 'F4-C4'], 'Start Time': '16:49:42', 'End Time': '17:49:42', 'Seizures Window': [2553, 2565]}, 'chb21_23': {'Channels': ['P8-O2', 'T7-P7', 'FP1-F3', 'P7-O1', 'F3-C3', 'CZ-PZ', 'F8-T8', 'P4-O2', 'T8-P8', 'C4-P4', 'T7-FT9', 'C3-P3', 'FZ-CZ', 'F7-T7', 'FP2-F4', 'FT9-FT10', 'FP2-F8', 'FP1-F7', 'P3-O1', 'P7-T7', 'FT10-T8', '-', 'F4-C4'], 'Start Time': '18:36:01', 'End Time': '19:36:01', 'Seizures Window': []}, 'chb21_24': {'Channels': ['P8-O2', 'T7-P7', 'FP1-F3', 'P7-O1', 'F3-C3', 'CZ-PZ', 'F8-T8', 'P4-O2', 'T8-P8', 'C4-P4', 'T7-FT9', 'C3-P3', 'FZ-CZ', 'F7-T7', 'FP2-F4', 'FT9-FT10', 'FP2-F8', 'FP1-F7', 'P3-O1', 'P7-T7', 'FT10-T8', '-', 'F4-C4'], 'Start Time': '20:36:11', 'End Time': '21:36:11', 'Seizures Window': []}, 'chb21_25': {'Channels': ['P8-O2', 'T7-P7', 'FP1-F3', 'P7-O1', 'F3-C3', 'CZ-PZ', 'F8-T8', 'P4-O2', 'T8-P8', 'C4-P4', 'T7-FT9', 'C3-P3', 'FZ-CZ', 'F7-T7', 'FP2-F4', 'FT9-FT10', 'FP2-F8', 'FP1-F7', 'P3-O1', 'P7-T7', 'FT10-T8', '-', 'F4-C4'], 'Start Time': '22:36:25', 'End Time': '23:36:25', 'Seizures Window': []}, 'chb21_26': {'Channels': ['P8-O2', 'T7-P7', 'FP1-F3', 'P7-O1', 'F3-C3', 'CZ-PZ', 'F8-T8', 'P4-O2', 'T8-P8', 'C4-P4', 'T7-FT9', 'C3-P3', 'FZ-CZ', 'F7-T7', 'FP2-F4', 'FT9-FT10', 'FP2-F8', 'FP1-F7', 'P3-O1', 'P7-T7', 'FT10-T8', '-', 'F4-C4'], 'Start Time': '23:36:32', 'End Time': '24:36:32', 'Seizures Window': []}, 'chb21_27': {'Channels': ['P8-O2', 'T7-P7', 'FP1-F3', 'P7-O1', 'F3-C3', 'CZ-PZ', 'F8-T8', 'P4-O2', 'T8-P8', 'C4-P4', 'T7-FT9', 'C3-P3', 'FZ-CZ', 'F7-T7', 'FP2-F4', 'FT9-FT10', 'FP2-F8', 'FP1-F7', 'P3-O1', 'P7-T7', 'FT10-T8', '-', 'F4-C4'], 'Start Time': '00:36:39', 'End Time': '1:36:39', 'Seizures Window': []}, 'chb21_28': {'Channels': ['P8-O2', 'T7-P7', 'FP1-F3', 'P7-O1', 'F3-C3', 'CZ-PZ', 'F8-T8', 'P4-O2', 'T8-P8', 'C4-P4', 'T7-FT9', 'C3-P3', 'FZ-CZ', 'F7-T7', 'FP2-F4', 'FT9-FT10', 'FP2-F8', 'FP1-F7', 'P3-O1', 'P7-T7', 'FT10-T8', '-', 'F4-C4'], 'Start Time': '01:36:46', 'End Time': '2:36:46', 'Seizures Window': []}, 'chb21_29': {'Channels': ['P8-O2', 'T7-P7', 'FP1-F3', 'P7-O1', 'F3-C3', 'CZ-PZ', 'F8-T8', 'P4-O2', 'T8-P8', 'C4-P4', 'T7-FT9', 'C3-P3', 'FZ-CZ', 'F7-T7', 'FP2-F4', 'FT9-FT10', 'FP2-F8', 'FP1-F7', 'P3-O1', 'P7-T7', 'FT10-T8', '-', 'F4-C4'], 'Start Time': '08:37:34', 'End Time': '9:37:34', 'Seizures Window': []}, 'chb21_30': {'Channels': ['P8-O2', 'T7-P7', 'FP1-F3', 'P7-O1', 'F3-C3', 'CZ-PZ', 'F8-T8', 'P4-O2', 'T8-P8', 'C4-P4', 'T7-FT9', 'C3-P3', 'FZ-CZ', 'F7-T7', 'FP2-F4', 'FT9-FT10', 'FP2-F8', 'FP1-F7', 'P3-O1', 'P7-T7', 'FT10-T8', '-', 'F4-C4'], 'Start Time': '13:38:08', 'End Time': '14:38:08', 'Seizures Window': []}, 'chb21_31': {'Channels': ['P8-O2', 'T7-P7', 'FP1-F3', 'P7-O1', 'F3-C3', 'CZ-PZ', 'F8-T8', 'P4-O2', 'T8-P8', 'C4-P4', 'T7-FT9', 'C3-P3', 'FZ-CZ', 'F7-T7', 'FP2-F4', 'FT9-FT10', 'FP2-F8', 'FP1-F7', 'P3-O1', 'P7-T7', 'FT10-T8', '-', 'F4-C4'], 'Start Time': '22:39:10', 'End Time': '23:39:10', 'Seizures Window': []}, 'chb21_32': {'Channels': ['P8-O2', 'T7-P7', 'FP1-F3', 'P7-O1', 'F3-C3', 'CZ-PZ', 'F8-T8', 'P4-O2', 'T8-P8', 'C4-P4', 'T7-FT9', 'C3-P3', 'FZ-CZ', 'F7-T7', 'FP2-F4', 'FT9-FT10', 'FP2-F8', 'FP1-F7', 'P3-O1', 'P7-T7', 'FT10-T8', '-', 'F4-C4'], 'Start Time': '23:39:17', 'End Time': '24:39:17', 'Seizures Window': []}, 'chb21_33': {'Channels': ['P8-O2', 'T7-P7', 'FP1-F3', 'P7-O1', 'F3-C3', 'CZ-PZ', 'F8-T8', 'P4-O2', 'T8-P8', 'C4-P4', 'T7-FT9', 'C3-P3', 'FZ-CZ', 'F7-T7', 'FP2-F4', 'FT9-FT10', 'FP2-F8', 'FP1-F7', 'P3-O1', 'P7-T7', 'FT10-T8', '-', 'F4-C4'], 'Start Time': '00:39:24', 'End Time': '1:39:24', 'Seizures Window': []}, 'chb22_01': {'Channels': ['P8-O2', 'T7-P7', 'FP1-F3', 'P7-O1', 'F3-C3', 'CZ-PZ', 'F8-T8', 'P4-O2', 'T8-P8', 'C4-P4', 'T7-FT9', 'C3-P3', 'FZ-CZ', 'F7-T7', 'FP2-F4', 'FT9-FT10', 'FP2-F8', 'FP1-F7', 'P3-O1', 'P7-T7', 'FT10-T8', '-', 'F4-C4'], 'Start Time': '22:38:09', 'End Time': '23:38:09', 'Seizures Window': []}, 'chb22_02': {'Channels': ['P8-O2', 'T7-P7', 'FP1-F3', 'P7-O1', 'F3-C3', 'CZ-PZ', 'F8-T8', 'P4-O2', 'T8-P8', 'C4-P4', 'T7-FT9', 'C3-P3', 'FZ-CZ', 'F7-T7', 'FP2-F4', 'FT9-FT10', 'FP2-F8', 'FP1-F7', 'P3-O1', 'P7-T7', 'FT10-T8', '-', 'F4-C4'], 'Start Time': '23:38:12', 'End Time': '24:38:12', 'Seizures Window': []}, 'chb22_03': {'Channels': ['P8-O2', 'T7-P7', 'FP1-F3', 'P7-O1', 'F3-C3', 'CZ-PZ', 'F8-T8', 'P4-O2', 'T8-P8', 'C4-P4', 'T7-FT9', 'C3-P3', 'FZ-CZ', 'F7-T7', 'FP2-F4', 'FT9-FT10', 'FP2-F8', 'FP1-F7', 'P3-O1', 'P7-T7', 'FT10-T8', '-', 'F4-C4'], 'Start Time': '00:38:18', 'End Time': '1:38:18', 'Seizures Window': []}, 'chb22_04': {'Channels': ['P8-O2', 'T7-P7', 'FP1-F3', 'P7-O1', 'F3-C3', 'CZ-PZ', 'F8-T8', 'P4-O2', 'T8-P8', 'C4-P4', 'T7-FT9', 'C3-P3', 'FZ-CZ', 'F7-T7', 'FP2-F4', 'FT9-FT10', 'FP2-F8', 'FP1-F7', 'P3-O1', 'P7-T7', 'FT10-T8', '-', 'F4-C4'], 'Start Time': '01:38:25', 'End Time': '2:38:25', 'Seizures Window': []}, 'chb22_05': {'Channels': ['P8-O2', 'T7-P7', 'FP1-F3', 'P7-O1', 'F3-C3', 'CZ-PZ', 'F8-T8', 'P4-O2', 'T8-P8', 'C4-P4', 'T7-FT9', 'C3-P3', 'FZ-CZ', 'F7-T7', 'FP2-F4', 'FT9-FT10', 'FP2-F8', 'FP1-F7', 'P3-O1', 'P7-T7', 'FT10-T8', '-', 'F4-C4'], 'Start Time': '02:38:32', 'End Time': '3:38:32', 'Seizures Window': []}, 'chb22_06': {'Channels': ['P8-O2', 'T7-P7', 'FP1-F3', 'P7-O1', 'F3-C3', 'CZ-PZ', 'F8-T8', 'P4-O2', 'T8-P8', 'C4-P4', 'T7-FT9', 'C3-P3', 'FZ-CZ', 'F7-T7', 'FP2-F4', 'FT9-FT10', 'FP2-F8', 'FP1-F7', 'P3-O1', 'P7-T7', 'FT10-T8', '-', 'F4-C4'], 'Start Time': '03:38:39', 'End Time': '4:38:39', 'Seizures Window': []}, 'chb22_07': {'Channels': ['P8-O2', 'T7-P7', 'FP1-F3', 'P7-O1', 'F3-C3', 'CZ-PZ', 'F8-T8', 'P4-O2', 'T8-P8', 'C4-P4', 'T7-FT9', 'C3-P3', 'FZ-CZ', 'F7-T7', 'FP2-F4', 'FT9-FT10', 'FP2-F8', 'FP1-F7', 'P3-O1', 'P7-T7', 'FT10-T8', '-', 'F4-C4'], 'Start Time': '04:38:45', 'End Time': '5:38:45', 'Seizures Window': []}, 'chb22_08': {'Channels': ['P8-O2', 'T7-P7', 'FP1-F3', 'P7-O1', 'F3-C3', 'CZ-PZ', 'F8-T8', 'P4-O2', 'T8-P8', 'C4-P4', 'T7-FT9', 'C3-P3', 'FZ-CZ', 'F7-T7', 'FP2-F4', 'FT9-FT10', 'FP2-F8', 'FP1-F7', 'P3-O1', 'P7-T7', 'FT10-T8', '-', 'F4-C4'], 'Start Time': '05:38:52', 'End Time': '6:38:52', 'Seizures Window': []}, 'chb22_09': {'Channels': ['P8-O2', 'T7-P7', 'FP1-F3', 'P7-O1', 'F3-C3', 'CZ-PZ', 'F8-T8', 'P4-O2', 'T8-P8', 'C4-P4', 'T7-FT9', 'C3-P3', 'FZ-CZ', 'F7-T7', 'FP2-F4', 'FT9-FT10', 'FP2-F8', 'FP1-F7', 'P3-O1', 'P7-T7', 'FT10-T8', '-', 'F4-C4'], 'Start Time': '06:38:59', 'End Time': '7:38:59', 'Seizures Window': []}, 'chb22_10': {'Channels': ['P8-O2', 'T7-P7', 'FP1-F3', 'P7-O1', 'F3-C3', 'CZ-PZ', 'F8-T8', 'P4-O2', 'T8-P8', 'C4-P4', 'T7-FT9', 'C3-P3', 'FZ-CZ', 'F7-T7', 'FP2-F4', 'FT9-FT10', 'FP2-F8', 'FP1-F7', 'P3-O1', 'P7-T7', 'FT10-T8', '-', 'F4-C4'], 'Start Time': '07:39:05', 'End Time': '8:39:05', 'Seizures Window': []}, 'chb22_11': {'Channels': ['P8-O2', 'T7-P7', 'FP1-F3', 'P7-O1', 'F3-C3', 'CZ-PZ', 'F8-T8', 'P4-O2', 'T8-P8', 'C4-P4', 'T7-FT9', 'C3-P3', 'FZ-CZ', 'F7-T7', 'FP2-F4', 'FT9-FT10', 'FP2-F8', 'FP1-F7', 'P3-O1', 'P7-T7', 'FT10-T8', '-', 'F4-C4'], 'Start Time': '08:39:12', 'End Time': '9:39:23', 'Seizures Window': []}, 'chb22_15': {'Channels': ['P8-O2', 'T7-P7', 'FP1-F3', 'P7-O1', 'F3-C3', 'CZ-PZ', 'F8-T8', 'P4-O2', 'T8-P8', 'C4-P4', 'T7-FT9', 'C3-P3', 'FZ-CZ', 'F7-T7', 'FP2-F4', 'FT9-FT10', 'FP2-F8', 'FP1-F7', 'P3-O1', 'P7-T7', 'FT10-T8', '-', 'F4-C4'], 'Start Time': '12:44:29', 'End Time': '13:44:29', 'Seizures Window': []}, 'chb22_16': {'Channels': ['P8-O2', 'T7-P7', 'FP1-F3', 'P7-O1', 'F3-C3', 'CZ-PZ', 'F8-T8', 'P4-O2', 'T8-P8', 'C4-P4', 'T7-FT9', 'C3-P3', 'FZ-CZ', 'F7-T7', 'FP2-F4', 'FT9-FT10', 'FP2-F8', 'FP1-F7', 'P3-O1', 'P7-T7', 'FT10-T8', '-', 'F4-C4'], 'Start Time': '13:44:36', 'End Time': '14:44:36', 'Seizures Window': []}, 'chb22_17': {'Channels': ['P8-O2', 'T7-P7', 'FP1-F3', 'P7-O1', 'F3-C3', 'CZ-PZ', 'F8-T8', 'P4-O2', 'T8-P8', 'C4-P4', 'T7-FT9', 'C3-P3', 'FZ-CZ', 'F7-T7', 'FP2-F4', 'FT9-FT10', 'FP2-F8', 'FP1-F7', 'P3-O1', 'P7-T7', 'FT10-T8', '-', 'F4-C4'], 'Start Time': '14:44:42', 'End Time': '15:44:42', 'Seizures Window': []}, 'chb22_18': {'Channels': ['P8-O2', 'T7-P7', 'FP1-F3', 'P7-O1', 'F3-C3', 'CZ-PZ', 'F8-T8', 'P4-O2', 'T8-P8', 'C4-P4', 'T7-FT9', 'C3-P3', 'FZ-CZ', 'F7-T7', 'FP2-F4', 'FT9-FT10', 'FP2-F8', 'FP1-F7', 'P3-O1', 'P7-T7', 'FT10-T8', '-', 'F4-C4'], 'Start Time': '15:44:49', 'End Time': '16:44:49', 'Seizures Window': []}, 'chb22_19': {'Channels': ['P8-O2', 'T7-P7', 'FP1-F3', 'P7-O1', 'F3-C3', 'CZ-PZ', 'F8-T8', 'P4-O2', 'T8-P8', 'C4-P4', 'T7-FT9', 'C3-P3', 'FZ-CZ', 'F7-T7', 'FP2-F4', 'FT9-FT10', 'FP2-F8', 'FP1-F7', 'P3-O1', 'P7-T7', 'FT10-T8', '-', 'F4-C4'], 'Start Time': '16:44:56', 'End Time': '17:44:56', 'Seizures Window': []}, 'chb22_20': {'Channels': ['P8-O2', 'T7-P7', 'FP1-F3', 'P7-O1', 'F3-C3', 'CZ-PZ', 'F8-T8', 'P4-O2', 'T8-P8', 'C4-P4', 'T7-FT9', 'C3-P3', 'FZ-CZ', 'F7-T7', 'FP2-F4', 'FT9-FT10', 'FP2-F8', 'FP1-F7', 'P3-O1', 'P7-T7', 'FT10-T8', '-', 'F4-C4'], 'Start Time': '17:45:03', 'End Time': '18:45:03', 'Seizures Window': [3367, 3425]}, 'chb22_21': {'Channels': ['P8-O2', 'T7-P7', 'FP1-F3', 'P7-O1', 'F3-C3', 'CZ-PZ', 'F8-T8', 'P4-O2', 'T8-P8', 'C4-P4', 'T7-FT9', 'C3-P3', 'FZ-CZ', 'F7-T7', 'FP2-F4', 'FT9-FT10', 'FP2-F8', 'FP1-F7', 'P3-O1', 'P7-T7', 'FT10-T8', '-', 'F4-C4'], 'Start Time': '18:45:10', 'End Time': '19:45:10', 'Seizures Window': []}, 'chb22_22': {'Channels': ['P8-O2', 'T7-P7', 'FP1-F3', 'P7-O1', 'F3-C3', 'CZ-PZ', 'F8-T8', 'P4-O2', 'T8-P8', 'C4-P4', 'T7-FT9', 'C3-P3', 'FZ-CZ', 'F7-T7', 'FP2-F4', 'FT9-FT10', 'FP2-F8', 'FP1-F7', 'P3-O1', 'P7-T7', 'FT10-T8', '-', 'F4-C4'], 'Start Time': '19:45:17', 'End Time': '20:45:17', 'Seizures Window': []}, 'chb22_23': {'Channels': ['P8-O2', 'T7-P7', 'FP1-F3', 'P7-O1', 'F3-C3', 'CZ-PZ', 'F8-T8', 'P4-O2', 'T8-P8', 'C4-P4', 'T7-FT9', 'C3-P3', 'FZ-CZ', 'F7-T7', 'FP2-F4', 'FT9-FT10', 'FP2-F8', 'FP1-F7', 'P3-O1', 'P7-T7', 'FT10-T8', '-', 'F4-C4'], 'Start Time': '20:45:24', 'End Time': '21:45:24', 'Seizures Window': []}, 'chb22_24': {'Channels': ['P8-O2', 'T7-P7', 'FP1-F3', 'P7-O1', 'F3-C3', 'CZ-PZ', 'F8-T8', 'P4-O2', 'T8-P8', 'C4-P4', 'T7-FT9', 'C3-P3', 'FZ-CZ', 'F7-T7', 'FP2-F4', 'FT9-FT10', 'FP2-F8', 'FP1-F7', 'P3-O1', 'P7-T7', 'FT10-T8', '-', 'F4-C4'], 'Start Time': '21:45:30', 'End Time': '22:45:30', 'Seizures Window': []}, 'chb22_25': {'Channels': ['P8-O2', 'T7-P7', 'FP1-F3', 'P7-O1', 'F3-C3', 'CZ-PZ', 'F8-T8', 'P4-O2', 'T8-P8', 'C4-P4', 'T7-FT9', 'C3-P3', 'FZ-CZ', 'F7-T7', 'FP2-F4', 'FT9-FT10', 'FP2-F8', 'FP1-F7', 'P3-O1', 'P7-T7', 'FT10-T8', '-', 'F4-C4'], 'Start Time': '22:45:37', 'End Time': '23:45:37', 'Seizures Window': [3139, 3213]}, 'chb22_26': {'Channels': ['P8-O2', 'T7-P7', 'FP1-F3', 'P7-O1', 'F3-C3', 'CZ-PZ', 'F8-T8', 'P4-O2', 'T8-P8', 'C4-P4', 'T7-FT9', 'C3-P3', 'FZ-CZ', 'F7-T7', 'FP2-F4', 'FT9-FT10', 'FP2-F8', 'FP1-F7', 'P3-O1', 'P7-T7', 'FT10-T8', '-', 'F4-C4'], 'Start Time': '23:45:44', 'End Time': '24:45:44', 'Seizures Window': []}, 'chb22_27': {'Channels': ['P8-O2', 'T7-P7', 'FP1-F3', 'P7-O1', 'F3-C3', 'CZ-PZ', 'F8-T8', 'P4-O2', 'T8-P8', 'C4-P4', 'T7-FT9', 'C3-P3', 'FZ-CZ', 'F7-T7', 'FP2-F4', 'FT9-FT10', 'FP2-F8', 'FP1-F7', 'P3-O1', 'P7-T7', 'FT10-T8', '-', 'F4-C4'], 'Start Time': '00:45:51', 'End Time': '1:45:51', 'Seizures Window': []}, 'chb22_28': {'Channels': ['P8-O2', 'T7-P7', 'FP1-F3', 'P7-O1', 'F3-C3', 'CZ-PZ', 'F8-T8', 'P4-O2', 'T8-P8', 'C4-P4', 'T7-FT9', 'C3-P3', 'FZ-CZ', 'F7-T7', 'FP2-F4', 'FT9-FT10', 'FP2-F8', 'FP1-F7', 'P3-O1', 'P7-T7', 'FT10-T8', '-', 'F4-C4'], 'Start Time': '01:45:58', 'End Time': '2:45:58', 'Seizures Window': []}, 'chb22_29': {'Channels': ['P8-O2', 'T7-P7', 'FP1-F3', 'P7-O1', 'F3-C3', 'CZ-PZ', 'F8-T8', 'P4-O2', 'T8-P8', 'C4-P4', 'T7-FT9', 'C3-P3', 'FZ-CZ', 'F7-T7', 'FP2-F4', 'FT9-FT10', 'FP2-F8', 'FP1-F7', 'P3-O1', 'P7-T7', 'FT10-T8', '-', 'F4-C4'], 'Start Time': '02:46:04', 'End Time': '3:46:04', 'Seizures Window': []}, 'chb22_30': {'Channels': ['P8-O2', 'T7-P7', 'FP1-F3', 'P7-O1', 'F3-C3', 'CZ-PZ', 'F8-T8', 'P4-O2', 'T8-P8', 'C4-P4', 'T7-FT9', 'C3-P3', 'FZ-CZ', 'F7-T7', 'FP2-F4', 'FT9-FT10', 'FP2-F8', 'FP1-F7', 'P3-O1', 'P7-T7', 'FT10-T8', '-', 'F4-C4'], 'Start Time': '03:46:11', 'End Time': '4:46:11', 'Seizures Window': []}, 'chb22_38': {'Channels': ['P8-O2', 'T7-P7', 'FP1-F3', 'P7-O1', 'F3-C3', 'CZ-PZ', 'F8-T8', 'P4-O2', 'T8-P8', 'C4-P4', 'T7-FT9', 'C3-P3', 'FZ-CZ', 'F7-T7', 'FP2-F4', 'FT9-FT10', 'FP2-F8', 'FP1-F7', 'P3-O1', 'P7-T7', 'FT10-T8', '-', 'F4-C4'], 'Start Time': '11:47:09', 'End Time': '12:47:09', 'Seizures Window': [1263, 1335]}, 'chb22_51': {'Channels': ['P8-O2', 'T7-P7', 'FP1-F3', 'P7-O1', 'F3-C3', 'CZ-PZ', 'F8-T8', 'P4-O2', 'T8-P8', 'C4-P4', 'T7-FT9', 'C3-P3', 'FZ-CZ', 'F7-T7', 'FP2-F4', 'FT9-FT10', 'FP2-F8', 'FP1-F7', 'P3-O1', 'P7-T7', 'FT10-T8', '-', 'F4-C4'], 'Start Time': '01:03:25', 'End Time': '2:03:25', 'Seizures Window': []}, 'chb22_54': {'Channels': ['P8-O2', 'T7-P7', 'FP1-F3', 'P7-O1', 'F3-C3', 'CZ-PZ', 'F8-T8', 'P4-O2', 'T8-P8', 'C4-P4', 'T7-FT9', 'C3-P3', 'FZ-CZ', 'F7-T7', 'FP2-F4', 'FT9-FT10', 'FP2-F8', 'FP1-F7', 'P3-O1', 'P7-T7', 'FT10-T8', '-', 'F4-C4'], 'Start Time': '04:03:46', 'End Time': '5:03:46', 'Seizures Window': []}, 'chb22_77': {'Channels': ['P8-O2', 'T7-P7', 'FP1-F3', 'P7-O1', 'F3-C3', 'CZ-PZ', 'F8-T8', 'P4-O2', 'T8-P8', 'C4-P4', 'T7-FT9', 'C3-P3', 'FZ-CZ', 'F7-T7', 'FP2-F4', 'FT9-FT10', 'FP2-F8', 'FP1-F7', 'P3-O1', 'P7-T7', 'FT10-T8', '-', 'F4-C4'], 'Start Time': '01:33:40', 'End Time': '2:33:40', 'Seizures Window': []}, 'chb23_06': {'Channels': ['P8-O2', 'T7-P7', 'FP1-F3', 'P7-O1', 'F3-C3', 'CZ-PZ', 'F8-T8', 'P4-O2', 'T8-P8', 'C4-P4', 'T7-FT9', 'C3-P3', 'FZ-CZ', 'F7-T7', 'FP2-F4', 'FT9-FT10', 'FP2-F8', 'FP1-F7', 'P3-O1', 'P7-T7', 'FT10-T8', 'F4-C4'], 'Start Time': '08:57:57', 'End Time': '11:02:43', 'Seizures Window': [3962, 4075]}, 'chb23_07': {'Channels': ['P8-O2', 'T7-P7', 'FP1-F3', 'P7-O1', 'F3-C3', 'CZ-PZ', 'F8-T8', 'P4-O2', 'T8-P8', 'C4-P4', 'T7-FT9', 'C3-P3', 'FZ-CZ', 'F7-T7', 'FP2-F4', 'FT9-FT10', 'FP2-F8', 'FP1-F7', 'P3-O1', 'P7-T7', 'FT10-T8', 'F4-C4'], 'Start Time': '11:03:16', 'End Time': '11:45:56', 'Seizures Window': []}, 'chb23_08': {'Channels': ['P8-O2', 'T7-P7', 'FP1-F3', 'P7-O1', 'F3-C3', 'CZ-PZ', 'F8-T8', 'P4-O2', 'T8-P8', 'C4-P4', 'T7-FT9', 'C3-P3', 'FZ-CZ', 'F7-T7', 'FP2-F4', 'FT9-FT10', 'FP2-F8', 'FP1-F7', 'P3-O1', 'P7-T7', 'FT10-T8', 'F4-C4'], 'Start Time': '11:48:05', 'End Time': '14:40:27', 'Seizures Window': [325, 345, 5104, 5151]}, 'chb23_09': {'Channels': ['P8-O2', 'T7-P7', 'FP1-F3', 'P7-O1', 'F3-C3', 'CZ-PZ', 'F8-T8', 'P4-O2', 'T8-P8', 'C4-P4', 'T7-FT9', 'C3-P3', 'FZ-CZ', 'F7-T7', 'FP2-F4', 'FT9-FT10', 'FP2-F8', 'FP1-F7', 'P3-O1', 'P7-T7', 'FT10-T8', 'F4-C4'], 'Start Time': '14:40:47', 'End Time': '18:41:13', 'Seizures Window': [2589, 2660, 6885, 6947, 8505, 8532, 9580, 9664]}, 'chb23_10': {'Channels': ['P8-O2', 'T7-P7', 'FP1-F3', 'P7-O1', 'F3-C3', 'CZ-PZ', 'F8-T8', 'P4-O2', 'T8-P8', 'C4-P4', 'T7-FT9', 'C3-P3', 'FZ-CZ', 'F7-T7', 'FP2-F4', 'FT9-FT10', 'FP2-F8', 'FP1-F7', 'P3-O1', 'P7-T7', 'FT10-T8', 'F4-C4'], 'Start Time': '18:41:40', 'End Time': '22:41:40', 'Seizures Window': []}, 'chb23_16': {'Channels': ['P8-O2', 'T7-P7', 'FP1-F3', 'P7-O1', 'F3-C3', 'CZ-PZ', 'F8-T8', 'P4-O2', 'T8-P8', 'C4-P4', 'T7-FT9', 'C3-P3', 'FZ-CZ', 'F7-T7', 'FP2-F4', 'FT9-FT10', 'FP2-F8', 'FP1-F7', 'P3-O1', 'P7-T7', 'FT10-T8', 'F4-C4'], 'Start Time': '13:46:32', 'End Time': '17:46:32', 'Seizures Window': []}, 'chb23_17': {'Channels': ['P8-O2', 'T7-P7', 'FP1-F3', 'P7-O1', 'F3-C3', 'CZ-PZ', 'F8-T8', 'P4-O2', 'T8-P8', 'C4-P4', 'T7-FT9', 'C3-P3', 'FZ-CZ', 'F7-T7', 'FP2-F4', 'FT9-FT10', 'FP2-F8', 'FP1-F7', 'P3-O1', 'P7-T7', 'FT10-T8', 'F4-C4'], 'Start Time': '17:46:42', 'End Time': '21:16:29', 'Seizures Window': []}, 'chb23_19': {'Channels': ['P8-O2', 'T7-P7', 'FP1-F3', 'P7-O1', 'F3-C3', 'CZ-PZ', 'F8-T8', 'P4-O2', 'T8-P8', 'C4-P4', 'T7-FT9', 'C3-P3', 'FZ-CZ', 'F7-T7', 'FP2-F4', 'FT9-FT10', 'FP2-F8', 'FP1-F7', 'P3-O1', 'P7-T7', 'FT10-T8', 'F4-C4'], 'Start Time': '02:28:28', 'End Time': '6:28:28', 'Seizures Window': []}, 'chb23_20': {'Channels': ['P8-O2', 'T7-P7', 'FP1-F3', 'P7-O1', 'F3-C3', 'CZ-PZ', 'F8-T8', 'P4-O2', 'T8-P8', 'C4-P4', 'T7-FT9', 'C3-P3', 'FZ-CZ', 'F7-T7', 'FP2-F4', 'FT9-FT10', 'FP2-F8', 'FP1-F7', 'P3-O1', 'P7-T7', 'FT10-T8', 'F4-C4'], 'Start Time': '06:28:36', 'End Time': '7:52:05', 'Seizures Window': []}, 'chb24_01': {'Channels': ['P8-O2', 'T7-P7', 'FP1-F3', 'P7-O1', 'F3-C3', 'CZ-PZ', 'F8-T8', 'P4-O2', 'T8-P8', 'C4-P4', 'T7-FT9', 'C3-P3', 'FZ-CZ', 'F7-T7', 'FP2-F4', 'FT9-FT10', 'FP2-F8', 'FP1-F7', 'P3-O1', 'P7-T7', 'FT10-T8', 'F4-C4'], 'Start Time': '', 'End Time': '', 'Seizures Window': [480, 505, 2451, 2476]}, 'chb24_03': {'Channels': ['P8-O2', 'T7-P7', 'FP1-F3', 'P7-O1', 'F3-C3', 'CZ-PZ', 'F8-T8', 'P4-O2', 'T8-P8', 'C4-P4', 'T7-FT9', 'C3-P3', 'FZ-CZ', 'F7-T7', 'FP2-F4', 'FT9-FT10', 'FP2-F8', 'FP1-F7', 'P3-O1', 'P7-T7', 'FT10-T8', 'F4-C4'], 'Start Time': '', 'End Time': '', 'Seizures Window': [231, 260, 2883, 2908]}, 'chb24_04': {'Channels': ['P8-O2', 'T7-P7', 'FP1-F3', 'P7-O1', 'F3-C3', 'CZ-PZ', 'F8-T8', 'P4-O2', 'T8-P8', 'C4-P4', 'T7-FT9', 'C3-P3', 'FZ-CZ', 'F7-T7', 'FP2-F4', 'FT9-FT10', 'FP2-F8', 'FP1-F7', 'P3-O1', 'P7-T7', 'FT10-T8', 'F4-C4'], 'Start Time': '', 'End Time': '', 'Seizures Window': [1088, 1120, 1411, 1438, 1745, 1764]}, 'chb24_06': {'Channels': ['P8-O2', 'T7-P7', 'FP1-F3', 'P7-O1', 'F3-C3', 'CZ-PZ', 'F8-T8', 'P4-O2', 'T8-P8', 'C4-P4', 'T7-FT9', 'C3-P3', 'FZ-CZ', 'F7-T7', 'FP2-F4', 'FT9-FT10', 'FP2-F8', 'FP1-F7', 'P3-O1', 'P7-T7', 'FT10-T8', 'F4-C4'], 'Start Time': '', 'End Time': '', 'Seizures Window': [1229, 1253]}, 'chb24_07': {'Channels': ['P8-O2', 'T7-P7', 'FP1-F3', 'P7-O1', 'F3-C3', 'CZ-PZ', 'F8-T8', 'P4-O2', 'T8-P8', 'C4-P4', 'T7-FT9', 'C3-P3', 'FZ-CZ', 'F7-T7', 'FP2-F4', 'FT9-FT10', 'FP2-F8', 'FP1-F7', 'P3-O1', 'P7-T7', 'FT10-T8', 'F4-C4'], 'Start Time': '', 'End Time': '', 'Seizures Window': [38, 60]}, 'chb24_09': {'Channels': ['P8-O2', 'T7-P7', 'FP1-F3', 'P7-O1', 'F3-C3', 'CZ-PZ', 'F8-T8', 'P4-O2', 'T8-P8', 'C4-P4', 'T7-FT9', 'C3-P3', 'FZ-CZ', 'F7-T7', 'FP2-F4', 'FT9-FT10', 'FP2-F8', 'FP1-F7', 'P3-O1', 'P7-T7', 'FT10-T8', 'F4-C4'], 'Start Time': '', 'End Time': '', 'Seizures Window': [1745, 1764]}, 'chb24_11': {'Channels': ['P8-O2', 'T7-P7', 'FP1-F3', 'P7-O1', 'F3-C3', 'CZ-PZ', 'F8-T8', 'P4-O2', 'T8-P8', 'C4-P4', 'T7-FT9', 'C3-P3', 'FZ-CZ', 'F7-T7', 'FP2-F4', 'FT9-FT10', 'FP2-F8', 'FP1-F7', 'P3-O1', 'P7-T7', 'FT10-T8', 'F4-C4'], 'Start Time': '', 'End Time': '', 'Seizures Window': [3527, 3597]}, 'chb24_13': {'Channels': ['P8-O2', 'T7-P7', 'FP1-F3', 'P7-O1', 'F3-C3', 'CZ-PZ', 'F8-T8', 'P4-O2', 'T8-P8', 'C4-P4', 'T7-FT9', 'C3-P3', 'FZ-CZ', 'F7-T7', 'FP2-F4', 'FT9-FT10', 'FP2-F8', 'FP1-F7', 'P3-O1', 'P7-T7', 'FT10-T8', 'F4-C4'], 'Start Time': '', 'End Time': '', 'Seizures Window': [3288, 3304]}, 'chb24_14': {'Channels': ['P8-O2', 'T7-P7', 'FP1-F3', 'P7-O1', 'F3-C3', 'CZ-PZ', 'F8-T8', 'P4-O2', 'T8-P8', 'C4-P4', 'T7-FT9', 'C3-P3', 'FZ-CZ', 'F7-T7', 'FP2-F4', 'FT9-FT10', 'FP2-F8', 'FP1-F7', 'P3-O1', 'P7-T7', 'FT10-T8', 'F4-C4'], 'Start Time': '', 'End Time': '', 'Seizures Window': [1939, 1966]}, 'chb24_15': {'Channels': ['P8-O2', 'T7-P7', 'FP1-F3', 'P7-O1', 'F3-C3', 'CZ-PZ', 'F8-T8', 'P4-O2', 'T8-P8', 'C4-P4', 'T7-FT9', 'C3-P3', 'FZ-CZ', 'F7-T7', 'FP2-F4', 'FT9-FT10', 'FP2-F8', 'FP1-F7', 'P3-O1', 'P7-T7', 'FT10-T8', 'F4-C4'], 'Start Time': '', 'End Time': '', 'Seizures Window': [3552, 3569]}, 'chb24_17': {'Channels': ['P8-O2', 'T7-P7', 'FP1-F3', 'P7-O1', 'F3-C3', 'CZ-PZ', 'F8-T8', 'P4-O2', 'T8-P8', 'C4-P4', 'T7-FT9', 'C3-P3', 'FZ-CZ', 'F7-T7', 'FP2-F4', 'FT9-FT10', 'FP2-F8', 'FP1-F7', 'P3-O1', 'P7-T7', 'FT10-T8', 'F4-C4'], 'Start Time': '', 'End Time': '', 'Seizures Window': [3515, 3581]}, 'chb24_21': {'Channels': ['P8-O2', 'T7-P7', 'FP1-F3', 'P7-O1', 'F3-C3', 'CZ-PZ', 'F8-T8', 'P4-O2', 'T8-P8', 'C4-P4', 'T7-FT9', 'C3-P3', 'FZ-CZ', 'F7-T7', 'FP2-F4', 'FT9-FT10', 'FP2-F8', 'FP1-F7', 'P3-O1', 'P7-T7', 'FT10-T8', 'F4-C4'], 'Start Time': '', 'End Time': '', 'Seizures Window': [2804, 2872]}}\n"
          ],
          "name": "stdout"
        }
      ]
    },
    {
      "cell_type": "code",
      "metadata": {
        "colab_type": "code",
        "id": "laJzQWjrOQXK",
        "colab": {
          "base_uri": "https://localhost:8080/",
          "height": 54
        },
        "outputId": "853d6bca-191e-4ef3-8663-eb7546d86d82"
      },
      "source": [
        "print(part_info_dict['chb01_01'])"
      ],
      "execution_count": null,
      "outputs": [
        {
          "output_type": "stream",
          "text": [
            "{'Channels': ['P8-O2', 'T7-P7', 'FP1-F3', 'P7-O1', 'F3-C3', 'CZ-PZ', 'F8-T8', 'P4-O2', 'T8-P8', 'C4-P4', 'T7-FT9', 'C3-P3', 'FZ-CZ', 'F7-T7', 'FP2-F4', 'FT9-FT10', 'FP2-F8', 'FP1-F7', 'P3-O1', 'P7-T7', 'FT10-T8', 'F4-C4'], 'Start Time': '11:42:54', 'End Time': '12:42:54', 'Seizures Window': []}\n"
          ],
          "name": "stdout"
        }
      ]
    },
    {
      "cell_type": "code",
      "metadata": {
        "colab_type": "code",
        "id": "5Ytw9DpgOwx8",
        "colab": {
          "base_uri": "https://localhost:8080/",
          "height": 34
        },
        "outputId": "ee2ad971-4491-4e89-c355-79e71cddbc4c"
      },
      "source": [
        "print(part_info_dict['chb01_03']['Seizures Window'])"
      ],
      "execution_count": null,
      "outputs": [
        {
          "output_type": "stream",
          "text": [
            "[2996, 3036]\n"
          ],
          "name": "stdout"
        }
      ]
    },
    {
      "cell_type": "markdown",
      "metadata": {
        "colab_type": "text",
        "id": "Vli4ucygg2aM"
      },
      "source": [
        "**seizure list**"
      ]
    },
    {
      "cell_type": "code",
      "metadata": {
        "colab_type": "code",
        "id": "B092zFnQ-F-0",
        "colab": {
          "base_uri": "https://localhost:8080/",
          "height": 90
        },
        "outputId": "d38008fb-483d-4463-db3d-ae952da60ab4"
      },
      "source": [
        "files_with_seizures = []\n",
        "for file_id in part_info_dict:\n",
        "    # if there is something in the seizure window\n",
        "    if part_info_dict[file_id]['Seizures Window']:\n",
        "        files_with_seizures.append(file_id)\n",
        "print(files_with_seizures)\n",
        "files_with_seizures.remove('chb02_16')\n",
        "print(files_with_seizures)\n",
        "print(files_with_seizures[0:5])"
      ],
      "execution_count": null,
      "outputs": [
        {
          "output_type": "stream",
          "text": [
            "['chb01_03', 'chb01_04', 'chb01_15', 'chb01_16', 'chb01_18', 'chb01_21', 'chb01_26', 'chb02_16', 'chb02_19', 'chb03_01', 'chb03_02', 'chb03_03', 'chb03_04', 'chb03_34', 'chb03_35', 'chb03_36', 'chb04_05', 'chb04_08', 'chb04_28', 'chb05_06', 'chb05_13', 'chb05_16', 'chb05_17', 'chb05_22', 'chb06_01', 'chb06_04', 'chb06_09', 'chb06_10', 'chb06_13', 'chb06_18', 'chb06_24', 'chb07_12', 'chb07_13', 'chb07_19', 'chb08_02', 'chb08_05', 'chb08_11', 'chb08_13', 'chb08_21', 'chb09_06', 'chb09_08', 'chb09_19', 'chb10_12', 'chb10_20', 'chb10_27', 'chb10_30', 'chb10_31', 'chb10_38', 'chb10_89', 'chb11_82', 'chb11_92', 'chb11_99', 'chb12_06', 'chb12_08', 'chb12_09', 'chb12_10', 'chb12_11', 'chb12_23', 'chb12_27', 'chb12_28', 'chb12_29', 'chb12_33', 'chb12_36', 'chb12_38', 'chb12_42', 'chb13_19', 'chb13_21', 'chb13_40', 'chb13_55', 'chb13_58', 'chb13_59', 'chb13_60', 'chb13_62', 'chb14_03', 'chb14_04', 'chb14_06', 'chb14_11', 'chb14_17', 'chb14_18', 'chb14_27', 'chb15_06', 'chb15_10', 'chb15_15', 'chb15_17', 'chb15_20', 'chb15_22', 'chb15_28', 'chb15_31', 'chb15_40', 'chb15_46', 'chb15_49', 'chb15_52', 'chb15_54', 'chb15_62', 'chb16_10', 'chb16_11', 'chb16_14', 'chb16_16', 'chb16_17', 'chb16_18', 'chb17a_03', 'chb17a_04', 'chb17b_63', 'chb18_29', 'chb18_30', 'chb18_31', 'chb18_32', 'chb18_35', 'chb18_36', 'chb19_28', 'chb19_29', 'chb19_30', 'chb20_12', 'chb20_13', 'chb20_14', 'chb20_15', 'chb20_16', 'chb20_68', 'chb21_19', 'chb21_20', 'chb21_21', 'chb21_22', 'chb22_20', 'chb22_25', 'chb22_38', 'chb23_06', 'chb23_08', 'chb23_09', 'chb24_01', 'chb24_03', 'chb24_04', 'chb24_06', 'chb24_07', 'chb24_09', 'chb24_11', 'chb24_13', 'chb24_14', 'chb24_15', 'chb24_17', 'chb24_21']\n",
            "['chb01_03', 'chb01_04', 'chb01_15', 'chb01_16', 'chb01_18', 'chb01_21', 'chb01_26', 'chb02_19', 'chb03_01', 'chb03_02', 'chb03_03', 'chb03_04', 'chb03_34', 'chb03_35', 'chb03_36', 'chb04_05', 'chb04_08', 'chb04_28', 'chb05_06', 'chb05_13', 'chb05_16', 'chb05_17', 'chb05_22', 'chb06_01', 'chb06_04', 'chb06_09', 'chb06_10', 'chb06_13', 'chb06_18', 'chb06_24', 'chb07_12', 'chb07_13', 'chb07_19', 'chb08_02', 'chb08_05', 'chb08_11', 'chb08_13', 'chb08_21', 'chb09_06', 'chb09_08', 'chb09_19', 'chb10_12', 'chb10_20', 'chb10_27', 'chb10_30', 'chb10_31', 'chb10_38', 'chb10_89', 'chb11_82', 'chb11_92', 'chb11_99', 'chb12_06', 'chb12_08', 'chb12_09', 'chb12_10', 'chb12_11', 'chb12_23', 'chb12_27', 'chb12_28', 'chb12_29', 'chb12_33', 'chb12_36', 'chb12_38', 'chb12_42', 'chb13_19', 'chb13_21', 'chb13_40', 'chb13_55', 'chb13_58', 'chb13_59', 'chb13_60', 'chb13_62', 'chb14_03', 'chb14_04', 'chb14_06', 'chb14_11', 'chb14_17', 'chb14_18', 'chb14_27', 'chb15_06', 'chb15_10', 'chb15_15', 'chb15_17', 'chb15_20', 'chb15_22', 'chb15_28', 'chb15_31', 'chb15_40', 'chb15_46', 'chb15_49', 'chb15_52', 'chb15_54', 'chb15_62', 'chb16_10', 'chb16_11', 'chb16_14', 'chb16_16', 'chb16_17', 'chb16_18', 'chb17a_03', 'chb17a_04', 'chb17b_63', 'chb18_29', 'chb18_30', 'chb18_31', 'chb18_32', 'chb18_35', 'chb18_36', 'chb19_28', 'chb19_29', 'chb19_30', 'chb20_12', 'chb20_13', 'chb20_14', 'chb20_15', 'chb20_16', 'chb20_68', 'chb21_19', 'chb21_20', 'chb21_21', 'chb21_22', 'chb22_20', 'chb22_25', 'chb22_38', 'chb23_06', 'chb23_08', 'chb23_09', 'chb24_01', 'chb24_03', 'chb24_04', 'chb24_06', 'chb24_07', 'chb24_09', 'chb24_11', 'chb24_13', 'chb24_14', 'chb24_15', 'chb24_17', 'chb24_21']\n",
            "['chb01_03', 'chb01_04', 'chb01_15', 'chb01_16', 'chb01_18']\n"
          ],
          "name": "stdout"
        }
      ]
    },
    {
      "cell_type": "code",
      "metadata": {
        "colab_type": "code",
        "id": "bXDdWgp_obdS",
        "colab": {
          "base_uri": "https://localhost:8080/",
          "height": 34
        },
        "outputId": "34d8ca1f-f4e1-40d6-c8ef-543453814a45"
      },
      "source": [
        "s=files_with_seizures[0:5]\n",
        "print(s[0][0:5])"
      ],
      "execution_count": null,
      "outputs": [
        {
          "output_type": "stream",
          "text": [
            "chb01\n"
          ],
          "name": "stdout"
        }
      ]
    },
    {
      "cell_type": "markdown",
      "metadata": {
        "colab_type": "text",
        "id": "uMrK_ciTgxo9"
      },
      "source": [
        "**non-seizure list**"
      ]
    },
    {
      "cell_type": "code",
      "metadata": {
        "colab_type": "code",
        "id": "eiMUfdSqNb3a",
        "colab": {
          "base_uri": "https://localhost:8080/",
          "height": 54
        },
        "outputId": "3e6f7469-c6bb-4f88-b7c8-497a6690fca7"
      },
      "source": [
        "files_with_nonseizures = []\n",
        "for file_id in part_info_dict:\n",
        "    # if there is nothing in the seizure window\n",
        "    if not part_info_dict[file_id]['Seizures Window']:\n",
        "        files_with_nonseizures.append(file_id)\n",
        "print(files_with_nonseizures)"
      ],
      "execution_count": null,
      "outputs": [
        {
          "output_type": "stream",
          "text": [
            "['chb01_01', 'chb01_02', 'chb01_05', 'chb01_06', 'chb01_07', 'chb01_08', 'chb01_09', 'chb01_10', 'chb01_11', 'chb01_12', 'chb01_13', 'chb01_14', 'chb01_17', 'chb01_19', 'chb01_20', 'chb01_22', 'chb01_23', 'chb01_24', 'chb01_25', 'chb01_27', 'chb01_29', 'chb01_30', 'chb01_31', 'chb01_32', 'chb01_33', 'chb01_34', 'chb01_36', 'chb01_37', 'chb01_38', 'chb01_39', 'chb01_40', 'chb01_41', 'chb01_42', 'chb01_43', 'chb01_46', 'chb02_01', 'chb02_02', 'chb02_03', 'chb02_04', 'chb02_05', 'chb02_06', 'chb02_07', 'chb02_08', 'chb02_09', 'chb02_10', 'chb02_11', 'chb02_12', 'chb02_13', 'chb02_14', 'chb02_15', 'chb02_17', 'chb02_18', 'chb02_20', 'chb02_21', 'chb02_22', 'chb02_23', 'chb02_24', 'chb02_25', 'chb02_26', 'chb02_27', 'chb02_28', 'chb02_29', 'chb02_30', 'chb02_31', 'chb02_32', 'chb02_33', 'chb02_34', 'chb02_35', 'chb03_05', 'chb03_06', 'chb03_07', 'chb03_08', 'chb03_09', 'chb03_10', 'chb03_11', 'chb03_12', 'chb03_13', 'chb03_14', 'chb03_15', 'chb03_16', 'chb03_17', 'chb03_18', 'chb03_19', 'chb03_20', 'chb03_21', 'chb03_22', 'chb03_23', 'chb03_24', 'chb03_25', 'chb03_26', 'chb03_27', 'chb03_28', 'chb03_29', 'chb03_30', 'chb03_31', 'chb03_32', 'chb03_33', 'chb03_37', 'chb03_38', 'chb04_01', 'chb04_02', 'chb04_03', 'chb04_04', 'chb04_06', 'chb04_07', 'chb04_09', 'chb04_10', 'chb04_11', 'chb04_12', 'chb04_13', 'chb04_14', 'chb04_15', 'chb04_16', 'chb04_17', 'chb04_18', 'chb04_19', 'chb04_21', 'chb04_22', 'chb04_23', 'chb04_24', 'chb04_25', 'chb04_26', 'chb04_27', 'chb04_29', 'chb04_30', 'chb04_31', 'chb04_32', 'chb04_33', 'chb04_34', 'chb04_35', 'chb04_36', 'chb04_37', 'chb04_38', 'chb04_39', 'chb04_40', 'chb04_41', 'chb04_42', 'chb04_43', 'chb05_01', 'chb05_02', 'chb05_03', 'chb05_04', 'chb05_05', 'chb05_07', 'chb05_08', 'chb05_09', 'chb05_10', 'chb05_11', 'chb05_12', 'chb05_14', 'chb05_15', 'chb05_18', 'chb05_19', 'chb05_20', 'chb05_21', 'chb05_23', 'chb05_24', 'chb05_25', 'chb05_26', 'chb05_27', 'chb05_28', 'chb05_29', 'chb05_30', 'chb05_31', 'chb05_32', 'chb05_33', 'chb05_34', 'chb05_35', 'chb05_36', 'chb05_37', 'chb05_38', 'chb05_39', 'chb06_02', 'chb06_03', 'chb06_05', 'chb06_06', 'chb06_07', 'chb06_08', 'chb06_12', 'chb06_14', 'chb06_15', 'chb06_16', 'chb06_17', 'chb07_01', 'chb07_02', 'chb07_03', 'chb07_04', 'chb07_05', 'chb07_06', 'chb07_07', 'chb07_08', 'chb07_09', 'chb07_10', 'chb07_11', 'chb07_14', 'chb07_15', 'chb07_16', 'chb07_17', 'chb07_18', 'chb08_03', 'chb08_04', 'chb08_10', 'chb08_12', 'chb08_14', 'chb08_15', 'chb08_16', 'chb08_17', 'chb08_18', 'chb08_19', 'chb08_20', 'chb08_22', 'chb08_23', 'chb08_24', 'chb08_29', 'chb09_01', 'chb09_02', 'chb09_03', 'chb09_04', 'chb09_05', 'chb09_07', 'chb09_09', 'chb09_10', 'chb09_11', 'chb09_12', 'chb09_13', 'chb09_14', 'chb09_15', 'chb09_16', 'chb09_17', 'chb09_18', 'chb10_01', 'chb10_02', 'chb10_03', 'chb10_04', 'chb10_05', 'chb10_06', 'chb10_07', 'chb10_08', 'chb10_13', 'chb10_14', 'chb10_15', 'chb10_16', 'chb10_17', 'chb10_18', 'chb10_19', 'chb10_21', 'chb10_22', 'chb10_28', 'chb11_01', 'chb11_02', 'chb11_03', 'chb11_04', 'chb11_05', 'chb11_06', 'chb11_07', 'chb11_08', 'chb11_09', 'chb11_10', 'chb11_11', 'chb11_12', 'chb11_13', 'chb11_14', 'chb11_15', 'chb11_16', 'chb11_17', 'chb11_18', 'chb11_19', 'chb11_24', 'chb11_25', 'chb11_26', 'chb11_27', 'chb11_53', 'chb11_54', 'chb11_55', 'chb11_56', 'chb11_58', 'chb11_60', 'chb11_61', 'chb11_62', 'chb11_63', 'chb12_19', 'chb12_20', 'chb12_21', 'chb12_24', 'chb12_32', 'chb12_34', 'chb12_35', 'chb12_37', 'chb12_39', 'chb12_40', 'chb12_41', 'chb13_02', 'chb13_03', 'chb13_04', 'chb13_05', 'chb13_06', 'chb13_07', 'chb13_08', 'chb13_09', 'chb13_10', 'chb13_11', 'chb13_12', 'chb13_13', 'chb13_14', 'chb13_15', 'chb13_16', 'chb13_18', 'chb13_22', 'chb13_24', 'chb13_30', 'chb13_36', 'chb13_37', 'chb13_38', 'chb13_39', 'chb13_47', 'chb13_56', 'chb14_01', 'chb14_02', 'chb14_07', 'chb14_12', 'chb14_13', 'chb14_14', 'chb14_16', 'chb14_19', 'chb14_20', 'chb14_22', 'chb14_24', 'chb14_25', 'chb14_26', 'chb14_29', 'chb14_30', 'chb14_32', 'chb14_37', 'chb14_39', 'chb14_42', 'chb15_01', 'chb15_02', 'chb15_03', 'chb15_04', 'chb15_05', 'chb15_07', 'chb15_08', 'chb15_09', 'chb15_11', 'chb15_12', 'chb15_13', 'chb15_14', 'chb15_16', 'chb15_19', 'chb15_26', 'chb15_29', 'chb15_30', 'chb15_32', 'chb15_33', 'chb15_35', 'chb15_37', 'chb15_45', 'chb15_50', 'chb15_51', 'chb15_61', 'chb15_63', 'chb16_01', 'chb16_02', 'chb16_03', 'chb16_04', 'chb16_05', 'chb16_06', 'chb16_07', 'chb16_08', 'chb16_09', 'chb16_12', 'chb16_13', 'chb16_15', 'chb16_19', 'chb17a_05', 'chb17a_06', 'chb17a_08', 'chb17b_57', 'chb17b_58', 'chb17b_59', 'chb17b_60', 'chb17b_67', 'chb17b_68', 'chb17b_69', 'chb17c_02', 'chb17c_03', 'chb17c_04', 'chb17c_05', 'chb17c_06', 'chb17c_07', 'chb17c_08', 'chb17c_13', 'chb18_01', 'chb18_02', 'chb18_03', 'chb18_04', 'chb18_05', 'chb18_06', 'chb18_07', 'chb18_08', 'chb18_09', 'chb18_10', 'chb18_11', 'chb18_12', 'chb18_13', 'chb18_14', 'chb18_15', 'chb18_16', 'chb18_17', 'chb18_18', 'chb18_19', 'chb18_20', 'chb18_21', 'chb18_22', 'chb18_23', 'chb18_24', 'chb18_25', 'chb18_26', 'chb18_27', 'chb18_28', 'chb18_33', 'chb18_34', 'chb19_01', 'chb19_02', 'chb19_03', 'chb19_04', 'chb19_05', 'chb19_06', 'chb19_07', 'chb19_08', 'chb19_09', 'chb19_10', 'chb19_11', 'chb19_12', 'chb19_13', 'chb19_14', 'chb19_15', 'chb19_16', 'chb19_17', 'chb19_18', 'chb19_19', 'chb19_20', 'chb19_21', 'chb19_22', 'chb19_23', 'chb19_24', 'chb19_25', 'chb19_26', 'chb19_27', 'chb20_01', 'chb20_02', 'chb20_03', 'chb20_04', 'chb20_05', 'chb20_06', 'chb20_07', 'chb20_08', 'chb20_11', 'chb20_17', 'chb20_21', 'chb20_22', 'chb20_23', 'chb20_25', 'chb20_26', 'chb20_27', 'chb20_28', 'chb20_29', 'chb20_30', 'chb20_31', 'chb20_34', 'chb20_59', 'chb20_60', 'chb21_01', 'chb21_02', 'chb21_03', 'chb21_04', 'chb21_05', 'chb21_06', 'chb21_07', 'chb21_08', 'chb21_09', 'chb21_10', 'chb21_11', 'chb21_12', 'chb21_13', 'chb21_14', 'chb21_15', 'chb21_16', 'chb21_17', 'chb21_18', 'chb21_23', 'chb21_24', 'chb21_25', 'chb21_26', 'chb21_27', 'chb21_28', 'chb21_29', 'chb21_30', 'chb21_31', 'chb21_32', 'chb21_33', 'chb22_01', 'chb22_02', 'chb22_03', 'chb22_04', 'chb22_05', 'chb22_06', 'chb22_07', 'chb22_08', 'chb22_09', 'chb22_10', 'chb22_11', 'chb22_15', 'chb22_16', 'chb22_17', 'chb22_18', 'chb22_19', 'chb22_21', 'chb22_22', 'chb22_23', 'chb22_24', 'chb22_26', 'chb22_27', 'chb22_28', 'chb22_29', 'chb22_30', 'chb22_51', 'chb22_54', 'chb22_77', 'chb23_07', 'chb23_10', 'chb23_16', 'chb23_17', 'chb23_19', 'chb23_20']\n"
          ],
          "name": "stdout"
        }
      ]
    },
    {
      "cell_type": "code",
      "metadata": {
        "colab_type": "code",
        "id": "ZEQuBECAzx8t",
        "colab": {
          "base_uri": "https://localhost:8080/",
          "height": 52
        },
        "outputId": "2935bef4-7ad4-4eaf-8e54-1b7c60149a7f"
      },
      "source": [
        "print(len(files_with_seizures))\n",
        "print(len(files_with_nonseizures))"
      ],
      "execution_count": null,
      "outputs": [
        {
          "output_type": "stream",
          "text": [
            "139\n",
            "535\n"
          ],
          "name": "stdout"
        }
      ]
    },
    {
      "cell_type": "markdown",
      "metadata": {
        "colab_type": "text",
        "id": "I-nPbqB3RpVY"
      },
      "source": [
        ""
      ]
    },
    {
      "cell_type": "code",
      "metadata": {
        "colab_type": "code",
        "id": "RrcFUfUK-F4T",
        "colab": {
          "base_uri": "https://localhost:8080/",
          "height": 504
        },
        "outputId": "925a0670-2aa5-45cd-9edd-5ef3cec7a5b3"
      },
      "source": [
        "%%time\n",
        "import pandas as pd\n",
        "import numpy as np\n",
        "import pyedflib\n",
        "\n",
        "def data_load(file):\n",
        "\n",
        "  try: \n",
        "    url = \"https://physionet.org/physiobank/database/chbmit/\"+file\n",
        "    filename = \"./chbmit.edf\"\n",
        "\n",
        "    urlretrieve(url,filename)\n",
        "    # use the reader to get an EdfReader file\n",
        "    f = pyedflib.EdfReader(filename)\n",
        "    os.remove(filename)\n",
        "    \n",
        "    # get a list of the EEG channels\n",
        "    selected_channels=['FP1-F7', 'F7-T7', 'T7-P7', 'P7-O1','FP1-F3','F3-C3','C3-P3','P3-O1', 'FP2-F4', 'F4-C4', 'C4-P4', 'P4-O2', 'FP2-F8', 'F8-T8' ,'T8-P8' ,'P8-O2', 'FZ-CZ', 'CZ-PZ', 'P7-T7', 'T7-FT9', 'FT9-FT10', 'FT10-T8','T8-P8']\n",
        "    # get the names of the signals\n",
        "    channel_names = f.getSignalLabels()\n",
        "    # get the sampling frequencies of each signal\n",
        "    channel_freq = f.getSampleFrequencies()\n",
        "\n",
        "    # make an empty file of 0's\n",
        "    sigbufs = np.zeros((f.getNSamples()[0],len(selected_channels)))\n",
        "    # for each of the channels in the selected channels\n",
        "    for i, channel in enumerate(selected_channels):\n",
        "      # add the channel data into the array\n",
        "      sigbufs[:, i] = f.readSignal(channel_names.index(channel))\n",
        "    \n",
        "    # turn to a pandas df and save a little space\n",
        "    df = pd.DataFrame(sigbufs, columns = selected_channels).astype('float32')\n",
        "    \n",
        "    # get equally increasing numbers upto the length of the data depending\n",
        "    # on the length of the data divided by the sampling frequency\n",
        "    index_increase = np.linspace(0,\n",
        "                                 len(df)/channel_freq[0],\n",
        "                                 len(df), endpoint=False)\n",
        "\n",
        "    # round these to the lowest nearest decimal to get the seconds\n",
        "    seconds = np.floor(index_increase).astype('uint16')\n",
        "\n",
        "    # make a column the timestamp\n",
        "    df['Time'] = seconds\n",
        "\n",
        "    # make the time stamp the index\n",
        "    df = df.set_index('Time')\n",
        "\n",
        "    # name the columns as channel\n",
        "    df.columns.name = 'Channel'\n",
        "\n",
        "    return df\n",
        "\n",
        "  except:\n",
        "    OSError\n",
        "    return pd.DataFrame(), None\n",
        "raw_data = data_load(records_list[17])\n",
        "display(raw_data)\n"
      ],
      "execution_count": null,
      "outputs": [
        {
          "output_type": "display_data",
          "data": {
            "text/html": [
              "<div>\n",
              "<style scoped>\n",
              "    .dataframe tbody tr th:only-of-type {\n",
              "        vertical-align: middle;\n",
              "    }\n",
              "\n",
              "    .dataframe tbody tr th {\n",
              "        vertical-align: top;\n",
              "    }\n",
              "\n",
              "    .dataframe thead th {\n",
              "        text-align: right;\n",
              "    }\n",
              "</style>\n",
              "<table border=\"1\" class=\"dataframe\">\n",
              "  <thead>\n",
              "    <tr style=\"text-align: right;\">\n",
              "      <th>Channel</th>\n",
              "      <th>FP1-F7</th>\n",
              "      <th>F7-T7</th>\n",
              "      <th>T7-P7</th>\n",
              "      <th>P7-O1</th>\n",
              "      <th>FP1-F3</th>\n",
              "      <th>F3-C3</th>\n",
              "      <th>C3-P3</th>\n",
              "      <th>P3-O1</th>\n",
              "      <th>FP2-F4</th>\n",
              "      <th>F4-C4</th>\n",
              "      <th>C4-P4</th>\n",
              "      <th>P4-O2</th>\n",
              "      <th>FP2-F8</th>\n",
              "      <th>F8-T8</th>\n",
              "      <th>T8-P8</th>\n",
              "      <th>P8-O2</th>\n",
              "      <th>FZ-CZ</th>\n",
              "      <th>CZ-PZ</th>\n",
              "      <th>P7-T7</th>\n",
              "      <th>T7-FT9</th>\n",
              "      <th>FT9-FT10</th>\n",
              "      <th>FT10-T8</th>\n",
              "      <th>T8-P8</th>\n",
              "    </tr>\n",
              "    <tr>\n",
              "      <th>Time</th>\n",
              "      <th></th>\n",
              "      <th></th>\n",
              "      <th></th>\n",
              "      <th></th>\n",
              "      <th></th>\n",
              "      <th></th>\n",
              "      <th></th>\n",
              "      <th></th>\n",
              "      <th></th>\n",
              "      <th></th>\n",
              "      <th></th>\n",
              "      <th></th>\n",
              "      <th></th>\n",
              "      <th></th>\n",
              "      <th></th>\n",
              "      <th></th>\n",
              "      <th></th>\n",
              "      <th></th>\n",
              "      <th></th>\n",
              "      <th></th>\n",
              "      <th></th>\n",
              "      <th></th>\n",
              "      <th></th>\n",
              "    </tr>\n",
              "  </thead>\n",
              "  <tbody>\n",
              "    <tr>\n",
              "      <th>0</th>\n",
              "      <td>35.360195</td>\n",
              "      <td>63.492062</td>\n",
              "      <td>-6.837607</td>\n",
              "      <td>16.214897</td>\n",
              "      <td>51.770451</td>\n",
              "      <td>11.916972</td>\n",
              "      <td>8.791209</td>\n",
              "      <td>35.750916</td>\n",
              "      <td>50.598289</td>\n",
              "      <td>25.982906</td>\n",
              "      <td>-116.630035</td>\n",
              "      <td>-75.213676</td>\n",
              "      <td>-28.717949</td>\n",
              "      <td>104.908424</td>\n",
              "      <td>0.976801</td>\n",
              "      <td>-192.429794</td>\n",
              "      <td>-44.346764</td>\n",
              "      <td>18.949940</td>\n",
              "      <td>7.228327</td>\n",
              "      <td>-161.953598</td>\n",
              "      <td>13.479854</td>\n",
              "      <td>102.564102</td>\n",
              "      <td>0.976801</td>\n",
              "    </tr>\n",
              "    <tr>\n",
              "      <th>0</th>\n",
              "      <td>0.195360</td>\n",
              "      <td>0.195360</td>\n",
              "      <td>0.195360</td>\n",
              "      <td>0.195360</td>\n",
              "      <td>0.195360</td>\n",
              "      <td>0.195360</td>\n",
              "      <td>0.195360</td>\n",
              "      <td>0.195360</td>\n",
              "      <td>0.195360</td>\n",
              "      <td>0.195360</td>\n",
              "      <td>0.195360</td>\n",
              "      <td>0.195360</td>\n",
              "      <td>0.195360</td>\n",
              "      <td>0.195360</td>\n",
              "      <td>0.195360</td>\n",
              "      <td>0.195360</td>\n",
              "      <td>0.195360</td>\n",
              "      <td>0.195360</td>\n",
              "      <td>0.195360</td>\n",
              "      <td>0.195360</td>\n",
              "      <td>0.195360</td>\n",
              "      <td>0.195360</td>\n",
              "      <td>0.195360</td>\n",
              "    </tr>\n",
              "    <tr>\n",
              "      <th>0</th>\n",
              "      <td>0.195360</td>\n",
              "      <td>0.195360</td>\n",
              "      <td>0.195360</td>\n",
              "      <td>0.195360</td>\n",
              "      <td>0.195360</td>\n",
              "      <td>0.195360</td>\n",
              "      <td>0.195360</td>\n",
              "      <td>0.195360</td>\n",
              "      <td>0.195360</td>\n",
              "      <td>0.195360</td>\n",
              "      <td>-0.195360</td>\n",
              "      <td>0.195360</td>\n",
              "      <td>0.195360</td>\n",
              "      <td>0.195360</td>\n",
              "      <td>0.195360</td>\n",
              "      <td>-0.586081</td>\n",
              "      <td>0.195360</td>\n",
              "      <td>-0.195360</td>\n",
              "      <td>0.195360</td>\n",
              "      <td>0.195360</td>\n",
              "      <td>0.195360</td>\n",
              "      <td>0.195360</td>\n",
              "      <td>0.195360</td>\n",
              "    </tr>\n",
              "    <tr>\n",
              "      <th>0</th>\n",
              "      <td>-0.195360</td>\n",
              "      <td>0.586081</td>\n",
              "      <td>0.195360</td>\n",
              "      <td>0.195360</td>\n",
              "      <td>0.195360</td>\n",
              "      <td>0.195360</td>\n",
              "      <td>-0.195360</td>\n",
              "      <td>0.195360</td>\n",
              "      <td>0.195360</td>\n",
              "      <td>0.195360</td>\n",
              "      <td>-3.711844</td>\n",
              "      <td>-2.930403</td>\n",
              "      <td>-1.758242</td>\n",
              "      <td>2.148962</td>\n",
              "      <td>-0.195360</td>\n",
              "      <td>-6.837607</td>\n",
              "      <td>-0.586081</td>\n",
              "      <td>-1.758242</td>\n",
              "      <td>0.195360</td>\n",
              "      <td>-1.758242</td>\n",
              "      <td>0.976801</td>\n",
              "      <td>2.148962</td>\n",
              "      <td>-0.195360</td>\n",
              "    </tr>\n",
              "    <tr>\n",
              "      <th>0</th>\n",
              "      <td>0.195360</td>\n",
              "      <td>0.195360</td>\n",
              "      <td>0.195360</td>\n",
              "      <td>0.195360</td>\n",
              "      <td>0.195360</td>\n",
              "      <td>0.195360</td>\n",
              "      <td>0.195360</td>\n",
              "      <td>0.195360</td>\n",
              "      <td>0.195360</td>\n",
              "      <td>0.195360</td>\n",
              "      <td>1.367521</td>\n",
              "      <td>-1.758242</td>\n",
              "      <td>0.195360</td>\n",
              "      <td>0.195360</td>\n",
              "      <td>0.195360</td>\n",
              "      <td>-0.195360</td>\n",
              "      <td>0.586081</td>\n",
              "      <td>1.758242</td>\n",
              "      <td>0.195360</td>\n",
              "      <td>0.586081</td>\n",
              "      <td>-0.195360</td>\n",
              "      <td>-0.195360</td>\n",
              "      <td>0.195360</td>\n",
              "    </tr>\n",
              "    <tr>\n",
              "      <th>...</th>\n",
              "      <td>...</td>\n",
              "      <td>...</td>\n",
              "      <td>...</td>\n",
              "      <td>...</td>\n",
              "      <td>...</td>\n",
              "      <td>...</td>\n",
              "      <td>...</td>\n",
              "      <td>...</td>\n",
              "      <td>...</td>\n",
              "      <td>...</td>\n",
              "      <td>...</td>\n",
              "      <td>...</td>\n",
              "      <td>...</td>\n",
              "      <td>...</td>\n",
              "      <td>...</td>\n",
              "      <td>...</td>\n",
              "      <td>...</td>\n",
              "      <td>...</td>\n",
              "      <td>...</td>\n",
              "      <td>...</td>\n",
              "      <td>...</td>\n",
              "      <td>...</td>\n",
              "      <td>...</td>\n",
              "    </tr>\n",
              "    <tr>\n",
              "      <th>3599</th>\n",
              "      <td>-25.592186</td>\n",
              "      <td>5.274725</td>\n",
              "      <td>15.433455</td>\n",
              "      <td>-19.340660</td>\n",
              "      <td>-5.665446</td>\n",
              "      <td>8.009768</td>\n",
              "      <td>-11.135531</td>\n",
              "      <td>-14.652015</td>\n",
              "      <td>-31.843712</td>\n",
              "      <td>57.240536</td>\n",
              "      <td>-0.586081</td>\n",
              "      <td>-21.684982</td>\n",
              "      <td>-15.042735</td>\n",
              "      <td>71.697189</td>\n",
              "      <td>-44.346764</td>\n",
              "      <td>-8.791209</td>\n",
              "      <td>44.346764</td>\n",
              "      <td>-22.466423</td>\n",
              "      <td>-15.042735</td>\n",
              "      <td>-36.923077</td>\n",
              "      <td>46.691086</td>\n",
              "      <td>65.836388</td>\n",
              "      <td>-44.346764</td>\n",
              "    </tr>\n",
              "    <tr>\n",
              "      <th>3599</th>\n",
              "      <td>-19.340660</td>\n",
              "      <td>11.135531</td>\n",
              "      <td>15.433455</td>\n",
              "      <td>-24.810745</td>\n",
              "      <td>0.586081</td>\n",
              "      <td>16.214897</td>\n",
              "      <td>-11.135531</td>\n",
              "      <td>-22.466423</td>\n",
              "      <td>-27.545788</td>\n",
              "      <td>67.399269</td>\n",
              "      <td>4.102564</td>\n",
              "      <td>-75.213676</td>\n",
              "      <td>-11.135531</td>\n",
              "      <td>77.167274</td>\n",
              "      <td>-39.658119</td>\n",
              "      <td>-56.459095</td>\n",
              "      <td>50.989010</td>\n",
              "      <td>-20.512821</td>\n",
              "      <td>-15.042735</td>\n",
              "      <td>-35.750916</td>\n",
              "      <td>45.128204</td>\n",
              "      <td>66.227104</td>\n",
              "      <td>-39.658119</td>\n",
              "    </tr>\n",
              "    <tr>\n",
              "      <th>3599</th>\n",
              "      <td>-12.698413</td>\n",
              "      <td>16.605618</td>\n",
              "      <td>9.181930</td>\n",
              "      <td>-23.638584</td>\n",
              "      <td>6.056166</td>\n",
              "      <td>22.857143</td>\n",
              "      <td>-16.214897</td>\n",
              "      <td>-22.857143</td>\n",
              "      <td>-24.420025</td>\n",
              "      <td>73.650795</td>\n",
              "      <td>-3.711844</td>\n",
              "      <td>-100.610504</td>\n",
              "      <td>-9.963370</td>\n",
              "      <td>79.120880</td>\n",
              "      <td>-36.532356</td>\n",
              "      <td>-87.326004</td>\n",
              "      <td>55.677654</td>\n",
              "      <td>-18.949940</td>\n",
              "      <td>-8.791209</td>\n",
              "      <td>-35.360195</td>\n",
              "      <td>38.485958</td>\n",
              "      <td>68.571426</td>\n",
              "      <td>-36.532356</td>\n",
              "    </tr>\n",
              "    <tr>\n",
              "      <th>3599</th>\n",
              "      <td>-4.102564</td>\n",
              "      <td>17.387058</td>\n",
              "      <td>6.446887</td>\n",
              "      <td>-22.857143</td>\n",
              "      <td>10.354091</td>\n",
              "      <td>27.936508</td>\n",
              "      <td>-19.340660</td>\n",
              "      <td>-22.466423</td>\n",
              "      <td>-23.638584</td>\n",
              "      <td>81.074478</td>\n",
              "      <td>0.586081</td>\n",
              "      <td>-52.551891</td>\n",
              "      <td>4.102564</td>\n",
              "      <td>67.789986</td>\n",
              "      <td>-32.625153</td>\n",
              "      <td>-33.015873</td>\n",
              "      <td>68.180710</td>\n",
              "      <td>-12.698413</td>\n",
              "      <td>-6.056166</td>\n",
              "      <td>-24.029305</td>\n",
              "      <td>28.717949</td>\n",
              "      <td>62.710621</td>\n",
              "      <td>-32.625153</td>\n",
              "    </tr>\n",
              "    <tr>\n",
              "      <th>3599</th>\n",
              "      <td>3.321123</td>\n",
              "      <td>16.605618</td>\n",
              "      <td>3.711844</td>\n",
              "      <td>-24.810745</td>\n",
              "      <td>13.870574</td>\n",
              "      <td>31.452991</td>\n",
              "      <td>-21.684982</td>\n",
              "      <td>-22.466423</td>\n",
              "      <td>-20.512821</td>\n",
              "      <td>83.418800</td>\n",
              "      <td>15.433455</td>\n",
              "      <td>-33.797314</td>\n",
              "      <td>15.433455</td>\n",
              "      <td>58.803417</td>\n",
              "      <td>-29.499390</td>\n",
              "      <td>1.367521</td>\n",
              "      <td>75.995117</td>\n",
              "      <td>-17.777779</td>\n",
              "      <td>-3.321123</td>\n",
              "      <td>-13.479854</td>\n",
              "      <td>20.512821</td>\n",
              "      <td>55.286934</td>\n",
              "      <td>-29.499390</td>\n",
              "    </tr>\n",
              "  </tbody>\n",
              "</table>\n",
              "<p>921600 rows × 23 columns</p>\n",
              "</div>"
            ],
            "text/plain": [
              "Channel     FP1-F7      F7-T7      T7-P7  ...   FT9-FT10     FT10-T8      T8-P8\n",
              "Time                                      ...                                  \n",
              "0        35.360195  63.492062  -6.837607  ...  13.479854  102.564102   0.976801\n",
              "0         0.195360   0.195360   0.195360  ...   0.195360    0.195360   0.195360\n",
              "0         0.195360   0.195360   0.195360  ...   0.195360    0.195360   0.195360\n",
              "0        -0.195360   0.586081   0.195360  ...   0.976801    2.148962  -0.195360\n",
              "0         0.195360   0.195360   0.195360  ...  -0.195360   -0.195360   0.195360\n",
              "...            ...        ...        ...  ...        ...         ...        ...\n",
              "3599    -25.592186   5.274725  15.433455  ...  46.691086   65.836388 -44.346764\n",
              "3599    -19.340660  11.135531  15.433455  ...  45.128204   66.227104 -39.658119\n",
              "3599    -12.698413  16.605618   9.181930  ...  38.485958   68.571426 -36.532356\n",
              "3599     -4.102564  17.387058   6.446887  ...  28.717949   62.710621 -32.625153\n",
              "3599      3.321123  16.605618   3.711844  ...  20.512821   55.286934 -29.499390\n",
              "\n",
              "[921600 rows x 23 columns]"
            ]
          },
          "metadata": {
            "tags": []
          }
        },
        {
          "output_type": "stream",
          "text": [
            "CPU times: user 2.14 s, sys: 507 ms, total: 2.65 s\n",
            "Wall time: 6.93 s\n"
          ],
          "name": "stdout"
        }
      ]
    },
    {
      "cell_type": "code",
      "metadata": {
        "colab_type": "code",
        "id": "-EOsenVSBvPW",
        "colab": {}
      },
      "source": [
        "#[FP1-F7, F7-T7, T7-P7, P7-O1,FP1-F3,F3-C3,C3-P3,P3-O1, FP2-F4, F4-C4, C4-P4, P4-O2, FP2-F8, F8-T8 ,T8-P8 ,P8-O2, FZ-CZ, CZ-PZ, P7-T7, T7-FT9, FT9-FT10, FT10-T8,T8-P8]"
      ],
      "execution_count": null,
      "outputs": []
    },
    {
      "cell_type": "markdown",
      "metadata": {
        "colab_type": "text",
        "id": "ZKO1SQxJgpNH"
      },
      "source": [
        "**Mne visualisation**"
      ]
    },
    {
      "cell_type": "code",
      "metadata": {
        "colab_type": "code",
        "id": "nuE9CWTM-g5p",
        "colab": {
          "base_uri": "https://localhost:8080/",
          "height": 405
        },
        "outputId": "e1d480ad-c7b6-4540-b740-ae6a51696c15"
      },
      "source": [
        "freqq=256\n",
        "import mne\n",
        "\n",
        "def mne_object(data, freq):\n",
        "  # create an mne info file with meta data about the EEG\n",
        "  info = mne.create_info(ch_names=list(data.columns), \n",
        "                         sfreq=freq, \n",
        "                         ch_types=['eeg']*data.shape[-1])\n",
        "  \n",
        "  # data needs to be in volts rather than in microvolts\n",
        "  data = data.apply(lambda x: x*1e-6)\n",
        "  # transpose the data\n",
        "  data_T = data.transpose()\n",
        "  \n",
        "  # create raw mne object\n",
        "  raw = mne.io.RawArray(data_T, info)\n",
        "\n",
        "  return raw\n",
        "\n",
        "chb_mne = mne_object(raw_data,freqq)\n",
        "\n",
        "plot = chb_mne.plot(scalings = dict(eeg=20e-5),\n",
        "                    start = 1550,\n",
        "                    duration = 60,\n",
        "                    show =True,\n",
        "                    show_scrollbars=False)"
      ],
      "execution_count": null,
      "outputs": [
        {
          "output_type": "stream",
          "text": [
            "Creating RawArray with float64 data, n_channels=23, n_times=921600\n",
            "    Range : 0 ... 921599 =      0.000 ...  3599.996 secs\n",
            "Ready.\n"
          ],
          "name": "stdout"
        },
        {
          "output_type": "stream",
          "text": [
            "<ipython-input-20-7b78300a600b>:8: RuntimeWarning: Channel names are not unique, found duplicates for: {'T8-P8'}. Applying running numbers for duplicates.\n",
            "  ch_types=['eeg']*data.shape[-1])\n"
          ],
          "name": "stderr"
        },
        {
          "output_type": "display_data",
          "data": {
            "image/png": "[encoded data removed]",
            "text/plain": [
              "<Figure size 432x288 with 4 Axes>"
            ]
          },
          "metadata": {
            "tags": []
          }
        }
      ]
    },
    {
      "cell_type": "code",
      "metadata": {
        "colab_type": "code",
        "id": "1e2W-n6mG-yC",
        "colab": {
          "base_uri": "https://localhost:8080/",
          "height": 35
        },
        "outputId": "7d6a5485-2493-4fed-fee1-f3f82a821e31"
      },
      "source": [
        "records_list[2]"
      ],
      "execution_count": null,
      "outputs": [
        {
          "output_type": "execute_result",
          "data": {
            "application/vnd.google.colaboratory.intrinsic": {
              "type": "string"
            },
            "text/plain": [
              "'chb01/chb01_03.edf'"
            ]
          },
          "metadata": {
            "tags": []
          },
          "execution_count": 21
        }
      ]
    },
    {
      "cell_type": "code",
      "metadata": {
        "colab_type": "code",
        "id": "XMB_UCWg-Fl4",
        "colab": {}
      },
      "source": [
        "s=files_with_seizures[4]\n",
        "raw_data1=data_load(s[0:5]+'/'+s+'.edf')\n",
        "x=raw_data1.iloc[part_info_dict[s]['Seizures Window'][0]*256:part_info_dict[s]['Seizures Window'][1]*256]\n",
        "\n"
      ],
      "execution_count": null,
      "outputs": []
    },
    {
      "cell_type": "code",
      "metadata": {
        "colab_type": "code",
        "id": "YUY9uXQ7rBIJ",
        "colab": {
          "base_uri": "https://localhost:8080/",
          "height": 468
        },
        "outputId": "ac23b964-bf59-42e9-c2db-d671c6104fba"
      },
      "source": [
        "x"
      ],
      "execution_count": null,
      "outputs": [
        {
          "output_type": "execute_result",
          "data": {
            "text/html": [
              "<div>\n",
              "<style scoped>\n",
              "    .dataframe tbody tr th:only-of-type {\n",
              "        vertical-align: middle;\n",
              "    }\n",
              "\n",
              "    .dataframe tbody tr th {\n",
              "        vertical-align: top;\n",
              "    }\n",
              "\n",
              "    .dataframe thead th {\n",
              "        text-align: right;\n",
              "    }\n",
              "</style>\n",
              "<table border=\"1\" class=\"dataframe\">\n",
              "  <thead>\n",
              "    <tr style=\"text-align: right;\">\n",
              "      <th>Channel</th>\n",
              "      <th>FP1-F7</th>\n",
              "      <th>F7-T7</th>\n",
              "      <th>T7-P7</th>\n",
              "      <th>P7-O1</th>\n",
              "      <th>FP1-F3</th>\n",
              "      <th>F3-C3</th>\n",
              "      <th>C3-P3</th>\n",
              "      <th>P3-O1</th>\n",
              "      <th>FP2-F4</th>\n",
              "      <th>F4-C4</th>\n",
              "      <th>C4-P4</th>\n",
              "      <th>P4-O2</th>\n",
              "      <th>FP2-F8</th>\n",
              "      <th>F8-T8</th>\n",
              "      <th>T8-P8</th>\n",
              "      <th>P8-O2</th>\n",
              "      <th>FZ-CZ</th>\n",
              "      <th>CZ-PZ</th>\n",
              "      <th>P7-T7</th>\n",
              "      <th>T7-FT9</th>\n",
              "      <th>FT9-FT10</th>\n",
              "      <th>FT10-T8</th>\n",
              "      <th>T8-P8</th>\n",
              "    </tr>\n",
              "    <tr>\n",
              "      <th>Time</th>\n",
              "      <th></th>\n",
              "      <th></th>\n",
              "      <th></th>\n",
              "      <th></th>\n",
              "      <th></th>\n",
              "      <th></th>\n",
              "      <th></th>\n",
              "      <th></th>\n",
              "      <th></th>\n",
              "      <th></th>\n",
              "      <th></th>\n",
              "      <th></th>\n",
              "      <th></th>\n",
              "      <th></th>\n",
              "      <th></th>\n",
              "      <th></th>\n",
              "      <th></th>\n",
              "      <th></th>\n",
              "      <th></th>\n",
              "      <th></th>\n",
              "      <th></th>\n",
              "      <th></th>\n",
              "      <th></th>\n",
              "    </tr>\n",
              "  </thead>\n",
              "  <tbody>\n",
              "    <tr>\n",
              "      <th>1720</th>\n",
              "      <td>63.101341</td>\n",
              "      <td>38.095238</td>\n",
              "      <td>-9.181930</td>\n",
              "      <td>-80.293037</td>\n",
              "      <td>10.354091</td>\n",
              "      <td>49.426128</td>\n",
              "      <td>-9.181930</td>\n",
              "      <td>-39.267399</td>\n",
              "      <td>-110.769234</td>\n",
              "      <td>59.975578</td>\n",
              "      <td>21.294262</td>\n",
              "      <td>9.963370</td>\n",
              "      <td>-52.942612</td>\n",
              "      <td>2.539683</td>\n",
              "      <td>23.638584</td>\n",
              "      <td>6.837607</td>\n",
              "      <td>-8.400489</td>\n",
              "      <td>-18.168499</td>\n",
              "      <td>9.572650</td>\n",
              "      <td>0.195360</td>\n",
              "      <td>-103.736267</td>\n",
              "      <td>-56.849815</td>\n",
              "      <td>23.638584</td>\n",
              "    </tr>\n",
              "    <tr>\n",
              "      <th>1720</th>\n",
              "      <td>69.743591</td>\n",
              "      <td>37.704517</td>\n",
              "      <td>-4.493285</td>\n",
              "      <td>-83.028084</td>\n",
              "      <td>25.592186</td>\n",
              "      <td>53.333332</td>\n",
              "      <td>-15.433455</td>\n",
              "      <td>-44.346764</td>\n",
              "      <td>-89.279610</td>\n",
              "      <td>58.803417</td>\n",
              "      <td>10.744811</td>\n",
              "      <td>-10.354091</td>\n",
              "      <td>-36.923077</td>\n",
              "      <td>4.884005</td>\n",
              "      <td>21.684982</td>\n",
              "      <td>-20.512821</td>\n",
              "      <td>-6.446887</td>\n",
              "      <td>-24.810745</td>\n",
              "      <td>4.884005</td>\n",
              "      <td>-0.976801</td>\n",
              "      <td>-81.074478</td>\n",
              "      <td>-54.896214</td>\n",
              "      <td>21.684982</td>\n",
              "    </tr>\n",
              "    <tr>\n",
              "      <th>1720</th>\n",
              "      <td>73.650795</td>\n",
              "      <td>38.485958</td>\n",
              "      <td>-0.976801</td>\n",
              "      <td>-88.498169</td>\n",
              "      <td>46.691086</td>\n",
              "      <td>50.989010</td>\n",
              "      <td>-23.638584</td>\n",
              "      <td>-52.161171</td>\n",
              "      <td>-62.319901</td>\n",
              "      <td>52.942612</td>\n",
              "      <td>-15.042735</td>\n",
              "      <td>-36.923077</td>\n",
              "      <td>-24.029305</td>\n",
              "      <td>11.916972</td>\n",
              "      <td>16.996338</td>\n",
              "      <td>-67.008545</td>\n",
              "      <td>-9.181930</td>\n",
              "      <td>-39.267399</td>\n",
              "      <td>1.367521</td>\n",
              "      <td>-6.837607</td>\n",
              "      <td>-57.240536</td>\n",
              "      <td>-45.128204</td>\n",
              "      <td>16.996338</td>\n",
              "    </tr>\n",
              "    <tr>\n",
              "      <th>1720</th>\n",
              "      <td>78.730156</td>\n",
              "      <td>31.452991</td>\n",
              "      <td>1.758242</td>\n",
              "      <td>-90.451767</td>\n",
              "      <td>72.869354</td>\n",
              "      <td>42.002441</td>\n",
              "      <td>-36.141636</td>\n",
              "      <td>-56.849815</td>\n",
              "      <td>-34.969475</td>\n",
              "      <td>42.783882</td>\n",
              "      <td>-31.843712</td>\n",
              "      <td>-12.698413</td>\n",
              "      <td>-3.321123</td>\n",
              "      <td>6.446887</td>\n",
              "      <td>12.698413</td>\n",
              "      <td>-53.724052</td>\n",
              "      <td>-12.307693</td>\n",
              "      <td>-50.207569</td>\n",
              "      <td>-1.367521</td>\n",
              "      <td>-4.493285</td>\n",
              "      <td>-39.658119</td>\n",
              "      <td>-41.221001</td>\n",
              "      <td>12.698413</td>\n",
              "    </tr>\n",
              "    <tr>\n",
              "      <th>1720</th>\n",
              "      <td>83.809525</td>\n",
              "      <td>23.638584</td>\n",
              "      <td>4.102564</td>\n",
              "      <td>-90.451767</td>\n",
              "      <td>101.782661</td>\n",
              "      <td>29.108669</td>\n",
              "      <td>-47.081806</td>\n",
              "      <td>-61.929180</td>\n",
              "      <td>-10.744811</td>\n",
              "      <td>32.234432</td>\n",
              "      <td>-31.843712</td>\n",
              "      <td>-4.884005</td>\n",
              "      <td>16.605618</td>\n",
              "      <td>-2.148962</td>\n",
              "      <td>11.135531</td>\n",
              "      <td>-42.783882</td>\n",
              "      <td>-20.512821</td>\n",
              "      <td>-58.412697</td>\n",
              "      <td>-3.711844</td>\n",
              "      <td>-0.586081</td>\n",
              "      <td>-24.420025</td>\n",
              "      <td>-41.221001</td>\n",
              "      <td>11.135531</td>\n",
              "    </tr>\n",
              "    <tr>\n",
              "      <th>...</th>\n",
              "      <td>...</td>\n",
              "      <td>...</td>\n",
              "      <td>...</td>\n",
              "      <td>...</td>\n",
              "      <td>...</td>\n",
              "      <td>...</td>\n",
              "      <td>...</td>\n",
              "      <td>...</td>\n",
              "      <td>...</td>\n",
              "      <td>...</td>\n",
              "      <td>...</td>\n",
              "      <td>...</td>\n",
              "      <td>...</td>\n",
              "      <td>...</td>\n",
              "      <td>...</td>\n",
              "      <td>...</td>\n",
              "      <td>...</td>\n",
              "      <td>...</td>\n",
              "      <td>...</td>\n",
              "      <td>...</td>\n",
              "      <td>...</td>\n",
              "      <td>...</td>\n",
              "      <td>...</td>\n",
              "    </tr>\n",
              "    <tr>\n",
              "      <th>1809</th>\n",
              "      <td>140.463974</td>\n",
              "      <td>63.882782</td>\n",
              "      <td>36.923077</td>\n",
              "      <td>-51.379730</td>\n",
              "      <td>77.167274</td>\n",
              "      <td>81.465202</td>\n",
              "      <td>48.644688</td>\n",
              "      <td>-16.996338</td>\n",
              "      <td>-4.884005</td>\n",
              "      <td>58.803417</td>\n",
              "      <td>108.034187</td>\n",
              "      <td>89.279610</td>\n",
              "      <td>-36.923077</td>\n",
              "      <td>70.525032</td>\n",
              "      <td>132.258850</td>\n",
              "      <td>86.544563</td>\n",
              "      <td>67.008545</td>\n",
              "      <td>84.981682</td>\n",
              "      <td>-36.532356</td>\n",
              "      <td>-76.385834</td>\n",
              "      <td>-174.847382</td>\n",
              "      <td>43.565323</td>\n",
              "      <td>132.258850</td>\n",
              "    </tr>\n",
              "    <tr>\n",
              "      <th>1809</th>\n",
              "      <td>120.537239</td>\n",
              "      <td>71.697189</td>\n",
              "      <td>31.452991</td>\n",
              "      <td>-54.896214</td>\n",
              "      <td>64.664223</td>\n",
              "      <td>84.590965</td>\n",
              "      <td>43.956043</td>\n",
              "      <td>-25.201466</td>\n",
              "      <td>-10.744811</td>\n",
              "      <td>58.803417</td>\n",
              "      <td>101.001221</td>\n",
              "      <td>77.167274</td>\n",
              "      <td>-45.128204</td>\n",
              "      <td>74.822952</td>\n",
              "      <td>125.225883</td>\n",
              "      <td>71.306473</td>\n",
              "      <td>68.180710</td>\n",
              "      <td>83.028084</td>\n",
              "      <td>-31.062271</td>\n",
              "      <td>-72.869354</td>\n",
              "      <td>-165.860809</td>\n",
              "      <td>42.002441</td>\n",
              "      <td>125.225883</td>\n",
              "    </tr>\n",
              "    <tr>\n",
              "      <th>1809</th>\n",
              "      <td>106.862030</td>\n",
              "      <td>64.273506</td>\n",
              "      <td>22.075703</td>\n",
              "      <td>-60.757019</td>\n",
              "      <td>58.412697</td>\n",
              "      <td>75.995117</td>\n",
              "      <td>33.406593</td>\n",
              "      <td>-35.750916</td>\n",
              "      <td>-13.479854</td>\n",
              "      <td>54.505493</td>\n",
              "      <td>118.192917</td>\n",
              "      <td>33.797314</td>\n",
              "      <td>-45.518925</td>\n",
              "      <td>72.087914</td>\n",
              "      <td>113.504272</td>\n",
              "      <td>54.114773</td>\n",
              "      <td>63.101341</td>\n",
              "      <td>77.167274</td>\n",
              "      <td>-21.684982</td>\n",
              "      <td>-58.803417</td>\n",
              "      <td>-166.251526</td>\n",
              "      <td>35.360195</td>\n",
              "      <td>113.504272</td>\n",
              "    </tr>\n",
              "    <tr>\n",
              "      <th>1809</th>\n",
              "      <td>89.670326</td>\n",
              "      <td>65.445663</td>\n",
              "      <td>11.526252</td>\n",
              "      <td>-65.054947</td>\n",
              "      <td>55.286934</td>\n",
              "      <td>74.822952</td>\n",
              "      <td>16.996338</td>\n",
              "      <td>-45.909645</td>\n",
              "      <td>-17.387058</td>\n",
              "      <td>50.598289</td>\n",
              "      <td>118.192917</td>\n",
              "      <td>15.042735</td>\n",
              "      <td>-52.942612</td>\n",
              "      <td>72.869354</td>\n",
              "      <td>108.815628</td>\n",
              "      <td>38.876678</td>\n",
              "      <td>59.975578</td>\n",
              "      <td>63.492062</td>\n",
              "      <td>-11.135531</td>\n",
              "      <td>-65.836388</td>\n",
              "      <td>-152.967026</td>\n",
              "      <td>37.313797</td>\n",
              "      <td>108.815628</td>\n",
              "    </tr>\n",
              "    <tr>\n",
              "      <th>1809</th>\n",
              "      <td>73.650795</td>\n",
              "      <td>59.584858</td>\n",
              "      <td>2.930403</td>\n",
              "      <td>-64.273506</td>\n",
              "      <td>46.691086</td>\n",
              "      <td>66.227104</td>\n",
              "      <td>7.619048</td>\n",
              "      <td>-49.035408</td>\n",
              "      <td>-21.294262</td>\n",
              "      <td>49.816849</td>\n",
              "      <td>111.550674</td>\n",
              "      <td>31.843712</td>\n",
              "      <td>-52.942612</td>\n",
              "      <td>72.869354</td>\n",
              "      <td>99.438339</td>\n",
              "      <td>53.724052</td>\n",
              "      <td>55.677654</td>\n",
              "      <td>56.849815</td>\n",
              "      <td>-2.539683</td>\n",
              "      <td>-54.505493</td>\n",
              "      <td>-148.669113</td>\n",
              "      <td>36.923077</td>\n",
              "      <td>99.438339</td>\n",
              "    </tr>\n",
              "  </tbody>\n",
              "</table>\n",
              "<p>23040 rows × 23 columns</p>\n",
              "</div>"
            ],
            "text/plain": [
              "Channel      FP1-F7      F7-T7      T7-P7  ...    FT9-FT10    FT10-T8       T8-P8\n",
              "Time                                       ...                                   \n",
              "1720      63.101341  38.095238  -9.181930  ... -103.736267 -56.849815   23.638584\n",
              "1720      69.743591  37.704517  -4.493285  ...  -81.074478 -54.896214   21.684982\n",
              "1720      73.650795  38.485958  -0.976801  ...  -57.240536 -45.128204   16.996338\n",
              "1720      78.730156  31.452991   1.758242  ...  -39.658119 -41.221001   12.698413\n",
              "1720      83.809525  23.638584   4.102564  ...  -24.420025 -41.221001   11.135531\n",
              "...             ...        ...        ...  ...         ...        ...         ...\n",
              "1809     140.463974  63.882782  36.923077  ... -174.847382  43.565323  132.258850\n",
              "1809     120.537239  71.697189  31.452991  ... -165.860809  42.002441  125.225883\n",
              "1809     106.862030  64.273506  22.075703  ... -166.251526  35.360195  113.504272\n",
              "1809      89.670326  65.445663  11.526252  ... -152.967026  37.313797  108.815628\n",
              "1809      73.650795  59.584858   2.930403  ... -148.669113  36.923077   99.438339\n",
              "\n",
              "[23040 rows x 23 columns]"
            ]
          },
          "metadata": {
            "tags": []
          },
          "execution_count": 23
        }
      ]
    },
    {
      "cell_type": "code",
      "metadata": {
        "colab_type": "code",
        "id": "k2a4RmmYAOGv",
        "colab": {}
      },
      "source": [
        "import pandas as pd\n",
        "import pywt\n",
        "import numpy as np\n",
        "from scipy.signal import butter,filtfilt\n",
        "from scipy import stats\n",
        "\n",
        "\n",
        "def butter_filter(data,low,high):\n",
        "  b,a=butter(2,[low/128,high/128],btype='band')\n",
        "  y=filtfilt(b,a,data,axis=0)\n",
        "  return y"
      ],
      "execution_count": null,
      "outputs": []
    },
    {
      "cell_type": "markdown",
      "metadata": {
        "colab_type": "text",
        "id": "IqeJ3XtVgiXe"
      },
      "source": [
        "**seizure array for training**"
      ]
    },
    {
      "cell_type": "code",
      "metadata": {
        "colab_type": "code",
        "id": "hesayv5P2IRo",
        "colab": {
          "base_uri": "https://localhost:8080/",
          "height": 1000
        },
        "outputId": "7752db5b-9e62-49ae-b2ea-13c985e57749"
      },
      "source": [
        "import numpy as np \n",
        "unwanted_channels = {'chb12_27','chb12_28','chb12_29','chb13_40','chb16_18','chb24_15'}   \n",
        "files_with_seizures = [ele for ele in files_with_seizures if ele not in unwanted_channels]\n",
        "#files_with_seizures.remove('chb12_27') \n",
        "s_array = np.zeros((90,15360,23), dtype=np.float32)\n",
        "#files_with_multiseizures=[]\n",
        "for i in range(90):\n",
        "  s=files_with_seizures[i]\n",
        "  print(i,s)\n",
        "  raw_data=data_load(s[0:5]+'/'+s+'.edf')\n",
        "  k=raw_data.iloc[part_info_dict[s]['Seizures Window'][0]*256:(part_info_dict[s]['Seizures Window'][0]+60)*256]\n",
        "  k=k.to_numpy()\n",
        "  #y=butter_filter(k,0.5,70)\n",
        "  s_array[i] = k\n",
        "\n",
        "  #if(len(part_info_dict[s]['Seizures Window'])>2):\n",
        "    #files_with_multiseizures.append(s)\n"
      ],
      "execution_count": 25,
      "outputs": [
        {
          "output_type": "stream",
          "text": [
            "0 chb01_03\n",
            "1 chb01_04\n",
            "2 chb01_15\n",
            "3 chb01_16\n",
            "4 chb01_18\n",
            "5 chb01_21\n",
            "6 chb01_26\n",
            "7 chb02_19\n",
            "8 chb03_01\n",
            "9 chb03_02\n",
            "10 chb03_03\n",
            "11 chb03_04\n",
            "12 chb03_34\n",
            "13 chb03_35\n",
            "14 chb03_36\n",
            "15 chb04_05\n",
            "16 chb04_08\n",
            "17 chb04_28\n",
            "18 chb05_06\n",
            "19 chb05_13\n",
            "20 chb05_16\n",
            "21 chb05_17\n",
            "22 chb05_22\n",
            "23 chb06_01\n",
            "24 chb06_04\n",
            "25 chb06_09\n",
            "26 chb06_10\n",
            "27 chb06_13\n",
            "28 chb06_18\n",
            "29 chb06_24\n",
            "30 chb07_12\n",
            "31 chb07_13\n",
            "32 chb07_19\n",
            "33 chb08_02\n",
            "34 chb08_05\n",
            "35 chb08_11\n",
            "36 chb08_13\n",
            "37 chb08_21\n",
            "38 chb09_06\n",
            "39 chb09_08\n",
            "40 chb09_19\n",
            "41 chb10_12\n",
            "42 chb10_20\n",
            "43 chb10_27\n",
            "44 chb10_30\n",
            "45 chb10_31\n",
            "46 chb10_38\n",
            "47 chb10_89\n",
            "48 chb11_82\n",
            "49 chb11_92\n",
            "50 chb11_99\n",
            "51 chb12_06\n",
            "52 chb12_08\n",
            "53 chb12_09\n",
            "54 chb12_10\n",
            "55 chb12_11\n",
            "56 chb12_23\n",
            "57 chb12_33\n",
            "58 chb12_36\n",
            "59 chb12_38\n",
            "60 chb12_42\n",
            "61 chb13_19\n",
            "62 chb13_21\n",
            "63 chb13_55\n",
            "64 chb13_58\n",
            "65 chb13_59\n",
            "66 chb13_60\n",
            "67 chb13_62\n",
            "68 chb14_03\n",
            "69 chb14_04\n",
            "70 chb14_06\n",
            "71 chb14_11\n",
            "72 chb14_17\n",
            "73 chb14_18\n",
            "74 chb14_27\n",
            "75 chb15_06\n",
            "76 chb15_10\n",
            "77 chb15_15\n",
            "78 chb15_17\n",
            "79 chb15_20\n",
            "80 chb15_22\n",
            "81 chb15_28\n",
            "82 chb15_31\n",
            "83 chb15_40\n",
            "84 chb15_46\n",
            "85 chb15_49\n",
            "86 chb15_52\n",
            "87 chb15_54\n",
            "88 chb15_62\n",
            "89 chb16_10\n"
          ],
          "name": "stdout"
        }
      ]
    },
    {
      "cell_type": "code",
      "metadata": {
        "colab_type": "code",
        "id": "w3Tywfp-OXA4",
        "colab": {}
      },
      "source": [
        "#print(len(files_with_multiseizures))"
      ],
      "execution_count": 26,
      "outputs": []
    },
    {
      "cell_type": "code",
      "metadata": {
        "colab_type": "code",
        "id": "8cXNU5PMuhYb",
        "colab": {
          "base_uri": "https://localhost:8080/",
          "height": 88
        },
        "outputId": "747cbdd0-6a92-481a-b756-99d6e40900fc"
      },
      "source": [
        "\"\"\"ms_array = np.zeros((70,15360,23), dtype=np.float32)\n",
        "l=0\n",
        "for i in range(25):\n",
        "  s=files_with_multiseizures[i]\n",
        "  print(s)\n",
        "  raw_data=data_load(s[0:5]+'/'+s+'.edf')\n",
        "  ms=int(len(part_info_dict[s]['Seizures Window'])/2)\n",
        "  print(ms)\n",
        "  j=0\n",
        "  for j in range(ms):\n",
        "    print(s)\n",
        "    k=raw_data.iloc[part_info_dict[s]['Seizures Window'][j+2]*256:(part_info_dict[s]['Seizures Window'][j+2]+60)*256]\n",
        "    j+=2\n",
        "    k=k.to_numpy()\n",
        "    ms_array[l] = k\n",
        "    l+=1\"\"\""
      ],
      "execution_count": 27,
      "outputs": [
        {
          "output_type": "execute_result",
          "data": {
            "application/vnd.google.colaboratory.intrinsic": {
              "type": "string"
            },
            "text/plain": [
              "\"ms_array = np.zeros((70,15360,23), dtype=np.float32)\\nl=0\\nfor i in range(25):\\n  s=files_with_multiseizures[i]\\n  print(s)\\n  raw_data=data_load(s[0:5]+'/'+s+'.edf')\\n  ms=int(len(part_info_dict[s]['Seizures Window'])/2)\\n  print(ms)\\n  j=0\\n  for j in range(ms):\\n    print(s)\\n    k=raw_data.iloc[part_info_dict[s]['Seizures Window'][j+2]*256:(part_info_dict[s]['Seizures Window'][j+2]+60)*256]\\n    j+=2\\n    k=k.to_numpy()\\n    ms_array[l] = k\\n    l+=1\""
            ]
          },
          "metadata": {
            "tags": []
          },
          "execution_count": 27
        }
      ]
    },
    {
      "cell_type": "code",
      "metadata": {
        "colab_type": "code",
        "id": "2bh6VsPxtfyw",
        "colab": {
          "base_uri": "https://localhost:8080/",
          "height": 34
        },
        "outputId": "34cac0db-3f0d-4343-eebe-f333c44f8c6e"
      },
      "source": [
        "s_array.shape\n",
        "#s_array"
      ],
      "execution_count": 28,
      "outputs": [
        {
          "output_type": "execute_result",
          "data": {
            "text/plain": [
              "(90, 15360, 23)"
            ]
          },
          "metadata": {
            "tags": []
          },
          "execution_count": 28
        }
      ]
    },
    {
      "cell_type": "code",
      "metadata": {
        "colab_type": "code",
        "id": "CAw5yxoN-FfD",
        "colab": {}
      },
      "source": [
        "def normalisation(y):\n",
        "  y=(y-np.mean(y))/(np.max(y)-np.min(y))\n",
        "  return y"
      ],
      "execution_count": 29,
      "outputs": []
    },
    {
      "cell_type": "code",
      "metadata": {
        "colab_type": "code",
        "id": "1a9_ctcMZm7b",
        "colab": {
          "base_uri": "https://localhost:8080/",
          "height": 1000
        },
        "outputId": "a0813416-4dfa-4d6c-a1d5-f8766c34ef91"
      },
      "source": [
        "NonSeizures_Window=[]\n",
        "import random\n",
        "#random.seed(12)\n",
        "for i in range(100):\n",
        "  b=random.randint(0,300)     #b will give starting random time\n",
        "  NonSeizures_Window.append(b)\n",
        "NonSeizures_Window"
      ],
      "execution_count": 30,
      "outputs": [
        {
          "output_type": "execute_result",
          "data": {
            "text/plain": [
              "[276,\n",
              " 54,\n",
              " 125,\n",
              " 264,\n",
              " 206,\n",
              " 273,\n",
              " 175,\n",
              " 267,\n",
              " 16,\n",
              " 62,\n",
              " 232,\n",
              " 194,\n",
              " 103,\n",
              " 97,\n",
              " 205,\n",
              " 92,\n",
              " 269,\n",
              " 22,\n",
              " 125,\n",
              " 150,\n",
              " 126,\n",
              " 290,\n",
              " 61,\n",
              " 29,\n",
              " 184,\n",
              " 80,\n",
              " 26,\n",
              " 96,\n",
              " 159,\n",
              " 217,\n",
              " 277,\n",
              " 59,\n",
              " 70,\n",
              " 17,\n",
              " 170,\n",
              " 32,\n",
              " 88,\n",
              " 101,\n",
              " 22,\n",
              " 284,\n",
              " 284,\n",
              " 4,\n",
              " 68,\n",
              " 84,\n",
              " 25,\n",
              " 294,\n",
              " 275,\n",
              " 44,\n",
              " 133,\n",
              " 269,\n",
              " 267,\n",
              " 44,\n",
              " 79,\n",
              " 126,\n",
              " 243,\n",
              " 197,\n",
              " 282,\n",
              " 185,\n",
              " 52,\n",
              " 219,\n",
              " 66,\n",
              " 59,\n",
              " 189,\n",
              " 179,\n",
              " 145,\n",
              " 59,\n",
              " 2,\n",
              " 130,\n",
              " 96,\n",
              " 215,\n",
              " 78,\n",
              " 131,\n",
              " 90,\n",
              " 152,\n",
              " 212,\n",
              " 181,\n",
              " 7,\n",
              " 128,\n",
              " 187,\n",
              " 125,\n",
              " 26,\n",
              " 148,\n",
              " 36,\n",
              " 120,\n",
              " 15,\n",
              " 202,\n",
              " 111,\n",
              " 248,\n",
              " 22,\n",
              " 130,\n",
              " 246,\n",
              " 252,\n",
              " 16,\n",
              " 9,\n",
              " 232,\n",
              " 230,\n",
              " 277,\n",
              " 194,\n",
              " 34,\n",
              " 190]"
            ]
          },
          "metadata": {
            "tags": []
          },
          "execution_count": 30
        }
      ]
    },
    {
      "cell_type": "code",
      "metadata": {
        "colab_type": "code",
        "id": "8RN38e_qbGIN",
        "colab": {
          "base_uri": "https://localhost:8080/",
          "height": 52
        },
        "outputId": "8b18371e-a8f4-4308-a4a2-5585fa10bae0"
      },
      "source": [
        "import random\n",
        "random.seed(42)\n",
        "unwanted_channel = {'chb15_01','chb19_01','chb18_01','chb16_19','chb17c_13','chb01_27','chb13_38','chb13_39','chb13_47','chb13_10','chb13_08','chb13_07','chb13_11','chb13_12','chb13_04','chb13_05','chb13_06','chb13_02', 'chb13_03', 'chb13_09', 'chb13_13', 'chb13_14', 'chb13_15', 'chb13_16', 'chb13_18', 'chb13_22', 'chb13_24', 'chb13_30', 'chb13_36', 'chb13_37', 'chb13_56'}   \n",
        "files_with_nonseizures = [ele for ele in files_with_nonseizures if ele not in unwanted_channel]\n",
        "shuffled=files_with_nonseizures[0:400]\n",
        "random.shuffle(shuffled)\n",
        "\n",
        "print(len(files_with_nonseizures))\n",
        "#print(shuffled)\n",
        "\n",
        "#shuffled.remove('chb01_27')  #contains ecg channel as well\n",
        "print(len(shuffled))\n",
        "#print(files_with_nonseizures[290:320])"
      ],
      "execution_count": 31,
      "outputs": [
        {
          "output_type": "stream",
          "text": [
            "504\n",
            "400\n"
          ],
          "name": "stdout"
        }
      ]
    },
    {
      "cell_type": "markdown",
      "metadata": {
        "colab_type": "text",
        "id": "JgHDXhuAgZc5"
      },
      "source": [
        "**non-seizure array for training**"
      ]
    },
    {
      "cell_type": "code",
      "metadata": {
        "colab_type": "code",
        "id": "lN8gCVkOAmT0",
        "colab": {
          "base_uri": "https://localhost:8080/",
          "height": 1000
        },
        "outputId": "e74dfc79-481a-46a6-9746-d4f1fe179953"
      },
      "source": [
        "ns_array = np.zeros((90,15360,23), dtype=np.float32)\n",
        "for i in range(90):\n",
        "  ns=shuffled[i]\n",
        "  #ns=files_with_nonseizures[i]\n",
        "  raw_data=data_load(ns[0:5]+'/'+ns+'.edf')\n",
        "  print(i,ns)\n",
        "  k1=raw_data.iloc[NonSeizures_Window[i]*256:(NonSeizures_Window[i]+60)*256]\n",
        "  #print(k1)\n",
        "  import numpy as np \n",
        "  k1=k1.to_numpy()\n",
        "  #y1=butter_filter(k1,0.5,70)\n",
        "  ns_array[i] = k1\n",
        "\n"
      ],
      "execution_count": 32,
      "outputs": [
        {
          "output_type": "stream",
          "text": [
            "0 chb11_03\n",
            "1 chb03_32\n",
            "2 chb05_27\n",
            "3 chb05_33\n",
            "4 chb10_28\n",
            "5 chb09_18\n",
            "6 chb07_09\n",
            "7 chb04_29\n",
            "8 chb11_11\n",
            "9 chb14_07\n",
            "10 chb07_11\n",
            "11 chb14_32\n",
            "12 chb02_05\n",
            "13 chb16_05\n",
            "14 chb17a_06\n",
            "15 chb18_03\n",
            "16 chb02_10\n",
            "17 chb09_05\n",
            "18 chb04_02\n",
            "19 chb02_22\n",
            "20 chb11_54\n",
            "21 chb05_38\n",
            "22 chb11_05\n",
            "23 chb03_15\n",
            "24 chb01_12\n",
            "25 chb03_06\n",
            "26 chb08_03\n",
            "27 chb01_05\n",
            "28 chb18_06\n",
            "29 chb18_11\n",
            "30 chb11_13\n",
            "31 chb11_07\n",
            "32 chb10_21\n",
            "33 chb08_22\n",
            "34 chb02_24\n",
            "35 chb02_01\n",
            "36 chb17b_68\n",
            "37 chb12_20\n",
            "38 chb02_28\n",
            "39 chb10_19\n",
            "40 chb18_25\n",
            "41 chb12_41\n",
            "42 chb10_02\n",
            "43 chb18_19\n",
            "44 chb01_40\n",
            "45 chb15_51\n",
            "46 chb10_16\n",
            "47 chb03_38\n",
            "48 chb15_26\n",
            "49 chb05_08\n",
            "50 chb06_07\n",
            "51 chb02_35\n",
            "52 chb17b_59\n",
            "53 chb02_12\n",
            "54 chb09_17\n",
            "55 chb05_09\n",
            "56 chb09_01\n",
            "57 chb03_13\n",
            "58 chb18_13\n",
            "59 chb16_02\n",
            "60 chb03_26\n",
            "61 chb18_24\n",
            "62 chb01_37\n",
            "63 chb03_10\n",
            "64 chb06_16\n",
            "65 chb01_42\n",
            "66 chb15_33\n",
            "67 chb04_37\n",
            "68 chb04_34\n",
            "69 chb04_30\n",
            "70 chb11_02\n",
            "71 chb15_63\n",
            "72 chb01_13\n",
            "73 chb02_34\n",
            "74 chb16_15\n",
            "75 chb17b_57\n",
            "76 chb12_34\n",
            "77 chb02_33\n",
            "78 chb05_31\n",
            "79 chb03_23\n",
            "80 chb05_23\n",
            "81 chb04_26\n",
            "82 chb15_50\n",
            "83 chb09_15\n",
            "84 chb09_10\n",
            "85 chb03_12\n",
            "86 chb04_11\n",
            "87 chb08_15\n",
            "88 chb02_04\n",
            "89 chb08_24\n"
          ],
          "name": "stdout"
        }
      ]
    },
    {
      "cell_type": "code",
      "metadata": {
        "colab_type": "code",
        "id": "-aVaQHYCCLGu",
        "colab": {
          "base_uri": "https://localhost:8080/",
          "height": 34
        },
        "outputId": "0a759f54-a91a-43a2-8315-1209603716b3"
      },
      "source": [
        "ns_array.shape"
      ],
      "execution_count": 33,
      "outputs": [
        {
          "output_type": "execute_result",
          "data": {
            "text/plain": [
              "(90, 15360, 23)"
            ]
          },
          "metadata": {
            "tags": []
          },
          "execution_count": 33
        }
      ]
    },
    {
      "cell_type": "markdown",
      "metadata": {
        "colab_type": "text",
        "id": "cmSUKOTrgSGX"
      },
      "source": [
        "**train x**"
      ]
    },
    {
      "cell_type": "code",
      "metadata": {
        "colab_type": "code",
        "id": "9ISLHAg6Tm0N",
        "colab": {}
      },
      "source": [
        "result = np.concatenate((s_array,ns_array),axis=0)"
      ],
      "execution_count": 34,
      "outputs": []
    },
    {
      "cell_type": "code",
      "metadata": {
        "colab_type": "code",
        "id": "D1ErYGebTw8m",
        "colab": {
          "base_uri": "https://localhost:8080/",
          "height": 34
        },
        "outputId": "5b028ea4-6508-445e-8120-2e9685371f09"
      },
      "source": [
        "result.shape"
      ],
      "execution_count": 35,
      "outputs": [
        {
          "output_type": "execute_result",
          "data": {
            "text/plain": [
              "(180, 15360, 23)"
            ]
          },
          "metadata": {
            "tags": []
          },
          "execution_count": 35
        }
      ]
    },
    {
      "cell_type": "code",
      "metadata": {
        "colab_type": "code",
        "id": "5Vdu6B2pUFXm",
        "colab": {
          "base_uri": "https://localhost:8080/",
          "height": 1000
        },
        "outputId": "259de312-9cf1-446b-a784-e0d907dd0391"
      },
      "source": [
        "result"
      ],
      "execution_count": 36,
      "outputs": [
        {
          "output_type": "execute_result",
          "data": {
            "text/plain": [
              "array([[[  57.240536 ,   45.909645 ,   55.677654 , ...,   24.810745 ,\n",
              "            6.4468865,   32.625153 ],\n",
              "        [  53.333332 ,   50.98901  ,   56.459095 , ...,   36.923077 ,\n",
              "            9.18193  ,   21.294262 ],\n",
              "        [  45.909645 ,   59.194138 ,   54.896214 , ...,   54.896214 ,\n",
              "           12.698413 ,   10.744811 ],\n",
              "        ...,\n",
              "        [  -8.0097685,   -2.930403 ,   17.777779 , ...,  339.34067  ,\n",
              "         -138.51038  ,  -88.49817  ],\n",
              "        [ -11.526252 ,   18.168499 ,   -7.2283273, ...,  336.99634  ,\n",
              "         -145.15262  ,  -85.372406 ],\n",
              "        [ -11.916972 ,   15.824176 ,  -19.34066  , ...,  323.32114  ,\n",
              "         -151.40414  ,  -88.107445 ]],\n",
              "\n",
              "       [[ -66.61783  ,  -21.294262 ,  -65.44566  , ...,  -45.128204 ,\n",
              "          -99.04762  ,   76.77656  ],\n",
              "        [ -56.849815 ,  -16.996338 ,  -63.10134  , ...,  -25.201466 ,\n",
              "          -86.93529  ,   27.936508 ],\n",
              "        [ -49.42613  ,  -15.824176 ,  -63.882782 , ...,  -44.737484 ,\n",
              "          -56.068375 ,    4.4932847],\n",
              "        ...,\n",
              "        [   8.791209 ,   52.94261  ,   40.83028  , ..., -115.067154 ,\n",
              "           -1.3675214,   52.55189  ],\n",
              "        [  -6.4468865,   52.16117  ,   42.783882 , ..., -102.95483  ,\n",
              "           -6.4468865,   38.095238 ],\n",
              "        [  -4.884005 ,   45.518925 ,   36.923077 , ..., -127.570206 ,\n",
              "           -1.3675214,   46.691086 ]],\n",
              "\n",
              "       [[ 125.61661  ,   13.870574 ,  -20.512821 , ...,   -5.2747254,\n",
              "           76.77656  ,   16.996338 ],\n",
              "        [ 125.22588  ,   17.777779 ,  -10.744811 , ...,   -0.976801 ,\n",
              "           70.13431  ,   25.982906 ],\n",
              "        [ 126.788765 ,   18.94994  ,   -4.1025643, ...,   -2.930403 ,\n",
              "           65.83639  ,   35.360195 ],\n",
              "        ...,\n",
              "        [ -27.936508 ,    6.4468865,  -26.373627 , ...,   -4.1025643,\n",
              "          -66.61783  ,  -15.042735 ],\n",
              "        [ -21.294262 ,    6.4468865,  -23.638584 , ...,   -4.4932847,\n",
              "          -68.96215  ,  -24.420025 ],\n",
              "        [ -13.479854 ,    5.2747254,  -22.075703 , ...,   16.996338 ,\n",
              "           67.39927  , -196.33699  ]],\n",
              "\n",
              "       ...,\n",
              "\n",
              "       [[ -55.677654 , -229.54823  , -220.56166  , ...,  138.51038  ,\n",
              "           -2.5396826,  -69.74359  ],\n",
              "        [ -63.10134  , -228.37607  , -222.12454  , ...,  139.68254  ,\n",
              "            2.5396826,  -67.789986 ],\n",
              "        [ -63.882782 , -231.89255  , -221.3431   , ...,  140.07326  ,\n",
              "            8.791209 ,  -59.97558  ],\n",
              "        ...,\n",
              "        [ 142.8083   ,  187.35043  ,   57.240536 , ..., -104.12698  ,\n",
              "           24.029305 ,  121.31868  ],\n",
              "        [ 158.0464   ,  183.83394  ,   52.16117  , ..., -113.50427  ,\n",
              "           22.857143 ,  131.08669  ],\n",
              "        [ 152.96703  ,  180.70818  ,   49.035408 , ..., -119.7558   ,\n",
              "           22.466423 ,  138.51038  ]],\n",
              "\n",
              "       [[-134.21245  , -213.91942  ,  274.48108  , ...,  -44.737484 ,\n",
              "         -177.58241  ,  231.11111  ],\n",
              "        [-124.05373  , -236.97192  ,  259.24298  , ...,  -37.704517 ,\n",
              "         -123.272285 ,  124.05373  ],\n",
              "        [-160.       , -148.66911  ,  198.2906   , ...,   -4.1025643,\n",
              "         -134.60318  ,  118.97436  ],\n",
              "        ...,\n",
              "        [ -29.49939  ,   36.532356 ,  -15.824176 , ...,   29.49939  ,\n",
              "           49.81685  ,  -67.789986 ],\n",
              "        [ -23.247864 ,   39.2674   ,  -15.433455 , ...,   32.234432 ,\n",
              "          -25.592186 ,   -1.7582418],\n",
              "        [ -16.605618 ,  -55.286934 ,   78.33944  , ...,   29.10867  ,\n",
              "         -100.21978  ,   41.61172  ]],\n",
              "\n",
              "       [[  15.824176 ,   -8.400489 ,   32.234432 , ...,   -0.976801 ,\n",
              "            4.4932847,   26.373627 ],\n",
              "        [  -2.930403 ,  -10.744811 ,   26.764347 , ...,   -2.1489623,\n",
              "            6.837607 ,   25.592186 ],\n",
              "        [  -3.3211234,   -4.884005 ,   23.638584 , ...,   -1.7582418,\n",
              "            9.57265  ,   21.684982 ],\n",
              "        ...,\n",
              "        [  -7.2283273,   25.982906 ,  -43.174603 , ...,  -36.532356 ,\n",
              "          -20.1221   ,   24.810745 ],\n",
              "        [  -4.884005 ,   21.684982 ,  -47.863247 , ...,  -39.2674   ,\n",
              "          -19.73138  ,   20.512821 ],\n",
              "        [ -12.698413 ,   16.214897 ,  -51.37973  , ...,  -39.2674   ,\n",
              "          -17.777779 ,   14.652015 ]]], dtype=float32)"
            ]
          },
          "metadata": {
            "tags": []
          },
          "execution_count": 36
        }
      ]
    },
    {
      "cell_type": "code",
      "metadata": {
        "colab_type": "code",
        "id": "XmXA3UmeUPSh",
        "colab": {}
      },
      "source": [
        "import keras\n",
        "train_x = result.reshape(180, 15360, 23,1)\n",
        "#train_x = keras.utils.normalize(train_x, axis=1)"
      ],
      "execution_count": 37,
      "outputs": []
    },
    {
      "cell_type": "markdown",
      "metadata": {
        "colab_type": "text",
        "id": "EG7Zf63gG7FT"
      },
      "source": [
        "**train_y**"
      ]
    },
    {
      "cell_type": "code",
      "metadata": {
        "colab_type": "code",
        "id": "DIlXQ2eMHDpI",
        "colab": {}
      },
      "source": [
        "ys=np.ones(90)\n",
        "yns=np.zeros(90)\n",
        "train_y=np.concatenate((ys,yns),axis=0)"
      ],
      "execution_count": 38,
      "outputs": []
    },
    {
      "cell_type": "code",
      "metadata": {
        "colab_type": "code",
        "id": "NZgTp54SHtOt",
        "colab": {
          "base_uri": "https://localhost:8080/",
          "height": 34
        },
        "outputId": "32b12989-a809-4243-ff5d-ccbb7284ec2d"
      },
      "source": [
        "train_y.shape"
      ],
      "execution_count": 39,
      "outputs": [
        {
          "output_type": "execute_result",
          "data": {
            "text/plain": [
              "(180,)"
            ]
          },
          "metadata": {
            "tags": []
          },
          "execution_count": 39
        }
      ]
    },
    {
      "cell_type": "markdown",
      "metadata": {
        "colab_type": "text",
        "id": "hZY3T4iaIMNo"
      },
      "source": [
        "# **preparation of test samples**"
      ]
    },
    {
      "cell_type": "code",
      "metadata": {
        "colab_type": "code",
        "id": "gDU8I30HIKsa",
        "colab": {
          "base_uri": "https://localhost:8080/",
          "height": 545
        },
        "outputId": "513397c6-0d61-46f2-d147-91a6e9ece0b2"
      },
      "source": [
        "nst_array = np.zeros((30,15360,23), dtype=np.float32)\n",
        "shuffledt=files_with_nonseizures[400:500]\n",
        "random.shuffle(shuffledt)\n",
        "for i in range(30):  \n",
        "  ns=shuffledt[i]\n",
        "  raw_data=data_load(ns[0:5]+'/'+ns+'.edf')\n",
        "  print(ns)\n",
        "  k1=raw_data.iloc[NonSeizures_Window[i]*256:(NonSeizures_Window[i]+60)*256]\n",
        "  #print(k1)\n",
        "  import numpy as np \n",
        "  k1=k1.to_numpy()\n",
        "  #y1=butter_filter(k1,0.5,70)\n",
        "  nst_array[i] = k1\n"
      ],
      "execution_count": 40,
      "outputs": [
        {
          "output_type": "stream",
          "text": [
            "chb19_13\n",
            "chb21_12\n",
            "chb21_01\n",
            "chb20_06\n",
            "chb21_18\n",
            "chb20_30\n",
            "chb21_03\n",
            "chb21_27\n",
            "chb22_06\n",
            "chb21_13\n",
            "chb22_21\n",
            "chb21_30\n",
            "chb22_03\n",
            "chb19_23\n",
            "chb20_34\n",
            "chb22_77\n",
            "chb22_04\n",
            "chb21_31\n",
            "chb22_19\n",
            "chb20_31\n",
            "chb19_18\n",
            "chb20_60\n",
            "chb20_28\n",
            "chb22_16\n",
            "chb21_29\n",
            "chb22_26\n",
            "chb20_21\n",
            "chb19_17\n",
            "chb20_17\n",
            "chb20_08\n"
          ],
          "name": "stdout"
        }
      ]
    },
    {
      "cell_type": "code",
      "metadata": {
        "colab_type": "code",
        "id": "quPYEWrr8VOL",
        "colab": {
          "base_uri": "https://localhost:8080/",
          "height": 386
        },
        "outputId": "659bc201-09b4-44fe-ad3b-371c1345f8d3"
      },
      "source": [
        "print(\"seizure test file\")\n",
        "import numpy as np \n",
        "st_array = np.zeros((20,15360,23), dtype=np.float32)\n",
        "for i in range(100,120):\n",
        "  s=files_with_seizures[i]\n",
        "  print(s)\n",
        "  raw_data=data_load(s[0:5]+'/'+s+'.edf')\n",
        "  k=raw_data.iloc[part_info_dict[s]['Seizures Window'][0]*256:(part_info_dict[s]['Seizures Window'][0]+60)*256]\n",
        "  k=k.to_numpy()\n",
        "  #y=butter_filter(k,0.5,70)\n",
        "  st_array[i-100] = k"
      ],
      "execution_count": 41,
      "outputs": [
        {
          "output_type": "stream",
          "text": [
            "seizure test file\n",
            "chb18_32\n",
            "chb18_35\n",
            "chb18_36\n",
            "chb19_28\n",
            "chb19_29\n",
            "chb19_30\n",
            "chb20_12\n",
            "chb20_13\n",
            "chb20_14\n",
            "chb20_15\n",
            "chb20_16\n",
            "chb20_68\n",
            "chb21_19\n",
            "chb21_20\n",
            "chb21_21\n",
            "chb21_22\n",
            "chb22_20\n",
            "chb22_25\n",
            "chb22_38\n",
            "chb23_06\n"
          ],
          "name": "stdout"
        }
      ]
    },
    {
      "cell_type": "code",
      "metadata": {
        "colab_type": "code",
        "id": "xMkt-CmnO2xf",
        "colab": {
          "base_uri": "https://localhost:8080/",
          "height": 34
        },
        "outputId": "5c019bcf-6ccd-419b-d8a3-fc5a5706b3d5"
      },
      "source": [
        "result1 = np.concatenate((st_array,nst_array),axis=0)\n",
        "result1.shape"
      ],
      "execution_count": 42,
      "outputs": [
        {
          "output_type": "execute_result",
          "data": {
            "text/plain": [
              "(50, 15360, 23)"
            ]
          },
          "metadata": {
            "tags": []
          },
          "execution_count": 42
        }
      ]
    },
    {
      "cell_type": "code",
      "metadata": {
        "colab_type": "code",
        "id": "OqWRxXCFO22v",
        "colab": {}
      },
      "source": [
        "test_x = result1.reshape(50, 15360, 23,1)"
      ],
      "execution_count": 43,
      "outputs": []
    },
    {
      "cell_type": "code",
      "metadata": {
        "colab_type": "code",
        "id": "KZUnLkySO2v_",
        "colab": {}
      },
      "source": [
        "yst=np.ones(20)\n",
        "ynst=np.zeros(30)\n"
      ],
      "execution_count": 44,
      "outputs": []
    },
    {
      "cell_type": "code",
      "metadata": {
        "colab_type": "code",
        "id": "-swVCVAtODCq",
        "colab": {
          "base_uri": "https://localhost:8080/",
          "height": 70
        },
        "outputId": "4a1e65b8-22e6-425a-8ae3-a23a782811c4"
      },
      "source": [
        "test_y=np.concatenate((yst,ynst),axis=0)\n",
        "test_y"
      ],
      "execution_count": 45,
      "outputs": [
        {
          "output_type": "execute_result",
          "data": {
            "text/plain": [
              "array([1., 1., 1., 1., 1., 1., 1., 1., 1., 1., 1., 1., 1., 1., 1., 1., 1.,\n",
              "       1., 1., 1., 0., 0., 0., 0., 0., 0., 0., 0., 0., 0., 0., 0., 0., 0.,\n",
              "       0., 0., 0., 0., 0., 0., 0., 0., 0., 0., 0., 0., 0., 0., 0., 0.])"
            ]
          },
          "metadata": {
            "tags": []
          },
          "execution_count": 45
        }
      ]
    },
    {
      "cell_type": "code",
      "metadata": {
        "colab_type": "code",
        "id": "NekPjyvMyBVt",
        "colab": {}
      },
      "source": [
        "#Sequential Model "
      ],
      "execution_count": 46,
      "outputs": []
    },
    {
      "cell_type": "markdown",
      "metadata": {
        "colab_type": "text",
        "id": "0LF5J1upzv-8"
      },
      "source": [
        "**adding of conv0 layer (7*7) with bn,relu,pool**\n",
        "\n",
        "\n",
        "\n"
      ]
    },
    {
      "cell_type": "code",
      "metadata": {
        "colab_type": "code",
        "id": "f2XCnv5E4KDx",
        "colab": {}
      },
      "source": [
        "model = Sequential()\n",
        "        \n",
        "model.add(Conv2D(filters=64,\n",
        "                    kernel_size=7,strides=2,\n",
        "                    padding=\"same\",input_shape=(15360, 23,1),name='conv0'))\n",
        "  \n",
        "model.add(BatchNormalization())\n",
        "model.add(Activation('relu',name='relu0'))\n",
        "\n",
        "model.add(MaxPooling2D(pool_size=2, strides=2,padding=\"same\",name='pool0'))"
      ],
      "execution_count": 70,
      "outputs": []
    },
    {
      "cell_type": "code",
      "metadata": {
        "colab_type": "code",
        "id": "nULfTAohWdo7",
        "colab": {
          "base_uri": "https://localhost:8080/",
          "height": 34
        },
        "outputId": "37f967a6-f09d-40ea-abb1-8cc1e10bda47"
      },
      "source": [
        "convs=[]\n",
        "#parallel layers\n",
        "for i in range (1):     \n",
        "    #k=6\n",
        "    #DENSE BLOCK\n",
        "    for i in range (1):         \n",
        "    \n",
        "        \n",
        "        #DENSE LAYER\n",
        "\n",
        "        for filters in (64,128,128,128,256,256,256,512,512):            \n",
        "            model.add(Conv2D(filters,\n",
        "                    kernel_size=1,\n",
        "                    padding=\"same\"))\n",
        "            #model.add(BatchNormalization())\n",
        "            #model.add(Activation('relu'))\n",
        "            model.add(Conv2D(filters,\n",
        "                    kernel_size=3,\n",
        "                    padding=\"same\"))\n",
        "            model.add(BatchNormalization())\n",
        "            model.add(Activation('relu'))\n",
        "            model.add(AveragePooling2D(pool_size=2,padding=\"same\"))\n",
        "        \n",
        "        \n",
        "        #TRANSITION LAYER: \n",
        "\n",
        "        for i in range (1):\n",
        "            model.add(Conv2D(filters=512,\n",
        "                    kernel_size=1,\n",
        "                    padding=\"same\"))\n",
        "            model.add(BatchNormalization())\n",
        "            model.add(Activation('relu'))\n",
        "        \n",
        "            model.add(AveragePooling2D(pool_size=2,padding=\"same\"))\n",
        "\n",
        "        #increasing of dense layer(k+=6 by 6 layer in next dense block)\n",
        "        #k+=6 \n",
        "\n",
        "        \n",
        "        \n",
        "\n",
        "    #pool=(MaxPooling2D(pool_size=3))(model)\n",
        "    print(\"layer\")\n",
        "\n",
        "    #appending of all parallel layers:\n",
        "\n",
        "    convs.append(model)\n",
        "\n",
        "        \n",
        "#merged=layers.concatenate(convs,axis=1)"
      ],
      "execution_count": 71,
      "outputs": [
        {
          "output_type": "stream",
          "text": [
            "layer\n"
          ],
          "name": "stdout"
        }
      ]
    },
    {
      "cell_type": "markdown",
      "metadata": {
        "colab_type": "text",
        "id": "NLuqbo3Z0d5_"
      },
      "source": [
        "**Adding of 5 parallel layers with convs append**\n",
        "\n",
        "---\n",
        "\n",
        "\n"
      ]
    },
    {
      "cell_type": "code",
      "metadata": {
        "colab_type": "code",
        "id": "Nfloga-OW2YW",
        "colab": {}
      },
      "source": [
        "model.add(Flatten())\n"
      ],
      "execution_count": 72,
      "outputs": []
    },
    {
      "cell_type": "markdown",
      "metadata": {
        "colab_type": "text",
        "id": "K96nWTe52VHJ"
      },
      "source": [
        "**flattening of layers and addind dense and dropout layers**"
      ]
    },
    {
      "cell_type": "code",
      "metadata": {
        "colab_type": "code",
        "id": "QSGW45Sh4KEJ",
        "colab": {}
      },
      "source": [
        "model.add(Dense(units=1024,\n",
        "                  activation='relu'))\n",
        "#model.add(GaussianNoise(0.1))\n",
        "\n",
        "model.add(Dropout(0.2,name='drop0'))\n",
        "\n",
        "model.add(Dense(units=512,\n",
        "                  activation='relu'))\n",
        "\n",
        "model.add(Dropout(0.2,name='drop1'))\n",
        "\n",
        "#model.add(Dense(units=100, activation='relu'))\n",
        "\n",
        "#model.add(Dropout(0.2,name='drop2'))\n",
        "\n",
        "#model.add(Dense(units=25, activation='relu'))\n",
        "\n",
        "model.add(Dense(units=1,\n",
        "                  activation='sigmoid'))\n",
        "  \n"
      ],
      "execution_count": 73,
      "outputs": []
    },
    {
      "cell_type": "code",
      "metadata": {
        "colab_type": "code",
        "id": "H2nspqVsa3hK",
        "colab": {}
      },
      "source": [
        "#from tensorflow.keras.optimizers import SGD"
      ],
      "execution_count": 74,
      "outputs": []
    },
    {
      "cell_type": "markdown",
      "metadata": {
        "colab_type": "text",
        "id": "KYsRPX1d2slv"
      },
      "source": [
        "**compilation of model**"
      ]
    },
    {
      "cell_type": "code",
      "metadata": {
        "colab_type": "code",
        "id": "Fs-oArIS2rG7",
        "colab": {}
      },
      "source": [
        "model.compile(optimizer=Adam(0.001),\n",
        "                loss='binary_crossentropy',\n",
        "                metrics=['accuracy', 'AUC', 'Recall', 'Precision'])"
      ],
      "execution_count": 75,
      "outputs": []
    },
    {
      "cell_type": "markdown",
      "metadata": {
        "colab_type": "text",
        "id": "_Vawk2_92zb6"
      },
      "source": [
        "**model summary**"
      ]
    },
    {
      "cell_type": "code",
      "metadata": {
        "colab_type": "code",
        "id": "EPlEnqvs4KEV",
        "colab": {
          "base_uri": "https://localhost:8080/",
          "height": 1000
        },
        "outputId": "89f066fb-fe28-447f-a0bf-bc73f38b0a00"
      },
      "source": [
        "clear_session()\n",
        "# Create a basic model instance\n",
        "model.summary()"
      ],
      "execution_count": 76,
      "outputs": [
        {
          "output_type": "stream",
          "text": [
            "Model: \"sequential\"\n",
            "_________________________________________________________________\n",
            "Layer (type)                 Output Shape              Param #   \n",
            "=================================================================\n",
            "conv0 (Conv2D)               (None, 7680, 12, 64)      3200      \n",
            "_________________________________________________________________\n",
            "batch_normalization (BatchNo (None, 7680, 12, 64)      256       \n",
            "_________________________________________________________________\n",
            "relu0 (Activation)           (None, 7680, 12, 64)      0         \n",
            "_________________________________________________________________\n",
            "pool0 (MaxPooling2D)         (None, 3840, 6, 64)       0         \n",
            "_________________________________________________________________\n",
            "conv2d (Conv2D)              (None, 3840, 6, 64)       4160      \n",
            "_________________________________________________________________\n",
            "conv2d_1 (Conv2D)            (None, 3840, 6, 64)       36928     \n",
            "_________________________________________________________________\n",
            "batch_normalization_1 (Batch (None, 3840, 6, 64)       256       \n",
            "_________________________________________________________________\n",
            "activation (Activation)      (None, 3840, 6, 64)       0         \n",
            "_________________________________________________________________\n",
            "average_pooling2d (AveragePo (None, 1920, 3, 64)       0         \n",
            "_________________________________________________________________\n",
            "conv2d_2 (Conv2D)            (None, 1920, 3, 128)      8320      \n",
            "_________________________________________________________________\n",
            "conv2d_3 (Conv2D)            (None, 1920, 3, 128)      147584    \n",
            "_________________________________________________________________\n",
            "batch_normalization_2 (Batch (None, 1920, 3, 128)      512       \n",
            "_________________________________________________________________\n",
            "activation_1 (Activation)    (None, 1920, 3, 128)      0         \n",
            "_________________________________________________________________\n",
            "average_pooling2d_1 (Average (None, 960, 2, 128)       0         \n",
            "_________________________________________________________________\n",
            "conv2d_4 (Conv2D)            (None, 960, 2, 128)       16512     \n",
            "_________________________________________________________________\n",
            "conv2d_5 (Conv2D)            (None, 960, 2, 128)       147584    \n",
            "_________________________________________________________________\n",
            "batch_normalization_3 (Batch (None, 960, 2, 128)       512       \n",
            "_________________________________________________________________\n",
            "activation_2 (Activation)    (None, 960, 2, 128)       0         \n",
            "_________________________________________________________________\n",
            "average_pooling2d_2 (Average (None, 480, 1, 128)       0         \n",
            "_________________________________________________________________\n",
            "conv2d_6 (Conv2D)            (None, 480, 1, 128)       16512     \n",
            "_________________________________________________________________\n",
            "conv2d_7 (Conv2D)            (None, 480, 1, 128)       147584    \n",
            "_________________________________________________________________\n",
            "batch_normalization_4 (Batch (None, 480, 1, 128)       512       \n",
            "_________________________________________________________________\n",
            "activation_3 (Activation)    (None, 480, 1, 128)       0         \n",
            "_________________________________________________________________\n",
            "average_pooling2d_3 (Average (None, 240, 1, 128)       0         \n",
            "_________________________________________________________________\n",
            "conv2d_8 (Conv2D)            (None, 240, 1, 256)       33024     \n",
            "_________________________________________________________________\n",
            "conv2d_9 (Conv2D)            (None, 240, 1, 256)       590080    \n",
            "_________________________________________________________________\n",
            "batch_normalization_5 (Batch (None, 240, 1, 256)       1024      \n",
            "_________________________________________________________________\n",
            "activation_4 (Activation)    (None, 240, 1, 256)       0         \n",
            "_________________________________________________________________\n",
            "average_pooling2d_4 (Average (None, 120, 1, 256)       0         \n",
            "_________________________________________________________________\n",
            "conv2d_10 (Conv2D)           (None, 120, 1, 256)       65792     \n",
            "_________________________________________________________________\n",
            "conv2d_11 (Conv2D)           (None, 120, 1, 256)       590080    \n",
            "_________________________________________________________________\n",
            "batch_normalization_6 (Batch (None, 120, 1, 256)       1024      \n",
            "_________________________________________________________________\n",
            "activation_5 (Activation)    (None, 120, 1, 256)       0         \n",
            "_________________________________________________________________\n",
            "average_pooling2d_5 (Average (None, 60, 1, 256)        0         \n",
            "_________________________________________________________________\n",
            "conv2d_12 (Conv2D)           (None, 60, 1, 256)        65792     \n",
            "_________________________________________________________________\n",
            "conv2d_13 (Conv2D)           (None, 60, 1, 256)        590080    \n",
            "_________________________________________________________________\n",
            "batch_normalization_7 (Batch (None, 60, 1, 256)        1024      \n",
            "_________________________________________________________________\n",
            "activation_6 (Activation)    (None, 60, 1, 256)        0         \n",
            "_________________________________________________________________\n",
            "average_pooling2d_6 (Average (None, 30, 1, 256)        0         \n",
            "_________________________________________________________________\n",
            "conv2d_14 (Conv2D)           (None, 30, 1, 512)        131584    \n",
            "_________________________________________________________________\n",
            "conv2d_15 (Conv2D)           (None, 30, 1, 512)        2359808   \n",
            "_________________________________________________________________\n",
            "batch_normalization_8 (Batch (None, 30, 1, 512)        2048      \n",
            "_________________________________________________________________\n",
            "activation_7 (Activation)    (None, 30, 1, 512)        0         \n",
            "_________________________________________________________________\n",
            "average_pooling2d_7 (Average (None, 15, 1, 512)        0         \n",
            "_________________________________________________________________\n",
            "conv2d_16 (Conv2D)           (None, 15, 1, 512)        262656    \n",
            "_________________________________________________________________\n",
            "conv2d_17 (Conv2D)           (None, 15, 1, 512)        2359808   \n",
            "_________________________________________________________________\n",
            "batch_normalization_9 (Batch (None, 15, 1, 512)        2048      \n",
            "_________________________________________________________________\n",
            "activation_8 (Activation)    (None, 15, 1, 512)        0         \n",
            "_________________________________________________________________\n",
            "average_pooling2d_8 (Average (None, 8, 1, 512)         0         \n",
            "_________________________________________________________________\n",
            "conv2d_18 (Conv2D)           (None, 8, 1, 512)         262656    \n",
            "_________________________________________________________________\n",
            "batch_normalization_10 (Batc (None, 8, 1, 512)         2048      \n",
            "_________________________________________________________________\n",
            "activation_9 (Activation)    (None, 8, 1, 512)         0         \n",
            "_________________________________________________________________\n",
            "average_pooling2d_9 (Average (None, 4, 1, 512)         0         \n",
            "_________________________________________________________________\n",
            "flatten (Flatten)            (None, 2048)              0         \n",
            "_________________________________________________________________\n",
            "dense (Dense)                (None, 1024)              2098176   \n",
            "_________________________________________________________________\n",
            "drop0 (Dropout)              (None, 1024)              0         \n",
            "_________________________________________________________________\n",
            "dense_1 (Dense)              (None, 512)               524800    \n",
            "_________________________________________________________________\n",
            "drop1 (Dropout)              (None, 512)               0         \n",
            "_________________________________________________________________\n",
            "dense_2 (Dense)              (None, 1)                 513       \n",
            "=================================================================\n",
            "Total params: 10,474,497\n",
            "Trainable params: 10,468,865\n",
            "Non-trainable params: 5,632\n",
            "_________________________________________________________________\n"
          ],
          "name": "stdout"
        }
      ]
    },
    {
      "cell_type": "markdown",
      "metadata": {
        "colab_type": "text",
        "id": "zmXB3bJ3-dqa"
      },
      "source": [
        "**Training and validation sets**"
      ]
    },
    {
      "cell_type": "code",
      "metadata": {
        "colab_type": "code",
        "id": "f6HAMlg-Kex6",
        "colab": {}
      },
      "source": [
        "from sklearn.model_selection import train_test_split\n",
        "train_X,val_X,train_Y,val_Y=train_test_split(train_x,train_y,test_size=0.25)"
      ],
      "execution_count": 77,
      "outputs": []
    },
    {
      "cell_type": "markdown",
      "metadata": {
        "colab_type": "text",
        "id": "l6FUUdv7-b0n"
      },
      "source": [
        ""
      ]
    },
    {
      "cell_type": "code",
      "metadata": {
        "colab_type": "code",
        "id": "AUv8H7pz-sHT",
        "colab": {}
      },
      "source": [
        "EPOCHS=40\n"
      ],
      "execution_count": 78,
      "outputs": []
    },
    {
      "cell_type": "code",
      "metadata": {
        "colab_type": "code",
        "id": "4W5s2fbRDnMk",
        "colab": {}
      },
      "source": [
        "#callback=tf.keras.callbacks.EarlyStopping(monitor='val_loss',patience=2,restore_best_weights=True)"
      ],
      "execution_count": 79,
      "outputs": []
    },
    {
      "cell_type": "code",
      "metadata": {
        "colab_type": "code",
        "id": "lyPAwnZ34KEe",
        "colab": {
          "base_uri": "https://localhost:8080/",
          "height": 1000
        },
        "outputId": "4b192cdb-f774-435d-9a2c-f2dcc4fa364c"
      },
      "source": [
        "history = model.fit(train_x, \n",
        "                    train_y,\n",
        "                    batch_size=16, \n",
        "                    epochs=EPOCHS,\n",
        "                    validation_data = (val_X, val_Y)\n",
        "                    )\n",
        "                    #callbacks=[callback]\n",
        "                    #verbose=1)"
      ],
      "execution_count": 80,
      "outputs": [
        {
          "output_type": "stream",
          "text": [
            "Epoch 1/40\n",
            "12/12 [==============================] - 2s 147ms/step - loss: 0.8871 - accuracy: 0.6111 - auc: 0.6581 - recall: 0.5667 - precision: 0.6220 - val_loss: 84.0749 - val_accuracy: 0.5111 - val_auc: 0.5000 - val_recall: 0.0435 - val_precision: 1.0000\n",
            "Epoch 2/40\n",
            "12/12 [==============================] - 1s 90ms/step - loss: 0.7747 - accuracy: 0.6389 - auc: 0.6698 - recall: 0.6000 - precision: 0.6506 - val_loss: 1376.6332 - val_accuracy: 0.5111 - val_auc: 0.5000 - val_recall: 1.0000 - val_precision: 0.5111\n",
            "Epoch 3/40\n",
            "12/12 [==============================] - 1s 91ms/step - loss: 0.7929 - accuracy: 0.6944 - auc: 0.7319 - recall: 0.6111 - precision: 0.7333 - val_loss: 60.0793 - val_accuracy: 0.5333 - val_auc: 0.4872 - val_recall: 0.3478 - val_precision: 0.5714\n",
            "Epoch 4/40\n",
            "12/12 [==============================] - 1s 90ms/step - loss: 0.6367 - accuracy: 0.6833 - auc: 0.7374 - recall: 0.6778 - precision: 0.6854 - val_loss: 208.3362 - val_accuracy: 0.5556 - val_auc: 0.5455 - val_recall: 1.0000 - val_precision: 0.5349\n",
            "Epoch 5/40\n",
            "12/12 [==============================] - 1s 89ms/step - loss: 0.6010 - accuracy: 0.6833 - auc: 0.7322 - recall: 0.5222 - precision: 0.7705 - val_loss: 16.7988 - val_accuracy: 0.6444 - val_auc: 0.7767 - val_recall: 0.9565 - val_precision: 0.5946\n",
            "Epoch 6/40\n",
            "12/12 [==============================] - 1s 89ms/step - loss: 0.7802 - accuracy: 0.6333 - auc: 0.7155 - recall: 0.7444 - precision: 0.6091 - val_loss: 75.5208 - val_accuracy: 0.4889 - val_auc: 0.5435 - val_recall: 0.9565 - val_precision: 0.5000\n",
            "Epoch 7/40\n",
            "12/12 [==============================] - 1s 91ms/step - loss: 0.5988 - accuracy: 0.7278 - auc: 0.7610 - recall: 0.5889 - precision: 0.8154 - val_loss: 44.8665 - val_accuracy: 0.5111 - val_auc: 0.6522 - val_recall: 1.0000 - val_precision: 0.5111\n",
            "Epoch 8/40\n",
            "12/12 [==============================] - 1s 90ms/step - loss: 0.7279 - accuracy: 0.6500 - auc: 0.6452 - recall: 0.5333 - precision: 0.6957 - val_loss: 5.6628 - val_accuracy: 0.5111 - val_auc: 0.8162 - val_recall: 0.9565 - val_precision: 0.5116\n",
            "Epoch 9/40\n",
            "12/12 [==============================] - 1s 90ms/step - loss: 0.7932 - accuracy: 0.7389 - auc: 0.7460 - recall: 0.6333 - precision: 0.8028 - val_loss: 1.2715 - val_accuracy: 0.5333 - val_auc: 0.6047 - val_recall: 0.9565 - val_precision: 0.5238\n",
            "Epoch 10/40\n",
            "12/12 [==============================] - 1s 91ms/step - loss: 0.6080 - accuracy: 0.6833 - auc: 0.7317 - recall: 0.5333 - precision: 0.7619 - val_loss: 2.8849 - val_accuracy: 0.5778 - val_auc: 0.6848 - val_recall: 1.0000 - val_precision: 0.5476\n",
            "Epoch 11/40\n",
            "12/12 [==============================] - 1s 89ms/step - loss: 0.5451 - accuracy: 0.7333 - auc: 0.7784 - recall: 0.6667 - precision: 0.7692 - val_loss: 4.5664 - val_accuracy: 0.5778 - val_auc: 0.7638 - val_recall: 0.9565 - val_precision: 0.5500\n",
            "Epoch 12/40\n",
            "12/12 [==============================] - 1s 90ms/step - loss: 0.5618 - accuracy: 0.7389 - auc: 0.7515 - recall: 0.6111 - precision: 0.8209 - val_loss: 5.1896 - val_accuracy: 0.6222 - val_auc: 0.7510 - val_recall: 0.9565 - val_precision: 0.5789\n",
            "Epoch 13/40\n",
            "12/12 [==============================] - 1s 90ms/step - loss: 0.5063 - accuracy: 0.7556 - auc: 0.8109 - recall: 0.5778 - precision: 0.8966 - val_loss: 0.6776 - val_accuracy: 0.8000 - val_auc: 0.8429 - val_recall: 0.8261 - val_precision: 0.7917\n",
            "Epoch 14/40\n",
            "12/12 [==============================] - 1s 90ms/step - loss: 0.4753 - accuracy: 0.8056 - auc: 0.8257 - recall: 0.7333 - precision: 0.8571 - val_loss: 1.2790 - val_accuracy: 0.8000 - val_auc: 0.8607 - val_recall: 0.7826 - val_precision: 0.8182\n",
            "Epoch 15/40\n",
            "12/12 [==============================] - 1s 89ms/step - loss: 0.5032 - accuracy: 0.7722 - auc: 0.7928 - recall: 0.6111 - precision: 0.9016 - val_loss: 8.1769 - val_accuracy: 0.7333 - val_auc: 0.8073 - val_recall: 0.9130 - val_precision: 0.6774\n",
            "Epoch 16/40\n",
            "12/12 [==============================] - 1s 91ms/step - loss: 0.4860 - accuracy: 0.7389 - auc: 0.8419 - recall: 0.7444 - precision: 0.7363 - val_loss: 13.7962 - val_accuracy: 0.6889 - val_auc: 0.8093 - val_recall: 0.9565 - val_precision: 0.6286\n",
            "Epoch 17/40\n",
            "12/12 [==============================] - 1s 90ms/step - loss: 0.7628 - accuracy: 0.6722 - auc: 0.6564 - recall: 0.4111 - precision: 0.8605 - val_loss: 3.7452 - val_accuracy: 0.7778 - val_auc: 0.8192 - val_recall: 0.8696 - val_precision: 0.7407\n",
            "Epoch 18/40\n",
            "12/12 [==============================] - 1s 90ms/step - loss: 0.5508 - accuracy: 0.7611 - auc: 0.8139 - recall: 0.6778 - precision: 0.8133 - val_loss: 2.6905 - val_accuracy: 0.7778 - val_auc: 0.8320 - val_recall: 0.8261 - val_precision: 0.7600\n",
            "Epoch 19/40\n",
            "12/12 [==============================] - 1s 87ms/step - loss: 0.5490 - accuracy: 0.7722 - auc: 0.8156 - recall: 0.6889 - precision: 0.8267 - val_loss: 0.8425 - val_accuracy: 0.8000 - val_auc: 0.7895 - val_recall: 0.7391 - val_precision: 0.8500\n",
            "Epoch 20/40\n",
            "12/12 [==============================] - 1s 90ms/step - loss: 0.4798 - accuracy: 0.7556 - auc: 0.8250 - recall: 0.6556 - precision: 0.8194 - val_loss: 0.7109 - val_accuracy: 0.8222 - val_auc: 0.8241 - val_recall: 0.7826 - val_precision: 0.8571\n",
            "Epoch 21/40\n",
            "12/12 [==============================] - 1s 90ms/step - loss: 0.5237 - accuracy: 0.7556 - auc: 0.7914 - recall: 0.6667 - precision: 0.8108 - val_loss: 0.4641 - val_accuracy: 0.7778 - val_auc: 0.7619 - val_recall: 0.6087 - val_precision: 0.9333\n",
            "Epoch 22/40\n",
            "12/12 [==============================] - 1s 90ms/step - loss: 0.4413 - accuracy: 0.8000 - auc: 0.8544 - recall: 0.6556 - precision: 0.9219 - val_loss: 0.4873 - val_accuracy: 0.8222 - val_auc: 0.8814 - val_recall: 0.8261 - val_precision: 0.8261\n",
            "Epoch 23/40\n",
            "12/12 [==============================] - 1s 89ms/step - loss: 0.4916 - accuracy: 0.8167 - auc: 0.8398 - recall: 0.7667 - precision: 0.8519 - val_loss: 0.4339 - val_accuracy: 0.8222 - val_auc: 0.9022 - val_recall: 0.8261 - val_precision: 0.8261\n",
            "Epoch 24/40\n",
            "12/12 [==============================] - 1s 89ms/step - loss: 0.5393 - accuracy: 0.7500 - auc: 0.8081 - recall: 0.5778 - precision: 0.8814 - val_loss: 0.5844 - val_accuracy: 0.6889 - val_auc: 0.9387 - val_recall: 0.3913 - val_precision: 1.0000\n",
            "Epoch 25/40\n",
            "12/12 [==============================] - 1s 90ms/step - loss: 0.4683 - accuracy: 0.8278 - auc: 0.8656 - recall: 0.7222 - precision: 0.9155 - val_loss: 0.6450 - val_accuracy: 0.8000 - val_auc: 0.8834 - val_recall: 0.8696 - val_precision: 0.7692\n",
            "Epoch 26/40\n",
            "12/12 [==============================] - 1s 91ms/step - loss: 0.4634 - accuracy: 0.8167 - auc: 0.8574 - recall: 0.7000 - precision: 0.9130 - val_loss: 0.3953 - val_accuracy: 0.8444 - val_auc: 0.9081 - val_recall: 0.8261 - val_precision: 0.8636\n",
            "Epoch 27/40\n",
            "12/12 [==============================] - 1s 89ms/step - loss: 0.4751 - accuracy: 0.8000 - auc: 0.8502 - recall: 0.7222 - precision: 0.8553 - val_loss: 0.5290 - val_accuracy: 0.8000 - val_auc: 0.9061 - val_recall: 0.7826 - val_precision: 0.8182\n",
            "Epoch 28/40\n",
            "12/12 [==============================] - 1s 89ms/step - loss: 0.3557 - accuracy: 0.8556 - auc: 0.9146 - recall: 0.7778 - precision: 0.9211 - val_loss: 0.4173 - val_accuracy: 0.8444 - val_auc: 0.9239 - val_recall: 0.7826 - val_precision: 0.9000\n",
            "Epoch 29/40\n",
            "12/12 [==============================] - 1s 91ms/step - loss: 0.3746 - accuracy: 0.8944 - auc: 0.9135 - recall: 0.8444 - precision: 0.9383 - val_loss: 0.5099 - val_accuracy: 0.7333 - val_auc: 0.8953 - val_recall: 0.5217 - val_precision: 0.9231\n",
            "Epoch 30/40\n",
            "12/12 [==============================] - 1s 91ms/step - loss: 0.6171 - accuracy: 0.8056 - auc: 0.8038 - recall: 0.7444 - precision: 0.8481 - val_loss: 12.0147 - val_accuracy: 0.5333 - val_auc: 0.5346 - val_recall: 1.0000 - val_precision: 0.5227\n",
            "Epoch 31/40\n",
            "12/12 [==============================] - 1s 90ms/step - loss: 0.5839 - accuracy: 0.7667 - auc: 0.8436 - recall: 0.7222 - precision: 0.7927 - val_loss: 20.4948 - val_accuracy: 0.5111 - val_auc: 0.5000 - val_recall: 1.0000 - val_precision: 0.5111\n",
            "Epoch 32/40\n",
            "12/12 [==============================] - 1s 91ms/step - loss: 0.5612 - accuracy: 0.7667 - auc: 0.8602 - recall: 0.8556 - precision: 0.7264 - val_loss: 1.7404 - val_accuracy: 0.4444 - val_auc: 0.5188 - val_recall: 0.8696 - val_precision: 0.4762\n",
            "Epoch 33/40\n",
            "12/12 [==============================] - 1s 90ms/step - loss: 0.5636 - accuracy: 0.6889 - auc: 0.7827 - recall: 0.7111 - precision: 0.6809 - val_loss: 0.4733 - val_accuracy: 0.8444 - val_auc: 0.9229 - val_recall: 0.8696 - val_precision: 0.8333\n",
            "Epoch 34/40\n",
            "12/12 [==============================] - 1s 90ms/step - loss: 0.4947 - accuracy: 0.7444 - auc: 0.8198 - recall: 0.7778 - precision: 0.7292 - val_loss: 3.3665 - val_accuracy: 0.8222 - val_auc: 0.8518 - val_recall: 0.9565 - val_precision: 0.7586\n",
            "Epoch 35/40\n",
            "12/12 [==============================] - 1s 90ms/step - loss: 0.4563 - accuracy: 0.8056 - auc: 0.8829 - recall: 0.7333 - precision: 0.8571 - val_loss: 2.1039 - val_accuracy: 0.8444 - val_auc: 0.8834 - val_recall: 0.9130 - val_precision: 0.8077\n",
            "Epoch 36/40\n",
            "12/12 [==============================] - 1s 90ms/step - loss: 0.3222 - accuracy: 0.8611 - auc: 0.9517 - recall: 0.8889 - precision: 0.8421 - val_loss: 0.2737 - val_accuracy: 0.8667 - val_auc: 0.9704 - val_recall: 0.8696 - val_precision: 0.8696\n",
            "Epoch 37/40\n",
            "12/12 [==============================] - 1s 89ms/step - loss: 0.3541 - accuracy: 0.8611 - auc: 0.9393 - recall: 0.9222 - precision: 0.8218 - val_loss: 0.6059 - val_accuracy: 0.8889 - val_auc: 0.9150 - val_recall: 0.8696 - val_precision: 0.9091\n",
            "Epoch 38/40\n",
            "12/12 [==============================] - 1s 89ms/step - loss: 0.2840 - accuracy: 0.8722 - auc: 0.9531 - recall: 0.8667 - precision: 0.8764 - val_loss: 1.7529 - val_accuracy: 0.8444 - val_auc: 0.8972 - val_recall: 0.7391 - val_precision: 0.9444\n",
            "Epoch 39/40\n",
            "12/12 [==============================] - 1s 90ms/step - loss: 0.4397 - accuracy: 0.8056 - auc: 0.8842 - recall: 0.8000 - precision: 0.8090 - val_loss: 3.1001 - val_accuracy: 0.7778 - val_auc: 0.8538 - val_recall: 0.8261 - val_precision: 0.7600\n",
            "Epoch 40/40\n",
            "12/12 [==============================] - 1s 90ms/step - loss: 0.4306 - accuracy: 0.7667 - auc: 0.8768 - recall: 0.7000 - precision: 0.8077 - val_loss: 4.9063 - val_accuracy: 0.8222 - val_auc: 0.8182 - val_recall: 0.7391 - val_precision: 0.8947\n"
          ],
          "name": "stdout"
        }
      ]
    },
    {
      "cell_type": "code",
      "metadata": {
        "colab_type": "code",
        "id": "4gD73NKTJ2__",
        "colab": {
          "base_uri": "https://localhost:8080/",
          "height": 573
        },
        "outputId": "822ef90e-ef55-4c96-ab5d-090bfc9efd10"
      },
      "source": [
        "import matplotlib.pyplot as plt\n",
        "acc = history.history['accuracy']\n",
        "val_acc = history.history['val_accuracy']\n",
        "loss = history.history['loss']\n",
        "val_loss = history.history['val_loss']\n",
        "\n",
        "epochs = range(len(acc))\n",
        "\n",
        "plt.plot(epochs, acc,'r', label='Training accuracy')\n",
        "plt.plot(epochs, val_acc, 'b', label='Validation accuracy')\n",
        "plt.title('Training and validation accuracy')\n",
        "plt.xlabel('Epochs')\n",
        "plt.ylabel('Training')\n",
        "\n",
        "plt.figure()\n",
        "\n",
        "plt.plot(epochs, loss, 'r' ,label='Training Loss')\n",
        "plt.plot(epochs, val_loss, 'b', label='Validation Loss')\n",
        "plt.title('Training and validation loss')\n",
        "plt.legend()\n",
        "plt.xlabel('Epochs')\n",
        "plt.ylabel('Loss')\n",
        "from google.colab import files\n",
        "plt.savefig(\"abc2.png\")\n",
        "#files.download(\"abc2.png\") \n",
        "plt.show()"
      ],
      "execution_count": 81,
      "outputs": [
        {
          "output_type": "display_data",
          "data": {
            "image/png": "[encoded data removed]",
            "text/plain": [
              "<Figure size 432x288 with 1 Axes>"
            ]
          },
          "metadata": {
            "tags": [],
            "needs_background": "light"
          }
        },
        {
          "output_type": "display_data",
          "data": {
            "image/png": "[encoded data removed]",
            "text/plain": [
              "<Figure size 432x288 with 1 Axes>"
            ]
          },
          "metadata": {
            "tags": [],
            "needs_background": "light"
          }
        }
      ]
    },
    {
      "cell_type": "code",
      "metadata": {
        "colab_type": "code",
        "id": "tRSax46UP4aR",
        "colab": {
          "base_uri": "https://localhost:8080/",
          "height": 897
        },
        "outputId": "b1ed5f6c-cad1-4a50-e803-ce1694602cdb"
      },
      "source": [
        "pred=model.predict(test_x)\n",
        "Y_pred=pred.round()\n",
        "Y_pred"
      ],
      "execution_count": 82,
      "outputs": [
        {
          "output_type": "execute_result",
          "data": {
            "text/plain": [
              "array([[1.],\n",
              "       [1.],\n",
              "       [1.],\n",
              "       [1.],\n",
              "       [1.],\n",
              "       [1.],\n",
              "       [0.],\n",
              "       [0.],\n",
              "       [1.],\n",
              "       [1.],\n",
              "       [1.],\n",
              "       [1.],\n",
              "       [1.],\n",
              "       [1.],\n",
              "       [1.],\n",
              "       [0.],\n",
              "       [1.],\n",
              "       [1.],\n",
              "       [1.],\n",
              "       [1.],\n",
              "       [0.],\n",
              "       [0.],\n",
              "       [0.],\n",
              "       [0.],\n",
              "       [0.],\n",
              "       [0.],\n",
              "       [0.],\n",
              "       [1.],\n",
              "       [0.],\n",
              "       [1.],\n",
              "       [1.],\n",
              "       [0.],\n",
              "       [0.],\n",
              "       [0.],\n",
              "       [1.],\n",
              "       [1.],\n",
              "       [0.],\n",
              "       [0.],\n",
              "       [0.],\n",
              "       [0.],\n",
              "       [0.],\n",
              "       [0.],\n",
              "       [0.],\n",
              "       [1.],\n",
              "       [1.],\n",
              "       [0.],\n",
              "       [0.],\n",
              "       [0.],\n",
              "       [0.],\n",
              "       [0.]], dtype=float32)"
            ]
          },
          "metadata": {
            "tags": []
          },
          "execution_count": 82
        }
      ]
    },
    {
      "cell_type": "code",
      "metadata": {
        "colab_type": "code",
        "id": "XXuvRr15J3Rc",
        "colab": {
          "base_uri": "https://localhost:8080/",
          "height": 34
        },
        "outputId": "724b6b33-dc28-4aef-da51-7b150a6f968c"
      },
      "source": [
        "from sklearn.metrics import accuracy_score\n",
        "a=accuracy_score(test_y,Y_pred)\n",
        "print(a*100)"
      ],
      "execution_count": 83,
      "outputs": [
        {
          "output_type": "stream",
          "text": [
            "80.0\n"
          ],
          "name": "stdout"
        }
      ]
    },
    {
      "cell_type": "markdown",
      "metadata": {
        "colab_type": "text",
        "id": "lKCqua9xfbal"
      },
      "source": [
        "**Confusion Matrix**"
      ]
    },
    {
      "cell_type": "code",
      "metadata": {
        "colab_type": "code",
        "id": "ZWF67c0PJ3cP",
        "colab": {
          "base_uri": "https://localhost:8080/",
          "height": 52
        },
        "outputId": "49572b79-19e6-4190-e5c4-6629c85f08a1"
      },
      "source": [
        "from sklearn.metrics import confusion_matrix\n",
        "cm = confusion_matrix(test_y,Y_pred)\n",
        "print(cm)"
      ],
      "execution_count": 84,
      "outputs": [
        {
          "output_type": "stream",
          "text": [
            "[[23  7]\n",
            " [ 3 17]]\n"
          ],
          "name": "stdout"
        }
      ]
    },
    {
      "cell_type": "code",
      "metadata": {
        "colab_type": "code",
        "id": "q3odmAcGdVMr",
        "colab": {
          "base_uri": "https://localhost:8080/",
          "height": 110
        },
        "outputId": "65f9da93-eba6-4b1f-f047-827b2e51d32f"
      },
      "source": [
        "confusion_df = pd.DataFrame(cm)\n",
        "labels_dict = {\n",
        "    0: 'non-seizure',\n",
        "    1: 'seizure'}\n",
        "confusion_df = confusion_df.rename(columns=labels_dict)\n",
        "confusion_df.index = confusion_df.columns\n",
        "confusion_df\n"
      ],
      "execution_count": 85,
      "outputs": [
        {
          "output_type": "execute_result",
          "data": {
            "text/html": [
              "<div>\n",
              "<style scoped>\n",
              "    .dataframe tbody tr th:only-of-type {\n",
              "        vertical-align: middle;\n",
              "    }\n",
              "\n",
              "    .dataframe tbody tr th {\n",
              "        vertical-align: top;\n",
              "    }\n",
              "\n",
              "    .dataframe thead th {\n",
              "        text-align: right;\n",
              "    }\n",
              "</style>\n",
              "<table border=\"1\" class=\"dataframe\">\n",
              "  <thead>\n",
              "    <tr style=\"text-align: right;\">\n",
              "      <th></th>\n",
              "      <th>non-seizure</th>\n",
              "      <th>seizure</th>\n",
              "    </tr>\n",
              "  </thead>\n",
              "  <tbody>\n",
              "    <tr>\n",
              "      <th>non-seizure</th>\n",
              "      <td>23</td>\n",
              "      <td>7</td>\n",
              "    </tr>\n",
              "    <tr>\n",
              "      <th>seizure</th>\n",
              "      <td>3</td>\n",
              "      <td>17</td>\n",
              "    </tr>\n",
              "  </tbody>\n",
              "</table>\n",
              "</div>"
            ],
            "text/plain": [
              "             non-seizure  seizure\n",
              "non-seizure           23        7\n",
              "seizure                3       17"
            ]
          },
          "metadata": {
            "tags": []
          },
          "execution_count": 85
        }
      ]
    },
    {
      "cell_type": "code",
      "metadata": {
        "colab_type": "code",
        "id": "ACfOUu1i4KEk",
        "colab": {}
      },
      "source": [
        "#\"valid\" padding option is: model.output_shape = (input_shape - pool_size + 1) / strides)\n",
        "\n",
        "#\"same\" padding option is: model.output_shape = input_shape / strides"
      ],
      "execution_count": 86,
      "outputs": []
    },
    {
      "cell_type": "code",
      "metadata": {
        "colab_type": "code",
        "id": "T0Kz_nqfcJzp",
        "colab": {}
      },
      "source": [
        "# accuracy: (tp + tn) / (p + n)\n",
        "# precision tp / (tp + fp)\n",
        "# recall: tp / (tp + fn)\n",
        "# f1: 2 tp / (2 tp + fp + fn)\n"
      ],
      "execution_count": 87,
      "outputs": []
    },
    {
      "cell_type": "markdown",
      "metadata": {
        "colab_type": "text",
        "id": "_rjM_pj7filg"
      },
      "source": [
        "**ACCURACY , F1 , PRECISION,REACALL SCORE**"
      ]
    },
    {
      "cell_type": "code",
      "metadata": {
        "colab_type": "code",
        "id": "ofEbtAOTdKm-",
        "colab": {
          "base_uri": "https://localhost:8080/",
          "height": 105
        },
        "outputId": "312dede5-b70f-4e71-90dd-326dcefd9089"
      },
      "source": [
        "from sklearn.metrics import accuracy_score,precision_score,recall_score,f1_score,roc_auc_score\n",
        "\n",
        "accuracy = accuracy_score(test_y,Y_pred)\n",
        "print('Accuracy: %f' % accuracy)\n",
        "\n",
        "precision = precision_score(test_y,Y_pred)\n",
        "print('Precision: %f' % precision)\n",
        "\n",
        "recall = recall_score(test_y,Y_pred)\n",
        "print('Recall: %f' % recall)\n",
        "\n",
        "f1 = f1_score(test_y,Y_pred)\n",
        "print('F1 score: %f' % f1)\n",
        "\n",
        "# ROC AUC\n",
        "auc = roc_auc_score(test_y,Y_pred)\n",
        "print('ROC AUC: %f' % auc)"
      ],
      "execution_count": 88,
      "outputs": [
        {
          "output_type": "stream",
          "text": [
            "Accuracy: 0.800000\n",
            "Precision: 0.708333\n",
            "Recall: 0.850000\n",
            "F1 score: 0.772727\n",
            "ROC AUC: 0.808333\n"
          ],
          "name": "stdout"
        }
      ]
    },
    {
      "cell_type": "markdown",
      "metadata": {
        "colab_type": "text",
        "id": "Dvt1y7jje_DH"
      },
      "source": [
        "**ROC-CURVE** "
      ]
    },
    {
      "cell_type": "code",
      "metadata": {
        "colab_type": "code",
        "id": "uh0T7A5ypnyJ",
        "colab": {
          "base_uri": "https://localhost:8080/",
          "height": 34
        },
        "outputId": "2cda394b-b477-43d1-e75c-cd723e14c15b"
      },
      "source": [
        "from sklearn.metrics import roc_curve, auc\n",
        "false_positive_rate, true_positive_rate, thresholds = roc_curve(test_y,Y_pred)\n",
        "roc_auc = auc(false_positive_rate, true_positive_rate)\n",
        "roc_auc"
      ],
      "execution_count": 90,
      "outputs": [
        {
          "output_type": "execute_result",
          "data": {
            "text/plain": [
              "0.8083333333333332"
            ]
          },
          "metadata": {
            "tags": []
          },
          "execution_count": 90
        }
      ]
    },
    {
      "cell_type": "code",
      "metadata": {
        "id": "IBPx8q2m-jLI",
        "colab_type": "code",
        "colab": {
          "base_uri": "https://localhost:8080/",
          "height": 312
        },
        "outputId": "e1f9c2a1-e6db-4c7d-f27d-16faec878119"
      },
      "source": [
        "import matplotlib.pyplot as plt\n",
        "plt.figure(figsize=(5,4))\n",
        "plt.title('Receiver Operating Characteristic')\n",
        "plt.plot(false_positive_rate,true_positive_rate, color='navy')\n",
        "plt.legend(loc = 'lower right')\n",
        "plt.plot([0, 1], [0, 1],color='darkorange',linestyle='--')\n",
        "plt.axis('tight')\n",
        "plt.ylabel('True Positive Rate')\n",
        "plt.xlabel('False Positive Rate')\n",
        "from google.colab import files\n",
        "plt.savefig(\"32.png\")\n",
        "#files.download(\"32.png\") \n",
        "plt.show()"
      ],
      "execution_count": 91,
      "outputs": [
        {
          "output_type": "stream",
          "text": [
            "No handles with labels found to put in legend.\n"
          ],
          "name": "stderr"
        },
        {
          "output_type": "display_data",
          "data": {
            "image/png": "[encoded data removed]",
            "text/plain": [
              "<Figure size 360x288 with 1 Axes>"
            ]
          },
          "metadata": {
            "tags": [],
            "needs_background": "light"
          }
        }
      ]
    }
  ]
}